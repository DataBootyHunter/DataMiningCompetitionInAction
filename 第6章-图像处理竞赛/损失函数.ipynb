{
 "cells": [
  {
   "cell_type": "code",
   "execution_count": 11,
   "id": "e736f330",
   "metadata": {},
   "outputs": [],
   "source": [
    "import torch\n",
    "from torch import nn\n",
    "\n",
    "# 交叉熵\n",
    "l_ce = torch.nn.CrossEntropyLoss()\n",
    "\n",
    "# focal loss\n",
    "class FocalLoss(nn.Module):\n",
    "    def __init__(self, weight=None, \n",
    "                        reduction='mean', \n",
    "                        gamma=0, eps=1e-7):\n",
    "        super(FocalLoss, self).__init__()\n",
    "        self.gamma = gamma\n",
    "        self.eps = eps\n",
    "        self.ce = torch.nn.CrossEntropyLoss(\n",
    "            weight=weight, reduction=reduction)\n",
    "\n",
    "    def forward(self, input, target):\n",
    "        logp = self.ce(input, target)\n",
    "        p = torch.exp(-logp)\n",
    "        loss = (1 - p) ** self.gamma * logp\n",
    "        return loss.mean()\n",
    "\n",
    "    \n",
    "# L1 loss\n",
    "def l1_loss(x,y):\n",
    "    return torch.abs(x-y).mean()\n",
    "\n",
    "\n",
    "# L2 loss\n",
    "def l1_loss(x,y):\n",
    "    return torch.square(x-y).mean()\n",
    "\n",
    "\n",
    "# dice loss\n",
    "class BinaryDiceLoss(nn.Module):\n",
    "    def __init__(self):\n",
    "        super(BinaryDiceLoss, self).__init__()\n",
    "\n",
    "    def forward(self, input, targets):\n",
    "        N = targets.size()[0]\n",
    "        smooth = 1\n",
    "        input_flat = input.view(N, -1)\n",
    "        targets_flat = targets.view(N, -1)\n",
    "        intersection = input_flat * targets_flat \n",
    "        N_dice_eff = (2 * intersection.sum(1) + smooth) / (input_flat.sum(1) + targets_flat.sum(1) + smooth)\n",
    "        loss = 1 - dice_eff.sum() / N\n",
    "        return loss\n"
   ]
  },
  {
   "cell_type": "code",
   "execution_count": null,
   "id": "5859cd95",
   "metadata": {},
   "outputs": [],
   "source": []
  }
 ],
 "metadata": {
  "kernelspec": {
   "display_name": "Python [conda env:mmlab] *",
   "language": "python",
   "name": "conda-env-mmlab-py"
  },
  "language_info": {
   "codemirror_mode": {
    "name": "ipython",
    "version": 3
   },
   "file_extension": ".py",
   "mimetype": "text/x-python",
   "name": "python",
   "nbconvert_exporter": "python",
   "pygments_lexer": "ipython3",
   "version": "3.7.13"
  }
 },
 "nbformat": 4,
 "nbformat_minor": 5
}
