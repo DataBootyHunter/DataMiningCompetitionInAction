{
 "cells": [
  {
   "cell_type": "markdown",
   "id": "d246a7ae",
   "metadata": {},
   "source": [
    "# import 模型源码"
   ]
  },
  {
   "cell_type": "code",
   "execution_count": 3,
   "id": "1bc910f7",
   "metadata": {},
   "outputs": [],
   "source": [
    "from swin_transformer import SwinTransformer\n",
    "# https://github.com/microsoft/Swin-Transformer/blob/main/models/swin_transformer.py\n",
    "import torch"
   ]
  },
  {
   "cell_type": "markdown",
   "id": "49a1f1f8",
   "metadata": {},
   "source": [
    "# 定义模型"
   ]
  },
  {
   "cell_type": "code",
   "execution_count": 4,
   "id": "11d00801",
   "metadata": {},
   "outputs": [],
   "source": [
    "# swin transfomer tiny\n",
    "model = SwinTransformer(\n",
    "    img_size=224,\n",
    "    patch_size=4,\n",
    "    in_chans=3,\n",
    "    num_classes=240, # 修改为我们需要的类别数\n",
    "    embed_dim=96,\n",
    "    depths=[2, 2, 6, 2],\n",
    "    num_heads=[3, 6, 12, 24],\n",
    "    window_size=7\n",
    ")"
   ]
  },
  {
   "cell_type": "markdown",
   "id": "499b941b",
   "metadata": {},
   "source": [
    "# 加载预训练权重文件"
   ]
  },
  {
   "cell_type": "code",
   "execution_count": 5,
   "id": "c265b853",
   "metadata": {},
   "outputs": [],
   "source": [
    "checkpoint = torch.load('swin_tiny_patch4_window7_224_22k.pth') # 下载自https://github.com/microsoft/Swin-Transformer\n",
    "checkpoint = checkpoint['model']"
   ]
  },
  {
   "cell_type": "markdown",
   "id": "395cf338",
   "metadata": {},
   "source": [
    "# 去除权重中的预测头"
   ]
  },
  {
   "cell_type": "code",
   "execution_count": 6,
   "id": "bc8e37df",
   "metadata": {},
   "outputs": [],
   "source": [
    "for key in list(checkpoint.keys()):\n",
    "    if 'head' in key:\n",
    "        checkpoint.pop(key)"
   ]
  },
  {
   "cell_type": "markdown",
   "id": "d008640d",
   "metadata": {},
   "source": [
    "# 加载权重"
   ]
  },
  {
   "cell_type": "code",
   "execution_count": 8,
   "id": "99968d2f",
   "metadata": {},
   "outputs": [
    {
     "data": {
      "text/plain": [
       "_IncompatibleKeys(missing_keys=['head.weight', 'head.bias'], unexpected_keys=[])"
      ]
     },
     "execution_count": 8,
     "metadata": {},
     "output_type": "execute_result"
    }
   ],
   "source": [
    "model.load_state_dict(checkpoint, strict=False) # strict=False"
   ]
  },
  {
   "cell_type": "code",
   "execution_count": null,
   "id": "fbd15db7",
   "metadata": {},
   "outputs": [],
   "source": []
  }
 ],
 "metadata": {
  "kernelspec": {
   "display_name": "Python [conda env:mmlab] *",
   "language": "python",
   "name": "conda-env-mmlab-py"
  },
  "language_info": {
   "codemirror_mode": {
    "name": "ipython",
    "version": 3
   },
   "file_extension": ".py",
   "mimetype": "text/x-python",
   "name": "python",
   "nbconvert_exporter": "python",
   "pygments_lexer": "ipython3",
   "version": "3.7.13"
  }
 },
 "nbformat": 4,
 "nbformat_minor": 5
}
