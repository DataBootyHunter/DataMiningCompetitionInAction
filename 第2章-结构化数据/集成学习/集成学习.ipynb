{
 "cells": [
  {
   "cell_type": "markdown",
   "metadata": {},
   "source": [
    "# import包"
   ]
  },
  {
   "cell_type": "code",
   "execution_count": 1,
   "metadata": {
    "ExecuteTime": {
     "end_time": "2022-12-08T07:13:54.314939Z",
     "start_time": "2022-12-08T07:13:53.592051Z"
    }
   },
   "outputs": [
    {
     "name": "stderr",
     "output_type": "stream",
     "text": [
      "/home/caihengxing/anaconda3/lib/python3.7/site-packages/pandas/compat/_optional.py:138: UserWarning: Pandas requires version '2.7.0' or newer of 'numexpr' (version '2.6.9' currently installed).\n",
      "  warnings.warn(msg, UserWarning)\n"
     ]
    }
   ],
   "source": [
    "import pandas as pd\n",
    "import numpy as np\n",
    "from scipy import stats\n",
    "import os\n",
    "import random\n",
    "\n",
    "from sklearn.model_selection import train_test_split\n",
    "from sklearn.ensemble import RandomForestClassifier\n",
    "from sklearn.svm import LinearSVC\n",
    "from sklearn.ensemble import GradientBoostingClassifier\n",
    "from sklearn.linear_model import LogisticRegression\n",
    "from sklearn.ensemble import StackingClassifier\n",
    "from sklearn.metrics import accuracy_score\n",
    "\n",
    "import warnings\n",
    "warnings.filterwarnings('ignore')"
   ]
  },
  {
   "cell_type": "code",
   "execution_count": 2,
   "metadata": {
    "ExecuteTime": {
     "end_time": "2022-12-08T07:13:54.321438Z",
     "start_time": "2022-12-08T07:13:54.317655Z"
    }
   },
   "outputs": [],
   "source": [
    "def seed_everything(seed=0):\n",
    "    random.seed(seed)\n",
    "    os.environ['PYTHONHASHSEED'] = str(seed)\n",
    "    np.random.seed(seed)\n",
    "\n",
    "seed_everything(42)"
   ]
  },
  {
   "cell_type": "markdown",
   "metadata": {},
   "source": [
    "# 投票法"
   ]
  },
  {
   "cell_type": "code",
   "execution_count": 3,
   "metadata": {
    "ExecuteTime": {
     "end_time": "2022-12-08T07:13:54.343453Z",
     "start_time": "2022-12-08T07:13:54.323671Z"
    }
   },
   "outputs": [],
   "source": [
    "df = pd.DataFrame({\n",
    "    \"model_1\":np.random.randint(0,2,size=5),\n",
    "    \"model_2\":np.random.randint(0,2,size=5),\n",
    "    \"model_3\":np.random.randint(0,2,size=5)\n",
    "})"
   ]
  },
  {
   "cell_type": "code",
   "execution_count": 4,
   "metadata": {
    "ExecuteTime": {
     "end_time": "2022-12-08T07:13:54.416597Z",
     "start_time": "2022-12-08T07:13:54.345421Z"
    }
   },
   "outputs": [
    {
     "data": {
      "text/html": [
       "<div>\n",
       "<style scoped>\n",
       "    .dataframe tbody tr th:only-of-type {\n",
       "        vertical-align: middle;\n",
       "    }\n",
       "\n",
       "    .dataframe tbody tr th {\n",
       "        vertical-align: top;\n",
       "    }\n",
       "\n",
       "    .dataframe thead th {\n",
       "        text-align: right;\n",
       "    }\n",
       "</style>\n",
       "<table border=\"1\" class=\"dataframe\">\n",
       "  <thead>\n",
       "    <tr style=\"text-align: right;\">\n",
       "      <th></th>\n",
       "      <th>model_1</th>\n",
       "      <th>model_2</th>\n",
       "      <th>model_3</th>\n",
       "    </tr>\n",
       "  </thead>\n",
       "  <tbody>\n",
       "    <tr>\n",
       "      <th>0</th>\n",
       "      <td>0</td>\n",
       "      <td>1</td>\n",
       "      <td>0</td>\n",
       "    </tr>\n",
       "    <tr>\n",
       "      <th>1</th>\n",
       "      <td>1</td>\n",
       "      <td>0</td>\n",
       "      <td>0</td>\n",
       "    </tr>\n",
       "    <tr>\n",
       "      <th>2</th>\n",
       "      <td>0</td>\n",
       "      <td>0</td>\n",
       "      <td>0</td>\n",
       "    </tr>\n",
       "    <tr>\n",
       "      <th>3</th>\n",
       "      <td>0</td>\n",
       "      <td>0</td>\n",
       "      <td>0</td>\n",
       "    </tr>\n",
       "    <tr>\n",
       "      <th>4</th>\n",
       "      <td>0</td>\n",
       "      <td>1</td>\n",
       "      <td>1</td>\n",
       "    </tr>\n",
       "  </tbody>\n",
       "</table>\n",
       "</div>"
      ],
      "text/plain": [
       "   model_1  model_2  model_3\n",
       "0        0        1        0\n",
       "1        1        0        0\n",
       "2        0        0        0\n",
       "3        0        0        0\n",
       "4        0        1        1"
      ]
     },
     "execution_count": 4,
     "metadata": {},
     "output_type": "execute_result"
    }
   ],
   "source": [
    "df"
   ]
  },
  {
   "cell_type": "code",
   "execution_count": 5,
   "metadata": {
    "ExecuteTime": {
     "end_time": "2022-12-08T07:13:54.432274Z",
     "start_time": "2022-12-08T07:13:54.419303Z"
    }
   },
   "outputs": [],
   "source": [
    "df['vote'] = df[['model_1', 'model_2', 'model_3']].mode(axis = 1)"
   ]
  },
  {
   "cell_type": "code",
   "execution_count": 6,
   "metadata": {
    "ExecuteTime": {
     "end_time": "2022-12-08T07:13:54.443387Z",
     "start_time": "2022-12-08T07:13:54.434753Z"
    },
    "scrolled": true
   },
   "outputs": [
    {
     "data": {
      "text/html": [
       "<div>\n",
       "<style scoped>\n",
       "    .dataframe tbody tr th:only-of-type {\n",
       "        vertical-align: middle;\n",
       "    }\n",
       "\n",
       "    .dataframe tbody tr th {\n",
       "        vertical-align: top;\n",
       "    }\n",
       "\n",
       "    .dataframe thead th {\n",
       "        text-align: right;\n",
       "    }\n",
       "</style>\n",
       "<table border=\"1\" class=\"dataframe\">\n",
       "  <thead>\n",
       "    <tr style=\"text-align: right;\">\n",
       "      <th></th>\n",
       "      <th>model_1</th>\n",
       "      <th>model_2</th>\n",
       "      <th>model_3</th>\n",
       "      <th>vote</th>\n",
       "    </tr>\n",
       "  </thead>\n",
       "  <tbody>\n",
       "    <tr>\n",
       "      <th>0</th>\n",
       "      <td>0</td>\n",
       "      <td>1</td>\n",
       "      <td>0</td>\n",
       "      <td>0</td>\n",
       "    </tr>\n",
       "    <tr>\n",
       "      <th>1</th>\n",
       "      <td>1</td>\n",
       "      <td>0</td>\n",
       "      <td>0</td>\n",
       "      <td>0</td>\n",
       "    </tr>\n",
       "    <tr>\n",
       "      <th>2</th>\n",
       "      <td>0</td>\n",
       "      <td>0</td>\n",
       "      <td>0</td>\n",
       "      <td>0</td>\n",
       "    </tr>\n",
       "    <tr>\n",
       "      <th>3</th>\n",
       "      <td>0</td>\n",
       "      <td>0</td>\n",
       "      <td>0</td>\n",
       "      <td>0</td>\n",
       "    </tr>\n",
       "    <tr>\n",
       "      <th>4</th>\n",
       "      <td>0</td>\n",
       "      <td>1</td>\n",
       "      <td>1</td>\n",
       "      <td>1</td>\n",
       "    </tr>\n",
       "  </tbody>\n",
       "</table>\n",
       "</div>"
      ],
      "text/plain": [
       "   model_1  model_2  model_3  vote\n",
       "0        0        1        0     0\n",
       "1        1        0        0     0\n",
       "2        0        0        0     0\n",
       "3        0        0        0     0\n",
       "4        0        1        1     1"
      ]
     },
     "execution_count": 6,
     "metadata": {},
     "output_type": "execute_result"
    }
   ],
   "source": [
    "df"
   ]
  },
  {
   "cell_type": "markdown",
   "metadata": {},
   "source": [
    "# 平均法"
   ]
  },
  {
   "cell_type": "code",
   "execution_count": 7,
   "metadata": {
    "ExecuteTime": {
     "end_time": "2022-12-08T07:13:54.476280Z",
     "start_time": "2022-12-08T07:13:54.445666Z"
    }
   },
   "outputs": [],
   "source": [
    "df = pd.DataFrame({\n",
    "    \"model_1\":np.random.random(5).round(2) * 100,\n",
    "    \"model_2\":np.random.random(5).round(2) * 100,\n",
    "    \"model_3\":np.random.random(5).round(2) * 100\n",
    "})"
   ]
  },
  {
   "cell_type": "code",
   "execution_count": 8,
   "metadata": {
    "ExecuteTime": {
     "end_time": "2022-12-08T07:13:54.489355Z",
     "start_time": "2022-12-08T07:13:54.478529Z"
    },
    "scrolled": true
   },
   "outputs": [
    {
     "data": {
      "text/html": [
       "<div>\n",
       "<style scoped>\n",
       "    .dataframe tbody tr th:only-of-type {\n",
       "        vertical-align: middle;\n",
       "    }\n",
       "\n",
       "    .dataframe tbody tr th {\n",
       "        vertical-align: top;\n",
       "    }\n",
       "\n",
       "    .dataframe thead th {\n",
       "        text-align: right;\n",
       "    }\n",
       "</style>\n",
       "<table border=\"1\" class=\"dataframe\">\n",
       "  <thead>\n",
       "    <tr style=\"text-align: right;\">\n",
       "      <th></th>\n",
       "      <th>model_1</th>\n",
       "      <th>model_2</th>\n",
       "      <th>model_3</th>\n",
       "    </tr>\n",
       "  </thead>\n",
       "  <tbody>\n",
       "    <tr>\n",
       "      <th>0</th>\n",
       "      <td>33.0</td>\n",
       "      <td>94.0</td>\n",
       "      <td>1.0</td>\n",
       "    </tr>\n",
       "    <tr>\n",
       "      <th>1</th>\n",
       "      <td>14.0</td>\n",
       "      <td>0.0</td>\n",
       "      <td>2.0</td>\n",
       "    </tr>\n",
       "    <tr>\n",
       "      <th>2</th>\n",
       "      <td>65.0</td>\n",
       "      <td>99.0</td>\n",
       "      <td>52.0</td>\n",
       "    </tr>\n",
       "    <tr>\n",
       "      <th>3</th>\n",
       "      <td>6.0</td>\n",
       "      <td>62.0</td>\n",
       "      <td>40.0</td>\n",
       "    </tr>\n",
       "    <tr>\n",
       "      <th>4</th>\n",
       "      <td>72.0</td>\n",
       "      <td>61.0</td>\n",
       "      <td>5.0</td>\n",
       "    </tr>\n",
       "  </tbody>\n",
       "</table>\n",
       "</div>"
      ],
      "text/plain": [
       "   model_1  model_2  model_3\n",
       "0     33.0     94.0      1.0\n",
       "1     14.0      0.0      2.0\n",
       "2     65.0     99.0     52.0\n",
       "3      6.0     62.0     40.0\n",
       "4     72.0     61.0      5.0"
      ]
     },
     "execution_count": 8,
     "metadata": {},
     "output_type": "execute_result"
    }
   ],
   "source": [
    "df"
   ]
  },
  {
   "cell_type": "markdown",
   "metadata": {},
   "source": [
    "## 算术平均"
   ]
  },
  {
   "cell_type": "code",
   "execution_count": 9,
   "metadata": {
    "ExecuteTime": {
     "end_time": "2022-12-08T07:13:54.498148Z",
     "start_time": "2022-12-08T07:13:54.493224Z"
    }
   },
   "outputs": [],
   "source": [
    "df['arithmetic_mean'] = df[['model_1', 'model_2', 'model_3']].mean(axis = 1)"
   ]
  },
  {
   "cell_type": "code",
   "execution_count": 10,
   "metadata": {
    "ExecuteTime": {
     "end_time": "2022-12-08T07:13:54.547230Z",
     "start_time": "2022-12-08T07:13:54.500615Z"
    },
    "scrolled": true
   },
   "outputs": [
    {
     "data": {
      "text/html": [
       "<div>\n",
       "<style scoped>\n",
       "    .dataframe tbody tr th:only-of-type {\n",
       "        vertical-align: middle;\n",
       "    }\n",
       "\n",
       "    .dataframe tbody tr th {\n",
       "        vertical-align: top;\n",
       "    }\n",
       "\n",
       "    .dataframe thead th {\n",
       "        text-align: right;\n",
       "    }\n",
       "</style>\n",
       "<table border=\"1\" class=\"dataframe\">\n",
       "  <thead>\n",
       "    <tr style=\"text-align: right;\">\n",
       "      <th></th>\n",
       "      <th>model_1</th>\n",
       "      <th>model_2</th>\n",
       "      <th>model_3</th>\n",
       "      <th>arithmetic_mean</th>\n",
       "    </tr>\n",
       "  </thead>\n",
       "  <tbody>\n",
       "    <tr>\n",
       "      <th>0</th>\n",
       "      <td>33.0</td>\n",
       "      <td>94.0</td>\n",
       "      <td>1.0</td>\n",
       "      <td>42.666667</td>\n",
       "    </tr>\n",
       "    <tr>\n",
       "      <th>1</th>\n",
       "      <td>14.0</td>\n",
       "      <td>0.0</td>\n",
       "      <td>2.0</td>\n",
       "      <td>5.333333</td>\n",
       "    </tr>\n",
       "    <tr>\n",
       "      <th>2</th>\n",
       "      <td>65.0</td>\n",
       "      <td>99.0</td>\n",
       "      <td>52.0</td>\n",
       "      <td>72.000000</td>\n",
       "    </tr>\n",
       "    <tr>\n",
       "      <th>3</th>\n",
       "      <td>6.0</td>\n",
       "      <td>62.0</td>\n",
       "      <td>40.0</td>\n",
       "      <td>36.000000</td>\n",
       "    </tr>\n",
       "    <tr>\n",
       "      <th>4</th>\n",
       "      <td>72.0</td>\n",
       "      <td>61.0</td>\n",
       "      <td>5.0</td>\n",
       "      <td>46.000000</td>\n",
       "    </tr>\n",
       "  </tbody>\n",
       "</table>\n",
       "</div>"
      ],
      "text/plain": [
       "   model_1  model_2  model_3  arithmetic_mean\n",
       "0     33.0     94.0      1.0        42.666667\n",
       "1     14.0      0.0      2.0         5.333333\n",
       "2     65.0     99.0     52.0        72.000000\n",
       "3      6.0     62.0     40.0        36.000000\n",
       "4     72.0     61.0      5.0        46.000000"
      ]
     },
     "execution_count": 10,
     "metadata": {},
     "output_type": "execute_result"
    }
   ],
   "source": [
    "df"
   ]
  },
  {
   "cell_type": "markdown",
   "metadata": {},
   "source": [
    "## 几何平均"
   ]
  },
  {
   "cell_type": "code",
   "execution_count": 11,
   "metadata": {
    "ExecuteTime": {
     "end_time": "2022-12-08T07:13:54.565805Z",
     "start_time": "2022-12-08T07:13:54.549899Z"
    }
   },
   "outputs": [],
   "source": [
    "df['geometric_mean'] = stats.gmean(df[['model_1', 'model_2', 'model_3']], axis=1)"
   ]
  },
  {
   "cell_type": "code",
   "execution_count": 12,
   "metadata": {
    "ExecuteTime": {
     "end_time": "2022-12-08T07:13:54.596006Z",
     "start_time": "2022-12-08T07:13:54.568454Z"
    }
   },
   "outputs": [
    {
     "data": {
      "text/html": [
       "<div>\n",
       "<style scoped>\n",
       "    .dataframe tbody tr th:only-of-type {\n",
       "        vertical-align: middle;\n",
       "    }\n",
       "\n",
       "    .dataframe tbody tr th {\n",
       "        vertical-align: top;\n",
       "    }\n",
       "\n",
       "    .dataframe thead th {\n",
       "        text-align: right;\n",
       "    }\n",
       "</style>\n",
       "<table border=\"1\" class=\"dataframe\">\n",
       "  <thead>\n",
       "    <tr style=\"text-align: right;\">\n",
       "      <th></th>\n",
       "      <th>model_1</th>\n",
       "      <th>model_2</th>\n",
       "      <th>model_3</th>\n",
       "      <th>arithmetic_mean</th>\n",
       "      <th>geometric_mean</th>\n",
       "    </tr>\n",
       "  </thead>\n",
       "  <tbody>\n",
       "    <tr>\n",
       "      <th>0</th>\n",
       "      <td>33.0</td>\n",
       "      <td>94.0</td>\n",
       "      <td>1.0</td>\n",
       "      <td>42.666667</td>\n",
       "      <td>14.584132</td>\n",
       "    </tr>\n",
       "    <tr>\n",
       "      <th>1</th>\n",
       "      <td>14.0</td>\n",
       "      <td>0.0</td>\n",
       "      <td>2.0</td>\n",
       "      <td>5.333333</td>\n",
       "      <td>0.000000</td>\n",
       "    </tr>\n",
       "    <tr>\n",
       "      <th>2</th>\n",
       "      <td>65.0</td>\n",
       "      <td>99.0</td>\n",
       "      <td>52.0</td>\n",
       "      <td>72.000000</td>\n",
       "      <td>69.425225</td>\n",
       "    </tr>\n",
       "    <tr>\n",
       "      <th>3</th>\n",
       "      <td>6.0</td>\n",
       "      <td>62.0</td>\n",
       "      <td>40.0</td>\n",
       "      <td>36.000000</td>\n",
       "      <td>24.596179</td>\n",
       "    </tr>\n",
       "    <tr>\n",
       "      <th>4</th>\n",
       "      <td>72.0</td>\n",
       "      <td>61.0</td>\n",
       "      <td>5.0</td>\n",
       "      <td>46.000000</td>\n",
       "      <td>28.003401</td>\n",
       "    </tr>\n",
       "  </tbody>\n",
       "</table>\n",
       "</div>"
      ],
      "text/plain": [
       "   model_1  model_2  model_3  arithmetic_mean  geometric_mean\n",
       "0     33.0     94.0      1.0        42.666667       14.584132\n",
       "1     14.0      0.0      2.0         5.333333        0.000000\n",
       "2     65.0     99.0     52.0        72.000000       69.425225\n",
       "3      6.0     62.0     40.0        36.000000       24.596179\n",
       "4     72.0     61.0      5.0        46.000000       28.003401"
      ]
     },
     "execution_count": 12,
     "metadata": {},
     "output_type": "execute_result"
    }
   ],
   "source": [
    "df"
   ]
  },
  {
   "cell_type": "markdown",
   "metadata": {},
   "source": [
    "## 调和平均"
   ]
  },
  {
   "cell_type": "code",
   "execution_count": 13,
   "metadata": {
    "ExecuteTime": {
     "end_time": "2022-12-08T07:13:54.604226Z",
     "start_time": "2022-12-08T07:13:54.598464Z"
    }
   },
   "outputs": [],
   "source": [
    "df['harmonic_mean'] = stats.hmean(df[['model_1', 'model_2', 'model_3']], axis=1)"
   ]
  },
  {
   "cell_type": "code",
   "execution_count": 14,
   "metadata": {
    "ExecuteTime": {
     "end_time": "2022-12-08T07:13:54.620300Z",
     "start_time": "2022-12-08T07:13:54.606562Z"
    }
   },
   "outputs": [
    {
     "data": {
      "text/html": [
       "<div>\n",
       "<style scoped>\n",
       "    .dataframe tbody tr th:only-of-type {\n",
       "        vertical-align: middle;\n",
       "    }\n",
       "\n",
       "    .dataframe tbody tr th {\n",
       "        vertical-align: top;\n",
       "    }\n",
       "\n",
       "    .dataframe thead th {\n",
       "        text-align: right;\n",
       "    }\n",
       "</style>\n",
       "<table border=\"1\" class=\"dataframe\">\n",
       "  <thead>\n",
       "    <tr style=\"text-align: right;\">\n",
       "      <th></th>\n",
       "      <th>model_1</th>\n",
       "      <th>model_2</th>\n",
       "      <th>model_3</th>\n",
       "      <th>arithmetic_mean</th>\n",
       "      <th>geometric_mean</th>\n",
       "      <th>harmonic_mean</th>\n",
       "    </tr>\n",
       "  </thead>\n",
       "  <tbody>\n",
       "    <tr>\n",
       "      <th>0</th>\n",
       "      <td>33.0</td>\n",
       "      <td>94.0</td>\n",
       "      <td>1.0</td>\n",
       "      <td>42.666667</td>\n",
       "      <td>14.584132</td>\n",
       "      <td>2.882007</td>\n",
       "    </tr>\n",
       "    <tr>\n",
       "      <th>1</th>\n",
       "      <td>14.0</td>\n",
       "      <td>0.0</td>\n",
       "      <td>2.0</td>\n",
       "      <td>5.333333</td>\n",
       "      <td>0.000000</td>\n",
       "      <td>0.000000</td>\n",
       "    </tr>\n",
       "    <tr>\n",
       "      <th>2</th>\n",
       "      <td>65.0</td>\n",
       "      <td>99.0</td>\n",
       "      <td>52.0</td>\n",
       "      <td>72.000000</td>\n",
       "      <td>69.425225</td>\n",
       "      <td>67.089487</td>\n",
       "    </tr>\n",
       "    <tr>\n",
       "      <th>3</th>\n",
       "      <td>6.0</td>\n",
       "      <td>62.0</td>\n",
       "      <td>40.0</td>\n",
       "      <td>36.000000</td>\n",
       "      <td>24.596179</td>\n",
       "      <td>14.437257</td>\n",
       "    </tr>\n",
       "    <tr>\n",
       "      <th>4</th>\n",
       "      <td>72.0</td>\n",
       "      <td>61.0</td>\n",
       "      <td>5.0</td>\n",
       "      <td>46.000000</td>\n",
       "      <td>28.003401</td>\n",
       "      <td>13.027487</td>\n",
       "    </tr>\n",
       "  </tbody>\n",
       "</table>\n",
       "</div>"
      ],
      "text/plain": [
       "   model_1  model_2  model_3  arithmetic_mean  geometric_mean  harmonic_mean\n",
       "0     33.0     94.0      1.0        42.666667       14.584132       2.882007\n",
       "1     14.0      0.0      2.0         5.333333        0.000000       0.000000\n",
       "2     65.0     99.0     52.0        72.000000       69.425225      67.089487\n",
       "3      6.0     62.0     40.0        36.000000       24.596179      14.437257\n",
       "4     72.0     61.0      5.0        46.000000       28.003401      13.027487"
      ]
     },
     "execution_count": 14,
     "metadata": {},
     "output_type": "execute_result"
    }
   ],
   "source": [
    "df"
   ]
  },
  {
   "cell_type": "markdown",
   "metadata": {},
   "source": [
    "## log变换平均"
   ]
  },
  {
   "cell_type": "code",
   "execution_count": 15,
   "metadata": {
    "ExecuteTime": {
     "end_time": "2022-12-08T07:13:54.626100Z",
     "start_time": "2022-12-08T07:13:54.622445Z"
    }
   },
   "outputs": [],
   "source": [
    "def log_mean(preds):\n",
    "    return np.exp(np.mean([np.log(pred) for pred in preds]))"
   ]
  },
  {
   "cell_type": "code",
   "execution_count": 16,
   "metadata": {
    "ExecuteTime": {
     "end_time": "2022-12-08T07:13:54.634611Z",
     "start_time": "2022-12-08T07:13:54.628276Z"
    }
   },
   "outputs": [],
   "source": [
    "df['log_mean'] = df[['model_1', 'model_2', 'model_3']].apply(lambda x: log_mean(x), axis=1)"
   ]
  },
  {
   "cell_type": "code",
   "execution_count": 17,
   "metadata": {
    "ExecuteTime": {
     "end_time": "2022-12-08T07:13:54.667249Z",
     "start_time": "2022-12-08T07:13:54.636540Z"
    }
   },
   "outputs": [
    {
     "data": {
      "text/html": [
       "<div>\n",
       "<style scoped>\n",
       "    .dataframe tbody tr th:only-of-type {\n",
       "        vertical-align: middle;\n",
       "    }\n",
       "\n",
       "    .dataframe tbody tr th {\n",
       "        vertical-align: top;\n",
       "    }\n",
       "\n",
       "    .dataframe thead th {\n",
       "        text-align: right;\n",
       "    }\n",
       "</style>\n",
       "<table border=\"1\" class=\"dataframe\">\n",
       "  <thead>\n",
       "    <tr style=\"text-align: right;\">\n",
       "      <th></th>\n",
       "      <th>model_1</th>\n",
       "      <th>model_2</th>\n",
       "      <th>model_3</th>\n",
       "      <th>arithmetic_mean</th>\n",
       "      <th>geometric_mean</th>\n",
       "      <th>harmonic_mean</th>\n",
       "      <th>log_mean</th>\n",
       "    </tr>\n",
       "  </thead>\n",
       "  <tbody>\n",
       "    <tr>\n",
       "      <th>0</th>\n",
       "      <td>33.0</td>\n",
       "      <td>94.0</td>\n",
       "      <td>1.0</td>\n",
       "      <td>42.666667</td>\n",
       "      <td>14.584132</td>\n",
       "      <td>2.882007</td>\n",
       "      <td>14.584132</td>\n",
       "    </tr>\n",
       "    <tr>\n",
       "      <th>1</th>\n",
       "      <td>14.0</td>\n",
       "      <td>0.0</td>\n",
       "      <td>2.0</td>\n",
       "      <td>5.333333</td>\n",
       "      <td>0.000000</td>\n",
       "      <td>0.000000</td>\n",
       "      <td>0.000000</td>\n",
       "    </tr>\n",
       "    <tr>\n",
       "      <th>2</th>\n",
       "      <td>65.0</td>\n",
       "      <td>99.0</td>\n",
       "      <td>52.0</td>\n",
       "      <td>72.000000</td>\n",
       "      <td>69.425225</td>\n",
       "      <td>67.089487</td>\n",
       "      <td>69.425225</td>\n",
       "    </tr>\n",
       "    <tr>\n",
       "      <th>3</th>\n",
       "      <td>6.0</td>\n",
       "      <td>62.0</td>\n",
       "      <td>40.0</td>\n",
       "      <td>36.000000</td>\n",
       "      <td>24.596179</td>\n",
       "      <td>14.437257</td>\n",
       "      <td>24.596179</td>\n",
       "    </tr>\n",
       "    <tr>\n",
       "      <th>4</th>\n",
       "      <td>72.0</td>\n",
       "      <td>61.0</td>\n",
       "      <td>5.0</td>\n",
       "      <td>46.000000</td>\n",
       "      <td>28.003401</td>\n",
       "      <td>13.027487</td>\n",
       "      <td>28.003401</td>\n",
       "    </tr>\n",
       "  </tbody>\n",
       "</table>\n",
       "</div>"
      ],
      "text/plain": [
       "   model_1  model_2  model_3  arithmetic_mean  geometric_mean  harmonic_mean  \\\n",
       "0     33.0     94.0      1.0        42.666667       14.584132       2.882007   \n",
       "1     14.0      0.0      2.0         5.333333        0.000000       0.000000   \n",
       "2     65.0     99.0     52.0        72.000000       69.425225      67.089487   \n",
       "3      6.0     62.0     40.0        36.000000       24.596179      14.437257   \n",
       "4     72.0     61.0      5.0        46.000000       28.003401      13.027487   \n",
       "\n",
       "    log_mean  \n",
       "0  14.584132  \n",
       "1   0.000000  \n",
       "2  69.425225  \n",
       "3  24.596179  \n",
       "4  28.003401  "
      ]
     },
     "execution_count": 17,
     "metadata": {},
     "output_type": "execute_result"
    }
   ],
   "source": [
    "df"
   ]
  },
  {
   "cell_type": "markdown",
   "metadata": {},
   "source": [
    "## n次方平均"
   ]
  },
  {
   "cell_type": "code",
   "execution_count": 18,
   "metadata": {
    "ExecuteTime": {
     "end_time": "2022-12-08T07:13:54.694259Z",
     "start_time": "2022-12-08T07:13:54.669136Z"
    }
   },
   "outputs": [],
   "source": [
    "def npower_mean(preds, n):\n",
    "    return np.power(np.mean([np.power(pred, n) for pred in preds]), 1/n)"
   ]
  },
  {
   "cell_type": "code",
   "execution_count": 19,
   "metadata": {
    "ExecuteTime": {
     "end_time": "2022-12-08T07:13:54.712270Z",
     "start_time": "2022-12-08T07:13:54.696280Z"
    },
    "scrolled": true
   },
   "outputs": [],
   "source": [
    "df['3power_mean'] = df[['model_1', 'model_2', 'model_3']].apply(lambda x: npower_mean(x, 3), axis=1)"
   ]
  },
  {
   "cell_type": "code",
   "execution_count": 20,
   "metadata": {
    "ExecuteTime": {
     "end_time": "2022-12-08T07:13:54.799055Z",
     "start_time": "2022-12-08T07:13:54.714208Z"
    }
   },
   "outputs": [
    {
     "data": {
      "text/html": [
       "<div>\n",
       "<style scoped>\n",
       "    .dataframe tbody tr th:only-of-type {\n",
       "        vertical-align: middle;\n",
       "    }\n",
       "\n",
       "    .dataframe tbody tr th {\n",
       "        vertical-align: top;\n",
       "    }\n",
       "\n",
       "    .dataframe thead th {\n",
       "        text-align: right;\n",
       "    }\n",
       "</style>\n",
       "<table border=\"1\" class=\"dataframe\">\n",
       "  <thead>\n",
       "    <tr style=\"text-align: right;\">\n",
       "      <th></th>\n",
       "      <th>model_1</th>\n",
       "      <th>model_2</th>\n",
       "      <th>model_3</th>\n",
       "      <th>arithmetic_mean</th>\n",
       "      <th>geometric_mean</th>\n",
       "      <th>harmonic_mean</th>\n",
       "      <th>log_mean</th>\n",
       "      <th>3power_mean</th>\n",
       "    </tr>\n",
       "  </thead>\n",
       "  <tbody>\n",
       "    <tr>\n",
       "      <th>0</th>\n",
       "      <td>33.0</td>\n",
       "      <td>94.0</td>\n",
       "      <td>1.0</td>\n",
       "      <td>42.666667</td>\n",
       "      <td>14.584132</td>\n",
       "      <td>2.882007</td>\n",
       "      <td>14.584132</td>\n",
       "      <td>66.102738</td>\n",
       "    </tr>\n",
       "    <tr>\n",
       "      <th>1</th>\n",
       "      <td>14.0</td>\n",
       "      <td>0.0</td>\n",
       "      <td>2.0</td>\n",
       "      <td>5.333333</td>\n",
       "      <td>0.000000</td>\n",
       "      <td>0.000000</td>\n",
       "      <td>0.000000</td>\n",
       "      <td>9.716482</td>\n",
       "    </tr>\n",
       "    <tr>\n",
       "      <th>2</th>\n",
       "      <td>65.0</td>\n",
       "      <td>99.0</td>\n",
       "      <td>52.0</td>\n",
       "      <td>72.000000</td>\n",
       "      <td>69.425225</td>\n",
       "      <td>67.089487</td>\n",
       "      <td>69.425225</td>\n",
       "      <td>77.297438</td>\n",
       "    </tr>\n",
       "    <tr>\n",
       "      <th>3</th>\n",
       "      <td>6.0</td>\n",
       "      <td>62.0</td>\n",
       "      <td>40.0</td>\n",
       "      <td>36.000000</td>\n",
       "      <td>24.596179</td>\n",
       "      <td>14.437257</td>\n",
       "      <td>24.596179</td>\n",
       "      <td>46.546721</td>\n",
       "    </tr>\n",
       "    <tr>\n",
       "      <th>4</th>\n",
       "      <td>72.0</td>\n",
       "      <td>61.0</td>\n",
       "      <td>5.0</td>\n",
       "      <td>46.000000</td>\n",
       "      <td>28.003401</td>\n",
       "      <td>13.027487</td>\n",
       "      <td>28.003401</td>\n",
       "      <td>58.491854</td>\n",
       "    </tr>\n",
       "  </tbody>\n",
       "</table>\n",
       "</div>"
      ],
      "text/plain": [
       "   model_1  model_2  model_3  arithmetic_mean  geometric_mean  harmonic_mean  \\\n",
       "0     33.0     94.0      1.0        42.666667       14.584132       2.882007   \n",
       "1     14.0      0.0      2.0         5.333333        0.000000       0.000000   \n",
       "2     65.0     99.0     52.0        72.000000       69.425225      67.089487   \n",
       "3      6.0     62.0     40.0        36.000000       24.596179      14.437257   \n",
       "4     72.0     61.0      5.0        46.000000       28.003401      13.027487   \n",
       "\n",
       "    log_mean  3power_mean  \n",
       "0  14.584132    66.102738  \n",
       "1   0.000000     9.716482  \n",
       "2  69.425225    77.297438  \n",
       "3  24.596179    46.546721  \n",
       "4  28.003401    58.491854  "
      ]
     },
     "execution_count": 20,
     "metadata": {},
     "output_type": "execute_result"
    }
   ],
   "source": [
    "df"
   ]
  },
  {
   "cell_type": "markdown",
   "metadata": {},
   "source": [
    "# 加权平均法"
   ]
  },
  {
   "cell_type": "code",
   "execution_count": 21,
   "metadata": {
    "ExecuteTime": {
     "end_time": "2022-12-08T07:13:54.810286Z",
     "start_time": "2022-12-08T07:13:54.801784Z"
    }
   },
   "outputs": [],
   "source": [
    "temp =  np.random.random(2000).round(2)\n",
    "df = pd.DataFrame({\n",
    "    \"model_1\": (temp + np.random.random(2000).round(2)) * 10,\n",
    "    \"model_2\": (temp +np.random.random(2000).round(2)) * 10,\n",
    "    \"model_3\": (temp +np.random.random(2000).round(2)) * 10\n",
    "})"
   ]
  },
  {
   "cell_type": "code",
   "execution_count": 22,
   "metadata": {
    "ExecuteTime": {
     "end_time": "2022-12-08T07:13:54.856591Z",
     "start_time": "2022-12-08T07:13:54.812994Z"
    },
    "scrolled": true
   },
   "outputs": [
    {
     "data": {
      "text/html": [
       "<div>\n",
       "<style scoped>\n",
       "    .dataframe tbody tr th:only-of-type {\n",
       "        vertical-align: middle;\n",
       "    }\n",
       "\n",
       "    .dataframe tbody tr th {\n",
       "        vertical-align: top;\n",
       "    }\n",
       "\n",
       "    .dataframe thead th {\n",
       "        text-align: right;\n",
       "    }\n",
       "</style>\n",
       "<table border=\"1\" class=\"dataframe\">\n",
       "  <thead>\n",
       "    <tr style=\"text-align: right;\">\n",
       "      <th></th>\n",
       "      <th>model_1</th>\n",
       "      <th>model_2</th>\n",
       "      <th>model_3</th>\n",
       "    </tr>\n",
       "  </thead>\n",
       "  <tbody>\n",
       "    <tr>\n",
       "      <th>0</th>\n",
       "      <td>13.6</td>\n",
       "      <td>17.6</td>\n",
       "      <td>19.3</td>\n",
       "    </tr>\n",
       "    <tr>\n",
       "      <th>1</th>\n",
       "      <td>10.6</td>\n",
       "      <td>3.7</td>\n",
       "      <td>11.5</td>\n",
       "    </tr>\n",
       "    <tr>\n",
       "      <th>2</th>\n",
       "      <td>8.8</td>\n",
       "      <td>6.4</td>\n",
       "      <td>8.5</td>\n",
       "    </tr>\n",
       "    <tr>\n",
       "      <th>3</th>\n",
       "      <td>12.4</td>\n",
       "      <td>7.3</td>\n",
       "      <td>7.0</td>\n",
       "    </tr>\n",
       "    <tr>\n",
       "      <th>4</th>\n",
       "      <td>8.7</td>\n",
       "      <td>4.3</td>\n",
       "      <td>8.3</td>\n",
       "    </tr>\n",
       "  </tbody>\n",
       "</table>\n",
       "</div>"
      ],
      "text/plain": [
       "   model_1  model_2  model_3\n",
       "0     13.6     17.6     19.3\n",
       "1     10.6      3.7     11.5\n",
       "2      8.8      6.4      8.5\n",
       "3     12.4      7.3      7.0\n",
       "4      8.7      4.3      8.3"
      ]
     },
     "execution_count": 22,
     "metadata": {},
     "output_type": "execute_result"
    }
   ],
   "source": [
    "df.head()"
   ]
  },
  {
   "cell_type": "markdown",
   "metadata": {},
   "source": [
    "## 基于排名赋予权重"
   ]
  },
  {
   "cell_type": "code",
   "execution_count": 23,
   "metadata": {
    "ExecuteTime": {
     "end_time": "2022-12-08T07:13:54.867638Z",
     "start_time": "2022-12-08T07:13:54.859453Z"
    }
   },
   "outputs": [],
   "source": [
    "rank = ['model_2', 'model_3', 'model_1']\n",
    "w = np.array(range(3, 0, -1))\n",
    "w = w / sum(w)\n",
    "df['rank_weighted'] = df[rank].dot(w)"
   ]
  },
  {
   "cell_type": "code",
   "execution_count": 24,
   "metadata": {
    "ExecuteTime": {
     "end_time": "2022-12-08T07:13:54.883452Z",
     "start_time": "2022-12-08T07:13:54.870067Z"
    },
    "scrolled": true
   },
   "outputs": [
    {
     "data": {
      "text/html": [
       "<div>\n",
       "<style scoped>\n",
       "    .dataframe tbody tr th:only-of-type {\n",
       "        vertical-align: middle;\n",
       "    }\n",
       "\n",
       "    .dataframe tbody tr th {\n",
       "        vertical-align: top;\n",
       "    }\n",
       "\n",
       "    .dataframe thead th {\n",
       "        text-align: right;\n",
       "    }\n",
       "</style>\n",
       "<table border=\"1\" class=\"dataframe\">\n",
       "  <thead>\n",
       "    <tr style=\"text-align: right;\">\n",
       "      <th></th>\n",
       "      <th>model_1</th>\n",
       "      <th>model_2</th>\n",
       "      <th>model_3</th>\n",
       "      <th>rank_weighted</th>\n",
       "    </tr>\n",
       "  </thead>\n",
       "  <tbody>\n",
       "    <tr>\n",
       "      <th>0</th>\n",
       "      <td>13.6</td>\n",
       "      <td>17.6</td>\n",
       "      <td>19.3</td>\n",
       "      <td>17.500000</td>\n",
       "    </tr>\n",
       "    <tr>\n",
       "      <th>1</th>\n",
       "      <td>10.6</td>\n",
       "      <td>3.7</td>\n",
       "      <td>11.5</td>\n",
       "      <td>7.450000</td>\n",
       "    </tr>\n",
       "    <tr>\n",
       "      <th>2</th>\n",
       "      <td>8.8</td>\n",
       "      <td>6.4</td>\n",
       "      <td>8.5</td>\n",
       "      <td>7.500000</td>\n",
       "    </tr>\n",
       "    <tr>\n",
       "      <th>3</th>\n",
       "      <td>12.4</td>\n",
       "      <td>7.3</td>\n",
       "      <td>7.0</td>\n",
       "      <td>8.050000</td>\n",
       "    </tr>\n",
       "    <tr>\n",
       "      <th>4</th>\n",
       "      <td>8.7</td>\n",
       "      <td>4.3</td>\n",
       "      <td>8.3</td>\n",
       "      <td>6.366667</td>\n",
       "    </tr>\n",
       "  </tbody>\n",
       "</table>\n",
       "</div>"
      ],
      "text/plain": [
       "   model_1  model_2  model_3  rank_weighted\n",
       "0     13.6     17.6     19.3      17.500000\n",
       "1     10.6      3.7     11.5       7.450000\n",
       "2      8.8      6.4      8.5       7.500000\n",
       "3     12.4      7.3      7.0       8.050000\n",
       "4      8.7      4.3      8.3       6.366667"
      ]
     },
     "execution_count": 24,
     "metadata": {},
     "output_type": "execute_result"
    }
   ],
   "source": [
    "df.head()"
   ]
  },
  {
   "cell_type": "markdown",
   "metadata": {},
   "source": [
    "## 基于相关性赋予权重"
   ]
  },
  {
   "cell_type": "code",
   "execution_count": 25,
   "metadata": {
    "ExecuteTime": {
     "end_time": "2022-12-08T07:13:54.919644Z",
     "start_time": "2022-12-08T07:13:54.885686Z"
    }
   },
   "outputs": [],
   "source": [
    "def corr_weight(df):\n",
    "    corr_matrix = np.array(df.corr())\n",
    "    np.fill_diagonal(corr_matrix, 0.0)\n",
    "    w = np.mean(corr_matrix, axis = 1)\n",
    "    w = 1 / w\n",
    "    w = w / sum(w)\n",
    "    return df.dot(w)"
   ]
  },
  {
   "cell_type": "code",
   "execution_count": 26,
   "metadata": {
    "ExecuteTime": {
     "end_time": "2022-12-08T07:13:54.985511Z",
     "start_time": "2022-12-08T07:13:54.922696Z"
    }
   },
   "outputs": [],
   "source": [
    "df['corr_weighted'] = corr_weight(df[['model_1', 'model_2', 'model_3']])"
   ]
  },
  {
   "cell_type": "code",
   "execution_count": 27,
   "metadata": {
    "ExecuteTime": {
     "end_time": "2022-12-08T07:13:55.009175Z",
     "start_time": "2022-12-08T07:13:54.993818Z"
    },
    "scrolled": false
   },
   "outputs": [
    {
     "data": {
      "text/html": [
       "<div>\n",
       "<style scoped>\n",
       "    .dataframe tbody tr th:only-of-type {\n",
       "        vertical-align: middle;\n",
       "    }\n",
       "\n",
       "    .dataframe tbody tr th {\n",
       "        vertical-align: top;\n",
       "    }\n",
       "\n",
       "    .dataframe thead th {\n",
       "        text-align: right;\n",
       "    }\n",
       "</style>\n",
       "<table border=\"1\" class=\"dataframe\">\n",
       "  <thead>\n",
       "    <tr style=\"text-align: right;\">\n",
       "      <th></th>\n",
       "      <th>model_1</th>\n",
       "      <th>model_2</th>\n",
       "      <th>model_3</th>\n",
       "      <th>rank_weighted</th>\n",
       "      <th>corr_weighted</th>\n",
       "    </tr>\n",
       "  </thead>\n",
       "  <tbody>\n",
       "    <tr>\n",
       "      <th>0</th>\n",
       "      <td>13.6</td>\n",
       "      <td>17.6</td>\n",
       "      <td>19.3</td>\n",
       "      <td>17.500000</td>\n",
       "      <td>16.866426</td>\n",
       "    </tr>\n",
       "    <tr>\n",
       "      <th>1</th>\n",
       "      <td>10.6</td>\n",
       "      <td>3.7</td>\n",
       "      <td>11.5</td>\n",
       "      <td>7.450000</td>\n",
       "      <td>8.583173</td>\n",
       "    </tr>\n",
       "    <tr>\n",
       "      <th>2</th>\n",
       "      <td>8.8</td>\n",
       "      <td>6.4</td>\n",
       "      <td>8.5</td>\n",
       "      <td>7.500000</td>\n",
       "      <td>7.891848</td>\n",
       "    </tr>\n",
       "    <tr>\n",
       "      <th>3</th>\n",
       "      <td>12.4</td>\n",
       "      <td>7.3</td>\n",
       "      <td>7.0</td>\n",
       "      <td>8.050000</td>\n",
       "      <td>8.864812</td>\n",
       "    </tr>\n",
       "    <tr>\n",
       "      <th>4</th>\n",
       "      <td>8.7</td>\n",
       "      <td>4.3</td>\n",
       "      <td>8.3</td>\n",
       "      <td>6.366667</td>\n",
       "      <td>7.085617</td>\n",
       "    </tr>\n",
       "  </tbody>\n",
       "</table>\n",
       "</div>"
      ],
      "text/plain": [
       "   model_1  model_2  model_3  rank_weighted  corr_weighted\n",
       "0     13.6     17.6     19.3      17.500000      16.866426\n",
       "1     10.6      3.7     11.5       7.450000       8.583173\n",
       "2      8.8      6.4      8.5       7.500000       7.891848\n",
       "3     12.4      7.3      7.0       8.050000       8.864812\n",
       "4      8.7      4.3      8.3       6.366667       7.085617"
      ]
     },
     "execution_count": 27,
     "metadata": {},
     "output_type": "execute_result"
    }
   ],
   "source": [
    "df.head()"
   ]
  },
  {
   "cell_type": "markdown",
   "metadata": {},
   "source": [
    "## 基于线下验证的权重调整"
   ]
  },
  {
   "cell_type": "code",
   "execution_count": 28,
   "metadata": {
    "ExecuteTime": {
     "end_time": "2022-12-08T07:13:55.048803Z",
     "start_time": "2022-12-08T07:13:55.013372Z"
    }
   },
   "outputs": [],
   "source": [
    "from sklearn.datasets import make_classification\n",
    "from sklearn.model_selection import KFold\n",
    "from sklearn.metrics import roc_auc_score\n",
    "\n",
    "from sklearn.tree import DecisionTreeClassifier\n",
    "from sklearn.linear_model import LogisticRegression\n",
    "from sklearn.neighbors import KNeighborsClassifier"
   ]
  },
  {
   "cell_type": "code",
   "execution_count": 29,
   "metadata": {
    "ExecuteTime": {
     "end_time": "2022-12-08T07:13:55.059140Z",
     "start_time": "2022-12-08T07:13:55.051090Z"
    }
   },
   "outputs": [],
   "source": [
    "X, y = make_classification(n_samples=2000)"
   ]
  },
  {
   "cell_type": "code",
   "execution_count": 30,
   "metadata": {
    "ExecuteTime": {
     "end_time": "2022-12-08T07:13:55.064502Z",
     "start_time": "2022-12-08T07:13:55.061143Z"
    }
   },
   "outputs": [],
   "source": [
    "model_1 = DecisionTreeClassifier(random_state=0)\n",
    "model_2 = LogisticRegression(random_state=0)\n",
    "model_3 = KNeighborsClassifier()"
   ]
  },
  {
   "cell_type": "code",
   "execution_count": 31,
   "metadata": {
    "ExecuteTime": {
     "end_time": "2022-12-08T07:14:21.925082Z",
     "start_time": "2022-12-08T07:13:55.066493Z"
    },
    "scrolled": true
   },
   "outputs": [
    {
     "name": "stdout",
     "output_type": "stream",
     "text": [
      "0.9612638166413798\n",
      "0.0 0.0 1.0\n",
      "0.9612638166413798\n",
      "0.9676617299743391\n",
      "0.0 0.1 0.9\n",
      "0.9676617299743391\n",
      "0.9678068025238868\n",
      "0.0 0.2 0.8\n",
      "0.9678068025238868\n",
      "0.9686024841083853\n",
      "0.0 0.3 0.7\n",
      "0.9686024841083853\n",
      "0.9684014446127545\n",
      "0.9673682457316813\n",
      "0.96570384810621\n",
      "0.9632031599847748\n",
      "0.959849874689698\n",
      "0.9553380991516092\n",
      "0.9496321721217177\n",
      "0.9720424342141156\n",
      "0.1 0.0 0.9\n",
      "0.9720424342141156\n",
      "0.9743322365613803\n",
      "0.1 0.1 0.8\n",
      "0.9743322365613803\n",
      "0.9757342930499805\n",
      "0.1 0.2 0.7\n",
      "0.9757342930499805\n",
      "0.976244164936938\n",
      "0.1 0.3 0.6000000000000001\n",
      "0.976244164936938\n",
      "0.9761831495583589\n",
      "0.9753603321724466\n",
      "0.9736806638437401\n",
      "0.9712886635073051\n",
      "0.9678700743916755\n",
      "0.9631664938181558\n",
      "0.978805445322758\n",
      "0.2 0.0 0.8\n",
      "0.978805445322758\n",
      "0.9803636850286093\n",
      "0.2 0.1 0.7000000000000001\n",
      "0.9803636850286093\n",
      "0.9805687774366835\n",
      "0.2 0.2 0.6000000000000001\n",
      "0.9805687774366835\n",
      "0.9806179606321678\n",
      "0.2 0.3 0.5\n",
      "0.9806179606321678\n",
      "0.9803209097478908\n",
      "0.9792827617940671\n",
      "0.9776323686143232\n",
      "0.9748496780813612\n",
      "0.9708570171953719\n",
      "0.9803483813812092\n",
      "0.9819568530710573\n",
      "0.3 0.1 0.6\n",
      "0.9819568530710573\n",
      "0.9822316788145194\n",
      "0.3 0.2 0.49999999999999994\n",
      "0.9822316788145194\n",
      "0.9822857206360893\n",
      "0.3 0.3 0.39999999999999997\n",
      "0.9822857206360893\n",
      "0.9817330443170048\n",
      "0.9805991274818414\n",
      "0.9788680025926071\n",
      "0.9755408096020266\n",
      "0.9805688103470311\n",
      "0.982202430802591\n",
      "0.9823768020569444\n",
      "0.4 0.2 0.39999999999999997\n",
      "0.9823768020569444\n",
      "0.982134967015204\n",
      "0.9813767482452251\n",
      "0.980146817770909\n",
      "0.9774555735627832\n",
      "0.9803382665202808\n",
      "0.9819165968362149\n",
      "0.9820856559488436\n",
      "0.9814423691546746\n",
      "0.9800820577689915\n",
      "0.9772651207340315\n",
      "0.9802680424049409\n",
      "0.9820664121936806\n",
      "0.9818040364891626\n",
      "0.9804736896145727\n",
      "0.9772651207340315\n",
      "0.9802680424049409\n",
      "0.9820158214055896\n",
      "0.981030814343424\n",
      "0.9772651207340315\n",
      "0.9802680424049409\n",
      "0.9818040364891626\n",
      "0.9802680424049409\n",
      "0.9422270833585464\n"
     ]
    }
   ],
   "source": [
    "kf = KFold(n_splits=5, shuffle=True, random_state=0)\n",
    "\n",
    "best_p1, best_p2, best_p3 = None, None, None\n",
    "best_auc = 0.5\n",
    "\n",
    "for p1 in range(0, 11):\n",
    "    p1 = p1 / 10\n",
    "    for p2 in range(0, 11):\n",
    "        p2 = p2 / 10\n",
    "        p3 = 1 - p1 - p2\n",
    "        if p3 < 0:\n",
    "            break\n",
    "        AUCs = []\n",
    "        for train_index, valid_index in kf.split(X):\n",
    "\n",
    "            model_1.fit(X[train_index, :], y[train_index])\n",
    "            model_2.fit(X[train_index, :], y[train_index])\n",
    "            model_3.fit(X[train_index, :], y[train_index])\n",
    "\n",
    "            y_pred = model_1.predict_proba(X[valid_index, :])[:, 1] * p1 +\\\n",
    "                     model_2.predict_proba(X[valid_index, :])[:, 1] * p2 +\\\n",
    "                     model_3.predict_proba(X[valid_index, :])[:, 1] * p3\n",
    "            \n",
    "            auc_ = roc_auc_score(y[valid_index], y_pred)\n",
    "            AUCs.append(auc_)\n",
    "        \n",
    "        print(np.mean(AUCs))\n",
    "        \n",
    "        if np.mean(AUCs) > best_auc:\n",
    "            best_p1, best_p2, best_p3 = p1, p2, p3\n",
    "            best_auc = np.mean(AUCs)\n",
    "            \n",
    "            print(best_p1, best_p2, best_p3)\n",
    "            print(best_auc)"
   ]
  },
  {
   "cell_type": "code",
   "execution_count": 32,
   "metadata": {
    "ExecuteTime": {
     "end_time": "2022-12-08T07:14:21.935786Z",
     "start_time": "2022-12-08T07:14:21.927954Z"
    },
    "scrolled": false
   },
   "outputs": [
    {
     "data": {
      "text/plain": [
       "(0.4, 0.2, 0.39999999999999997)"
      ]
     },
     "execution_count": 32,
     "metadata": {},
     "output_type": "execute_result"
    }
   ],
   "source": [
    "best_p1, best_p2, best_p3"
   ]
  },
  {
   "cell_type": "markdown",
   "metadata": {},
   "source": [
    "# Stacking"
   ]
  },
  {
   "cell_type": "code",
   "execution_count": 33,
   "metadata": {
    "ExecuteTime": {
     "end_time": "2022-12-08T07:14:22.020089Z",
     "start_time": "2022-12-08T07:14:21.938085Z"
    }
   },
   "outputs": [],
   "source": [
    "X, y = make_classification(n_samples=2000)\n",
    "X_train, X_test, y_train, y_test = train_test_split(X, y, test_size=0.2, random_state=42)"
   ]
  },
  {
   "cell_type": "code",
   "execution_count": 34,
   "metadata": {
    "ExecuteTime": {
     "end_time": "2022-12-08T07:14:27.399692Z",
     "start_time": "2022-12-08T07:14:22.022553Z"
    }
   },
   "outputs": [],
   "source": [
    "model_1 = RandomForestClassifier(n_estimators=10, random_state=42)\n",
    "model_2 = LinearSVC(random_state=42)\n",
    "model_3 = GradientBoostingClassifier(random_state=42)\n",
    "\n",
    "estimators = [('model_1', model_1), ('model_2', model_2), ('model_3', model_3)]\n",
    "\n",
    "stacking_clf = StackingClassifier(\n",
    "    estimators=estimators, # 基模型\n",
    "    final_estimator=LogisticRegression() # 元模型\n",
    ")\n",
    "\n",
    "stacking_clf.fit(X_train, y_train)\n",
    "stacking_pred = stacking_clf.predict(X_test)"
   ]
  },
  {
   "cell_type": "code",
   "execution_count": 35,
   "metadata": {
    "ExecuteTime": {
     "end_time": "2022-12-08T07:14:27.407689Z",
     "start_time": "2022-12-08T07:14:27.402307Z"
    },
    "scrolled": true
   },
   "outputs": [
    {
     "data": {
      "text/plain": [
       "0.9025"
      ]
     },
     "execution_count": 35,
     "metadata": {},
     "output_type": "execute_result"
    }
   ],
   "source": [
    "accuracy_score(y_test, stacking_pred)"
   ]
  },
  {
   "cell_type": "markdown",
   "metadata": {},
   "source": [
    "# Blending"
   ]
  },
  {
   "cell_type": "code",
   "execution_count": 40,
   "metadata": {
    "ExecuteTime": {
     "end_time": "2022-12-08T07:17:08.230349Z",
     "start_time": "2022-12-08T07:17:08.216387Z"
    }
   },
   "outputs": [],
   "source": [
    "# 准备数据\n",
    "X, y = make_classification(n_samples=2000)\n",
    "\n",
    "X_train_valid, X_test, y_train_valid, y_test = train_test_split(X, y, test_size=0.2, random_state=42)\n",
    "X_train, X_valid, y_train, y_valid = train_test_split(X_train_valid, y_train_valid, test_size=0.5, random_state=42)"
   ]
  },
  {
   "cell_type": "code",
   "execution_count": 41,
   "metadata": {
    "ExecuteTime": {
     "end_time": "2022-12-08T07:17:08.656665Z",
     "start_time": "2022-12-08T07:17:08.652758Z"
    }
   },
   "outputs": [],
   "source": [
    "# 基模型\n",
    "model_1 = RandomForestClassifier(n_estimators=10, random_state=42)\n",
    "model_2 = LinearSVC(random_state=42)\n",
    "model_3 = GradientBoostingClassifier(random_state=42)"
   ]
  },
  {
   "cell_type": "code",
   "execution_count": 42,
   "metadata": {
    "ExecuteTime": {
     "end_time": "2022-12-08T07:17:09.822759Z",
     "start_time": "2022-12-08T07:17:09.213477Z"
    }
   },
   "outputs": [],
   "source": [
    "# Blending的第一层\n",
    "models = [model_1, model_2, model_3]\n",
    "\n",
    "meta_train = np.zeros((len(X_valid), len(models)))\n",
    "meta_test = np.zeros((len(X_test), len(models)))\n",
    "\n",
    "for i, model in enumerate(models):\n",
    "    model.fit(X_train, y_train)\n",
    "    meta_train[:, i] = model.predict(X_valid)\n",
    "    meta_test[:, i]  = model.predict(X_test)\n",
    "    \n",
    "# Blending的第二层\n",
    "meta_learner = LogisticRegression()\n",
    "meta_learner.fit(meta_train, y_valid)\n",
    "blending_pred = meta_learner.predict(meta_test)"
   ]
  },
  {
   "cell_type": "code",
   "execution_count": 43,
   "metadata": {
    "ExecuteTime": {
     "end_time": "2022-12-08T07:17:10.066864Z",
     "start_time": "2022-12-08T07:17:10.061193Z"
    }
   },
   "outputs": [
    {
     "data": {
      "text/plain": [
       "0.965"
      ]
     },
     "execution_count": 43,
     "metadata": {},
     "output_type": "execute_result"
    }
   ],
   "source": [
    "accuracy_score(y_test, blending_pred)"
   ]
  },
  {
   "cell_type": "code",
   "execution_count": null,
   "metadata": {},
   "outputs": [],
   "source": []
  }
 ],
 "metadata": {
  "kernelspec": {
   "display_name": "Python 3",
   "language": "python",
   "name": "python3"
  },
  "language_info": {
   "codemirror_mode": {
    "name": "ipython",
    "version": 3
   },
   "file_extension": ".py",
   "mimetype": "text/x-python",
   "name": "python",
   "nbconvert_exporter": "python",
   "pygments_lexer": "ipython3",
   "version": "3.7.3"
  },
  "toc": {
   "base_numbering": 1,
   "nav_menu": {},
   "number_sections": true,
   "sideBar": true,
   "skip_h1_title": false,
   "title_cell": "Table of Contents",
   "title_sidebar": "Contents",
   "toc_cell": false,
   "toc_position": {},
   "toc_section_display": true,
   "toc_window_display": true
  },
  "varInspector": {
   "cols": {
    "lenName": 16,
    "lenType": 16,
    "lenVar": 40
   },
   "kernels_config": {
    "python": {
     "delete_cmd_postfix": "",
     "delete_cmd_prefix": "del ",
     "library": "var_list.py",
     "varRefreshCmd": "print(var_dic_list())"
    },
    "r": {
     "delete_cmd_postfix": ") ",
     "delete_cmd_prefix": "rm(",
     "library": "var_list.r",
     "varRefreshCmd": "cat(var_dic_list()) "
    }
   },
   "types_to_exclude": [
    "module",
    "function",
    "builtin_function_or_method",
    "instance",
    "_Feature"
   ],
   "window_display": false
  }
 },
 "nbformat": 4,
 "nbformat_minor": 2
}
