{
 "cells": [
  {
   "cell_type": "markdown",
   "metadata": {},
   "source": [
    "# import包"
   ]
  },
  {
   "cell_type": "code",
   "execution_count": 1,
   "metadata": {
    "ExecuteTime": {
     "end_time": "2022-10-12T03:00:20.157437Z",
     "start_time": "2022-10-12T03:00:19.860693Z"
    },
    "scrolled": true
   },
   "outputs": [
    {
     "name": "stderr",
     "output_type": "stream",
     "text": [
      "/home/caihengxing/anaconda3/lib/python3.7/site-packages/pandas/compat/_optional.py:138: UserWarning: Pandas requires version '2.7.0' or newer of 'numexpr' (version '2.6.9' currently installed).\n",
      "  warnings.warn(msg, UserWarning)\n"
     ]
    }
   ],
   "source": [
    "import pandas as pd\n",
    "import numpy as np\n",
    "import os\n",
    "from tqdm import tqdm"
   ]
  },
  {
   "cell_type": "markdown",
   "metadata": {},
   "source": [
    "# 读取数据"
   ]
  },
  {
   "cell_type": "code",
   "execution_count": 2,
   "metadata": {
    "ExecuteTime": {
     "end_time": "2022-10-12T03:00:20.367705Z",
     "start_time": "2022-10-12T03:00:20.345845Z"
    }
   },
   "outputs": [],
   "source": [
    "train = pd.read_csv('./BCW_train.csv')\n",
    "test  = pd.read_csv('./BCW_test.csv')"
   ]
  },
  {
   "cell_type": "code",
   "execution_count": 3,
   "metadata": {
    "ExecuteTime": {
     "end_time": "2022-10-12T03:00:21.201443Z",
     "start_time": "2022-10-12T03:00:21.190812Z"
    },
    "scrolled": false
   },
   "outputs": [
    {
     "data": {
      "text/plain": [
       "((455, 33), (114, 32))"
      ]
     },
     "execution_count": 3,
     "metadata": {},
     "output_type": "execute_result"
    }
   ],
   "source": [
    "train.shape, test.shape"
   ]
  },
  {
   "cell_type": "code",
   "execution_count": 4,
   "metadata": {
    "ExecuteTime": {
     "end_time": "2022-10-12T03:00:22.306154Z",
     "start_time": "2022-10-12T03:00:22.302974Z"
    }
   },
   "outputs": [],
   "source": [
    "target = \"diagnosis\"\n",
    "used = [x for x in train.columns if x != target]"
   ]
  },
  {
   "cell_type": "markdown",
   "metadata": {},
   "source": [
    "# 冗余特征过滤"
   ]
  },
  {
   "cell_type": "code",
   "execution_count": 5,
   "metadata": {
    "ExecuteTime": {
     "end_time": "2022-10-12T03:00:24.032399Z",
     "start_time": "2022-10-12T03:00:24.023638Z"
    }
   },
   "outputs": [],
   "source": [
    "def redundant_feature_filter(df, threshold=0.9):\n",
    "    corr = df.corr()\n",
    "    columns = np.full((corr.shape[0],), True, dtype=bool)\n",
    "    for i in range(corr.shape[0]):\n",
    "        for j in range(i+1, corr.shape[0]):\n",
    "            if corr.iloc[i,j] >= threshold:\n",
    "                if columns[j]:\n",
    "                    columns[j] = False\n",
    "    selected_columns = list(df.columns[columns])\n",
    "    redundant_features = [x for x in df.columns if x not in selected_columns]\n",
    "    return redundant_features"
   ]
  },
  {
   "cell_type": "code",
   "execution_count": 6,
   "metadata": {
    "ExecuteTime": {
     "end_time": "2022-10-12T03:00:27.044251Z",
     "start_time": "2022-10-12T03:00:27.020176Z"
    },
    "scrolled": true
   },
   "outputs": [],
   "source": [
    "redundant_features = redundant_feature_filter(train[used])"
   ]
  },
  {
   "cell_type": "code",
   "execution_count": 7,
   "metadata": {
    "ExecuteTime": {
     "end_time": "2022-10-12T03:00:27.831630Z",
     "start_time": "2022-10-12T03:00:27.827992Z"
    },
    "scrolled": true
   },
   "outputs": [
    {
     "data": {
      "text/plain": [
       "['perimeter_mean',\n",
       " 'area_mean',\n",
       " 'concave points_mean',\n",
       " 'perimeter_se',\n",
       " 'area_se',\n",
       " 'radius_worst',\n",
       " 'texture_worst',\n",
       " 'perimeter_worst',\n",
       " 'area_worst',\n",
       " 'concave points_worst']"
      ]
     },
     "execution_count": 7,
     "metadata": {},
     "output_type": "execute_result"
    }
   ],
   "source": [
    "redundant_features"
   ]
  },
  {
   "cell_type": "markdown",
   "metadata": {},
   "source": [
    "# 无效、低效特征过滤"
   ]
  },
  {
   "cell_type": "markdown",
   "metadata": {},
   "source": [
    "## 方差"
   ]
  },
  {
   "cell_type": "code",
   "execution_count": 13,
   "metadata": {
    "ExecuteTime": {
     "end_time": "2022-10-12T03:05:58.799604Z",
     "start_time": "2022-10-12T03:05:58.796322Z"
    }
   },
   "outputs": [],
   "source": [
    "def variance_filter(df, threshold=1e-10):\n",
    "    low_var_features = list(df.columns[df.var() < threshold])\n",
    "    return low_var_features"
   ]
  },
  {
   "cell_type": "code",
   "execution_count": 14,
   "metadata": {
    "ExecuteTime": {
     "end_time": "2022-10-12T03:05:59.904156Z",
     "start_time": "2022-10-12T03:05:59.898260Z"
    },
    "scrolled": true
   },
   "outputs": [],
   "source": [
    "data = train[used].append(test)\n",
    "low_var_features = variance_filter(data)"
   ]
  },
  {
   "cell_type": "code",
   "execution_count": 15,
   "metadata": {
    "ExecuteTime": {
     "end_time": "2022-10-12T03:06:00.933330Z",
     "start_time": "2022-10-12T03:06:00.929684Z"
    },
    "scrolled": false
   },
   "outputs": [
    {
     "data": {
      "text/plain": [
       "['f1']"
      ]
     },
     "execution_count": 15,
     "metadata": {},
     "output_type": "execute_result"
    }
   ],
   "source": [
    "low_var_features"
   ]
  },
  {
   "cell_type": "markdown",
   "metadata": {},
   "source": [
    "## 线性模型特征重要性"
   ]
  },
  {
   "cell_type": "code",
   "execution_count": 16,
   "metadata": {
    "ExecuteTime": {
     "end_time": "2022-10-13T02:23:48.066919Z",
     "start_time": "2022-10-13T02:23:48.061991Z"
    },
    "scrolled": true
   },
   "outputs": [],
   "source": [
    "def get_lr_importance(df, used, target):\n",
    "    \n",
    "    from sklearn.linear_model import LogisticRegression\n",
    "\n",
    "    model = LogisticRegression()\n",
    "    model.fit(df[used], df[target])\n",
    "    importance = model.coef_[0]\n",
    "    \n",
    "    lr_importance = pd.DataFrame(df[used].columns)\n",
    "    lr_importance.columns = ['feature']\n",
    "    lr_importance['importance'] = abs(importance)\n",
    "    lr_importance = lr_importance.sort_values(by = 'importance', ascending = False).reset_index(drop = True)\n",
    "    \n",
    "    return lr_importance"
   ]
  },
  {
   "cell_type": "code",
   "execution_count": 17,
   "metadata": {
    "ExecuteTime": {
     "end_time": "2022-10-13T02:23:51.375607Z",
     "start_time": "2022-10-13T02:23:50.079417Z"
    }
   },
   "outputs": [
    {
     "name": "stderr",
     "output_type": "stream",
     "text": [
      "/home/caihengxing/anaconda3/lib/python3.7/site-packages/sklearn/linear_model/_logistic.py:765: ConvergenceWarning: lbfgs failed to converge (status=1):\n",
      "STOP: TOTAL NO. of ITERATIONS REACHED LIMIT.\n",
      "\n",
      "Increase the number of iterations (max_iter) or scale the data as shown in:\n",
      "    https://scikit-learn.org/stable/modules/preprocessing.html\n",
      "Please also refer to the documentation for alternative solver options:\n",
      "    https://scikit-learn.org/stable/modules/linear_model.html#logistic-regression\n",
      "  extra_warning_msg=_LOGISTIC_SOLVER_CONVERGENCE_MSG)\n"
     ]
    }
   ],
   "source": [
    "used = [x for x in train.columns if x != target]\n",
    "lr_importance = get_lr_importance(train, used, target)"
   ]
  },
  {
   "cell_type": "code",
   "execution_count": 18,
   "metadata": {
    "ExecuteTime": {
     "end_time": "2022-10-13T02:23:52.747809Z",
     "start_time": "2022-10-13T02:23:52.734725Z"
    },
    "scrolled": true
   },
   "outputs": [
    {
     "data": {
      "text/html": [
       "<div>\n",
       "<style scoped>\n",
       "    .dataframe tbody tr th:only-of-type {\n",
       "        vertical-align: middle;\n",
       "    }\n",
       "\n",
       "    .dataframe tbody tr th {\n",
       "        vertical-align: top;\n",
       "    }\n",
       "\n",
       "    .dataframe thead th {\n",
       "        text-align: right;\n",
       "    }\n",
       "</style>\n",
       "<table border=\"1\" class=\"dataframe\">\n",
       "  <thead>\n",
       "    <tr style=\"text-align: right;\">\n",
       "      <th></th>\n",
       "      <th>feature</th>\n",
       "      <th>importance</th>\n",
       "    </tr>\n",
       "  </thead>\n",
       "  <tbody>\n",
       "    <tr>\n",
       "      <th>0</th>\n",
       "      <td>radius_worst</td>\n",
       "      <td>1.029468</td>\n",
       "    </tr>\n",
       "    <tr>\n",
       "      <th>1</th>\n",
       "      <td>radius_mean</td>\n",
       "      <td>0.978527</td>\n",
       "    </tr>\n",
       "    <tr>\n",
       "      <th>2</th>\n",
       "      <td>concavity_worst</td>\n",
       "      <td>0.655604</td>\n",
       "    </tr>\n",
       "    <tr>\n",
       "      <th>3</th>\n",
       "      <td>texture_worst</td>\n",
       "      <td>0.542205</td>\n",
       "    </tr>\n",
       "    <tr>\n",
       "      <th>4</th>\n",
       "      <td>compactness_worst</td>\n",
       "      <td>0.530433</td>\n",
       "    </tr>\n",
       "    <tr>\n",
       "      <th>5</th>\n",
       "      <td>texture_mean</td>\n",
       "      <td>0.467293</td>\n",
       "    </tr>\n",
       "    <tr>\n",
       "      <th>6</th>\n",
       "      <td>texture_se</td>\n",
       "      <td>0.401292</td>\n",
       "    </tr>\n",
       "    <tr>\n",
       "      <th>7</th>\n",
       "      <td>concavity_mean</td>\n",
       "      <td>0.241625</td>\n",
       "    </tr>\n",
       "    <tr>\n",
       "      <th>8</th>\n",
       "      <td>perimeter_mean</td>\n",
       "      <td>0.213727</td>\n",
       "    </tr>\n",
       "    <tr>\n",
       "      <th>9</th>\n",
       "      <td>perimeter_worst</td>\n",
       "      <td>0.195950</td>\n",
       "    </tr>\n",
       "    <tr>\n",
       "      <th>10</th>\n",
       "      <td>concave points_worst</td>\n",
       "      <td>0.191230</td>\n",
       "    </tr>\n",
       "    <tr>\n",
       "      <th>11</th>\n",
       "      <td>f1</td>\n",
       "      <td>0.178661</td>\n",
       "    </tr>\n",
       "    <tr>\n",
       "      <th>12</th>\n",
       "      <td>f2</td>\n",
       "      <td>0.178661</td>\n",
       "    </tr>\n",
       "    <tr>\n",
       "      <th>13</th>\n",
       "      <td>compactness_mean</td>\n",
       "      <td>0.174749</td>\n",
       "    </tr>\n",
       "    <tr>\n",
       "      <th>14</th>\n",
       "      <td>symmetry_worst</td>\n",
       "      <td>0.174361</td>\n",
       "    </tr>\n",
       "    <tr>\n",
       "      <th>15</th>\n",
       "      <td>concave points_mean</td>\n",
       "      <td>0.103022</td>\n",
       "    </tr>\n",
       "    <tr>\n",
       "      <th>16</th>\n",
       "      <td>area_se</td>\n",
       "      <td>0.098252</td>\n",
       "    </tr>\n",
       "    <tr>\n",
       "      <th>17</th>\n",
       "      <td>smoothness_worst</td>\n",
       "      <td>0.064688</td>\n",
       "    </tr>\n",
       "    <tr>\n",
       "      <th>18</th>\n",
       "      <td>symmetry_mean</td>\n",
       "      <td>0.053912</td>\n",
       "    </tr>\n",
       "    <tr>\n",
       "      <th>19</th>\n",
       "      <td>concavity_se</td>\n",
       "      <td>0.049801</td>\n",
       "    </tr>\n",
       "    <tr>\n",
       "      <th>20</th>\n",
       "      <td>fractal_dimension_worst</td>\n",
       "      <td>0.049013</td>\n",
       "    </tr>\n",
       "    <tr>\n",
       "      <th>21</th>\n",
       "      <td>compactness_se</td>\n",
       "      <td>0.036241</td>\n",
       "    </tr>\n",
       "    <tr>\n",
       "      <th>22</th>\n",
       "      <td>smoothness_mean</td>\n",
       "      <td>0.036125</td>\n",
       "    </tr>\n",
       "    <tr>\n",
       "      <th>23</th>\n",
       "      <td>radius_se</td>\n",
       "      <td>0.033886</td>\n",
       "    </tr>\n",
       "    <tr>\n",
       "      <th>24</th>\n",
       "      <td>perimeter_se</td>\n",
       "      <td>0.026101</td>\n",
       "    </tr>\n",
       "    <tr>\n",
       "      <th>25</th>\n",
       "      <td>area_worst</td>\n",
       "      <td>0.015151</td>\n",
       "    </tr>\n",
       "    <tr>\n",
       "      <th>26</th>\n",
       "      <td>area_mean</td>\n",
       "      <td>0.014293</td>\n",
       "    </tr>\n",
       "    <tr>\n",
       "      <th>27</th>\n",
       "      <td>concave points_se</td>\n",
       "      <td>0.013272</td>\n",
       "    </tr>\n",
       "    <tr>\n",
       "      <th>28</th>\n",
       "      <td>symmetry_se</td>\n",
       "      <td>0.012687</td>\n",
       "    </tr>\n",
       "    <tr>\n",
       "      <th>29</th>\n",
       "      <td>fractal_dimension_mean</td>\n",
       "      <td>0.010884</td>\n",
       "    </tr>\n",
       "    <tr>\n",
       "      <th>30</th>\n",
       "      <td>smoothness_se</td>\n",
       "      <td>0.003365</td>\n",
       "    </tr>\n",
       "    <tr>\n",
       "      <th>31</th>\n",
       "      <td>fractal_dimension_se</td>\n",
       "      <td>0.003169</td>\n",
       "    </tr>\n",
       "  </tbody>\n",
       "</table>\n",
       "</div>"
      ],
      "text/plain": [
       "                    feature  importance\n",
       "0              radius_worst    1.029468\n",
       "1               radius_mean    0.978527\n",
       "2           concavity_worst    0.655604\n",
       "3             texture_worst    0.542205\n",
       "4         compactness_worst    0.530433\n",
       "5              texture_mean    0.467293\n",
       "6                texture_se    0.401292\n",
       "7            concavity_mean    0.241625\n",
       "8            perimeter_mean    0.213727\n",
       "9           perimeter_worst    0.195950\n",
       "10     concave points_worst    0.191230\n",
       "11                       f1    0.178661\n",
       "12                       f2    0.178661\n",
       "13         compactness_mean    0.174749\n",
       "14           symmetry_worst    0.174361\n",
       "15      concave points_mean    0.103022\n",
       "16                  area_se    0.098252\n",
       "17         smoothness_worst    0.064688\n",
       "18            symmetry_mean    0.053912\n",
       "19             concavity_se    0.049801\n",
       "20  fractal_dimension_worst    0.049013\n",
       "21           compactness_se    0.036241\n",
       "22          smoothness_mean    0.036125\n",
       "23                radius_se    0.033886\n",
       "24             perimeter_se    0.026101\n",
       "25               area_worst    0.015151\n",
       "26                area_mean    0.014293\n",
       "27        concave points_se    0.013272\n",
       "28              symmetry_se    0.012687\n",
       "29   fractal_dimension_mean    0.010884\n",
       "30            smoothness_se    0.003365\n",
       "31     fractal_dimension_se    0.003169"
      ]
     },
     "execution_count": 18,
     "metadata": {},
     "output_type": "execute_result"
    }
   ],
   "source": [
    "lr_importance"
   ]
  },
  {
   "cell_type": "markdown",
   "metadata": {},
   "source": [
    "## 树模型特征重要性"
   ]
  },
  {
   "cell_type": "code",
   "execution_count": 19,
   "metadata": {
    "ExecuteTime": {
     "end_time": "2022-10-13T02:25:20.446406Z",
     "start_time": "2022-10-13T02:25:20.438806Z"
    }
   },
   "outputs": [],
   "source": [
    "def get_rf_importance(df, used, target):\n",
    "    \n",
    "    from sklearn.ensemble import RandomForestClassifier\n",
    "\n",
    "    model = RandomForestClassifier()\n",
    "    model.fit(df[used], df[target])\n",
    "    importance = model.feature_importances_\n",
    "    \n",
    "    rf_importance = pd.DataFrame(df[used].columns)\n",
    "    rf_importance.columns = ['feature']\n",
    "    rf_importance['importance'] = abs(importance)\n",
    "    rf_importance = rf_importance.sort_values(by = 'importance', ascending = False).reset_index(drop = True)\n",
    "    \n",
    "    return rf_importance"
   ]
  },
  {
   "cell_type": "code",
   "execution_count": 20,
   "metadata": {
    "ExecuteTime": {
     "end_time": "2022-10-13T02:25:23.714553Z",
     "start_time": "2022-10-13T02:25:23.441951Z"
    }
   },
   "outputs": [],
   "source": [
    "used = [x for x in train.columns if x != target]\n",
    "rf_importance = get_rf_importance(train, used, target)"
   ]
  },
  {
   "cell_type": "code",
   "execution_count": 21,
   "metadata": {
    "ExecuteTime": {
     "end_time": "2022-10-13T02:25:25.168967Z",
     "start_time": "2022-10-13T02:25:25.160543Z"
    },
    "scrolled": true
   },
   "outputs": [
    {
     "data": {
      "text/html": [
       "<div>\n",
       "<style scoped>\n",
       "    .dataframe tbody tr th:only-of-type {\n",
       "        vertical-align: middle;\n",
       "    }\n",
       "\n",
       "    .dataframe tbody tr th {\n",
       "        vertical-align: top;\n",
       "    }\n",
       "\n",
       "    .dataframe thead th {\n",
       "        text-align: right;\n",
       "    }\n",
       "</style>\n",
       "<table border=\"1\" class=\"dataframe\">\n",
       "  <thead>\n",
       "    <tr style=\"text-align: right;\">\n",
       "      <th></th>\n",
       "      <th>feature</th>\n",
       "      <th>importance</th>\n",
       "    </tr>\n",
       "  </thead>\n",
       "  <tbody>\n",
       "    <tr>\n",
       "      <th>0</th>\n",
       "      <td>concave points_worst</td>\n",
       "      <td>0.132459</td>\n",
       "    </tr>\n",
       "    <tr>\n",
       "      <th>1</th>\n",
       "      <td>perimeter_worst</td>\n",
       "      <td>0.127706</td>\n",
       "    </tr>\n",
       "    <tr>\n",
       "      <th>2</th>\n",
       "      <td>concave points_mean</td>\n",
       "      <td>0.123072</td>\n",
       "    </tr>\n",
       "    <tr>\n",
       "      <th>3</th>\n",
       "      <td>radius_worst</td>\n",
       "      <td>0.106986</td>\n",
       "    </tr>\n",
       "    <tr>\n",
       "      <th>4</th>\n",
       "      <td>area_worst</td>\n",
       "      <td>0.103829</td>\n",
       "    </tr>\n",
       "    <tr>\n",
       "      <th>5</th>\n",
       "      <td>area_se</td>\n",
       "      <td>0.045091</td>\n",
       "    </tr>\n",
       "    <tr>\n",
       "      <th>6</th>\n",
       "      <td>concavity_mean</td>\n",
       "      <td>0.042098</td>\n",
       "    </tr>\n",
       "    <tr>\n",
       "      <th>7</th>\n",
       "      <td>perimeter_mean</td>\n",
       "      <td>0.040632</td>\n",
       "    </tr>\n",
       "    <tr>\n",
       "      <th>8</th>\n",
       "      <td>radius_mean</td>\n",
       "      <td>0.037422</td>\n",
       "    </tr>\n",
       "    <tr>\n",
       "      <th>9</th>\n",
       "      <td>concavity_worst</td>\n",
       "      <td>0.036329</td>\n",
       "    </tr>\n",
       "    <tr>\n",
       "      <th>10</th>\n",
       "      <td>area_mean</td>\n",
       "      <td>0.022338</td>\n",
       "    </tr>\n",
       "    <tr>\n",
       "      <th>11</th>\n",
       "      <td>symmetry_worst</td>\n",
       "      <td>0.020575</td>\n",
       "    </tr>\n",
       "    <tr>\n",
       "      <th>12</th>\n",
       "      <td>texture_mean</td>\n",
       "      <td>0.019054</td>\n",
       "    </tr>\n",
       "    <tr>\n",
       "      <th>13</th>\n",
       "      <td>compactness_mean</td>\n",
       "      <td>0.019048</td>\n",
       "    </tr>\n",
       "    <tr>\n",
       "      <th>14</th>\n",
       "      <td>texture_worst</td>\n",
       "      <td>0.018364</td>\n",
       "    </tr>\n",
       "    <tr>\n",
       "      <th>15</th>\n",
       "      <td>radius_se</td>\n",
       "      <td>0.016719</td>\n",
       "    </tr>\n",
       "    <tr>\n",
       "      <th>16</th>\n",
       "      <td>compactness_worst</td>\n",
       "      <td>0.016681</td>\n",
       "    </tr>\n",
       "    <tr>\n",
       "      <th>17</th>\n",
       "      <td>smoothness_worst</td>\n",
       "      <td>0.011165</td>\n",
       "    </tr>\n",
       "    <tr>\n",
       "      <th>18</th>\n",
       "      <td>fractal_dimension_worst</td>\n",
       "      <td>0.007403</td>\n",
       "    </tr>\n",
       "    <tr>\n",
       "      <th>19</th>\n",
       "      <td>fractal_dimension_se</td>\n",
       "      <td>0.007013</td>\n",
       "    </tr>\n",
       "    <tr>\n",
       "      <th>20</th>\n",
       "      <td>concavity_se</td>\n",
       "      <td>0.006871</td>\n",
       "    </tr>\n",
       "    <tr>\n",
       "      <th>21</th>\n",
       "      <td>perimeter_se</td>\n",
       "      <td>0.006237</td>\n",
       "    </tr>\n",
       "    <tr>\n",
       "      <th>22</th>\n",
       "      <td>symmetry_se</td>\n",
       "      <td>0.005361</td>\n",
       "    </tr>\n",
       "    <tr>\n",
       "      <th>23</th>\n",
       "      <td>symmetry_mean</td>\n",
       "      <td>0.004895</td>\n",
       "    </tr>\n",
       "    <tr>\n",
       "      <th>24</th>\n",
       "      <td>texture_se</td>\n",
       "      <td>0.004856</td>\n",
       "    </tr>\n",
       "    <tr>\n",
       "      <th>25</th>\n",
       "      <td>smoothness_mean</td>\n",
       "      <td>0.004738</td>\n",
       "    </tr>\n",
       "    <tr>\n",
       "      <th>26</th>\n",
       "      <td>fractal_dimension_mean</td>\n",
       "      <td>0.004079</td>\n",
       "    </tr>\n",
       "    <tr>\n",
       "      <th>27</th>\n",
       "      <td>concave points_se</td>\n",
       "      <td>0.003760</td>\n",
       "    </tr>\n",
       "    <tr>\n",
       "      <th>28</th>\n",
       "      <td>smoothness_se</td>\n",
       "      <td>0.003588</td>\n",
       "    </tr>\n",
       "    <tr>\n",
       "      <th>29</th>\n",
       "      <td>compactness_se</td>\n",
       "      <td>0.001632</td>\n",
       "    </tr>\n",
       "    <tr>\n",
       "      <th>30</th>\n",
       "      <td>f1</td>\n",
       "      <td>0.000000</td>\n",
       "    </tr>\n",
       "    <tr>\n",
       "      <th>31</th>\n",
       "      <td>f2</td>\n",
       "      <td>0.000000</td>\n",
       "    </tr>\n",
       "  </tbody>\n",
       "</table>\n",
       "</div>"
      ],
      "text/plain": [
       "                    feature  importance\n",
       "0      concave points_worst    0.132459\n",
       "1           perimeter_worst    0.127706\n",
       "2       concave points_mean    0.123072\n",
       "3              radius_worst    0.106986\n",
       "4                area_worst    0.103829\n",
       "5                   area_se    0.045091\n",
       "6            concavity_mean    0.042098\n",
       "7            perimeter_mean    0.040632\n",
       "8               radius_mean    0.037422\n",
       "9           concavity_worst    0.036329\n",
       "10                area_mean    0.022338\n",
       "11           symmetry_worst    0.020575\n",
       "12             texture_mean    0.019054\n",
       "13         compactness_mean    0.019048\n",
       "14            texture_worst    0.018364\n",
       "15                radius_se    0.016719\n",
       "16        compactness_worst    0.016681\n",
       "17         smoothness_worst    0.011165\n",
       "18  fractal_dimension_worst    0.007403\n",
       "19     fractal_dimension_se    0.007013\n",
       "20             concavity_se    0.006871\n",
       "21             perimeter_se    0.006237\n",
       "22              symmetry_se    0.005361\n",
       "23            symmetry_mean    0.004895\n",
       "24               texture_se    0.004856\n",
       "25          smoothness_mean    0.004738\n",
       "26   fractal_dimension_mean    0.004079\n",
       "27        concave points_se    0.003760\n",
       "28            smoothness_se    0.003588\n",
       "29           compactness_se    0.001632\n",
       "30                       f1    0.000000\n",
       "31                       f2    0.000000"
      ]
     },
     "execution_count": 21,
     "metadata": {},
     "output_type": "execute_result"
    }
   ],
   "source": [
    "rf_importance"
   ]
  },
  {
   "cell_type": "markdown",
   "metadata": {},
   "source": [
    "## permutation importance"
   ]
  },
  {
   "cell_type": "code",
   "execution_count": 23,
   "metadata": {
    "ExecuteTime": {
     "end_time": "2022-10-13T03:06:56.239012Z",
     "start_time": "2022-10-13T03:06:56.229732Z"
    }
   },
   "outputs": [],
   "source": [
    "def get_permutation_importance(df, used, target):\n",
    "    \n",
    "    from sklearn.linear_model import LogisticRegression\n",
    "    from sklearn.inspection import permutation_importance\n",
    "\n",
    "    used = [x for x in df.columns if x != target]\n",
    "    \n",
    "    clf = LogisticRegression().fit(df[used], df[target])\n",
    "    result = permutation_importance(clf, df[used], df[target], n_repeats=10, random_state=0)\n",
    "    permutation_importance = pd.DataFrame(df[used].columns)\n",
    "    permutation_importance.columns = ['feature']\n",
    "    permutation_importance['importance'] = result.importances_mean\n",
    "    permutation_importance = permutation_importance.sort_values(by = 'importance', ascending = False).reset_index(drop = True)\n",
    "    permutation_importance\n",
    "    \n",
    "    return permutation_importance"
   ]
  },
  {
   "cell_type": "code",
   "execution_count": 24,
   "metadata": {
    "ExecuteTime": {
     "end_time": "2022-10-13T03:07:00.695147Z",
     "start_time": "2022-10-13T03:06:57.800080Z"
    }
   },
   "outputs": [
    {
     "name": "stderr",
     "output_type": "stream",
     "text": [
      "/home/caihengxing/anaconda3/lib/python3.7/site-packages/sklearn/linear_model/_logistic.py:765: ConvergenceWarning: lbfgs failed to converge (status=1):\n",
      "STOP: TOTAL NO. of ITERATIONS REACHED LIMIT.\n",
      "\n",
      "Increase the number of iterations (max_iter) or scale the data as shown in:\n",
      "    https://scikit-learn.org/stable/modules/preprocessing.html\n",
      "Please also refer to the documentation for alternative solver options:\n",
      "    https://scikit-learn.org/stable/modules/linear_model.html#logistic-regression\n",
      "  extra_warning_msg=_LOGISTIC_SOLVER_CONVERGENCE_MSG)\n"
     ]
    }
   ],
   "source": [
    "used = [x for x in train.columns if x != target]\n",
    "permutation_importance = get_permutation_importance(train, used, target)"
   ]
  },
  {
   "cell_type": "code",
   "execution_count": 25,
   "metadata": {
    "ExecuteTime": {
     "end_time": "2022-10-13T03:07:02.326840Z",
     "start_time": "2022-10-13T03:07:02.318315Z"
    },
    "scrolled": true
   },
   "outputs": [
    {
     "data": {
      "text/html": [
       "<div>\n",
       "<style scoped>\n",
       "    .dataframe tbody tr th:only-of-type {\n",
       "        vertical-align: middle;\n",
       "    }\n",
       "\n",
       "    .dataframe tbody tr th {\n",
       "        vertical-align: top;\n",
       "    }\n",
       "\n",
       "    .dataframe thead th {\n",
       "        text-align: right;\n",
       "    }\n",
       "</style>\n",
       "<table border=\"1\" class=\"dataframe\">\n",
       "  <thead>\n",
       "    <tr style=\"text-align: right;\">\n",
       "      <th></th>\n",
       "      <th>feature</th>\n",
       "      <th>importance</th>\n",
       "    </tr>\n",
       "  </thead>\n",
       "  <tbody>\n",
       "    <tr>\n",
       "      <th>0</th>\n",
       "      <td>area_worst</td>\n",
       "      <td>0.339560</td>\n",
       "    </tr>\n",
       "    <tr>\n",
       "      <th>1</th>\n",
       "      <td>perimeter_worst</td>\n",
       "      <td>0.308132</td>\n",
       "    </tr>\n",
       "    <tr>\n",
       "      <th>2</th>\n",
       "      <td>area_mean</td>\n",
       "      <td>0.209890</td>\n",
       "    </tr>\n",
       "    <tr>\n",
       "      <th>3</th>\n",
       "      <td>texture_worst</td>\n",
       "      <td>0.161538</td>\n",
       "    </tr>\n",
       "    <tr>\n",
       "      <th>4</th>\n",
       "      <td>area_se</td>\n",
       "      <td>0.090549</td>\n",
       "    </tr>\n",
       "    <tr>\n",
       "      <th>5</th>\n",
       "      <td>perimeter_mean</td>\n",
       "      <td>0.063736</td>\n",
       "    </tr>\n",
       "    <tr>\n",
       "      <th>6</th>\n",
       "      <td>radius_worst</td>\n",
       "      <td>0.052967</td>\n",
       "    </tr>\n",
       "    <tr>\n",
       "      <th>7</th>\n",
       "      <td>radius_mean</td>\n",
       "      <td>0.040659</td>\n",
       "    </tr>\n",
       "    <tr>\n",
       "      <th>8</th>\n",
       "      <td>texture_mean</td>\n",
       "      <td>0.039780</td>\n",
       "    </tr>\n",
       "    <tr>\n",
       "      <th>9</th>\n",
       "      <td>concave points_se</td>\n",
       "      <td>0.000000</td>\n",
       "    </tr>\n",
       "    <tr>\n",
       "      <th>10</th>\n",
       "      <td>concave points_worst</td>\n",
       "      <td>0.000000</td>\n",
       "    </tr>\n",
       "    <tr>\n",
       "      <th>11</th>\n",
       "      <td>symmetry_worst</td>\n",
       "      <td>0.000000</td>\n",
       "    </tr>\n",
       "    <tr>\n",
       "      <th>12</th>\n",
       "      <td>fractal_dimension_worst</td>\n",
       "      <td>0.000000</td>\n",
       "    </tr>\n",
       "    <tr>\n",
       "      <th>13</th>\n",
       "      <td>f1</td>\n",
       "      <td>0.000000</td>\n",
       "    </tr>\n",
       "    <tr>\n",
       "      <th>14</th>\n",
       "      <td>fractal_dimension_se</td>\n",
       "      <td>0.000000</td>\n",
       "    </tr>\n",
       "    <tr>\n",
       "      <th>15</th>\n",
       "      <td>symmetry_se</td>\n",
       "      <td>0.000000</td>\n",
       "    </tr>\n",
       "    <tr>\n",
       "      <th>16</th>\n",
       "      <td>smoothness_worst</td>\n",
       "      <td>0.000000</td>\n",
       "    </tr>\n",
       "    <tr>\n",
       "      <th>17</th>\n",
       "      <td>concavity_se</td>\n",
       "      <td>0.000000</td>\n",
       "    </tr>\n",
       "    <tr>\n",
       "      <th>18</th>\n",
       "      <td>compactness_se</td>\n",
       "      <td>0.000000</td>\n",
       "    </tr>\n",
       "    <tr>\n",
       "      <th>19</th>\n",
       "      <td>smoothness_se</td>\n",
       "      <td>0.000000</td>\n",
       "    </tr>\n",
       "    <tr>\n",
       "      <th>20</th>\n",
       "      <td>radius_se</td>\n",
       "      <td>0.000000</td>\n",
       "    </tr>\n",
       "    <tr>\n",
       "      <th>21</th>\n",
       "      <td>fractal_dimension_mean</td>\n",
       "      <td>0.000000</td>\n",
       "    </tr>\n",
       "    <tr>\n",
       "      <th>22</th>\n",
       "      <td>symmetry_mean</td>\n",
       "      <td>0.000000</td>\n",
       "    </tr>\n",
       "    <tr>\n",
       "      <th>23</th>\n",
       "      <td>concave points_mean</td>\n",
       "      <td>0.000000</td>\n",
       "    </tr>\n",
       "    <tr>\n",
       "      <th>24</th>\n",
       "      <td>concavity_mean</td>\n",
       "      <td>0.000000</td>\n",
       "    </tr>\n",
       "    <tr>\n",
       "      <th>25</th>\n",
       "      <td>compactness_mean</td>\n",
       "      <td>0.000000</td>\n",
       "    </tr>\n",
       "    <tr>\n",
       "      <th>26</th>\n",
       "      <td>smoothness_mean</td>\n",
       "      <td>0.000000</td>\n",
       "    </tr>\n",
       "    <tr>\n",
       "      <th>27</th>\n",
       "      <td>f2</td>\n",
       "      <td>0.000000</td>\n",
       "    </tr>\n",
       "    <tr>\n",
       "      <th>28</th>\n",
       "      <td>perimeter_se</td>\n",
       "      <td>-0.000440</td>\n",
       "    </tr>\n",
       "    <tr>\n",
       "      <th>29</th>\n",
       "      <td>concavity_worst</td>\n",
       "      <td>-0.000879</td>\n",
       "    </tr>\n",
       "    <tr>\n",
       "      <th>30</th>\n",
       "      <td>compactness_worst</td>\n",
       "      <td>-0.001319</td>\n",
       "    </tr>\n",
       "    <tr>\n",
       "      <th>31</th>\n",
       "      <td>texture_se</td>\n",
       "      <td>-0.002857</td>\n",
       "    </tr>\n",
       "  </tbody>\n",
       "</table>\n",
       "</div>"
      ],
      "text/plain": [
       "                    feature  importance\n",
       "0                area_worst    0.339560\n",
       "1           perimeter_worst    0.308132\n",
       "2                 area_mean    0.209890\n",
       "3             texture_worst    0.161538\n",
       "4                   area_se    0.090549\n",
       "5            perimeter_mean    0.063736\n",
       "6              radius_worst    0.052967\n",
       "7               radius_mean    0.040659\n",
       "8              texture_mean    0.039780\n",
       "9         concave points_se    0.000000\n",
       "10     concave points_worst    0.000000\n",
       "11           symmetry_worst    0.000000\n",
       "12  fractal_dimension_worst    0.000000\n",
       "13                       f1    0.000000\n",
       "14     fractal_dimension_se    0.000000\n",
       "15              symmetry_se    0.000000\n",
       "16         smoothness_worst    0.000000\n",
       "17             concavity_se    0.000000\n",
       "18           compactness_se    0.000000\n",
       "19            smoothness_se    0.000000\n",
       "20                radius_se    0.000000\n",
       "21   fractal_dimension_mean    0.000000\n",
       "22            symmetry_mean    0.000000\n",
       "23      concave points_mean    0.000000\n",
       "24           concavity_mean    0.000000\n",
       "25         compactness_mean    0.000000\n",
       "26          smoothness_mean    0.000000\n",
       "27                       f2    0.000000\n",
       "28             perimeter_se   -0.000440\n",
       "29          concavity_worst   -0.000879\n",
       "30        compactness_worst   -0.001319\n",
       "31               texture_se   -0.002857"
      ]
     },
     "execution_count": 25,
     "metadata": {},
     "output_type": "execute_result"
    }
   ],
   "source": [
    "permutation_importance"
   ]
  },
  {
   "cell_type": "markdown",
   "metadata": {},
   "source": [
    "# 过拟合特征过滤"
   ]
  },
  {
   "cell_type": "markdown",
   "metadata": {},
   "source": [
    "## null importance"
   ]
  },
  {
   "cell_type": "code",
   "execution_count": 28,
   "metadata": {
    "ExecuteTime": {
     "end_time": "2022-10-13T04:00:28.633108Z",
     "start_time": "2022-10-13T04:00:28.629932Z"
    }
   },
   "outputs": [],
   "source": [
    "# 原始特征重要性-随机打乱后特征的重要性。验证特征的稳定性"
   ]
  },
  {
   "cell_type": "code",
   "execution_count": 74,
   "metadata": {
    "ExecuteTime": {
     "end_time": "2022-10-13T06:45:27.243600Z",
     "start_time": "2022-10-13T06:45:27.227261Z"
    }
   },
   "outputs": [],
   "source": [
    "def get_null_importance(df, used, target):\n",
    "    \n",
    "    def get_feature_importances(df, used, target, shuffle, seed=None):\n",
    "\n",
    "        from sklearn.ensemble import RandomForestClassifier\n",
    "\n",
    "        y = df[target].copy()\n",
    "        if shuffle:\n",
    "            y = df[target].copy().sample(frac=1.0)\n",
    "\n",
    "        model = RandomForestClassifier()\n",
    "        model.fit(df[used], y)\n",
    "\n",
    "        imp_df = pd.DataFrame()\n",
    "        imp_df[\"feature\"] = used\n",
    "        imp_df[\"importance\"] = model.feature_importances_\n",
    "\n",
    "        return imp_df\n",
    "\n",
    "    actual_imp_df = get_feature_importances(df, used, target, shuffle=False)\n",
    "    \n",
    "    shuffle_imp_df = pd.DataFrame()\n",
    "    nb_runs = 50\n",
    "    for i in tqdm(range(nb_runs), total=nb_runs):\n",
    "        imp_df = get_feature_importances(df, used, target, shuffle=True)\n",
    "        imp_df['run'] = i + 1 \n",
    "        shuffle_imp_df = pd.concat([shuffle_imp_df, imp_df], axis=0)\n",
    "    \n",
    "    null_imp_df = pd.DataFrame()\n",
    "    null_imp_df['feature'] = used\n",
    "    null_imp_df['importance'] = 0\n",
    "    for feature in used:\n",
    "        null_imp_df.loc[null_imp_df['feature'] == feature, 'importance'] = \\\n",
    "            actual_imp_df.loc[actual_imp_df['feature'] == feature, 'importance'].values[0] -\\\n",
    "            shuffle_imp_df.loc[shuffle_imp_df['feature'] == feature, 'importance'].mean()\n",
    "    \n",
    "    null_imp_df = null_imp_df.sort_values(by = 'importance', ascending = False).reset_index(drop = True)\n",
    "    \n",
    "    return null_imp_df"
   ]
  },
  {
   "cell_type": "code",
   "execution_count": 76,
   "metadata": {
    "ExecuteTime": {
     "end_time": "2022-10-13T06:46:01.856955Z",
     "start_time": "2022-10-13T06:45:49.111274Z"
    }
   },
   "outputs": [
    {
     "name": "stderr",
     "output_type": "stream",
     "text": [
      "100%|██████████| 50/50 [00:12<00:00,  4.01it/s]\n"
     ]
    }
   ],
   "source": [
    "null_imp_df = get_null_importance(train, used, target)"
   ]
  },
  {
   "cell_type": "code",
   "execution_count": 77,
   "metadata": {
    "ExecuteTime": {
     "end_time": "2022-10-13T06:46:29.162772Z",
     "start_time": "2022-10-13T06:46:29.149247Z"
    },
    "scrolled": true
   },
   "outputs": [
    {
     "data": {
      "text/html": [
       "<div>\n",
       "<style scoped>\n",
       "    .dataframe tbody tr th:only-of-type {\n",
       "        vertical-align: middle;\n",
       "    }\n",
       "\n",
       "    .dataframe tbody tr th {\n",
       "        vertical-align: top;\n",
       "    }\n",
       "\n",
       "    .dataframe thead th {\n",
       "        text-align: right;\n",
       "    }\n",
       "</style>\n",
       "<table border=\"1\" class=\"dataframe\">\n",
       "  <thead>\n",
       "    <tr style=\"text-align: right;\">\n",
       "      <th></th>\n",
       "      <th>feature</th>\n",
       "      <th>importance</th>\n",
       "    </tr>\n",
       "  </thead>\n",
       "  <tbody>\n",
       "    <tr>\n",
       "      <th>0</th>\n",
       "      <td>concave points_worst</td>\n",
       "      <td>0.169434</td>\n",
       "    </tr>\n",
       "    <tr>\n",
       "      <th>1</th>\n",
       "      <td>concave points_mean</td>\n",
       "      <td>0.098043</td>\n",
       "    </tr>\n",
       "    <tr>\n",
       "      <th>2</th>\n",
       "      <td>perimeter_worst</td>\n",
       "      <td>0.091603</td>\n",
       "    </tr>\n",
       "    <tr>\n",
       "      <th>3</th>\n",
       "      <td>radius_worst</td>\n",
       "      <td>0.076341</td>\n",
       "    </tr>\n",
       "    <tr>\n",
       "      <th>4</th>\n",
       "      <td>area_worst</td>\n",
       "      <td>0.070148</td>\n",
       "    </tr>\n",
       "    <tr>\n",
       "      <th>5</th>\n",
       "      <td>perimeter_mean</td>\n",
       "      <td>0.005599</td>\n",
       "    </tr>\n",
       "    <tr>\n",
       "      <th>6</th>\n",
       "      <td>area_mean</td>\n",
       "      <td>0.000811</td>\n",
       "    </tr>\n",
       "    <tr>\n",
       "      <th>7</th>\n",
       "      <td>concavity_mean</td>\n",
       "      <td>0.000714</td>\n",
       "    </tr>\n",
       "    <tr>\n",
       "      <th>8</th>\n",
       "      <td>f2</td>\n",
       "      <td>0.000000</td>\n",
       "    </tr>\n",
       "    <tr>\n",
       "      <th>9</th>\n",
       "      <td>f1</td>\n",
       "      <td>0.000000</td>\n",
       "    </tr>\n",
       "    <tr>\n",
       "      <th>10</th>\n",
       "      <td>concavity_worst</td>\n",
       "      <td>-0.005348</td>\n",
       "    </tr>\n",
       "    <tr>\n",
       "      <th>11</th>\n",
       "      <td>area_se</td>\n",
       "      <td>-0.006048</td>\n",
       "    </tr>\n",
       "    <tr>\n",
       "      <th>12</th>\n",
       "      <td>radius_mean</td>\n",
       "      <td>-0.013242</td>\n",
       "    </tr>\n",
       "    <tr>\n",
       "      <th>13</th>\n",
       "      <td>radius_se</td>\n",
       "      <td>-0.013432</td>\n",
       "    </tr>\n",
       "    <tr>\n",
       "      <th>14</th>\n",
       "      <td>perimeter_se</td>\n",
       "      <td>-0.017605</td>\n",
       "    </tr>\n",
       "    <tr>\n",
       "      <th>15</th>\n",
       "      <td>compactness_mean</td>\n",
       "      <td>-0.017913</td>\n",
       "    </tr>\n",
       "    <tr>\n",
       "      <th>16</th>\n",
       "      <td>symmetry_worst</td>\n",
       "      <td>-0.018127</td>\n",
       "    </tr>\n",
       "    <tr>\n",
       "      <th>17</th>\n",
       "      <td>texture_worst</td>\n",
       "      <td>-0.018165</td>\n",
       "    </tr>\n",
       "    <tr>\n",
       "      <th>18</th>\n",
       "      <td>compactness_worst</td>\n",
       "      <td>-0.020054</td>\n",
       "    </tr>\n",
       "    <tr>\n",
       "      <th>19</th>\n",
       "      <td>texture_mean</td>\n",
       "      <td>-0.022980</td>\n",
       "    </tr>\n",
       "    <tr>\n",
       "      <th>20</th>\n",
       "      <td>concavity_se</td>\n",
       "      <td>-0.025702</td>\n",
       "    </tr>\n",
       "    <tr>\n",
       "      <th>21</th>\n",
       "      <td>smoothness_worst</td>\n",
       "      <td>-0.026900</td>\n",
       "    </tr>\n",
       "    <tr>\n",
       "      <th>22</th>\n",
       "      <td>fractal_dimension_se</td>\n",
       "      <td>-0.028505</td>\n",
       "    </tr>\n",
       "    <tr>\n",
       "      <th>23</th>\n",
       "      <td>compactness_se</td>\n",
       "      <td>-0.028583</td>\n",
       "    </tr>\n",
       "    <tr>\n",
       "      <th>24</th>\n",
       "      <td>fractal_dimension_worst</td>\n",
       "      <td>-0.028966</td>\n",
       "    </tr>\n",
       "    <tr>\n",
       "      <th>25</th>\n",
       "      <td>concave points_se</td>\n",
       "      <td>-0.029333</td>\n",
       "    </tr>\n",
       "    <tr>\n",
       "      <th>26</th>\n",
       "      <td>smoothness_mean</td>\n",
       "      <td>-0.030123</td>\n",
       "    </tr>\n",
       "    <tr>\n",
       "      <th>27</th>\n",
       "      <td>fractal_dimension_mean</td>\n",
       "      <td>-0.031118</td>\n",
       "    </tr>\n",
       "    <tr>\n",
       "      <th>28</th>\n",
       "      <td>smoothness_se</td>\n",
       "      <td>-0.031706</td>\n",
       "    </tr>\n",
       "    <tr>\n",
       "      <th>29</th>\n",
       "      <td>symmetry_mean</td>\n",
       "      <td>-0.032467</td>\n",
       "    </tr>\n",
       "    <tr>\n",
       "      <th>30</th>\n",
       "      <td>symmetry_se</td>\n",
       "      <td>-0.033176</td>\n",
       "    </tr>\n",
       "    <tr>\n",
       "      <th>31</th>\n",
       "      <td>texture_se</td>\n",
       "      <td>-0.033198</td>\n",
       "    </tr>\n",
       "  </tbody>\n",
       "</table>\n",
       "</div>"
      ],
      "text/plain": [
       "                    feature  importance\n",
       "0      concave points_worst    0.169434\n",
       "1       concave points_mean    0.098043\n",
       "2           perimeter_worst    0.091603\n",
       "3              radius_worst    0.076341\n",
       "4                area_worst    0.070148\n",
       "5            perimeter_mean    0.005599\n",
       "6                 area_mean    0.000811\n",
       "7            concavity_mean    0.000714\n",
       "8                        f2    0.000000\n",
       "9                        f1    0.000000\n",
       "10          concavity_worst   -0.005348\n",
       "11                  area_se   -0.006048\n",
       "12              radius_mean   -0.013242\n",
       "13                radius_se   -0.013432\n",
       "14             perimeter_se   -0.017605\n",
       "15         compactness_mean   -0.017913\n",
       "16           symmetry_worst   -0.018127\n",
       "17            texture_worst   -0.018165\n",
       "18        compactness_worst   -0.020054\n",
       "19             texture_mean   -0.022980\n",
       "20             concavity_se   -0.025702\n",
       "21         smoothness_worst   -0.026900\n",
       "22     fractal_dimension_se   -0.028505\n",
       "23           compactness_se   -0.028583\n",
       "24  fractal_dimension_worst   -0.028966\n",
       "25        concave points_se   -0.029333\n",
       "26          smoothness_mean   -0.030123\n",
       "27   fractal_dimension_mean   -0.031118\n",
       "28            smoothness_se   -0.031706\n",
       "29            symmetry_mean   -0.032467\n",
       "30              symmetry_se   -0.033176\n",
       "31               texture_se   -0.033198"
      ]
     },
     "execution_count": 77,
     "metadata": {},
     "output_type": "execute_result"
    }
   ],
   "source": [
    "null_imp_df"
   ]
  },
  {
   "cell_type": "markdown",
   "metadata": {},
   "source": [
    "## adversarial validation"
   ]
  },
  {
   "cell_type": "code",
   "execution_count": 95,
   "metadata": {
    "ExecuteTime": {
     "end_time": "2022-10-13T08:12:29.852168Z",
     "start_time": "2022-10-13T08:12:29.830135Z"
    }
   },
   "outputs": [],
   "source": [
    "def adversarial_validation(train, test, used, target, threshold=0.6):\n",
    "    \n",
    "    from sklearn.model_selection import KFold\n",
    "    from sklearn.ensemble import RandomForestClassifier\n",
    "    from sklearn.metrics import roc_auc_score\n",
    "    \n",
    "    train[target] = 0\n",
    "    test[target] = 1\n",
    "    train_test = pd.concat([train, test], axis=0)\n",
    "    \n",
    "    n_fold = 5\n",
    "    folds = KFold(n_splits=n_fold, shuffle=True, random_state=889)\n",
    "    \n",
    "    removed_features = []\n",
    "    \n",
    "    while True:\n",
    "        print('#' * 50)\n",
    "        AUCs = []\n",
    "        feature_importances = pd.DataFrame()\n",
    "        feature_importances['feature'] = train_test[used].columns\n",
    "        \n",
    "        for fold_n, (train_index, valid_index) in enumerate(folds.split(train_test[used])):\n",
    "            \n",
    "            model = RandomForestClassifier()\n",
    "            model.fit(train_test[used].iloc[train_index], train_test[target].iloc[train_index])\n",
    "            \n",
    "            feature_importances['fold_{}'.format(fold_n + 1)] = model.feature_importances_\n",
    "            \n",
    "            val = model.predict(train_test[used].iloc[valid_index])\n",
    "\n",
    "            auc_score = roc_auc_score(train_test[target].iloc[valid_index], val)\n",
    "            AUCs.append(auc_score)\n",
    "            \n",
    "        mean_auc = np.mean(AUCs)\n",
    "        print(f'Mean AUC: {mean_auc}')\n",
    "        \n",
    "        feature_importances['average'] = feature_importances[\n",
    "            [x for x in feature_importances.columns if x != \"feature\"]].mean(axis=1)\n",
    "        feature_importances = feature_importances.sort_values(by=\"average\", ascending=False).reset_index(drop = True)\n",
    "        \n",
    "        if mean_auc > threshold:\n",
    "            cur_removed_feature = feature_importances.loc[0, 'feature']\n",
    "            print(f\"remove feature {cur_removed_feature}\")\n",
    "            removed_features.append(cur_removed_feature)\n",
    "            used = [x for x in used if x not in removed_features]\n",
    "        else:\n",
    "            return removed_features\n",
    "            "
   ]
  },
  {
   "cell_type": "code",
   "execution_count": null,
   "metadata": {},
   "outputs": [],
   "source": []
  },
  {
   "cell_type": "code",
   "execution_count": 96,
   "metadata": {
    "ExecuteTime": {
     "end_time": "2022-10-13T08:12:33.890250Z",
     "start_time": "2022-10-13T08:12:31.601903Z"
    },
    "scrolled": false
   },
   "outputs": [
    {
     "name": "stdout",
     "output_type": "stream",
     "text": [
      "##################################################\n",
      "Mean AUC: 1.0\n",
      "remove feature f2\n",
      "##################################################\n",
      "Mean AUC: 0.4977818627450981\n"
     ]
    }
   ],
   "source": [
    "removed_features = adversarial_validation(train, test, used, target, threshold=0.6)"
   ]
  },
  {
   "cell_type": "code",
   "execution_count": 97,
   "metadata": {
    "ExecuteTime": {
     "end_time": "2022-10-13T08:12:40.345271Z",
     "start_time": "2022-10-13T08:12:40.340510Z"
    }
   },
   "outputs": [
    {
     "data": {
      "text/plain": [
       "['f2']"
      ]
     },
     "execution_count": 97,
     "metadata": {},
     "output_type": "execute_result"
    }
   ],
   "source": [
    "removed_features"
   ]
  },
  {
   "cell_type": "code",
   "execution_count": null,
   "metadata": {},
   "outputs": [],
   "source": []
  }
 ],
 "metadata": {
  "kernelspec": {
   "display_name": "Python 3",
   "language": "python",
   "name": "python3"
  },
  "language_info": {
   "codemirror_mode": {
    "name": "ipython",
    "version": 3
   },
   "file_extension": ".py",
   "mimetype": "text/x-python",
   "name": "python",
   "nbconvert_exporter": "python",
   "pygments_lexer": "ipython3",
   "version": "3.7.3"
  },
  "toc": {
   "base_numbering": 1,
   "nav_menu": {},
   "number_sections": true,
   "sideBar": true,
   "skip_h1_title": false,
   "title_cell": "Table of Contents",
   "title_sidebar": "Contents",
   "toc_cell": false,
   "toc_position": {},
   "toc_section_display": true,
   "toc_window_display": true
  },
  "varInspector": {
   "cols": {
    "lenName": 16,
    "lenType": 16,
    "lenVar": 40
   },
   "kernels_config": {
    "python": {
     "delete_cmd_postfix": "",
     "delete_cmd_prefix": "del ",
     "library": "var_list.py",
     "varRefreshCmd": "print(var_dic_list())"
    },
    "r": {
     "delete_cmd_postfix": ") ",
     "delete_cmd_prefix": "rm(",
     "library": "var_list.r",
     "varRefreshCmd": "cat(var_dic_list()) "
    }
   },
   "types_to_exclude": [
    "module",
    "function",
    "builtin_function_or_method",
    "instance",
    "_Feature"
   ],
   "window_display": false
  }
 },
 "nbformat": 4,
 "nbformat_minor": 2
}
