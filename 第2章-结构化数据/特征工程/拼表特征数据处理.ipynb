{
 "cells": [
  {
   "cell_type": "code",
   "execution_count": 1,
   "metadata": {
    "ExecuteTime": {
     "end_time": "2022-09-21T07:47:08.542550Z",
     "start_time": "2022-09-21T07:47:08.089694Z"
    },
    "scrolled": false
   },
   "outputs": [
    {
     "name": "stderr",
     "output_type": "stream",
     "text": [
      "/home/caihengxing/anaconda3/lib/python3.7/site-packages/pandas/compat/_optional.py:138: UserWarning: Pandas requires version '2.7.0' or newer of 'numexpr' (version '2.6.9' currently installed).\n",
      "  warnings.warn(msg, UserWarning)\n"
     ]
    }
   ],
   "source": [
    "import pandas as pd\n",
    "import numpy as np\n",
    "import os\n",
    "from tqdm import tqdm"
   ]
  },
  {
   "cell_type": "code",
   "execution_count": 2,
   "metadata": {
    "ExecuteTime": {
     "end_time": "2022-09-21T07:47:10.894877Z",
     "start_time": "2022-09-21T07:47:10.891941Z"
    }
   },
   "outputs": [],
   "source": [
    "path = '/home/caihengxing/taac_data/bank/train_data/'"
   ]
  },
  {
   "cell_type": "code",
   "execution_count": 3,
   "metadata": {
    "ExecuteTime": {
     "end_time": "2022-09-21T07:47:11.264779Z",
     "start_time": "2022-09-21T07:47:11.252158Z"
    },
    "scrolled": true
   },
   "outputs": [
    {
     "data": {
      "text/plain": [
       "['overdue_train.csv',\n",
       " 'bill_train.csv',\n",
       " 'browse_train.csv',\n",
       " 'userinfo_train.csv',\n",
       " 'bank_train.csv']"
      ]
     },
     "execution_count": 3,
     "metadata": {},
     "output_type": "execute_result"
    }
   ],
   "source": [
    "os.listdir(path)"
   ]
  },
  {
   "cell_type": "markdown",
   "metadata": {},
   "source": [
    "## 主表"
   ]
  },
  {
   "cell_type": "code",
   "execution_count": 4,
   "metadata": {
    "ExecuteTime": {
     "end_time": "2022-09-21T07:47:12.778326Z",
     "start_time": "2022-09-21T07:47:12.734372Z"
    }
   },
   "outputs": [],
   "source": [
    "userinfo = pd.read_csv(f\"{path}/userinfo_train.csv\")\n",
    "userinfo.columns = ['用户id', '性别', '职业', '教育程度', '婚姻状态', '户口类型']"
   ]
  },
  {
   "cell_type": "code",
   "execution_count": 5,
   "metadata": {
    "ExecuteTime": {
     "end_time": "2022-09-21T07:47:13.021768Z",
     "start_time": "2022-09-21T07:47:12.978186Z"
    }
   },
   "outputs": [],
   "source": [
    "overdue = pd.read_csv(f\"{path}/overdue_train.csv\")\n",
    "del_cols = ['flag1']\n",
    "overdue.drop(del_cols, axis=1, inplace=True)\n",
    "overdue.columns = ['用户id', '标签']"
   ]
  },
  {
   "cell_type": "code",
   "execution_count": 6,
   "metadata": {
    "ExecuteTime": {
     "end_time": "2022-09-21T07:47:13.240475Z",
     "start_time": "2022-09-21T07:47:13.192807Z"
    }
   },
   "outputs": [],
   "source": [
    "df = pd.merge(userinfo, overdue, on = '用户id', how = 'left')"
   ]
  },
  {
   "cell_type": "code",
   "execution_count": 7,
   "metadata": {
    "ExecuteTime": {
     "end_time": "2022-09-21T07:47:14.227329Z",
     "start_time": "2022-09-21T07:47:14.217302Z"
    }
   },
   "outputs": [
    {
     "data": {
      "text/html": [
       "<div>\n",
       "<style scoped>\n",
       "    .dataframe tbody tr th:only-of-type {\n",
       "        vertical-align: middle;\n",
       "    }\n",
       "\n",
       "    .dataframe tbody tr th {\n",
       "        vertical-align: top;\n",
       "    }\n",
       "\n",
       "    .dataframe thead th {\n",
       "        text-align: right;\n",
       "    }\n",
       "</style>\n",
       "<table border=\"1\" class=\"dataframe\">\n",
       "  <thead>\n",
       "    <tr style=\"text-align: right;\">\n",
       "      <th></th>\n",
       "      <th>用户id</th>\n",
       "      <th>性别</th>\n",
       "      <th>职业</th>\n",
       "      <th>教育程度</th>\n",
       "      <th>婚姻状态</th>\n",
       "      <th>户口类型</th>\n",
       "      <th>标签</th>\n",
       "    </tr>\n",
       "  </thead>\n",
       "  <tbody>\n",
       "    <tr>\n",
       "      <th>0</th>\n",
       "      <td>eddcaa8984f8db5199ec28323efb18a4</td>\n",
       "      <td>1</td>\n",
       "      <td>2</td>\n",
       "      <td>4</td>\n",
       "      <td>1</td>\n",
       "      <td>4</td>\n",
       "      <td>0</td>\n",
       "    </tr>\n",
       "    <tr>\n",
       "      <th>1</th>\n",
       "      <td>966685f4d34386f3ea23cbb72d01cd94</td>\n",
       "      <td>1</td>\n",
       "      <td>2</td>\n",
       "      <td>4</td>\n",
       "      <td>3</td>\n",
       "      <td>2</td>\n",
       "      <td>0</td>\n",
       "    </tr>\n",
       "    <tr>\n",
       "      <th>2</th>\n",
       "      <td>65b01fba105ee82613babff7c88929c5</td>\n",
       "      <td>1</td>\n",
       "      <td>3</td>\n",
       "      <td>4</td>\n",
       "      <td>3</td>\n",
       "      <td>1</td>\n",
       "      <td>0</td>\n",
       "    </tr>\n",
       "    <tr>\n",
       "      <th>3</th>\n",
       "      <td>d721497ae58b1ab5164d1b39263248c0</td>\n",
       "      <td>1</td>\n",
       "      <td>2</td>\n",
       "      <td>4</td>\n",
       "      <td>3</td>\n",
       "      <td>2</td>\n",
       "      <td>0</td>\n",
       "    </tr>\n",
       "    <tr>\n",
       "      <th>4</th>\n",
       "      <td>e69cf2ce4683229904f05fc4c8c7a003</td>\n",
       "      <td>2</td>\n",
       "      <td>2</td>\n",
       "      <td>2</td>\n",
       "      <td>1</td>\n",
       "      <td>1</td>\n",
       "      <td>0</td>\n",
       "    </tr>\n",
       "  </tbody>\n",
       "</table>\n",
       "</div>"
      ],
      "text/plain": [
       "                               用户id  性别  职业  教育程度  婚姻状态  户口类型  标签\n",
       "0  eddcaa8984f8db5199ec28323efb18a4   1   2     4     1     4   0\n",
       "1  966685f4d34386f3ea23cbb72d01cd94   1   2     4     3     2   0\n",
       "2  65b01fba105ee82613babff7c88929c5   1   3     4     3     1   0\n",
       "3  d721497ae58b1ab5164d1b39263248c0   1   2     4     3     2   0\n",
       "4  e69cf2ce4683229904f05fc4c8c7a003   2   2     2     1     1   0"
      ]
     },
     "execution_count": 7,
     "metadata": {},
     "output_type": "execute_result"
    }
   ],
   "source": [
    "df.head()"
   ]
  },
  {
   "cell_type": "code",
   "execution_count": 8,
   "metadata": {
    "ExecuteTime": {
     "end_time": "2022-09-21T07:47:21.787714Z",
     "start_time": "2022-09-21T07:47:21.080714Z"
    }
   },
   "outputs": [],
   "source": [
    "from sklearn.model_selection import train_test_split\n",
    "train, test = train_test_split(df, test_size=0.2, random_state=42)"
   ]
  },
  {
   "cell_type": "code",
   "execution_count": 9,
   "metadata": {
    "ExecuteTime": {
     "end_time": "2022-09-21T07:47:21.899306Z",
     "start_time": "2022-09-21T07:47:21.895550Z"
    }
   },
   "outputs": [
    {
     "data": {
      "text/plain": [
       "((28664, 7), (7167, 7))"
      ]
     },
     "execution_count": 9,
     "metadata": {},
     "output_type": "execute_result"
    }
   ],
   "source": [
    "train.shape, test.shape"
   ]
  },
  {
   "cell_type": "code",
   "execution_count": 10,
   "metadata": {
    "ExecuteTime": {
     "end_time": "2022-09-21T07:47:23.373765Z",
     "start_time": "2022-09-21T07:47:23.371537Z"
    }
   },
   "outputs": [],
   "source": [
    "# train = train.sample(frac = 0.1, random_state = 42)\n",
    "# test  = test.sample(frac = 0.1, random_state = 42)"
   ]
  },
  {
   "cell_type": "code",
   "execution_count": 11,
   "metadata": {
    "ExecuteTime": {
     "end_time": "2022-09-21T07:47:23.594897Z",
     "start_time": "2022-09-21T07:47:23.590747Z"
    }
   },
   "outputs": [],
   "source": [
    "train.index = range(len(train))\n",
    "test.index = range(len(test))"
   ]
  },
  {
   "cell_type": "code",
   "execution_count": 12,
   "metadata": {
    "ExecuteTime": {
     "end_time": "2022-09-21T07:47:23.867259Z",
     "start_time": "2022-09-21T07:47:23.860502Z"
    }
   },
   "outputs": [
    {
     "name": "stderr",
     "output_type": "stream",
     "text": [
      "/home/caihengxing/anaconda3/lib/python3.7/site-packages/pandas/core/frame.py:4913: SettingWithCopyWarning: \n",
      "A value is trying to be set on a copy of a slice from a DataFrame\n",
      "\n",
      "See the caveats in the documentation: https://pandas.pydata.org/pandas-docs/stable/user_guide/indexing.html#returning-a-view-versus-a-copy\n",
      "  errors=errors,\n"
     ]
    }
   ],
   "source": [
    "test.drop('标签', axis=1, inplace=True)"
   ]
  },
  {
   "cell_type": "code",
   "execution_count": 13,
   "metadata": {
    "ExecuteTime": {
     "end_time": "2022-09-21T07:47:24.046730Z",
     "start_time": "2022-09-21T07:47:24.034744Z"
    }
   },
   "outputs": [
    {
     "data": {
      "text/html": [
       "<div>\n",
       "<style scoped>\n",
       "    .dataframe tbody tr th:only-of-type {\n",
       "        vertical-align: middle;\n",
       "    }\n",
       "\n",
       "    .dataframe tbody tr th {\n",
       "        vertical-align: top;\n",
       "    }\n",
       "\n",
       "    .dataframe thead th {\n",
       "        text-align: right;\n",
       "    }\n",
       "</style>\n",
       "<table border=\"1\" class=\"dataframe\">\n",
       "  <thead>\n",
       "    <tr style=\"text-align: right;\">\n",
       "      <th></th>\n",
       "      <th>用户id</th>\n",
       "      <th>性别</th>\n",
       "      <th>职业</th>\n",
       "      <th>教育程度</th>\n",
       "      <th>婚姻状态</th>\n",
       "      <th>户口类型</th>\n",
       "      <th>标签</th>\n",
       "    </tr>\n",
       "  </thead>\n",
       "  <tbody>\n",
       "    <tr>\n",
       "      <th>0</th>\n",
       "      <td>f34cf3be330734cac1cdc5503d06be5b</td>\n",
       "      <td>1</td>\n",
       "      <td>4</td>\n",
       "      <td>4</td>\n",
       "      <td>1</td>\n",
       "      <td>1</td>\n",
       "      <td>0</td>\n",
       "    </tr>\n",
       "    <tr>\n",
       "      <th>1</th>\n",
       "      <td>a6ef3c341d386d3d75aefa9500355625</td>\n",
       "      <td>1</td>\n",
       "      <td>2</td>\n",
       "      <td>4</td>\n",
       "      <td>1</td>\n",
       "      <td>4</td>\n",
       "      <td>0</td>\n",
       "    </tr>\n",
       "    <tr>\n",
       "      <th>2</th>\n",
       "      <td>6ee809a636411b5322646e98157ed017</td>\n",
       "      <td>1</td>\n",
       "      <td>2</td>\n",
       "      <td>4</td>\n",
       "      <td>1</td>\n",
       "      <td>4</td>\n",
       "      <td>0</td>\n",
       "    </tr>\n",
       "    <tr>\n",
       "      <th>3</th>\n",
       "      <td>dc68a34468131dd4f9a27c75e6dd5026</td>\n",
       "      <td>1</td>\n",
       "      <td>2</td>\n",
       "      <td>4</td>\n",
       "      <td>1</td>\n",
       "      <td>1</td>\n",
       "      <td>0</td>\n",
       "    </tr>\n",
       "    <tr>\n",
       "      <th>4</th>\n",
       "      <td>824e90bd82f905216cc03ad62c8195b3</td>\n",
       "      <td>1</td>\n",
       "      <td>2</td>\n",
       "      <td>3</td>\n",
       "      <td>3</td>\n",
       "      <td>1</td>\n",
       "      <td>1</td>\n",
       "    </tr>\n",
       "  </tbody>\n",
       "</table>\n",
       "</div>"
      ],
      "text/plain": [
       "                               用户id  性别  职业  教育程度  婚姻状态  户口类型  标签\n",
       "0  f34cf3be330734cac1cdc5503d06be5b   1   4     4     1     1   0\n",
       "1  a6ef3c341d386d3d75aefa9500355625   1   2     4     1     4   0\n",
       "2  6ee809a636411b5322646e98157ed017   1   2     4     1     4   0\n",
       "3  dc68a34468131dd4f9a27c75e6dd5026   1   2     4     1     1   0\n",
       "4  824e90bd82f905216cc03ad62c8195b3   1   2     3     3     1   1"
      ]
     },
     "execution_count": 13,
     "metadata": {},
     "output_type": "execute_result"
    }
   ],
   "source": [
    "train.head()"
   ]
  },
  {
   "cell_type": "code",
   "execution_count": 14,
   "metadata": {
    "ExecuteTime": {
     "end_time": "2022-09-21T07:47:24.237308Z",
     "start_time": "2022-09-21T07:47:24.225949Z"
    }
   },
   "outputs": [
    {
     "data": {
      "text/html": [
       "<div>\n",
       "<style scoped>\n",
       "    .dataframe tbody tr th:only-of-type {\n",
       "        vertical-align: middle;\n",
       "    }\n",
       "\n",
       "    .dataframe tbody tr th {\n",
       "        vertical-align: top;\n",
       "    }\n",
       "\n",
       "    .dataframe thead th {\n",
       "        text-align: right;\n",
       "    }\n",
       "</style>\n",
       "<table border=\"1\" class=\"dataframe\">\n",
       "  <thead>\n",
       "    <tr style=\"text-align: right;\">\n",
       "      <th></th>\n",
       "      <th>用户id</th>\n",
       "      <th>性别</th>\n",
       "      <th>职业</th>\n",
       "      <th>教育程度</th>\n",
       "      <th>婚姻状态</th>\n",
       "      <th>户口类型</th>\n",
       "    </tr>\n",
       "  </thead>\n",
       "  <tbody>\n",
       "    <tr>\n",
       "      <th>0</th>\n",
       "      <td>42a16105b10ee12782ff39f1598ac70e</td>\n",
       "      <td>1</td>\n",
       "      <td>2</td>\n",
       "      <td>3</td>\n",
       "      <td>3</td>\n",
       "      <td>1</td>\n",
       "    </tr>\n",
       "    <tr>\n",
       "      <th>1</th>\n",
       "      <td>405b004aaa14b4a6017a2f44686e3440</td>\n",
       "      <td>2</td>\n",
       "      <td>2</td>\n",
       "      <td>3</td>\n",
       "      <td>2</td>\n",
       "      <td>1</td>\n",
       "    </tr>\n",
       "    <tr>\n",
       "      <th>2</th>\n",
       "      <td>5c17da3e7807825fa57716f289a36634</td>\n",
       "      <td>2</td>\n",
       "      <td>2</td>\n",
       "      <td>4</td>\n",
       "      <td>2</td>\n",
       "      <td>1</td>\n",
       "    </tr>\n",
       "    <tr>\n",
       "      <th>3</th>\n",
       "      <td>6f8d122b215074ca23b1980f85afd4c8</td>\n",
       "      <td>1</td>\n",
       "      <td>4</td>\n",
       "      <td>4</td>\n",
       "      <td>3</td>\n",
       "      <td>3</td>\n",
       "    </tr>\n",
       "    <tr>\n",
       "      <th>4</th>\n",
       "      <td>a49138b7665cc8093353bebca84f7701</td>\n",
       "      <td>1</td>\n",
       "      <td>2</td>\n",
       "      <td>3</td>\n",
       "      <td>2</td>\n",
       "      <td>2</td>\n",
       "    </tr>\n",
       "  </tbody>\n",
       "</table>\n",
       "</div>"
      ],
      "text/plain": [
       "                               用户id  性别  职业  教育程度  婚姻状态  户口类型\n",
       "0  42a16105b10ee12782ff39f1598ac70e   1   2     3     3     1\n",
       "1  405b004aaa14b4a6017a2f44686e3440   2   2     3     2     1\n",
       "2  5c17da3e7807825fa57716f289a36634   2   2     4     2     1\n",
       "3  6f8d122b215074ca23b1980f85afd4c8   1   4     4     3     3\n",
       "4  a49138b7665cc8093353bebca84f7701   1   2     3     2     2"
      ]
     },
     "execution_count": 14,
     "metadata": {},
     "output_type": "execute_result"
    }
   ],
   "source": [
    "test.head()"
   ]
  },
  {
   "cell_type": "markdown",
   "metadata": {},
   "source": [
    "## 副表"
   ]
  },
  {
   "cell_type": "code",
   "execution_count": 15,
   "metadata": {
    "ExecuteTime": {
     "end_time": "2022-09-21T07:47:28.478606Z",
     "start_time": "2022-09-21T07:47:25.418728Z"
    }
   },
   "outputs": [],
   "source": [
    "bank = pd.read_csv(f\"{path}/bank_train.csv\")\n",
    "bank.columns = ['用户id','时间戳','交易类型','交易金额','工资收入标记']"
   ]
  },
  {
   "cell_type": "code",
   "execution_count": 16,
   "metadata": {
    "ExecuteTime": {
     "end_time": "2022-09-21T07:47:35.412301Z",
     "start_time": "2022-09-21T07:47:28.610846Z"
    }
   },
   "outputs": [],
   "source": [
    "import random\n",
    "randomlist = []\n",
    "for i in range(0,len(bank)):\n",
    "    n = random.randint(1,6)\n",
    "    randomlist.append(n)"
   ]
  },
  {
   "cell_type": "code",
   "execution_count": 17,
   "metadata": {
    "ExecuteTime": {
     "end_time": "2022-09-21T07:47:37.978421Z",
     "start_time": "2022-09-21T07:47:36.797702Z"
    }
   },
   "outputs": [],
   "source": [
    "bank['月份'] = randomlist"
   ]
  },
  {
   "cell_type": "code",
   "execution_count": 18,
   "metadata": {
    "ExecuteTime": {
     "end_time": "2022-09-21T07:47:39.575792Z",
     "start_time": "2022-09-21T07:47:39.293330Z"
    },
    "scrolled": true
   },
   "outputs": [],
   "source": [
    "del_list = [\"时间戳\"]\n",
    "bank.drop(del_list, axis = 1, inplace = True)"
   ]
  },
  {
   "cell_type": "code",
   "execution_count": 19,
   "metadata": {
    "ExecuteTime": {
     "end_time": "2022-09-21T07:47:40.917148Z",
     "start_time": "2022-09-21T07:47:40.908467Z"
    }
   },
   "outputs": [
    {
     "data": {
      "text/html": [
       "<div>\n",
       "<style scoped>\n",
       "    .dataframe tbody tr th:only-of-type {\n",
       "        vertical-align: middle;\n",
       "    }\n",
       "\n",
       "    .dataframe tbody tr th {\n",
       "        vertical-align: top;\n",
       "    }\n",
       "\n",
       "    .dataframe thead th {\n",
       "        text-align: right;\n",
       "    }\n",
       "</style>\n",
       "<table border=\"1\" class=\"dataframe\">\n",
       "  <thead>\n",
       "    <tr style=\"text-align: right;\">\n",
       "      <th></th>\n",
       "      <th>用户id</th>\n",
       "      <th>交易类型</th>\n",
       "      <th>交易金额</th>\n",
       "      <th>工资收入标记</th>\n",
       "      <th>月份</th>\n",
       "    </tr>\n",
       "  </thead>\n",
       "  <tbody>\n",
       "    <tr>\n",
       "      <th>0</th>\n",
       "      <td>966685f4d34386f3ea23cbb72d01cd94</td>\n",
       "      <td>0</td>\n",
       "      <td>45.559482</td>\n",
       "      <td>0</td>\n",
       "      <td>6</td>\n",
       "    </tr>\n",
       "    <tr>\n",
       "      <th>1</th>\n",
       "      <td>966685f4d34386f3ea23cbb72d01cd94</td>\n",
       "      <td>1</td>\n",
       "      <td>45.559482</td>\n",
       "      <td>0</td>\n",
       "      <td>3</td>\n",
       "    </tr>\n",
       "    <tr>\n",
       "      <th>2</th>\n",
       "      <td>966685f4d34386f3ea23cbb72d01cd94</td>\n",
       "      <td>0</td>\n",
       "      <td>46.313940</td>\n",
       "      <td>0</td>\n",
       "      <td>6</td>\n",
       "    </tr>\n",
       "    <tr>\n",
       "      <th>3</th>\n",
       "      <td>966685f4d34386f3ea23cbb72d01cd94</td>\n",
       "      <td>1</td>\n",
       "      <td>41.866171</td>\n",
       "      <td>0</td>\n",
       "      <td>2</td>\n",
       "    </tr>\n",
       "    <tr>\n",
       "      <th>4</th>\n",
       "      <td>966685f4d34386f3ea23cbb72d01cd94</td>\n",
       "      <td>1</td>\n",
       "      <td>45.443705</td>\n",
       "      <td>0</td>\n",
       "      <td>4</td>\n",
       "    </tr>\n",
       "  </tbody>\n",
       "</table>\n",
       "</div>"
      ],
      "text/plain": [
       "                               用户id  交易类型       交易金额  工资收入标记  月份\n",
       "0  966685f4d34386f3ea23cbb72d01cd94     0  45.559482       0   6\n",
       "1  966685f4d34386f3ea23cbb72d01cd94     1  45.559482       0   3\n",
       "2  966685f4d34386f3ea23cbb72d01cd94     0  46.313940       0   6\n",
       "3  966685f4d34386f3ea23cbb72d01cd94     1  41.866171       0   2\n",
       "4  966685f4d34386f3ea23cbb72d01cd94     1  45.443705       0   4"
      ]
     },
     "execution_count": 19,
     "metadata": {},
     "output_type": "execute_result"
    }
   ],
   "source": [
    "bank.head()"
   ]
  },
  {
   "cell_type": "code",
   "execution_count": 20,
   "metadata": {
    "ExecuteTime": {
     "end_time": "2022-09-21T07:47:42.267907Z",
     "start_time": "2022-09-21T07:47:42.261492Z"
    }
   },
   "outputs": [
    {
     "data": {
      "text/plain": [
       "(4479878, 5)"
      ]
     },
     "execution_count": 20,
     "metadata": {},
     "output_type": "execute_result"
    }
   ],
   "source": [
    "bank.shape"
   ]
  },
  {
   "cell_type": "code",
   "execution_count": 21,
   "metadata": {
    "ExecuteTime": {
     "end_time": "2022-09-21T07:47:44.168699Z",
     "start_time": "2022-09-21T07:47:43.572493Z"
    }
   },
   "outputs": [],
   "source": [
    "Id = '用户id'\n",
    "bank_train = bank.loc[bank[Id].isin(train[Id])]\n",
    "bank_test = bank.loc[bank[Id].isin(test[Id])]"
   ]
  },
  {
   "cell_type": "code",
   "execution_count": 22,
   "metadata": {
    "ExecuteTime": {
     "end_time": "2022-09-21T07:47:45.626525Z",
     "start_time": "2022-09-21T07:47:45.622960Z"
    }
   },
   "outputs": [],
   "source": [
    "bank_train.index = range(len(bank_train))\n",
    "bank_test.index = range(len(bank_test))"
   ]
  },
  {
   "cell_type": "code",
   "execution_count": 23,
   "metadata": {
    "ExecuteTime": {
     "end_time": "2022-09-21T07:47:47.090443Z",
     "start_time": "2022-09-21T07:47:47.086596Z"
    }
   },
   "outputs": [
    {
     "data": {
      "text/plain": [
       "((3556821, 5), (923057, 5))"
      ]
     },
     "execution_count": 23,
     "metadata": {},
     "output_type": "execute_result"
    }
   ],
   "source": [
    "bank_train.shape, bank_test.shape"
   ]
  },
  {
   "cell_type": "code",
   "execution_count": null,
   "metadata": {},
   "outputs": [],
   "source": []
  },
  {
   "cell_type": "code",
   "execution_count": 24,
   "metadata": {
    "ExecuteTime": {
     "end_time": "2022-09-21T07:47:49.925790Z",
     "start_time": "2022-09-21T07:47:48.531470Z"
    },
    "scrolled": true
   },
   "outputs": [],
   "source": [
    "train = train.loc[train[Id].isin(bank_train[Id].unique())]\n",
    "test = test.loc[test[Id].isin(bank_test[Id].unique())]\n",
    "\n",
    "train = train.sort_values(by = Id)\n",
    "test = test.sort_values(by = Id)\n",
    "\n",
    "bank_train = bank_train.sort_values(by = [Id, '月份'])\n",
    "bank_test = bank_test.sort_values(by = [Id, '月份'])\n",
    "\n",
    "train.index = range(len(train))\n",
    "test.index = range(len(test))\n",
    "\n",
    "bank_train.index = range(len(bank_train))\n",
    "bank_test.index = range(len(bank_test))"
   ]
  },
  {
   "cell_type": "code",
   "execution_count": 25,
   "metadata": {
    "ExecuteTime": {
     "end_time": "2022-09-21T07:47:51.305020Z",
     "start_time": "2022-09-21T07:47:51.301811Z"
    }
   },
   "outputs": [],
   "source": [
    "target = '标签'"
   ]
  },
  {
   "cell_type": "code",
   "execution_count": 27,
   "metadata": {
    "ExecuteTime": {
     "end_time": "2022-09-21T07:47:54.106403Z",
     "start_time": "2022-09-21T07:47:54.098064Z"
    }
   },
   "outputs": [
    {
     "data": {
      "text/html": [
       "<div>\n",
       "<style scoped>\n",
       "    .dataframe tbody tr th:only-of-type {\n",
       "        vertical-align: middle;\n",
       "    }\n",
       "\n",
       "    .dataframe tbody tr th {\n",
       "        vertical-align: top;\n",
       "    }\n",
       "\n",
       "    .dataframe thead th {\n",
       "        text-align: right;\n",
       "    }\n",
       "</style>\n",
       "<table border=\"1\" class=\"dataframe\">\n",
       "  <thead>\n",
       "    <tr style=\"text-align: right;\">\n",
       "      <th></th>\n",
       "      <th>用户id</th>\n",
       "      <th>性别</th>\n",
       "      <th>职业</th>\n",
       "      <th>教育程度</th>\n",
       "      <th>婚姻状态</th>\n",
       "      <th>户口类型</th>\n",
       "      <th>标签</th>\n",
       "    </tr>\n",
       "  </thead>\n",
       "  <tbody>\n",
       "    <tr>\n",
       "      <th>0</th>\n",
       "      <td>000014b8ec0ce8ad7c20f56915fc3a9f</td>\n",
       "      <td>1</td>\n",
       "      <td>2</td>\n",
       "      <td>3</td>\n",
       "      <td>1</td>\n",
       "      <td>2</td>\n",
       "      <td>0</td>\n",
       "    </tr>\n",
       "    <tr>\n",
       "      <th>1</th>\n",
       "      <td>0003f283dfacd7100bba76d876cf94da</td>\n",
       "      <td>1</td>\n",
       "      <td>4</td>\n",
       "      <td>4</td>\n",
       "      <td>1</td>\n",
       "      <td>2</td>\n",
       "      <td>0</td>\n",
       "    </tr>\n",
       "    <tr>\n",
       "      <th>2</th>\n",
       "      <td>0015f0bf7222ad1b2a96612d752552c3</td>\n",
       "      <td>1</td>\n",
       "      <td>2</td>\n",
       "      <td>4</td>\n",
       "      <td>2</td>\n",
       "      <td>2</td>\n",
       "      <td>0</td>\n",
       "    </tr>\n",
       "    <tr>\n",
       "      <th>3</th>\n",
       "      <td>00251f8fa9f3e014339d90e4dba1affd</td>\n",
       "      <td>1</td>\n",
       "      <td>2</td>\n",
       "      <td>4</td>\n",
       "      <td>3</td>\n",
       "      <td>1</td>\n",
       "      <td>0</td>\n",
       "    </tr>\n",
       "    <tr>\n",
       "      <th>4</th>\n",
       "      <td>00284cf15ae27d1ddf4f93922cd7bcb5</td>\n",
       "      <td>1</td>\n",
       "      <td>2</td>\n",
       "      <td>4</td>\n",
       "      <td>3</td>\n",
       "      <td>1</td>\n",
       "      <td>0</td>\n",
       "    </tr>\n",
       "  </tbody>\n",
       "</table>\n",
       "</div>"
      ],
      "text/plain": [
       "                               用户id  性别  职业  教育程度  婚姻状态  户口类型  标签\n",
       "0  000014b8ec0ce8ad7c20f56915fc3a9f   1   2     3     1     2   0\n",
       "1  0003f283dfacd7100bba76d876cf94da   1   4     4     1     2   0\n",
       "2  0015f0bf7222ad1b2a96612d752552c3   1   2     4     2     2   0\n",
       "3  00251f8fa9f3e014339d90e4dba1affd   1   2     4     3     1   0\n",
       "4  00284cf15ae27d1ddf4f93922cd7bcb5   1   2     4     3     1   0"
      ]
     },
     "execution_count": 27,
     "metadata": {},
     "output_type": "execute_result"
    }
   ],
   "source": [
    "train.head()"
   ]
  },
  {
   "cell_type": "code",
   "execution_count": 28,
   "metadata": {
    "ExecuteTime": {
     "end_time": "2022-09-21T07:47:55.520077Z",
     "start_time": "2022-09-21T07:47:55.512184Z"
    },
    "scrolled": false
   },
   "outputs": [
    {
     "data": {
      "text/html": [
       "<div>\n",
       "<style scoped>\n",
       "    .dataframe tbody tr th:only-of-type {\n",
       "        vertical-align: middle;\n",
       "    }\n",
       "\n",
       "    .dataframe tbody tr th {\n",
       "        vertical-align: top;\n",
       "    }\n",
       "\n",
       "    .dataframe thead th {\n",
       "        text-align: right;\n",
       "    }\n",
       "</style>\n",
       "<table border=\"1\" class=\"dataframe\">\n",
       "  <thead>\n",
       "    <tr style=\"text-align: right;\">\n",
       "      <th></th>\n",
       "      <th>用户id</th>\n",
       "      <th>交易类型</th>\n",
       "      <th>交易金额</th>\n",
       "      <th>工资收入标记</th>\n",
       "      <th>月份</th>\n",
       "    </tr>\n",
       "  </thead>\n",
       "  <tbody>\n",
       "    <tr>\n",
       "      <th>0</th>\n",
       "      <td>000014b8ec0ce8ad7c20f56915fc3a9f</td>\n",
       "      <td>1</td>\n",
       "      <td>38.134741</td>\n",
       "      <td>0</td>\n",
       "      <td>1</td>\n",
       "    </tr>\n",
       "    <tr>\n",
       "      <th>1</th>\n",
       "      <td>000014b8ec0ce8ad7c20f56915fc3a9f</td>\n",
       "      <td>1</td>\n",
       "      <td>40.189051</td>\n",
       "      <td>0</td>\n",
       "      <td>1</td>\n",
       "    </tr>\n",
       "    <tr>\n",
       "      <th>2</th>\n",
       "      <td>000014b8ec0ce8ad7c20f56915fc3a9f</td>\n",
       "      <td>1</td>\n",
       "      <td>42.143743</td>\n",
       "      <td>0</td>\n",
       "      <td>1</td>\n",
       "    </tr>\n",
       "    <tr>\n",
       "      <th>3</th>\n",
       "      <td>000014b8ec0ce8ad7c20f56915fc3a9f</td>\n",
       "      <td>1</td>\n",
       "      <td>40.125193</td>\n",
       "      <td>0</td>\n",
       "      <td>1</td>\n",
       "    </tr>\n",
       "    <tr>\n",
       "      <th>4</th>\n",
       "      <td>000014b8ec0ce8ad7c20f56915fc3a9f</td>\n",
       "      <td>1</td>\n",
       "      <td>39.317371</td>\n",
       "      <td>0</td>\n",
       "      <td>1</td>\n",
       "    </tr>\n",
       "  </tbody>\n",
       "</table>\n",
       "</div>"
      ],
      "text/plain": [
       "                               用户id  交易类型       交易金额  工资收入标记  月份\n",
       "0  000014b8ec0ce8ad7c20f56915fc3a9f     1  38.134741       0   1\n",
       "1  000014b8ec0ce8ad7c20f56915fc3a9f     1  40.189051       0   1\n",
       "2  000014b8ec0ce8ad7c20f56915fc3a9f     1  42.143743       0   1\n",
       "3  000014b8ec0ce8ad7c20f56915fc3a9f     1  40.125193       0   1\n",
       "4  000014b8ec0ce8ad7c20f56915fc3a9f     1  39.317371       0   1"
      ]
     },
     "execution_count": 28,
     "metadata": {},
     "output_type": "execute_result"
    }
   ],
   "source": [
    "bank_train.head()"
   ]
  },
  {
   "cell_type": "code",
   "execution_count": 29,
   "metadata": {
    "ExecuteTime": {
     "end_time": "2022-09-21T07:47:56.904449Z",
     "start_time": "2022-09-21T07:47:56.901173Z"
    }
   },
   "outputs": [
    {
     "data": {
      "text/plain": [
       "((5475, 7), (3556821, 5))"
      ]
     },
     "execution_count": 29,
     "metadata": {},
     "output_type": "execute_result"
    }
   ],
   "source": [
    "train.shape, bank_train.shape"
   ]
  },
  {
   "cell_type": "code",
   "execution_count": null,
   "metadata": {},
   "outputs": [],
   "source": []
  },
  {
   "cell_type": "code",
   "execution_count": 30,
   "metadata": {
    "ExecuteTime": {
     "end_time": "2022-09-21T07:47:58.279231Z",
     "start_time": "2022-09-21T07:47:58.271297Z"
    }
   },
   "outputs": [
    {
     "data": {
      "text/html": [
       "<div>\n",
       "<style scoped>\n",
       "    .dataframe tbody tr th:only-of-type {\n",
       "        vertical-align: middle;\n",
       "    }\n",
       "\n",
       "    .dataframe tbody tr th {\n",
       "        vertical-align: top;\n",
       "    }\n",
       "\n",
       "    .dataframe thead th {\n",
       "        text-align: right;\n",
       "    }\n",
       "</style>\n",
       "<table border=\"1\" class=\"dataframe\">\n",
       "  <thead>\n",
       "    <tr style=\"text-align: right;\">\n",
       "      <th></th>\n",
       "      <th>用户id</th>\n",
       "      <th>性别</th>\n",
       "      <th>职业</th>\n",
       "      <th>教育程度</th>\n",
       "      <th>婚姻状态</th>\n",
       "      <th>户口类型</th>\n",
       "    </tr>\n",
       "  </thead>\n",
       "  <tbody>\n",
       "    <tr>\n",
       "      <th>0</th>\n",
       "      <td>0007be49a0f33d74e6ffbe3b6b0b8a96</td>\n",
       "      <td>1</td>\n",
       "      <td>2</td>\n",
       "      <td>3</td>\n",
       "      <td>1</td>\n",
       "      <td>3</td>\n",
       "    </tr>\n",
       "    <tr>\n",
       "      <th>1</th>\n",
       "      <td>00872649357929f1f3d7fafbe484810b</td>\n",
       "      <td>0</td>\n",
       "      <td>0</td>\n",
       "      <td>0</td>\n",
       "      <td>0</td>\n",
       "      <td>0</td>\n",
       "    </tr>\n",
       "    <tr>\n",
       "      <th>2</th>\n",
       "      <td>00bde750bb47544d97ba792e03d23ff7</td>\n",
       "      <td>1</td>\n",
       "      <td>2</td>\n",
       "      <td>4</td>\n",
       "      <td>1</td>\n",
       "      <td>1</td>\n",
       "    </tr>\n",
       "    <tr>\n",
       "      <th>3</th>\n",
       "      <td>00d4ecc55ecc3099e34c5bd60f5bfc6c</td>\n",
       "      <td>1</td>\n",
       "      <td>2</td>\n",
       "      <td>3</td>\n",
       "      <td>3</td>\n",
       "      <td>1</td>\n",
       "    </tr>\n",
       "    <tr>\n",
       "      <th>4</th>\n",
       "      <td>010424165f66c248d7ac1b3470850933</td>\n",
       "      <td>1</td>\n",
       "      <td>2</td>\n",
       "      <td>3</td>\n",
       "      <td>1</td>\n",
       "      <td>1</td>\n",
       "    </tr>\n",
       "  </tbody>\n",
       "</table>\n",
       "</div>"
      ],
      "text/plain": [
       "                               用户id  性别  职业  教育程度  婚姻状态  户口类型\n",
       "0  0007be49a0f33d74e6ffbe3b6b0b8a96   1   2     3     1     3\n",
       "1  00872649357929f1f3d7fafbe484810b   0   0     0     0     0\n",
       "2  00bde750bb47544d97ba792e03d23ff7   1   2     4     1     1\n",
       "3  00d4ecc55ecc3099e34c5bd60f5bfc6c   1   2     3     3     1\n",
       "4  010424165f66c248d7ac1b3470850933   1   2     3     1     1"
      ]
     },
     "execution_count": 30,
     "metadata": {},
     "output_type": "execute_result"
    }
   ],
   "source": [
    "test.head()"
   ]
  },
  {
   "cell_type": "code",
   "execution_count": 31,
   "metadata": {
    "ExecuteTime": {
     "end_time": "2022-09-21T07:47:59.644008Z",
     "start_time": "2022-09-21T07:47:59.635733Z"
    }
   },
   "outputs": [
    {
     "data": {
      "text/html": [
       "<div>\n",
       "<style scoped>\n",
       "    .dataframe tbody tr th:only-of-type {\n",
       "        vertical-align: middle;\n",
       "    }\n",
       "\n",
       "    .dataframe tbody tr th {\n",
       "        vertical-align: top;\n",
       "    }\n",
       "\n",
       "    .dataframe thead th {\n",
       "        text-align: right;\n",
       "    }\n",
       "</style>\n",
       "<table border=\"1\" class=\"dataframe\">\n",
       "  <thead>\n",
       "    <tr style=\"text-align: right;\">\n",
       "      <th></th>\n",
       "      <th>用户id</th>\n",
       "      <th>交易类型</th>\n",
       "      <th>交易金额</th>\n",
       "      <th>工资收入标记</th>\n",
       "      <th>月份</th>\n",
       "    </tr>\n",
       "  </thead>\n",
       "  <tbody>\n",
       "    <tr>\n",
       "      <th>0</th>\n",
       "      <td>0007be49a0f33d74e6ffbe3b6b0b8a96</td>\n",
       "      <td>0</td>\n",
       "      <td>50.865021</td>\n",
       "      <td>0</td>\n",
       "      <td>1</td>\n",
       "    </tr>\n",
       "    <tr>\n",
       "      <th>1</th>\n",
       "      <td>0007be49a0f33d74e6ffbe3b6b0b8a96</td>\n",
       "      <td>0</td>\n",
       "      <td>51.665283</td>\n",
       "      <td>0</td>\n",
       "      <td>1</td>\n",
       "    </tr>\n",
       "    <tr>\n",
       "      <th>2</th>\n",
       "      <td>0007be49a0f33d74e6ffbe3b6b0b8a96</td>\n",
       "      <td>1</td>\n",
       "      <td>43.388533</td>\n",
       "      <td>0</td>\n",
       "      <td>1</td>\n",
       "    </tr>\n",
       "    <tr>\n",
       "      <th>3</th>\n",
       "      <td>0007be49a0f33d74e6ffbe3b6b0b8a96</td>\n",
       "      <td>1</td>\n",
       "      <td>42.143743</td>\n",
       "      <td>0</td>\n",
       "      <td>1</td>\n",
       "    </tr>\n",
       "    <tr>\n",
       "      <th>4</th>\n",
       "      <td>0007be49a0f33d74e6ffbe3b6b0b8a96</td>\n",
       "      <td>1</td>\n",
       "      <td>44.499610</td>\n",
       "      <td>0</td>\n",
       "      <td>1</td>\n",
       "    </tr>\n",
       "  </tbody>\n",
       "</table>\n",
       "</div>"
      ],
      "text/plain": [
       "                               用户id  交易类型       交易金额  工资收入标记  月份\n",
       "0  0007be49a0f33d74e6ffbe3b6b0b8a96     0  50.865021       0   1\n",
       "1  0007be49a0f33d74e6ffbe3b6b0b8a96     0  51.665283       0   1\n",
       "2  0007be49a0f33d74e6ffbe3b6b0b8a96     1  43.388533       0   1\n",
       "3  0007be49a0f33d74e6ffbe3b6b0b8a96     1  42.143743       0   1\n",
       "4  0007be49a0f33d74e6ffbe3b6b0b8a96     1  44.499610       0   1"
      ]
     },
     "execution_count": 31,
     "metadata": {},
     "output_type": "execute_result"
    }
   ],
   "source": [
    "bank_test.head()"
   ]
  },
  {
   "cell_type": "code",
   "execution_count": null,
   "metadata": {},
   "outputs": [],
   "source": []
  },
  {
   "cell_type": "code",
   "execution_count": 32,
   "metadata": {
    "ExecuteTime": {
     "end_time": "2022-09-21T07:48:12.140090Z",
     "start_time": "2022-09-21T07:48:12.135242Z"
    }
   },
   "outputs": [
    {
     "data": {
      "text/plain": [
       "Index(['用户id', '性别', '职业', '教育程度', '婚姻状态', '户口类型', '标签'], dtype='object')"
      ]
     },
     "execution_count": 32,
     "metadata": {},
     "output_type": "execute_result"
    }
   ],
   "source": [
    "train.columns"
   ]
  },
  {
   "cell_type": "code",
   "execution_count": 33,
   "metadata": {
    "ExecuteTime": {
     "end_time": "2022-09-21T07:49:50.297618Z",
     "start_time": "2022-09-21T07:49:50.291909Z"
    }
   },
   "outputs": [],
   "source": [
    "train_a = train[['用户id', '性别', '职业', '标签']]\n",
    "train_b = train[['用户id', '教育程度', '婚姻状态', '户口类型']]"
   ]
  },
  {
   "cell_type": "code",
   "execution_count": 34,
   "metadata": {
    "ExecuteTime": {
     "end_time": "2022-09-21T07:49:51.715633Z",
     "start_time": "2022-09-21T07:49:51.711080Z"
    }
   },
   "outputs": [],
   "source": [
    "test_a = test[['用户id', '性别', '职业']]\n",
    "test_b = test[['用户id', '教育程度', '婚姻状态', '户口类型']]"
   ]
  },
  {
   "cell_type": "code",
   "execution_count": null,
   "metadata": {},
   "outputs": [],
   "source": []
  },
  {
   "cell_type": "code",
   "execution_count": 35,
   "metadata": {
    "ExecuteTime": {
     "end_time": "2022-09-21T07:50:19.521890Z",
     "start_time": "2022-09-21T07:50:19.519795Z"
    }
   },
   "outputs": [],
   "source": [
    "# os.mkdir('./bank')"
   ]
  },
  {
   "cell_type": "code",
   "execution_count": 36,
   "metadata": {
    "ExecuteTime": {
     "end_time": "2022-09-21T07:50:20.987078Z",
     "start_time": "2022-09-21T07:50:20.967441Z"
    }
   },
   "outputs": [],
   "source": [
    "train_a.to_csv('./bank/train.csv', index = False)\n",
    "test_a.to_csv('./bank/test.csv', index = False)"
   ]
  },
  {
   "cell_type": "code",
   "execution_count": 37,
   "metadata": {
    "ExecuteTime": {
     "end_time": "2022-09-21T07:50:35.951114Z",
     "start_time": "2022-09-21T07:50:35.918942Z"
    }
   },
   "outputs": [],
   "source": [
    "train_b.to_csv('./bank/train_info.csv', index = False)\n",
    "test_b.to_csv('./bank/test_info.csv', index = False)"
   ]
  },
  {
   "cell_type": "code",
   "execution_count": 38,
   "metadata": {
    "ExecuteTime": {
     "end_time": "2022-09-21T07:50:54.448655Z",
     "start_time": "2022-09-21T07:50:38.300512Z"
    }
   },
   "outputs": [],
   "source": [
    "bank_train.to_csv('./bank/bank_train.csv', index = False)\n",
    "bank_test.to_csv('./bank/bank_test.csv', index = False)"
   ]
  },
  {
   "cell_type": "code",
   "execution_count": null,
   "metadata": {},
   "outputs": [],
   "source": []
  }
 ],
 "metadata": {
  "kernelspec": {
   "display_name": "Python 3",
   "language": "python",
   "name": "python3"
  },
  "toc": {
   "base_numbering": 1,
   "nav_menu": {},
   "number_sections": true,
   "sideBar": true,
   "skip_h1_title": false,
   "title_cell": "Table of Contents",
   "title_sidebar": "Contents",
   "toc_cell": false,
   "toc_position": {},
   "toc_section_display": true,
   "toc_window_display": true
  },
  "varInspector": {
   "cols": {
    "lenName": 16,
    "lenType": 16,
    "lenVar": 40
   },
   "kernels_config": {
    "python": {
     "delete_cmd_postfix": "",
     "delete_cmd_prefix": "del ",
     "library": "var_list.py",
     "varRefreshCmd": "print(var_dic_list())"
    },
    "r": {
     "delete_cmd_postfix": ") ",
     "delete_cmd_prefix": "rm(",
     "library": "var_list.r",
     "varRefreshCmd": "cat(var_dic_list()) "
    }
   },
   "types_to_exclude": [
    "module",
    "function",
    "builtin_function_or_method",
    "instance",
    "_Feature"
   ],
   "window_display": false
  }
 },
 "nbformat": 4,
 "nbformat_minor": 2
}
