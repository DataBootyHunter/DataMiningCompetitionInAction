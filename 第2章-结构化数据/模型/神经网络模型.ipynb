{
 "cells": [
  {
   "cell_type": "markdown",
   "metadata": {},
   "source": [
    "# import包"
   ]
  },
  {
   "cell_type": "code",
   "execution_count": 1,
   "metadata": {
    "ExecuteTime": {
     "end_time": "2022-11-23T03:56:19.899911Z",
     "start_time": "2022-11-23T03:56:18.655891Z"
    }
   },
   "outputs": [
    {
     "name": "stderr",
     "output_type": "stream",
     "text": [
      "/home/caihengxing/anaconda3/lib/python3.7/site-packages/pandas/compat/_optional.py:138: UserWarning: Pandas requires version '2.7.0' or newer of 'numexpr' (version '2.6.9' currently installed).\n",
      "  warnings.warn(msg, UserWarning)\n"
     ]
    }
   ],
   "source": [
    "import pandas as pd\n",
    "import numpy as np\n",
    "import os\n",
    "from sklearn.datasets import make_regression, make_classification\n",
    "from sklearn.model_selection import train_test_split\n",
    "from sklearn.metrics import mean_squared_error\n",
    "from sklearn.metrics import roc_auc_score\n",
    "\n",
    "from pytorch_tabnet.tab_model import TabNetClassifier, TabNetRegressor\n",
    "from pytorch_tabnet.tab_model import TabNetClassifier, TabNetRegressor\n",
    "\n",
    "import warnings\n",
    "warnings.filterwarnings('ignore')"
   ]
  },
  {
   "cell_type": "markdown",
   "metadata": {},
   "source": [
    "# 准备数据"
   ]
  },
  {
   "cell_type": "code",
   "execution_count": 2,
   "metadata": {
    "ExecuteTime": {
     "end_time": "2022-11-23T03:56:19.908842Z",
     "start_time": "2022-11-23T03:56:19.902547Z"
    }
   },
   "outputs": [],
   "source": [
    "X, y = make_classification(n_samples = 2000, n_features = 6, random_state=0)\n",
    "X_train, X_test, y_train, y_test = train_test_split(X, y, test_size=.2)\n",
    "X_train, X_valid, y_train, y_valid = train_test_split(X_train, y_train, test_size=.2)"
   ]
  },
  {
   "cell_type": "markdown",
   "metadata": {},
   "source": [
    "# TabNet"
   ]
  },
  {
   "cell_type": "code",
   "execution_count": 3,
   "metadata": {
    "ExecuteTime": {
     "end_time": "2022-11-23T03:56:28.249483Z",
     "start_time": "2022-11-23T03:56:19.910873Z"
    },
    "scrolled": true
   },
   "outputs": [
    {
     "name": "stdout",
     "output_type": "stream",
     "text": [
      "Device used : cuda\n",
      "epoch 0  | loss: 0.68187 | val_0_auc: 0.92531 |  0:00:00s\n",
      "epoch 1  | loss: 0.32987 | val_0_auc: 0.97578 |  0:00:00s\n",
      "epoch 2  | loss: 0.18562 | val_0_auc: 0.98387 |  0:00:00s\n",
      "epoch 3  | loss: 0.09782 | val_0_auc: 0.98626 |  0:00:00s\n",
      "epoch 4  | loss: 0.06882 | val_0_auc: 0.98728 |  0:00:00s\n",
      "epoch 5  | loss: 0.05294 | val_0_auc: 0.99042 |  0:00:00s\n",
      "epoch 6  | loss: 0.04291 | val_0_auc: 0.99243 |  0:00:00s\n",
      "epoch 7  | loss: 0.03888 | val_0_auc: 0.99494 |  0:00:01s\n",
      "epoch 8  | loss: 0.03289 | val_0_auc: 0.9956  |  0:00:01s\n",
      "epoch 9  | loss: 0.03149 | val_0_auc: 0.99592 |  0:00:01s\n",
      "epoch 10 | loss: 0.03208 | val_0_auc: 0.99572 |  0:00:01s\n",
      "epoch 11 | loss: 0.02688 | val_0_auc: 0.99572 |  0:00:01s\n",
      "epoch 12 | loss: 0.03098 | val_0_auc: 0.99553 |  0:00:01s\n",
      "epoch 13 | loss: 0.02599 | val_0_auc: 0.99545 |  0:00:01s\n",
      "epoch 14 | loss: 0.02749 | val_0_auc: 0.99521 |  0:00:02s\n",
      "epoch 15 | loss: 0.01955 | val_0_auc: 0.99525 |  0:00:02s\n",
      "epoch 16 | loss: 0.03211 | val_0_auc: 0.99525 |  0:00:02s\n",
      "epoch 17 | loss: 0.02567 | val_0_auc: 0.9949  |  0:00:02s\n",
      "epoch 18 | loss: 0.02012 | val_0_auc: 0.99458 |  0:00:02s\n",
      "epoch 19 | loss: 0.02265 | val_0_auc: 0.99462 |  0:00:02s\n",
      "\n",
      "Early stopping occurred at epoch 19 with best_epoch = 9 and best_val_0_auc = 0.99592\n",
      "Best weights from best epoch are automatically used!\n"
     ]
    }
   ],
   "source": [
    "clf = TabNetClassifier()\n",
    "clf.fit(\n",
    "  X_train, y_train,\n",
    "  eval_set=[(X_valid, y_valid)]\n",
    ")\n",
    "\n",
    "tabnet_preds = clf.predict(X_test)\n",
    "tabnet_auc = roc_auc_score(y_test, tabnet_preds)"
   ]
  },
  {
   "cell_type": "code",
   "execution_count": 4,
   "metadata": {
    "ExecuteTime": {
     "end_time": "2022-11-23T03:56:28.256775Z",
     "start_time": "2022-11-23T03:56:28.252155Z"
    }
   },
   "outputs": [
    {
     "name": "stdout",
     "output_type": "stream",
     "text": [
      "0.9853766025641024\n"
     ]
    }
   ],
   "source": [
    "print(tabnet_auc)"
   ]
  },
  {
   "cell_type": "code",
   "execution_count": null,
   "metadata": {},
   "outputs": [],
   "source": []
  }
 ],
 "metadata": {
  "kernelspec": {
   "display_name": "Python 3",
   "language": "python",
   "name": "python3"
  },
  "toc": {
   "base_numbering": 1,
   "nav_menu": {},
   "number_sections": true,
   "sideBar": true,
   "skip_h1_title": false,
   "title_cell": "Table of Contents",
   "title_sidebar": "Contents",
   "toc_cell": false,
   "toc_position": {},
   "toc_section_display": true,
   "toc_window_display": false
  },
  "varInspector": {
   "cols": {
    "lenName": 16,
    "lenType": 16,
    "lenVar": 40
   },
   "kernels_config": {
    "python": {
     "delete_cmd_postfix": "",
     "delete_cmd_prefix": "del ",
     "library": "var_list.py",
     "varRefreshCmd": "print(var_dic_list())"
    },
    "r": {
     "delete_cmd_postfix": ") ",
     "delete_cmd_prefix": "rm(",
     "library": "var_list.r",
     "varRefreshCmd": "cat(var_dic_list()) "
    }
   },
   "types_to_exclude": [
    "module",
    "function",
    "builtin_function_or_method",
    "instance",
    "_Feature"
   ],
   "window_display": false
  }
 },
 "nbformat": 4,
 "nbformat_minor": 2
}
