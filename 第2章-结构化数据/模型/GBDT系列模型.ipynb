{
 "cells": [
  {
   "cell_type": "markdown",
   "metadata": {},
   "source": [
    "# import包"
   ]
  },
  {
   "cell_type": "code",
   "execution_count": 1,
   "metadata": {
    "ExecuteTime": {
     "end_time": "2023-01-03T12:51:47.182641Z",
     "start_time": "2023-01-03T12:51:46.311081Z"
    }
   },
   "outputs": [
    {
     "name": "stderr",
     "output_type": "stream",
     "text": [
      "/home/caihengxing/anaconda3/lib/python3.7/site-packages/pandas/compat/_optional.py:138: UserWarning: Pandas requires version '2.7.0' or newer of 'numexpr' (version '2.6.9' currently installed).\n",
      "  warnings.warn(msg, UserWarning)\n"
     ]
    }
   ],
   "source": [
    "import pandas as pd\n",
    "import numpy as np\n",
    "import os\n",
    "from tqdm import tqdm\n",
    "from sklearn.datasets import make_regression\n",
    "from sklearn.model_selection import train_test_split\n",
    "from sklearn.metrics import mean_squared_error\n",
    "\n",
    "import xgboost as xgb\n",
    "import lightgbm as lgb\n",
    "from catboost import CatBoostRegressor, Pool\n",
    "\n",
    "from sklearn.preprocessing import LabelEncoder\n",
    "from tqdm import tqdm_notebook\n",
    "\n",
    "import warnings\n",
    "warnings.filterwarnings('ignore')"
   ]
  },
  {
   "cell_type": "markdown",
   "metadata": {},
   "source": [
    "# 准备数据"
   ]
  },
  {
   "cell_type": "code",
   "execution_count": 2,
   "metadata": {
    "ExecuteTime": {
     "end_time": "2023-01-03T12:51:47.197865Z",
     "start_time": "2023-01-03T12:51:47.184581Z"
    }
   },
   "outputs": [],
   "source": [
    "data = pd.read_csv('./flchain.csv')"
   ]
  },
  {
   "cell_type": "code",
   "execution_count": 3,
   "metadata": {
    "ExecuteTime": {
     "end_time": "2023-01-03T12:51:47.426331Z",
     "start_time": "2023-01-03T12:51:47.199497Z"
    }
   },
   "outputs": [],
   "source": [
    "used_features = ['age', 'chapter', 'creatinine', 'flc.grp', 'kappa', 'lambda', 'mgus', 'sample.yr', 'sex']\n",
    "cat_features = ['chapter', 'mgus', 'sex']\n",
    "label = 'label'\n",
    "data = data[used_features + [label]]"
   ]
  },
  {
   "cell_type": "code",
   "execution_count": 4,
   "metadata": {
    "ExecuteTime": {
     "end_time": "2023-01-03T12:51:47.514011Z",
     "start_time": "2023-01-03T12:51:47.429251Z"
    },
    "scrolled": true
   },
   "outputs": [
    {
     "data": {
      "application/vnd.jupyter.widget-view+json": {
       "model_id": "21890ba2dfbf4f26905b71cb53ed6ad7",
       "version_major": 2,
       "version_minor": 0
      },
      "text/plain": [
       "  0%|          | 0/3 [00:00<?, ?it/s]"
      ]
     },
     "metadata": {},
     "output_type": "display_data"
    }
   ],
   "source": [
    "for f in tqdm_notebook(cat_features):\n",
    "    lbl = LabelEncoder()\n",
    "    data[f] = lbl.fit_transform(data[f])"
   ]
  },
  {
   "cell_type": "code",
   "execution_count": 5,
   "metadata": {
    "ExecuteTime": {
     "end_time": "2023-01-03T12:51:47.545779Z",
     "start_time": "2023-01-03T12:51:47.516322Z"
    },
    "scrolled": true
   },
   "outputs": [
    {
     "data": {
      "text/html": [
       "<div>\n",
       "<style scoped>\n",
       "    .dataframe tbody tr th:only-of-type {\n",
       "        vertical-align: middle;\n",
       "    }\n",
       "\n",
       "    .dataframe tbody tr th {\n",
       "        vertical-align: top;\n",
       "    }\n",
       "\n",
       "    .dataframe thead th {\n",
       "        text-align: right;\n",
       "    }\n",
       "</style>\n",
       "<table border=\"1\" class=\"dataframe\">\n",
       "  <thead>\n",
       "    <tr style=\"text-align: right;\">\n",
       "      <th></th>\n",
       "      <th>age</th>\n",
       "      <th>chapter</th>\n",
       "      <th>creatinine</th>\n",
       "      <th>flc.grp</th>\n",
       "      <th>kappa</th>\n",
       "      <th>lambda</th>\n",
       "      <th>mgus</th>\n",
       "      <th>sample.yr</th>\n",
       "      <th>sex</th>\n",
       "      <th>label</th>\n",
       "    </tr>\n",
       "  </thead>\n",
       "  <tbody>\n",
       "    <tr>\n",
       "      <th>0</th>\n",
       "      <td>97.0</td>\n",
       "      <td>1</td>\n",
       "      <td>1.7</td>\n",
       "      <td>10</td>\n",
       "      <td>5.70</td>\n",
       "      <td>4.860</td>\n",
       "      <td>0</td>\n",
       "      <td>1997</td>\n",
       "      <td>0</td>\n",
       "      <td>85.0</td>\n",
       "    </tr>\n",
       "    <tr>\n",
       "      <th>1</th>\n",
       "      <td>92.0</td>\n",
       "      <td>12</td>\n",
       "      <td>0.9</td>\n",
       "      <td>1</td>\n",
       "      <td>0.87</td>\n",
       "      <td>0.683</td>\n",
       "      <td>0</td>\n",
       "      <td>2000</td>\n",
       "      <td>0</td>\n",
       "      <td>1281.0</td>\n",
       "    </tr>\n",
       "    <tr>\n",
       "      <th>2</th>\n",
       "      <td>94.0</td>\n",
       "      <td>1</td>\n",
       "      <td>1.4</td>\n",
       "      <td>10</td>\n",
       "      <td>4.36</td>\n",
       "      <td>3.850</td>\n",
       "      <td>0</td>\n",
       "      <td>1997</td>\n",
       "      <td>0</td>\n",
       "      <td>69.0</td>\n",
       "    </tr>\n",
       "    <tr>\n",
       "      <th>3</th>\n",
       "      <td>92.0</td>\n",
       "      <td>1</td>\n",
       "      <td>1.0</td>\n",
       "      <td>9</td>\n",
       "      <td>2.42</td>\n",
       "      <td>2.220</td>\n",
       "      <td>0</td>\n",
       "      <td>1996</td>\n",
       "      <td>0</td>\n",
       "      <td>115.0</td>\n",
       "    </tr>\n",
       "    <tr>\n",
       "      <th>4</th>\n",
       "      <td>93.0</td>\n",
       "      <td>1</td>\n",
       "      <td>1.1</td>\n",
       "      <td>6</td>\n",
       "      <td>1.32</td>\n",
       "      <td>1.690</td>\n",
       "      <td>0</td>\n",
       "      <td>1996</td>\n",
       "      <td>0</td>\n",
       "      <td>1039.0</td>\n",
       "    </tr>\n",
       "  </tbody>\n",
       "</table>\n",
       "</div>"
      ],
      "text/plain": [
       "    age  chapter  creatinine  flc.grp  kappa  lambda  mgus  sample.yr  sex  \\\n",
       "0  97.0        1         1.7       10   5.70   4.860     0       1997    0   \n",
       "1  92.0       12         0.9        1   0.87   0.683     0       2000    0   \n",
       "2  94.0        1         1.4       10   4.36   3.850     0       1997    0   \n",
       "3  92.0        1         1.0        9   2.42   2.220     0       1996    0   \n",
       "4  93.0        1         1.1        6   1.32   1.690     0       1996    0   \n",
       "\n",
       "    label  \n",
       "0    85.0  \n",
       "1  1281.0  \n",
       "2    69.0  \n",
       "3   115.0  \n",
       "4  1039.0  "
      ]
     },
     "execution_count": 5,
     "metadata": {},
     "output_type": "execute_result"
    }
   ],
   "source": [
    "data.head()"
   ]
  },
  {
   "cell_type": "code",
   "execution_count": 6,
   "metadata": {
    "ExecuteTime": {
     "end_time": "2023-01-03T12:51:47.611641Z",
     "start_time": "2023-01-03T12:51:47.547846Z"
    }
   },
   "outputs": [],
   "source": [
    "X_train, X_test, y_train, y_test = train_test_split(data[used_features], data[label], test_size=0.2, \n",
    "                                                    random_state=42)\n",
    "X_train, X_valid, y_train, y_valid = train_test_split(X_train, y_train, test_size=.2)"
   ]
  },
  {
   "cell_type": "markdown",
   "metadata": {},
   "source": [
    "# xgboost"
   ]
  },
  {
   "cell_type": "code",
   "execution_count": 7,
   "metadata": {
    "ExecuteTime": {
     "end_time": "2023-01-03T12:51:50.624602Z",
     "start_time": "2023-01-03T12:51:47.614560Z"
    },
    "scrolled": true
   },
   "outputs": [
    {
     "name": "stdout",
     "output_type": "stream",
     "text": [
      "[20:51:47] WARNING: ../src/objective/regression_obj.cu:171: reg:linear is now deprecated in favor of reg:squarederror.\n",
      "[0]\ttrain-rmse:3641.23877\tvalid-rmse:3658.87207\n",
      "[50]\ttrain-rmse:1803.66504\tvalid-rmse:1862.48181\n",
      "[100]\ttrain-rmse:1781.60059\tvalid-rmse:1849.19141\n",
      "[133]\ttrain-rmse:1769.63159\tvalid-rmse:1847.17151\n"
     ]
    }
   ],
   "source": [
    "params = {\n",
    "        'objective': 'reg:linear', \n",
    "        'eval_metric':  'rmse',\n",
    "        'learning_rate': 0.1,\n",
    "        'max_depth': 2,\n",
    "}\n",
    "\n",
    "trn_data = xgb.DMatrix(X_train, label=y_train)\n",
    "val_data = xgb.DMatrix(X_valid, label=y_valid)\n",
    "\n",
    "clf = xgb.train(params, trn_data, \n",
    "                num_boost_round=2000, \n",
    "                evals=[(trn_data, 'train'), (val_data, 'valid')],\n",
    "                verbose_eval=50, \n",
    "                early_stopping_rounds=10)\n",
    "\n",
    "xgb_preds = clf.predict(xgb.DMatrix(X_test))\n",
    "xgb_rmse = mean_squared_error(y_test, xgb_preds, squared=False)"
   ]
  },
  {
   "cell_type": "code",
   "execution_count": 8,
   "metadata": {
    "ExecuteTime": {
     "end_time": "2023-01-03T12:51:50.632962Z",
     "start_time": "2023-01-03T12:51:50.629097Z"
    },
    "scrolled": true
   },
   "outputs": [
    {
     "name": "stdout",
     "output_type": "stream",
     "text": [
      "1807.7553467860912\n"
     ]
    }
   ],
   "source": [
    "print(xgb_rmse)"
   ]
  },
  {
   "cell_type": "markdown",
   "metadata": {},
   "source": [
    "# lightgbm"
   ]
  },
  {
   "cell_type": "code",
   "execution_count": 9,
   "metadata": {
    "ExecuteTime": {
     "end_time": "2023-01-03T12:51:50.817613Z",
     "start_time": "2023-01-03T12:51:50.635816Z"
    }
   },
   "outputs": [
    {
     "name": "stdout",
     "output_type": "stream",
     "text": [
      "[LightGBM] [Warning] Auto-choosing row-wise multi-threading, the overhead of testing was 0.000453 seconds.\n",
      "You can set `force_row_wise=true` to remove the overhead.\n",
      "And if memory is not enough, you can set `force_col_wise=true`.\n",
      "[LightGBM] [Info] Total Bins 629\n",
      "[LightGBM] [Info] Number of data points in the train set: 5039, number of used features: 9\n",
      "[LightGBM] [Info] Start training from score -2476.726136\n",
      "Training until validation scores don't improve for 20 rounds\n",
      "[50]\ttraining's rmse: 1800.93\tvalid_1's rmse: 1865.63\n",
      "[LightGBM] [Warning] No further splits with positive gain, best gain: -inf\n",
      "[LightGBM] [Warning] No further splits with positive gain, best gain: -inf\n",
      "[LightGBM] [Warning] No further splits with positive gain, best gain: -inf\n",
      "[LightGBM] [Warning] No further splits with positive gain, best gain: -inf\n",
      "[100]\ttraining's rmse: 1780.1\tvalid_1's rmse: 1853.02\n",
      "[LightGBM] [Warning] No further splits with positive gain, best gain: -inf\n",
      "[LightGBM] [Warning] No further splits with positive gain, best gain: -inf\n",
      "[LightGBM] [Warning] No further splits with positive gain, best gain: -inf\n",
      "[LightGBM] [Warning] No further splits with positive gain, best gain: -inf\n",
      "[150]\ttraining's rmse: 1766.67\tvalid_1's rmse: 1847.39\n",
      "[LightGBM] [Warning] No further splits with positive gain, best gain: -inf\n",
      "[LightGBM] [Warning] No further splits with positive gain, best gain: -inf\n",
      "[LightGBM] [Warning] No further splits with positive gain, best gain: -inf\n",
      "[LightGBM] [Warning] No further splits with positive gain, best gain: -inf\n",
      "[LightGBM] [Warning] No further splits with positive gain, best gain: -inf\n",
      "[LightGBM] [Warning] No further splits with positive gain, best gain: -inf\n",
      "[LightGBM] [Warning] No further splits with positive gain, best gain: -inf\n",
      "[LightGBM] [Warning] No further splits with positive gain, best gain: -inf\n",
      "[LightGBM] [Warning] No further splits with positive gain, best gain: -inf\n",
      "[LightGBM] [Warning] No further splits with positive gain, best gain: -inf\n",
      "[200]\ttraining's rmse: 1756.53\tvalid_1's rmse: 1845.68\n",
      "[LightGBM] [Warning] No further splits with positive gain, best gain: -inf\n",
      "[LightGBM] [Warning] No further splits with positive gain, best gain: -inf\n",
      "[LightGBM] [Warning] No further splits with positive gain, best gain: -inf\n",
      "[LightGBM] [Warning] No further splits with positive gain, best gain: -inf\n",
      "[LightGBM] [Warning] No further splits with positive gain, best gain: -inf\n",
      "[LightGBM] [Warning] No further splits with positive gain, best gain: -inf\n",
      "[LightGBM] [Warning] No further splits with positive gain, best gain: -inf\n",
      "[LightGBM] [Warning] No further splits with positive gain, best gain: -inf\n",
      "[LightGBM] [Warning] No further splits with positive gain, best gain: -inf\n",
      "[LightGBM] [Warning] No further splits with positive gain, best gain: -inf\n",
      "[250]\ttraining's rmse: 1745.99\tvalid_1's rmse: 1844.14\n",
      "[LightGBM] [Warning] No further splits with positive gain, best gain: -inf\n",
      "[LightGBM] [Warning] No further splits with positive gain, best gain: -inf\n",
      "[LightGBM] [Warning] No further splits with positive gain, best gain: -inf\n",
      "[LightGBM] [Warning] No further splits with positive gain, best gain: -inf\n",
      "[LightGBM] [Warning] No further splits with positive gain, best gain: -inf\n",
      "[LightGBM] [Warning] No further splits with positive gain, best gain: -inf\n",
      "[LightGBM] [Warning] No further splits with positive gain, best gain: -inf\n",
      "[LightGBM] [Warning] No further splits with positive gain, best gain: -inf\n",
      "[LightGBM] [Warning] No further splits with positive gain, best gain: -inf\n",
      "[LightGBM] [Warning] No further splits with positive gain, best gain: -inf\n",
      "[LightGBM] [Warning] No further splits with positive gain, best gain: -inf\n",
      "Early stopping, best iteration is:\n",
      "[274]\ttraining's rmse: 1742.34\tvalid_1's rmse: 1843.84\n"
     ]
    }
   ],
   "source": [
    "params = {\n",
    "        'objective': 'regression',\n",
    "        'metric': 'rmse',\n",
    "        'boosting': 'gbdt',\n",
    "        'learning_rate': 0.1,\n",
    "        'max_depth': 2\n",
    "        }\n",
    "\n",
    "trn_data = lgb.Dataset(X_train, label=y_train, categorical_feature=cat_features)\n",
    "val_data = lgb.Dataset(X_valid, label=y_valid, categorical_feature=cat_features)\n",
    "   \n",
    "lgb1 = lgb.train(params, trn_data, \n",
    "                num_boost_round=2000, \n",
    "                valid_sets=[trn_data, val_data], \n",
    "                verbose_eval=50,\n",
    "                early_stopping_rounds=20)\n",
    "\n",
    "lgb_preds = lgb1.predict(X_test)\n",
    "lgb_rmse = mean_squared_error(y_test, lgb_preds, squared=False)"
   ]
  },
  {
   "cell_type": "code",
   "execution_count": 10,
   "metadata": {
    "ExecuteTime": {
     "end_time": "2023-01-03T12:51:50.823118Z",
     "start_time": "2023-01-03T12:51:50.819757Z"
    },
    "scrolled": true
   },
   "outputs": [
    {
     "name": "stdout",
     "output_type": "stream",
     "text": [
      "1799.8615816321906\n"
     ]
    }
   ],
   "source": [
    "print(lgb_rmse)"
   ]
  },
  {
   "cell_type": "markdown",
   "metadata": {},
   "source": [
    "# catboost"
   ]
  },
  {
   "cell_type": "code",
   "execution_count": 11,
   "metadata": {
    "ExecuteTime": {
     "end_time": "2023-01-03T12:51:51.520420Z",
     "start_time": "2023-01-03T12:51:50.825198Z"
    },
    "scrolled": true
   },
   "outputs": [
    {
     "name": "stdout",
     "output_type": "stream",
     "text": [
      "Learning rate set to 0.065639\n",
      "0:\tlearn: 2944.6173637\ttest: 3027.0159274\tbest: 3027.0159274 (0)\ttotal: 54ms\tremaining: 54s\n",
      "50:\tlearn: 1817.5933203\ttest: 1850.5257173\tbest: 1850.5257173 (50)\ttotal: 159ms\tremaining: 2.96s\n"
     ]
    },
    {
     "name": "stderr",
     "output_type": "stream",
     "text": [
      "Warning: Overfitting detector is active, thus evaluation metric is calculated on every iteration. 'metric_period' is ignored for evaluation metric.\n"
     ]
    },
    {
     "name": "stdout",
     "output_type": "stream",
     "text": [
      "100:\tlearn: 1788.9828308\ttest: 1827.0155133\tbest: 1827.0155133 (100)\ttotal: 242ms\tremaining: 2.16s\n",
      "150:\tlearn: 1775.0737893\ttest: 1821.6662264\tbest: 1821.6662264 (150)\ttotal: 331ms\tremaining: 1.86s\n",
      "200:\tlearn: 1765.6089023\ttest: 1818.8915384\tbest: 1818.8915384 (200)\ttotal: 410ms\tremaining: 1.63s\n",
      "Stopped by overfitting detector  (20 iterations wait)\n",
      "\n",
      "bestTest = 1818.339935\n",
      "bestIteration = 211\n",
      "\n",
      "Shrink model to first 212 iterations.\n"
     ]
    }
   ],
   "source": [
    "train_pool = Pool(X_train, label=y_train, cat_features=cat_features)\n",
    "valid_pool = Pool(X_valid, label=y_valid, cat_features=cat_features)\n",
    "\n",
    "cat1 = CatBoostRegressor(iterations=1000,\n",
    "                         loss_function='RMSE',\n",
    "                         eval_metric='RMSE',\n",
    "                         metric_period=50,\n",
    "                         max_depth=3,\n",
    "                         early_stopping_rounds = 20\n",
    "                         )\n",
    "cat1.fit(train_pool, eval_set=valid_pool)\n",
    "\n",
    "cat_preds = cat1.predict(X_test)\n",
    "cat_rmse = mean_squared_error(y_test, cat_preds, squared=False)"
   ]
  },
  {
   "cell_type": "code",
   "execution_count": 12,
   "metadata": {
    "ExecuteTime": {
     "end_time": "2023-01-03T12:51:51.526083Z",
     "start_time": "2023-01-03T12:51:51.522676Z"
    }
   },
   "outputs": [
    {
     "name": "stdout",
     "output_type": "stream",
     "text": [
      "1788.9309995540748\n"
     ]
    }
   ],
   "source": [
    "print(cat_rmse)"
   ]
  },
  {
   "cell_type": "markdown",
   "metadata": {},
   "source": [
    "# 结果对比   "
   ]
  },
  {
   "cell_type": "code",
   "execution_count": 13,
   "metadata": {
    "ExecuteTime": {
     "end_time": "2023-01-03T12:51:51.532727Z",
     "start_time": "2023-01-03T12:51:51.528154Z"
    }
   },
   "outputs": [],
   "source": [
    "# xgboost: 1800.8353166725096 \n",
    "# lightgbm: 1800.565240086788\n",
    "# catboost: 1783.0293068431859"
   ]
  },
  {
   "cell_type": "code",
   "execution_count": null,
   "metadata": {},
   "outputs": [],
   "source": []
  }
 ],
 "metadata": {
  "kernelspec": {
   "display_name": "Python 3",
   "language": "python",
   "name": "python3"
  },
  "language_info": {
   "codemirror_mode": {
    "name": "ipython",
    "version": 3
   },
   "file_extension": ".py",
   "mimetype": "text/x-python",
   "name": "python",
   "nbconvert_exporter": "python",
   "pygments_lexer": "ipython3",
   "version": "3.7.3"
  },
  "toc": {
   "base_numbering": 1,
   "nav_menu": {},
   "number_sections": true,
   "sideBar": true,
   "skip_h1_title": false,
   "title_cell": "Table of Contents",
   "title_sidebar": "Contents",
   "toc_cell": false,
   "toc_position": {},
   "toc_section_display": true,
   "toc_window_display": true
  },
  "varInspector": {
   "cols": {
    "lenName": 16,
    "lenType": 16,
    "lenVar": 40
   },
   "kernels_config": {
    "python": {
     "delete_cmd_postfix": "",
     "delete_cmd_prefix": "del ",
     "library": "var_list.py",
     "varRefreshCmd": "print(var_dic_list())"
    },
    "r": {
     "delete_cmd_postfix": ") ",
     "delete_cmd_prefix": "rm(",
     "library": "var_list.r",
     "varRefreshCmd": "cat(var_dic_list()) "
    }
   },
   "types_to_exclude": [
    "module",
    "function",
    "builtin_function_or_method",
    "instance",
    "_Feature"
   ],
   "window_display": false
  }
 },
 "nbformat": 4,
 "nbformat_minor": 2
}
