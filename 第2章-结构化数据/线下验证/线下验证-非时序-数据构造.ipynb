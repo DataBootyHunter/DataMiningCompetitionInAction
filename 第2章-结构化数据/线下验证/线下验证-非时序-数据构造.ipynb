{
 "cells": [
  {
   "cell_type": "code",
   "execution_count": 1,
   "metadata": {},
   "outputs": [],
   "source": [
    "import pandas as pd\n",
    "import numpy as np\n",
    "import os\n",
    "from tqdm import tqdm\n",
    "from sklearn.datasets import make_classification"
   ]
  },
  {
   "cell_type": "code",
   "execution_count": 2,
   "metadata": {},
   "outputs": [],
   "source": [
    "X, y = make_classification(n_samples = 2000, n_features = 6, random_state=0, weights = [0.1, 0.9])"
   ]
  },
  {
   "cell_type": "code",
   "execution_count": 3,
   "metadata": {
    "scrolled": true
   },
   "outputs": [],
   "source": [
    "df = pd.DataFrame(X)\n",
    "df.columns = [f'feature_{x}' for x in range(1,7)]\n",
    "df['label'] = y\n",
    "df['user_id'] = np.random.randint(1,10,size=2000)"
   ]
  },
  {
   "cell_type": "code",
   "execution_count": 4,
   "metadata": {
    "scrolled": true
   },
   "outputs": [],
   "source": [
    "df = df[['user_id', 'feature_1', 'feature_2', 'feature_3', 'feature_4', 'feature_5',\n",
    "       'feature_6', 'label']]"
   ]
  },
  {
   "cell_type": "code",
   "execution_count": 5,
   "metadata": {
    "scrolled": true
   },
   "outputs": [
    {
     "data": {
      "text/html": [
       "<div>\n",
       "<style scoped>\n",
       "    .dataframe tbody tr th:only-of-type {\n",
       "        vertical-align: middle;\n",
       "    }\n",
       "\n",
       "    .dataframe tbody tr th {\n",
       "        vertical-align: top;\n",
       "    }\n",
       "\n",
       "    .dataframe thead th {\n",
       "        text-align: right;\n",
       "    }\n",
       "</style>\n",
       "<table border=\"1\" class=\"dataframe\">\n",
       "  <thead>\n",
       "    <tr style=\"text-align: right;\">\n",
       "      <th></th>\n",
       "      <th>user_id</th>\n",
       "      <th>feature_1</th>\n",
       "      <th>feature_2</th>\n",
       "      <th>feature_3</th>\n",
       "      <th>feature_4</th>\n",
       "      <th>feature_5</th>\n",
       "      <th>feature_6</th>\n",
       "      <th>label</th>\n",
       "    </tr>\n",
       "  </thead>\n",
       "  <tbody>\n",
       "    <tr>\n",
       "      <th>0</th>\n",
       "      <td>7</td>\n",
       "      <td>1.479715</td>\n",
       "      <td>0.625549</td>\n",
       "      <td>0.417854</td>\n",
       "      <td>-0.634224</td>\n",
       "      <td>0.072952</td>\n",
       "      <td>-0.514878</td>\n",
       "      <td>1</td>\n",
       "    </tr>\n",
       "    <tr>\n",
       "      <th>1</th>\n",
       "      <td>1</td>\n",
       "      <td>-0.634867</td>\n",
       "      <td>-0.886450</td>\n",
       "      <td>0.811090</td>\n",
       "      <td>-0.166278</td>\n",
       "      <td>0.069775</td>\n",
       "      <td>1.077315</td>\n",
       "      <td>0</td>\n",
       "    </tr>\n",
       "    <tr>\n",
       "      <th>2</th>\n",
       "      <td>9</td>\n",
       "      <td>0.159583</td>\n",
       "      <td>1.223940</td>\n",
       "      <td>0.886659</td>\n",
       "      <td>0.751889</td>\n",
       "      <td>-0.181258</td>\n",
       "      <td>-0.280315</td>\n",
       "      <td>1</td>\n",
       "    </tr>\n",
       "    <tr>\n",
       "      <th>3</th>\n",
       "      <td>6</td>\n",
       "      <td>1.492609</td>\n",
       "      <td>0.545842</td>\n",
       "      <td>1.512770</td>\n",
       "      <td>-0.700152</td>\n",
       "      <td>0.087514</td>\n",
       "      <td>-0.088724</td>\n",
       "      <td>1</td>\n",
       "    </tr>\n",
       "    <tr>\n",
       "      <th>4</th>\n",
       "      <td>2</td>\n",
       "      <td>-1.233365</td>\n",
       "      <td>0.363023</td>\n",
       "      <td>1.822393</td>\n",
       "      <td>1.155959</td>\n",
       "      <td>-0.205442</td>\n",
       "      <td>0.307165</td>\n",
       "      <td>1</td>\n",
       "    </tr>\n",
       "    <tr>\n",
       "      <th>...</th>\n",
       "      <td>...</td>\n",
       "      <td>...</td>\n",
       "      <td>...</td>\n",
       "      <td>...</td>\n",
       "      <td>...</td>\n",
       "      <td>...</td>\n",
       "      <td>...</td>\n",
       "      <td>...</td>\n",
       "    </tr>\n",
       "    <tr>\n",
       "      <th>1995</th>\n",
       "      <td>8</td>\n",
       "      <td>1.345541</td>\n",
       "      <td>0.840107</td>\n",
       "      <td>-1.678002</td>\n",
       "      <td>-0.384296</td>\n",
       "      <td>0.021973</td>\n",
       "      <td>0.418131</td>\n",
       "      <td>1</td>\n",
       "    </tr>\n",
       "    <tr>\n",
       "      <th>1996</th>\n",
       "      <td>9</td>\n",
       "      <td>0.782955</td>\n",
       "      <td>-1.291410</td>\n",
       "      <td>-0.545628</td>\n",
       "      <td>-1.486354</td>\n",
       "      <td>0.303922</td>\n",
       "      <td>-0.882769</td>\n",
       "      <td>0</td>\n",
       "    </tr>\n",
       "    <tr>\n",
       "      <th>1997</th>\n",
       "      <td>6</td>\n",
       "      <td>-0.684974</td>\n",
       "      <td>0.887981</td>\n",
       "      <td>2.536914</td>\n",
       "      <td>1.128826</td>\n",
       "      <td>-0.226342</td>\n",
       "      <td>0.447113</td>\n",
       "      <td>1</td>\n",
       "    </tr>\n",
       "    <tr>\n",
       "      <th>1998</th>\n",
       "      <td>3</td>\n",
       "      <td>0.826532</td>\n",
       "      <td>1.015088</td>\n",
       "      <td>0.784878</td>\n",
       "      <td>0.117900</td>\n",
       "      <td>-0.068112</td>\n",
       "      <td>1.165867</td>\n",
       "      <td>1</td>\n",
       "    </tr>\n",
       "    <tr>\n",
       "      <th>1999</th>\n",
       "      <td>9</td>\n",
       "      <td>-1.500296</td>\n",
       "      <td>1.013344</td>\n",
       "      <td>-0.193539</td>\n",
       "      <td>1.811682</td>\n",
       "      <td>-0.343408</td>\n",
       "      <td>0.779547</td>\n",
       "      <td>1</td>\n",
       "    </tr>\n",
       "  </tbody>\n",
       "</table>\n",
       "<p>2000 rows × 8 columns</p>\n",
       "</div>"
      ],
      "text/plain": [
       "      user_id  feature_1  feature_2  feature_3  feature_4  feature_5  \\\n",
       "0           7   1.479715   0.625549   0.417854  -0.634224   0.072952   \n",
       "1           1  -0.634867  -0.886450   0.811090  -0.166278   0.069775   \n",
       "2           9   0.159583   1.223940   0.886659   0.751889  -0.181258   \n",
       "3           6   1.492609   0.545842   1.512770  -0.700152   0.087514   \n",
       "4           2  -1.233365   0.363023   1.822393   1.155959  -0.205442   \n",
       "...       ...        ...        ...        ...        ...        ...   \n",
       "1995        8   1.345541   0.840107  -1.678002  -0.384296   0.021973   \n",
       "1996        9   0.782955  -1.291410  -0.545628  -1.486354   0.303922   \n",
       "1997        6  -0.684974   0.887981   2.536914   1.128826  -0.226342   \n",
       "1998        3   0.826532   1.015088   0.784878   0.117900  -0.068112   \n",
       "1999        9  -1.500296   1.013344  -0.193539   1.811682  -0.343408   \n",
       "\n",
       "      feature_6  label  \n",
       "0     -0.514878      1  \n",
       "1      1.077315      0  \n",
       "2     -0.280315      1  \n",
       "3     -0.088724      1  \n",
       "4      0.307165      1  \n",
       "...         ...    ...  \n",
       "1995   0.418131      1  \n",
       "1996  -0.882769      0  \n",
       "1997   0.447113      1  \n",
       "1998   1.165867      1  \n",
       "1999   0.779547      1  \n",
       "\n",
       "[2000 rows x 8 columns]"
      ]
     },
     "execution_count": 5,
     "metadata": {},
     "output_type": "execute_result"
    }
   ],
   "source": [
    "df"
   ]
  },
  {
   "cell_type": "code",
   "execution_count": 6,
   "metadata": {},
   "outputs": [],
   "source": [
    "from sklearn.model_selection import train_test_split\n",
    "train, test = train_test_split(df, test_size=0.2, random_state=42)"
   ]
  },
  {
   "cell_type": "code",
   "execution_count": 7,
   "metadata": {
    "scrolled": false
   },
   "outputs": [
    {
     "name": "stderr",
     "output_type": "stream",
     "text": [
      "/Users/poteman/AnacondaInstall/anaconda3/lib/python3.7/site-packages/ipykernel_launcher.py:1: SettingWithCopyWarning: \n",
      "A value is trying to be set on a copy of a slice from a DataFrame.\n",
      "Try using .loc[row_indexer,col_indexer] = value instead\n",
      "\n",
      "See the caveats in the documentation: https://pandas.pydata.org/pandas-docs/stable/user_guide/indexing.html#returning-a-view-versus-a-copy\n",
      "  \"\"\"Entry point for launching an IPython kernel.\n",
      "/Users/poteman/AnacondaInstall/anaconda3/lib/python3.7/site-packages/ipykernel_launcher.py:2: SettingWithCopyWarning: \n",
      "A value is trying to be set on a copy of a slice from a DataFrame.\n",
      "Try using .loc[row_indexer,col_indexer] = value instead\n",
      "\n",
      "See the caveats in the documentation: https://pandas.pydata.org/pandas-docs/stable/user_guide/indexing.html#returning-a-view-versus-a-copy\n",
      "  \n"
     ]
    }
   ],
   "source": [
    "train['id'] = range(len(train))\n",
    "test['id'] = range(len(test))"
   ]
  },
  {
   "cell_type": "code",
   "execution_count": 8,
   "metadata": {},
   "outputs": [],
   "source": [
    "train = train[['id','user_id', 'feature_1', 'feature_2', 'feature_3', 'feature_4', 'feature_5',\n",
    "       'feature_6', 'label']]\n",
    "test = test[['id','user_id', 'feature_1', 'feature_2', 'feature_3', 'feature_4', 'feature_5',\n",
    "       'feature_6']]"
   ]
  },
  {
   "cell_type": "code",
   "execution_count": 9,
   "metadata": {},
   "outputs": [],
   "source": [
    "train.to_csv('train.csv', index = False)\n",
    "test.to_csv('test.csv', index = False)"
   ]
  }
 ],
 "metadata": {
  "kernelspec": {
   "display_name": "Python 3",
   "language": "python",
   "name": "python3"
  },
  "language_info": {
   "codemirror_mode": {
    "name": "ipython",
    "version": 3
   },
   "file_extension": ".py",
   "mimetype": "text/x-python",
   "name": "python",
   "nbconvert_exporter": "python",
   "pygments_lexer": "ipython3",
   "version": "3.7.4"
  },
  "toc": {
   "base_numbering": 1,
   "nav_menu": {},
   "number_sections": true,
   "sideBar": true,
   "skip_h1_title": false,
   "title_cell": "Table of Contents",
   "title_sidebar": "Contents",
   "toc_cell": false,
   "toc_position": {},
   "toc_section_display": true,
   "toc_window_display": false
  }
 },
 "nbformat": 4,
 "nbformat_minor": 2
}