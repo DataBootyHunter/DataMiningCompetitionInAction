{
 "cells": [
  {
   "cell_type": "markdown",
   "metadata": {},
   "source": [
    "# import包"
   ]
  },
  {
   "cell_type": "code",
   "execution_count": 1,
   "metadata": {},
   "outputs": [],
   "source": [
    "import pandas as pd\n",
    "import numpy as np\n",
    "import os\n",
    "from sklearn.model_selection import KFold, StratifiedKFold, GroupKFold\n",
    "from sklearn.linear_model import LogisticRegression\n",
    "from sklearn.metrics import roc_auc_score\n",
    "\n",
    "import warnings\n",
    "warnings.filterwarnings('ignore')"
   ]
  },
  {
   "cell_type": "markdown",
   "metadata": {},
   "source": [
    "# 读取数据"
   ]
  },
  {
   "cell_type": "code",
   "execution_count": 2,
   "metadata": {},
   "outputs": [],
   "source": [
    "train = pd.read_csv('./train.csv')\n",
    "test  = pd.read_csv('./test.csv')"
   ]
  },
  {
   "cell_type": "code",
   "execution_count": 3,
   "metadata": {
    "scrolled": true
   },
   "outputs": [
    {
     "data": {
      "text/html": [
       "<div>\n",
       "<style scoped>\n",
       "    .dataframe tbody tr th:only-of-type {\n",
       "        vertical-align: middle;\n",
       "    }\n",
       "\n",
       "    .dataframe tbody tr th {\n",
       "        vertical-align: top;\n",
       "    }\n",
       "\n",
       "    .dataframe thead th {\n",
       "        text-align: right;\n",
       "    }\n",
       "</style>\n",
       "<table border=\"1\" class=\"dataframe\">\n",
       "  <thead>\n",
       "    <tr style=\"text-align: right;\">\n",
       "      <th></th>\n",
       "      <th>id</th>\n",
       "      <th>user_id</th>\n",
       "      <th>feature_1</th>\n",
       "      <th>feature_2</th>\n",
       "      <th>feature_3</th>\n",
       "      <th>feature_4</th>\n",
       "      <th>feature_5</th>\n",
       "      <th>feature_6</th>\n",
       "      <th>label</th>\n",
       "    </tr>\n",
       "  </thead>\n",
       "  <tbody>\n",
       "    <tr>\n",
       "      <th>0</th>\n",
       "      <td>0</td>\n",
       "      <td>6</td>\n",
       "      <td>0.745418</td>\n",
       "      <td>1.133039</td>\n",
       "      <td>0.874877</td>\n",
       "      <td>0.260652</td>\n",
       "      <td>-0.097008</td>\n",
       "      <td>-0.282033</td>\n",
       "      <td>1</td>\n",
       "    </tr>\n",
       "    <tr>\n",
       "      <th>1</th>\n",
       "      <td>1</td>\n",
       "      <td>6</td>\n",
       "      <td>0.840123</td>\n",
       "      <td>1.474252</td>\n",
       "      <td>-1.099343</td>\n",
       "      <td>0.433683</td>\n",
       "      <td>-0.141592</td>\n",
       "      <td>1.104046</td>\n",
       "      <td>1</td>\n",
       "    </tr>\n",
       "    <tr>\n",
       "      <th>2</th>\n",
       "      <td>2</td>\n",
       "      <td>3</td>\n",
       "      <td>0.074803</td>\n",
       "      <td>1.938907</td>\n",
       "      <td>-0.161942</td>\n",
       "      <td>1.320775</td>\n",
       "      <td>-0.308221</td>\n",
       "      <td>0.722852</td>\n",
       "      <td>1</td>\n",
       "    </tr>\n",
       "    <tr>\n",
       "      <th>3</th>\n",
       "      <td>3</td>\n",
       "      <td>7</td>\n",
       "      <td>1.344972</td>\n",
       "      <td>0.930487</td>\n",
       "      <td>-1.765470</td>\n",
       "      <td>-0.319775</td>\n",
       "      <td>0.007126</td>\n",
       "      <td>0.124472</td>\n",
       "      <td>1</td>\n",
       "    </tr>\n",
       "    <tr>\n",
       "      <th>4</th>\n",
       "      <td>4</td>\n",
       "      <td>5</td>\n",
       "      <td>-0.481917</td>\n",
       "      <td>0.589874</td>\n",
       "      <td>-0.633376</td>\n",
       "      <td>0.769459</td>\n",
       "      <td>-0.153542</td>\n",
       "      <td>-0.718210</td>\n",
       "      <td>1</td>\n",
       "    </tr>\n",
       "  </tbody>\n",
       "</table>\n",
       "</div>"
      ],
      "text/plain": [
       "   id  user_id  feature_1  feature_2  feature_3  feature_4  feature_5  \\\n",
       "0   0        6   0.745418   1.133039   0.874877   0.260652  -0.097008   \n",
       "1   1        6   0.840123   1.474252  -1.099343   0.433683  -0.141592   \n",
       "2   2        3   0.074803   1.938907  -0.161942   1.320775  -0.308221   \n",
       "3   3        7   1.344972   0.930487  -1.765470  -0.319775   0.007126   \n",
       "4   4        5  -0.481917   0.589874  -0.633376   0.769459  -0.153542   \n",
       "\n",
       "   feature_6  label  \n",
       "0  -0.282033      1  \n",
       "1   1.104046      1  \n",
       "2   0.722852      1  \n",
       "3   0.124472      1  \n",
       "4  -0.718210      1  "
      ]
     },
     "execution_count": 3,
     "metadata": {},
     "output_type": "execute_result"
    }
   ],
   "source": [
    "train.head()"
   ]
  },
  {
   "cell_type": "code",
   "execution_count": 4,
   "metadata": {
    "scrolled": true
   },
   "outputs": [
    {
     "data": {
      "text/html": [
       "<div>\n",
       "<style scoped>\n",
       "    .dataframe tbody tr th:only-of-type {\n",
       "        vertical-align: middle;\n",
       "    }\n",
       "\n",
       "    .dataframe tbody tr th {\n",
       "        vertical-align: top;\n",
       "    }\n",
       "\n",
       "    .dataframe thead th {\n",
       "        text-align: right;\n",
       "    }\n",
       "</style>\n",
       "<table border=\"1\" class=\"dataframe\">\n",
       "  <thead>\n",
       "    <tr style=\"text-align: right;\">\n",
       "      <th></th>\n",
       "      <th>id</th>\n",
       "      <th>user_id</th>\n",
       "      <th>feature_1</th>\n",
       "      <th>feature_2</th>\n",
       "      <th>feature_3</th>\n",
       "      <th>feature_4</th>\n",
       "      <th>feature_5</th>\n",
       "      <th>feature_6</th>\n",
       "    </tr>\n",
       "  </thead>\n",
       "  <tbody>\n",
       "    <tr>\n",
       "      <th>0</th>\n",
       "      <td>0</td>\n",
       "      <td>9</td>\n",
       "      <td>-0.911395</td>\n",
       "      <td>-1.005623</td>\n",
       "      <td>1.648673</td>\n",
       "      <td>-0.049366</td>\n",
       "      <td>0.056513</td>\n",
       "      <td>0.139963</td>\n",
       "    </tr>\n",
       "    <tr>\n",
       "      <th>1</th>\n",
       "      <td>1</td>\n",
       "      <td>8</td>\n",
       "      <td>1.344412</td>\n",
       "      <td>0.599836</td>\n",
       "      <td>-1.650746</td>\n",
       "      <td>-0.553898</td>\n",
       "      <td>0.061133</td>\n",
       "      <td>1.297092</td>\n",
       "    </tr>\n",
       "    <tr>\n",
       "      <th>2</th>\n",
       "      <td>2</td>\n",
       "      <td>6</td>\n",
       "      <td>-0.108709</td>\n",
       "      <td>1.941218</td>\n",
       "      <td>-1.410857</td>\n",
       "      <td>1.456096</td>\n",
       "      <td>-0.330334</td>\n",
       "      <td>-0.831727</td>\n",
       "    </tr>\n",
       "    <tr>\n",
       "      <th>3</th>\n",
       "      <td>3</td>\n",
       "      <td>8</td>\n",
       "      <td>0.848378</td>\n",
       "      <td>1.206676</td>\n",
       "      <td>-0.643029</td>\n",
       "      <td>0.237879</td>\n",
       "      <td>-0.096856</td>\n",
       "      <td>-0.202360</td>\n",
       "    </tr>\n",
       "    <tr>\n",
       "      <th>4</th>\n",
       "      <td>4</td>\n",
       "      <td>8</td>\n",
       "      <td>2.444736</td>\n",
       "      <td>0.246238</td>\n",
       "      <td>-0.824452</td>\n",
       "      <td>-1.606255</td>\n",
       "      <td>0.249277</td>\n",
       "      <td>-2.291472</td>\n",
       "    </tr>\n",
       "  </tbody>\n",
       "</table>\n",
       "</div>"
      ],
      "text/plain": [
       "   id  user_id  feature_1  feature_2  feature_3  feature_4  feature_5  \\\n",
       "0   0        9  -0.911395  -1.005623   1.648673  -0.049366   0.056513   \n",
       "1   1        8   1.344412   0.599836  -1.650746  -0.553898   0.061133   \n",
       "2   2        6  -0.108709   1.941218  -1.410857   1.456096  -0.330334   \n",
       "3   3        8   0.848378   1.206676  -0.643029   0.237879  -0.096856   \n",
       "4   4        8   2.444736   0.246238  -0.824452  -1.606255   0.249277   \n",
       "\n",
       "   feature_6  \n",
       "0   0.139963  \n",
       "1   1.297092  \n",
       "2  -0.831727  \n",
       "3  -0.202360  \n",
       "4  -2.291472  "
      ]
     },
     "execution_count": 4,
     "metadata": {},
     "output_type": "execute_result"
    }
   ],
   "source": [
    "test.head()"
   ]
  },
  {
   "cell_type": "code",
   "execution_count": 5,
   "metadata": {},
   "outputs": [],
   "source": [
    "target = 'label'\n",
    "used_features = [x for x in train.columns if x not in ['id', target]]"
   ]
  },
  {
   "cell_type": "markdown",
   "metadata": {},
   "source": [
    "# KFold"
   ]
  },
  {
   "cell_type": "code",
   "execution_count": 6,
   "metadata": {
    "scrolled": false
   },
   "outputs": [
    {
     "name": "stdout",
     "output_type": "stream",
     "text": [
      "mean auc: 0.9761302541544478\n"
     ]
    }
   ],
   "source": [
    "sub = test[['id']]\n",
    "sub[target] = 0\n",
    "AUCs = []\n",
    "\n",
    "n_fold = 5\n",
    "folds = KFold(n_splits = n_fold)\n",
    "\n",
    "for train_index, valid_index in folds.split(train[used_features]):\n",
    "    \n",
    "    trn_x, trn_y = train[used_features].iloc[train_index], train[target].iloc[train_index]\n",
    "    val_x, val_y = train[used_features].iloc[valid_index], train[target].iloc[valid_index]\n",
    "    \n",
    "    model = LogisticRegression()\n",
    "    model.fit(trn_x, trn_y)\n",
    "    \n",
    "    val_pred = model.predict(val_x)\n",
    "    \n",
    "    pred = model.predict(test[used_features])\n",
    "    sub[target] = sub[target] + pred / n_fold\n",
    "    \n",
    "    auc_score = roc_auc_score(val_y, val_pred)\n",
    "    AUCs.append(auc_score)\n",
    "\n",
    "print(f'mean auc: {np.mean(AUCs)}')"
   ]
  },
  {
   "cell_type": "markdown",
   "metadata": {},
   "source": [
    "# StratifiedKFold"
   ]
  },
  {
   "cell_type": "code",
   "execution_count": 7,
   "metadata": {},
   "outputs": [
    {
     "name": "stdout",
     "output_type": "stream",
     "text": [
      "mean auc: 0.9760330296198303\n"
     ]
    }
   ],
   "source": [
    "sub = test[['id']]\n",
    "sub[target] = 0\n",
    "AUCs = []\n",
    "\n",
    "n_fold = 5\n",
    "skf = StratifiedKFold(n_splits = n_fold)\n",
    "\n",
    "for train_index, valid_index in skf.split(train[used_features], train[target]):\n",
    "    \n",
    "    trn_x, trn_y = train[used_features].iloc[train_index], train[target].iloc[train_index]\n",
    "    val_x, val_y = train[used_features].iloc[valid_index], train[target].iloc[valid_index]\n",
    "    \n",
    "    model = LogisticRegression()\n",
    "    model.fit(trn_x, trn_y)\n",
    "    \n",
    "    val_pred = model.predict(val_x)\n",
    "    \n",
    "    pred = model.predict(test[used_features])\n",
    "    sub[target] = sub[target] + pred / n_fold\n",
    "    \n",
    "    auc_score = roc_auc_score(val_y, val_pred)\n",
    "    AUCs.append(auc_score)\n",
    "\n",
    "print(f'mean auc: {np.mean(AUCs)}')"
   ]
  },
  {
   "cell_type": "markdown",
   "metadata": {},
   "source": [
    "# GroupKFold"
   ]
  },
  {
   "cell_type": "code",
   "execution_count": 8,
   "metadata": {},
   "outputs": [
    {
     "name": "stdout",
     "output_type": "stream",
     "text": [
      "mean auc: 0.973618705855548\n"
     ]
    }
   ],
   "source": [
    "sub = test[['id']]\n",
    "sub[target] = 0\n",
    "AUCs = []\n",
    "\n",
    "n_fold = 5\n",
    "group_kfold = GroupKFold(n_splits = n_fold)\n",
    "\n",
    "for train_index, valid_index in group_kfold.split(train[used_features], train[target], train['user_id']):\n",
    "    \n",
    "    trn_x, trn_y = train[used_features].iloc[train_index], train[target].iloc[train_index]\n",
    "    val_x, val_y = train[used_features].iloc[valid_index], train[target].iloc[valid_index]\n",
    "    \n",
    "    model = LogisticRegression()\n",
    "    model.fit(trn_x, trn_y)\n",
    "    \n",
    "    val_pred = model.predict(val_x)\n",
    "    \n",
    "    pred = model.predict(test[used_features])\n",
    "    sub[target] = sub[target] + pred / n_fold\n",
    "    \n",
    "    auc_score = roc_auc_score(val_y, val_pred)\n",
    "    AUCs.append(auc_score)\n",
    "\n",
    "print(f'mean auc: {np.mean(AUCs)}')"
   ]
  },
  {
   "cell_type": "code",
   "execution_count": null,
   "metadata": {},
   "outputs": [],
   "source": []
  }
 ],
 "metadata": {
  "kernelspec": {
   "display_name": "Python 3",
   "language": "python",
   "name": "python3"
  },
  "language_info": {
   "codemirror_mode": {
    "name": "ipython",
    "version": 3
   },
   "file_extension": ".py",
   "mimetype": "text/x-python",
   "name": "python",
   "nbconvert_exporter": "python",
   "pygments_lexer": "ipython3",
   "version": "3.7.4"
  },
  "toc": {
   "base_numbering": 1,
   "nav_menu": {},
   "number_sections": true,
   "sideBar": true,
   "skip_h1_title": false,
   "title_cell": "Table of Contents",
   "title_sidebar": "Contents",
   "toc_cell": false,
   "toc_position": {},
   "toc_section_display": true,
   "toc_window_display": false
  }
 },
 "nbformat": 4,
 "nbformat_minor": 2
}
