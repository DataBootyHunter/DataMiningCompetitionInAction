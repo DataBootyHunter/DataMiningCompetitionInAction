{
 "cells": [
  {
   "cell_type": "markdown",
   "metadata": {},
   "source": [
    "# import包"
   ]
  },
  {
   "cell_type": "code",
   "execution_count": 1,
   "metadata": {
    "ExecuteTime": {
     "end_time": "2022-10-21T07:14:42.351845Z",
     "start_time": "2022-10-21T07:14:40.695370Z"
    }
   },
   "outputs": [
    {
     "name": "stderr",
     "output_type": "stream",
     "text": [
      "/home/caihengxing/anaconda3/lib/python3.7/site-packages/pandas/compat/_optional.py:138: UserWarning: Pandas requires version '2.7.0' or newer of 'numexpr' (version '2.6.9' currently installed).\n",
      "  warnings.warn(msg, UserWarning)\n"
     ]
    }
   ],
   "source": [
    "import pandas as pd\n",
    "import numpy as np\n",
    "from scipy.stats import uniform\n",
    "import random\n",
    "import os\n",
    "\n",
    "from sklearn.model_selection import GridSearchCV\n",
    "from sklearn.model_selection import RandomizedSearchCV\n",
    "from sklearn.experimental import enable_halving_search_cv\n",
    "from sklearn.model_selection import HalvingGridSearchCV, HalvingRandomSearchCV\n",
    "import optuna\n",
    "\n",
    "from sklearn.ensemble import RandomForestClassifier\n",
    "from sklearn.model_selection import train_test_split\n",
    "from sklearn.metrics import roc_auc_score\n",
    "\n",
    "import warnings\n",
    "warnings.filterwarnings('ignore')"
   ]
  },
  {
   "cell_type": "code",
   "execution_count": 2,
   "metadata": {
    "ExecuteTime": {
     "end_time": "2022-10-21T07:14:42.356882Z",
     "start_time": "2022-10-21T07:14:42.353879Z"
    },
    "scrolled": true
   },
   "outputs": [],
   "source": [
    "def seed_everything(seed=0):\n",
    "    random.seed(seed)\n",
    "    os.environ['PYTHONHASHSEED'] = str(seed)\n",
    "    np.random.seed(seed)\n",
    "\n",
    "seed_everything(42)"
   ]
  },
  {
   "cell_type": "markdown",
   "metadata": {
    "ExecuteTime": {
     "end_time": "2022-10-19T03:31:54.018929Z",
     "start_time": "2022-10-19T03:31:53.879892Z"
    }
   },
   "source": [
    "# 读取数据"
   ]
  },
  {
   "cell_type": "code",
   "execution_count": 3,
   "metadata": {
    "ExecuteTime": {
     "end_time": "2022-10-21T07:14:42.399248Z",
     "start_time": "2022-10-21T07:14:42.358808Z"
    }
   },
   "outputs": [],
   "source": [
    "path = './heart.csv'\n",
    "df = pd.read_csv(path)"
   ]
  },
  {
   "cell_type": "markdown",
   "metadata": {
    "ExecuteTime": {
     "end_time": "2022-10-19T11:11:59.282810Z",
     "start_time": "2022-10-19T11:11:59.276448Z"
    }
   },
   "source": [
    "# 数据划分"
   ]
  },
  {
   "cell_type": "code",
   "execution_count": 4,
   "metadata": {
    "ExecuteTime": {
     "end_time": "2022-10-21T07:14:42.417576Z",
     "start_time": "2022-10-21T07:14:42.401656Z"
    },
    "scrolled": true
   },
   "outputs": [],
   "source": [
    "target = 'output'\n",
    "used = [x for x in df.columns if x != target]"
   ]
  },
  {
   "cell_type": "code",
   "execution_count": 5,
   "metadata": {
    "ExecuteTime": {
     "end_time": "2022-10-21T07:14:42.453049Z",
     "start_time": "2022-10-21T07:14:42.420437Z"
    }
   },
   "outputs": [],
   "source": [
    "random_state = 1"
   ]
  },
  {
   "cell_type": "code",
   "execution_count": 6,
   "metadata": {
    "ExecuteTime": {
     "end_time": "2022-10-21T07:14:42.478336Z",
     "start_time": "2022-10-21T07:14:42.455924Z"
    }
   },
   "outputs": [],
   "source": [
    "x_train, x_test, y_train, y_test = train_test_split(df[used], df[target], stratify=df[target], \n",
    "                                                    random_state=random_state)"
   ]
  },
  {
   "cell_type": "markdown",
   "metadata": {},
   "source": [
    "# 模型训练与计算准确率"
   ]
  },
  {
   "cell_type": "code",
   "execution_count": 7,
   "metadata": {
    "ExecuteTime": {
     "end_time": "2022-10-21T07:14:42.666941Z",
     "start_time": "2022-10-21T07:14:42.481152Z"
    },
    "scrolled": true
   },
   "outputs": [
    {
     "data": {
      "text/plain": [
       "0.8157894736842105"
      ]
     },
     "execution_count": 7,
     "metadata": {},
     "output_type": "execute_result"
    }
   ],
   "source": [
    "clf = RandomForestClassifier(random_state=42)\n",
    "clf.fit(x_train, y_train)\n",
    "clf.score(x_test, y_test)"
   ]
  },
  {
   "cell_type": "markdown",
   "metadata": {},
   "source": [
    "# GridSearch"
   ]
  },
  {
   "cell_type": "code",
   "execution_count": 8,
   "metadata": {
    "ExecuteTime": {
     "end_time": "2022-10-21T07:15:20.062528Z",
     "start_time": "2022-10-21T07:14:42.668372Z"
    }
   },
   "outputs": [
    {
     "name": "stdout",
     "output_type": "stream",
     "text": [
      "Fitting 5 folds for each of 60 candidates, totalling 300 fits\n",
      "{'max_depth': 2, 'min_samples_leaf': 3, 'min_samples_split': 2, 'min_weight_fraction_leaf': 0}\n",
      "0.8157894736842105\n"
     ]
    }
   ],
   "source": [
    "parameters = {\n",
    "    'max_depth': [2,3,4,5,6],\n",
    "    'min_samples_split': [2,3],\n",
    "    'min_samples_leaf': [2,3],\n",
    "    'min_weight_fraction_leaf': [0, 0.1, 0.2]\n",
    "}\n",
    "\n",
    "clf = GridSearchCV(\n",
    "    RandomForestClassifier(random_state=42),\n",
    "    parameters, refit=True, verbose=1,\n",
    ")\n",
    "clf.fit(x_train, y_train)\n",
    "\n",
    "# 打印最优参数\n",
    "print(clf.best_params_)\n",
    "\n",
    "# 使用最优参数评估测试集\n",
    "print(clf.best_estimator_.score(x_test, y_test))"
   ]
  },
  {
   "cell_type": "markdown",
   "metadata": {},
   "source": [
    "# Random Search "
   ]
  },
  {
   "cell_type": "code",
   "execution_count": 9,
   "metadata": {
    "ExecuteTime": {
     "end_time": "2022-10-21T07:15:26.179490Z",
     "start_time": "2022-10-21T07:15:20.065695Z"
    }
   },
   "outputs": [
    {
     "name": "stdout",
     "output_type": "stream",
     "text": [
      "Fitting 5 folds for each of 10 candidates, totalling 50 fits\n",
      "{'max_depth': 5, 'min_samples_leaf': 3, 'min_samples_split': 2, 'min_weight_fraction_leaf': 0.23682099526511077}\n",
      "0.7894736842105263\n"
     ]
    }
   ],
   "source": [
    "parameters = {\n",
    "    'max_depth': [2,3,4,5,6],\n",
    "    'min_samples_split': [2,3],\n",
    "    'min_samples_leaf': [2,3],\n",
    "    'min_weight_fraction_leaf': uniform(loc=0.1, scale=0.3)\n",
    "}\n",
    "\n",
    "clf = RandomizedSearchCV(\n",
    "    RandomForestClassifier(random_state=42),\n",
    "    parameters, refit=True, verbose=1, n_iter=10,\n",
    ")\n",
    "\n",
    "clf.fit(x_train, y_train)\n",
    "\n",
    "# 打印最优参数\n",
    "print(clf.best_params_)\n",
    "\n",
    "# 使用最优参数评估测试集\n",
    "print(clf.best_estimator_.score(x_test, y_test))"
   ]
  },
  {
   "cell_type": "markdown",
   "metadata": {},
   "source": [
    "# Halving search"
   ]
  },
  {
   "cell_type": "markdown",
   "metadata": {},
   "source": [
    "## HalvingGridSearchCV"
   ]
  },
  {
   "cell_type": "code",
   "execution_count": 10,
   "metadata": {
    "ExecuteTime": {
     "end_time": "2022-10-21T07:16:21.850880Z",
     "start_time": "2022-10-21T07:15:26.181649Z"
    },
    "scrolled": true
   },
   "outputs": [
    {
     "name": "stdout",
     "output_type": "stream",
     "text": [
      "n_iterations: 3\n",
      "n_required_iterations: 4\n",
      "n_possible_iterations: 3\n",
      "min_resources_: 20\n",
      "max_resources_: 227\n",
      "aggressive_elimination: False\n",
      "factor: 3\n",
      "----------\n",
      "iter: 0\n",
      "n_candidates: 60\n",
      "n_resources: 20\n",
      "Fitting 5 folds for each of 60 candidates, totalling 300 fits\n",
      "----------\n",
      "iter: 1\n",
      "n_candidates: 20\n",
      "n_resources: 60\n",
      "Fitting 5 folds for each of 20 candidates, totalling 100 fits\n",
      "----------\n",
      "iter: 2\n",
      "n_candidates: 7\n",
      "n_resources: 180\n",
      "Fitting 5 folds for each of 7 candidates, totalling 35 fits\n",
      "{'max_depth': 4, 'min_samples_leaf': 3, 'min_samples_split': 2, 'min_weight_fraction_leaf': 0.2}\n",
      "0.8157894736842105\n"
     ]
    }
   ],
   "source": [
    "parameters = {\n",
    "    'max_depth': [2,3,4,5,6],\n",
    "    'min_samples_split': [2,3],\n",
    "    'min_samples_leaf': [2,3],\n",
    "    'min_weight_fraction_leaf': [0, 0.1, 0.2]\n",
    "}\n",
    "\n",
    "clf = HalvingGridSearchCV(\n",
    "    RandomForestClassifier(random_state=42),\n",
    "    parameters, refit=True, verbose=1,\n",
    ")\n",
    "clf.fit(x_train, y_train)\n",
    "\n",
    "# 打印最优参数\n",
    "print(clf.best_params_)\n",
    "\n",
    "# 使用最优参数评估测试集\n",
    "print(clf.best_estimator_.score(x_test, y_test))"
   ]
  },
  {
   "cell_type": "markdown",
   "metadata": {},
   "source": [
    "## HalvingRandomSearchCV"
   ]
  },
  {
   "cell_type": "code",
   "execution_count": 11,
   "metadata": {
    "ExecuteTime": {
     "end_time": "2022-10-21T07:16:32.877807Z",
     "start_time": "2022-10-21T07:16:21.852878Z"
    },
    "scrolled": true
   },
   "outputs": [
    {
     "name": "stdout",
     "output_type": "stream",
     "text": [
      "n_iterations: 3\n",
      "n_required_iterations: 3\n",
      "n_possible_iterations: 3\n",
      "min_resources_: 20\n",
      "max_resources_: 227\n",
      "aggressive_elimination: False\n",
      "factor: 3\n",
      "----------\n",
      "iter: 0\n",
      "n_candidates: 11\n",
      "n_resources: 20\n",
      "Fitting 5 folds for each of 11 candidates, totalling 55 fits\n",
      "----------\n",
      "iter: 1\n",
      "n_candidates: 4\n",
      "n_resources: 60\n",
      "Fitting 5 folds for each of 4 candidates, totalling 20 fits\n",
      "----------\n",
      "iter: 2\n",
      "n_candidates: 2\n",
      "n_resources: 180\n",
      "Fitting 5 folds for each of 2 candidates, totalling 10 fits\n",
      "{'max_depth': 4, 'min_samples_leaf': 2, 'min_samples_split': 3, 'min_weight_fraction_leaf': 0.24769764400035457}\n",
      "0.8026315789473685\n"
     ]
    }
   ],
   "source": [
    "parameters = {\n",
    "    'max_depth': [2,3,4,5,6],\n",
    "    'min_samples_split': [2,3],\n",
    "    'min_samples_leaf': [2,3],\n",
    "    'min_weight_fraction_leaf': uniform(loc=0.1, scale=0.3)\n",
    "}\n",
    "\n",
    "clf = HalvingRandomSearchCV(\n",
    "    RandomForestClassifier(random_state=42),\n",
    "    parameters, refit=True, verbose=1\n",
    ")\n",
    "\n",
    "clf.fit(x_train, y_train)\n",
    "\n",
    "\n",
    "# 打印最优参数\n",
    "print(clf.best_params_)\n",
    "\n",
    "# 使用最优参数评估测试集\n",
    "print(clf.best_estimator_.score(x_test, y_test))"
   ]
  },
  {
   "cell_type": "markdown",
   "metadata": {},
   "source": [
    "# Bayesian optimization"
   ]
  },
  {
   "cell_type": "code",
   "execution_count": 12,
   "metadata": {
    "ExecuteTime": {
     "end_time": "2022-10-21T07:16:32.883747Z",
     "start_time": "2022-10-21T07:16:32.879535Z"
    }
   },
   "outputs": [],
   "source": [
    "# 数据划分\n",
    "x_train_bayes, x_val_bayes, y_train_bayes, y_val_bayes =\\\n",
    "        train_test_split(x_train, y_train, stratify=y_train, random_state=42)"
   ]
  },
  {
   "cell_type": "code",
   "execution_count": 13,
   "metadata": {
    "ExecuteTime": {
     "end_time": "2022-10-21T07:16:32.920506Z",
     "start_time": "2022-10-21T07:16:32.885236Z"
    }
   },
   "outputs": [],
   "source": [
    "def objective(trial):\n",
    "    params = {\n",
    "        'max_depth': trial.suggest_int(\"max_depth\", 1, 7),\n",
    "        'min_samples_split': trial.suggest_int(\"min_samples_split\", 2, 5),\n",
    "        'min_samples_leaf': trial.suggest_int(\"min_samples_leaf\", 2, 5),\n",
    "        'min_weight_fraction_leaf': trial.suggest_float(\"min_weight_fraction_leaf\", 0.1, 0.4)\n",
    "    }\n",
    "    \n",
    "    clf = RandomForestClassifier(random_state=42, **params)\n",
    "    clf.fit(x_train_bayes, y_train_bayes)\n",
    "    \n",
    "    preds = clf.predict(x_val_bayes)\n",
    "    auc = roc_auc_score(y_val_bayes, preds)\n",
    "    \n",
    "    return auc"
   ]
  },
  {
   "cell_type": "code",
   "execution_count": 14,
   "metadata": {
    "ExecuteTime": {
     "end_time": "2022-10-21T07:16:36.934645Z",
     "start_time": "2022-10-21T07:16:32.922797Z"
    },
    "scrolled": true
   },
   "outputs": [
    {
     "name": "stderr",
     "output_type": "stream",
     "text": [
      "\u001b[32m[I 2022-10-21 15:16:32,935]\u001b[0m A new study created in memory with name: no-name-23f559a1-c14b-4e61-812e-4d4a0bb6df0b\u001b[0m\n",
      "\u001b[32m[I 2022-10-21 15:16:33,080]\u001b[0m Trial 0 finished with value: 0.7847394540942929 and parameters: {'max_depth': 6, 'min_samples_split': 5, 'min_samples_leaf': 2, 'min_weight_fraction_leaf': 0.20284383056582334}. Best is trial 0 with value: 0.7847394540942929.\u001b[0m\n",
      "\u001b[32m[I 2022-10-21 15:16:33,201]\u001b[0m Trial 1 finished with value: 0.8008684863523574 and parameters: {'max_depth': 7, 'min_samples_split': 2, 'min_samples_leaf': 4, 'min_weight_fraction_leaf': 0.320926780584202}. Best is trial 1 with value: 0.8008684863523574.\u001b[0m\n",
      "\u001b[32m[I 2022-10-21 15:16:33,322]\u001b[0m Trial 2 finished with value: 0.8008684863523574 and parameters: {'max_depth': 7, 'min_samples_split': 2, 'min_samples_leaf': 5, 'min_weight_fraction_leaf': 0.2943519790633592}. Best is trial 1 with value: 0.8008684863523574.\u001b[0m\n",
      "\u001b[32m[I 2022-10-21 15:16:33,443]\u001b[0m Trial 3 finished with value: 0.8008684863523574 and parameters: {'max_depth': 4, 'min_samples_split': 2, 'min_samples_leaf': 5, 'min_weight_fraction_leaf': 0.33227041651602374}. Best is trial 1 with value: 0.8008684863523574.\u001b[0m\n",
      "\u001b[32m[I 2022-10-21 15:16:33,563]\u001b[0m Trial 4 finished with value: 0.8200992555831266 and parameters: {'max_depth': 6, 'min_samples_split': 5, 'min_samples_leaf': 2, 'min_weight_fraction_leaf': 0.3995497688355557}. Best is trial 4 with value: 0.8200992555831266.\u001b[0m\n",
      "\u001b[32m[I 2022-10-21 15:16:33,685]\u001b[0m Trial 5 finished with value: 0.8008684863523574 and parameters: {'max_depth': 3, 'min_samples_split': 3, 'min_samples_leaf': 5, 'min_weight_fraction_leaf': 0.30032666093277227}. Best is trial 4 with value: 0.8200992555831266.\u001b[0m\n",
      "\u001b[32m[I 2022-10-21 15:16:33,805]\u001b[0m Trial 6 finished with value: 0.8008684863523574 and parameters: {'max_depth': 7, 'min_samples_split': 4, 'min_samples_leaf': 4, 'min_weight_fraction_leaf': 0.2754880696523241}. Best is trial 4 with value: 0.8200992555831266.\u001b[0m\n",
      "\u001b[32m[I 2022-10-21 15:16:33,928]\u001b[0m Trial 7 finished with value: 0.8008684863523574 and parameters: {'max_depth': 1, 'min_samples_split': 3, 'min_samples_leaf': 5, 'min_weight_fraction_leaf': 0.22780785865789843}. Best is trial 4 with value: 0.8200992555831266.\u001b[0m\n",
      "\u001b[32m[I 2022-10-21 15:16:34,051]\u001b[0m Trial 8 finished with value: 0.8008684863523574 and parameters: {'max_depth': 1, 'min_samples_split': 3, 'min_samples_leaf': 2, 'min_weight_fraction_leaf': 0.2587937670875915}. Best is trial 4 with value: 0.8200992555831266.\u001b[0m\n",
      "\u001b[32m[I 2022-10-21 15:16:34,173]\u001b[0m Trial 9 finished with value: 0.7847394540942929 and parameters: {'max_depth': 2, 'min_samples_split': 3, 'min_samples_leaf': 4, 'min_weight_fraction_leaf': 0.19699177119437228}. Best is trial 4 with value: 0.8200992555831266.\u001b[0m\n",
      "\u001b[32m[I 2022-10-21 15:16:34,308]\u001b[0m Trial 10 finished with value: 0.7816377171215881 and parameters: {'max_depth': 5, 'min_samples_split': 5, 'min_samples_leaf': 3, 'min_weight_fraction_leaf': 0.10983454115818397}. Best is trial 4 with value: 0.8200992555831266.\u001b[0m\n",
      "\u001b[32m[I 2022-10-21 15:16:34,511]\u001b[0m Trial 11 finished with value: 0.8200992555831266 and parameters: {'max_depth': 6, 'min_samples_split': 4, 'min_samples_leaf': 3, 'min_weight_fraction_leaf': 0.38963546190756854}. Best is trial 4 with value: 0.8200992555831266.\u001b[0m\n",
      "\u001b[32m[I 2022-10-21 15:16:34,644]\u001b[0m Trial 12 finished with value: 0.8200992555831266 and parameters: {'max_depth': 5, 'min_samples_split': 4, 'min_samples_leaf': 3, 'min_weight_fraction_leaf': 0.39729658556720093}. Best is trial 4 with value: 0.8200992555831266.\u001b[0m\n",
      "\u001b[32m[I 2022-10-21 15:16:34,779]\u001b[0m Trial 13 finished with value: 0.8200992555831266 and parameters: {'max_depth': 5, 'min_samples_split': 5, 'min_samples_leaf': 2, 'min_weight_fraction_leaf': 0.3933426855535782}. Best is trial 4 with value: 0.8200992555831266.\u001b[0m\n",
      "\u001b[32m[I 2022-10-21 15:16:34,914]\u001b[0m Trial 14 finished with value: 0.8008684863523574 and parameters: {'max_depth': 6, 'min_samples_split': 4, 'min_samples_leaf': 3, 'min_weight_fraction_leaf': 0.3612327065240845}. Best is trial 4 with value: 0.8200992555831266.\u001b[0m\n",
      "\u001b[32m[I 2022-10-21 15:16:35,050]\u001b[0m Trial 15 finished with value: 0.8008684863523574 and parameters: {'max_depth': 6, 'min_samples_split': 5, 'min_samples_leaf': 2, 'min_weight_fraction_leaf': 0.3532631447393244}. Best is trial 4 with value: 0.8200992555831266.\u001b[0m\n",
      "\u001b[32m[I 2022-10-21 15:16:35,184]\u001b[0m Trial 16 finished with value: 0.8008684863523574 and parameters: {'max_depth': 4, 'min_samples_split': 4, 'min_samples_leaf': 3, 'min_weight_fraction_leaf': 0.3721406316063658}. Best is trial 4 with value: 0.8200992555831266.\u001b[0m\n",
      "\u001b[32m[I 2022-10-21 15:16:35,319]\u001b[0m Trial 17 finished with value: 0.7816377171215881 and parameters: {'max_depth': 5, 'min_samples_split': 5, 'min_samples_leaf': 2, 'min_weight_fraction_leaf': 0.10964116489529444}. Best is trial 4 with value: 0.8200992555831266.\u001b[0m\n",
      "\u001b[32m[I 2022-10-21 15:16:35,455]\u001b[0m Trial 18 finished with value: 0.7816377171215881 and parameters: {'max_depth': 4, 'min_samples_split': 4, 'min_samples_leaf': 3, 'min_weight_fraction_leaf': 0.16911558855286746}. Best is trial 4 with value: 0.8200992555831266.\u001b[0m\n",
      "\u001b[32m[I 2022-10-21 15:16:35,588]\u001b[0m Trial 19 finished with value: 0.8008684863523574 and parameters: {'max_depth': 6, 'min_samples_split': 5, 'min_samples_leaf': 2, 'min_weight_fraction_leaf': 0.3282963836366756}. Best is trial 4 with value: 0.8200992555831266.\u001b[0m\n",
      "\u001b[32m[I 2022-10-21 15:16:35,723]\u001b[0m Trial 20 finished with value: 0.8008684863523574 and parameters: {'max_depth': 7, 'min_samples_split': 4, 'min_samples_leaf': 3, 'min_weight_fraction_leaf': 0.377618622068995}. Best is trial 4 with value: 0.8200992555831266.\u001b[0m\n",
      "\u001b[32m[I 2022-10-21 15:16:35,855]\u001b[0m Trial 21 finished with value: 0.8200992555831266 and parameters: {'max_depth': 5, 'min_samples_split': 4, 'min_samples_leaf': 3, 'min_weight_fraction_leaf': 0.39979280915610244}. Best is trial 4 with value: 0.8200992555831266.\u001b[0m\n",
      "\u001b[32m[I 2022-10-21 15:16:35,989]\u001b[0m Trial 22 finished with value: 0.8008684863523574 and parameters: {'max_depth': 5, 'min_samples_split': 4, 'min_samples_leaf': 4, 'min_weight_fraction_leaf': 0.3482412480891513}. Best is trial 4 with value: 0.8200992555831266.\u001b[0m\n",
      "\u001b[32m[I 2022-10-21 15:16:36,132]\u001b[0m Trial 23 finished with value: 0.8200992555831266 and parameters: {'max_depth': 6, 'min_samples_split': 5, 'min_samples_leaf': 2, 'min_weight_fraction_leaf': 0.3994046521305844}. Best is trial 4 with value: 0.8200992555831266.\u001b[0m\n",
      "\u001b[32m[I 2022-10-21 15:16:36,265]\u001b[0m Trial 24 finished with value: 0.8008684863523574 and parameters: {'max_depth': 3, 'min_samples_split': 4, 'min_samples_leaf': 3, 'min_weight_fraction_leaf': 0.37559531803070006}. Best is trial 4 with value: 0.8200992555831266.\u001b[0m\n",
      "\u001b[32m[I 2022-10-21 15:16:36,400]\u001b[0m Trial 25 finished with value: 0.8008684863523574 and parameters: {'max_depth': 5, 'min_samples_split': 3, 'min_samples_leaf': 3, 'min_weight_fraction_leaf': 0.3511837827630203}. Best is trial 4 with value: 0.8200992555831266.\u001b[0m\n",
      "\u001b[32m[I 2022-10-21 15:16:36,531]\u001b[0m Trial 26 finished with value: 0.8008684863523574 and parameters: {'max_depth': 3, 'min_samples_split': 4, 'min_samples_leaf': 4, 'min_weight_fraction_leaf': 0.3132789976590851}. Best is trial 4 with value: 0.8200992555831266.\u001b[0m\n",
      "\u001b[32m[I 2022-10-21 15:16:36,665]\u001b[0m Trial 27 finished with value: 0.8200992555831266 and parameters: {'max_depth': 6, 'min_samples_split': 5, 'min_samples_leaf': 2, 'min_weight_fraction_leaf': 0.3979864228107033}. Best is trial 4 with value: 0.8200992555831266.\u001b[0m\n",
      "\u001b[32m[I 2022-10-21 15:16:36,797]\u001b[0m Trial 28 finished with value: 0.8008684863523574 and parameters: {'max_depth': 5, 'min_samples_split': 5, 'min_samples_leaf': 2, 'min_weight_fraction_leaf': 0.3414169764317421}. Best is trial 4 with value: 0.8200992555831266.\u001b[0m\n",
      "\u001b[32m[I 2022-10-21 15:16:36,932]\u001b[0m Trial 29 finished with value: 0.7816377171215881 and parameters: {'max_depth': 6, 'min_samples_split': 5, 'min_samples_leaf': 2, 'min_weight_fraction_leaf': 0.15886925382354938}. Best is trial 4 with value: 0.8200992555831266.\u001b[0m\n"
     ]
    }
   ],
   "source": [
    "study = optuna.create_study(direction=\"maximize\")\n",
    "study.optimize(objective, n_trials=30)"
   ]
  },
  {
   "cell_type": "code",
   "execution_count": 15,
   "metadata": {
    "ExecuteTime": {
     "end_time": "2022-10-21T07:16:37.060135Z",
     "start_time": "2022-10-21T07:16:36.936328Z"
    }
   },
   "outputs": [
    {
     "data": {
      "text/plain": [
       "0.75"
      ]
     },
     "execution_count": 15,
     "metadata": {},
     "output_type": "execute_result"
    }
   ],
   "source": [
    "# 使用最优参数进行训练\n",
    "best_params = study.best_params\n",
    "\n",
    "clf = RandomForestClassifier(random_state=42, **best_params)\n",
    "clf.fit(x_train, y_train)\n",
    "clf.score(x_test, y_test)"
   ]
  },
  {
   "cell_type": "code",
   "execution_count": null,
   "metadata": {},
   "outputs": [],
   "source": []
  },
  {
   "cell_type": "code",
   "execution_count": null,
   "metadata": {},
   "outputs": [],
   "source": []
  }
 ],
 "metadata": {
  "kernelspec": {
   "display_name": "Python 3",
   "language": "python",
   "name": "python3"
  },
  "language_info": {
   "codemirror_mode": {
    "name": "ipython",
    "version": 3
   },
   "file_extension": ".py",
   "mimetype": "text/x-python",
   "name": "python",
   "nbconvert_exporter": "python",
   "pygments_lexer": "ipython3",
   "version": "3.7.3"
  },
  "toc": {
   "base_numbering": 1,
   "nav_menu": {},
   "number_sections": true,
   "sideBar": true,
   "skip_h1_title": false,
   "title_cell": "Table of Contents",
   "title_sidebar": "Contents",
   "toc_cell": false,
   "toc_position": {},
   "toc_section_display": true,
   "toc_window_display": true
  },
  "varInspector": {
   "cols": {
    "lenName": 16,
    "lenType": 16,
    "lenVar": 40
   },
   "kernels_config": {
    "python": {
     "delete_cmd_postfix": "",
     "delete_cmd_prefix": "del ",
     "library": "var_list.py",
     "varRefreshCmd": "print(var_dic_list())"
    },
    "r": {
     "delete_cmd_postfix": ") ",
     "delete_cmd_prefix": "rm(",
     "library": "var_list.r",
     "varRefreshCmd": "cat(var_dic_list()) "
    }
   },
   "types_to_exclude": [
    "module",
    "function",
    "builtin_function_or_method",
    "instance",
    "_Feature"
   ],
   "window_display": false
  }
 },
 "nbformat": 4,
 "nbformat_minor": 2
}
