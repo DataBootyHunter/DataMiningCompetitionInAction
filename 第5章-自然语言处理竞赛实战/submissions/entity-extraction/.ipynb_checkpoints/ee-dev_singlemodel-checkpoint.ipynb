{
 "cells": [
  {
   "cell_type": "code",
   "execution_count": 70,
   "id": "f714cc3a",
   "metadata": {},
   "outputs": [],
   "source": [
    "from transformers import BertModel, BertTokenizerFast,AutoModel,NezhaModel,AutoTokenizer\n",
    "import json\n",
    "import os\n",
    "import torch\n",
    "import numpy as np\n",
    "from tqdm import  tqdm\n",
    "from torch.utils.data import DataLoader,Dataset\n",
    "import torch.nn as nn\n",
    "from roformer import RoFormerModel\n",
    "# from gau_alpha import GAUAlphaModel, GAUAlphaTokenizer,GAUAlphaTokenizerFast\n",
    "os.environ['TOKENIZERS_PARALLELISM'] = \"True\"\n",
    "import gc"
   ]
  },
  {
   "cell_type": "code",
   "execution_count": 71,
   "id": "465eac75",
   "metadata": {},
   "outputs": [],
   "source": [
    "#参数\n",
    "device = torch.device(\"cuda\")\n",
    "ENT_CLS_NUM = 9\n",
    "eval_file = '../input/data_label_kfold_v1.1.json'\n",
    "np_save_path = 'fusion/nezha'\n",
    "typeid_path = '../input/type2id.json'\n",
    "batchsize = 32\n",
    "ner_maxlen= 20\n",
    "add_test=False\n",
    "\n",
    "os.environ[\"CUDA_VISIBLE_DEVICES\"] = \"1\"\n",
    "type2id = json.load(open(typeid_path))\n",
    "type2id = {label: (id-1) for label, id in type2id.items() if label !=\"NA\"}\n",
    "id2type = {}\n",
    "for k, v in type2id.items(): id2type[v] = k"
   ]
  },
  {
   "cell_type": "code",
   "execution_count": 72,
   "id": "de0ab5c7",
   "metadata": {},
   "outputs": [
    {
     "data": {
      "text/plain": [
       "9"
      ]
     },
     "execution_count": 72,
     "metadata": {},
     "output_type": "execute_result"
    }
   ],
   "source": [
    "len(type2id)"
   ]
  },
  {
   "cell_type": "code",
   "execution_count": 73,
   "id": "92c78d51",
   "metadata": {},
   "outputs": [],
   "source": [
    "##判断最大长度 ----50\n",
    "# data = json.load(open(eval_file))\n",
    "# result = []\n",
    "# def compute_offset_in_turn(triple,turn,text_in_turn,original_pos):\n",
    "#     speaker1 = list(turn.keys())[0]\n",
    "#     # speaker2 = list(turn.keys())[1]\n",
    "#     # start, end = None, None\n",
    "#     if original_pos[0] == 1:\n",
    "#         start, end = original_pos[1:]\n",
    "#     else:\n",
    "#         start = original_pos[1] + len(turn[speaker1])\n",
    "#         end = original_pos[2] + len(turn[speaker1])\n",
    "#     text1 = (\"\".join(text_in_turn[start:end])).replace(\"_\",\" \")\n",
    "#     text2 = triple[\"value\"].replace(\"_\",\" \")\n",
    "#     assert text1==text2\n",
    "#     if text_in_turn[start] ==' ' or text_in_turn[start] =='_':\n",
    "#         start += 1\n",
    "#     if text_in_turn[end-1] ==' ' or text_in_turn[end-1] =='_':\n",
    "#         end -= 1\n",
    "#     type_lable = triple['prop']\n",
    "#     return (end-start,type_lable)\n",
    "\n",
    "\n",
    "# for item in tqdm(data, desc=\"Reading\"):\n",
    "#     for turn in item[\"content\"]:\n",
    "#         if 'is_traing' in turn and turn['is_traing'] != 'true':\n",
    "#             continue\n",
    "#         text_in_turn_list = []\n",
    "#         for key in list(turn.keys())[:2]:\n",
    "#             text_in_turn_list.append(turn[key])\n",
    "#         text_in_turn = list(\"\".join(text_in_turn_list))\n",
    "#         for triple in turn[\"info\"][\"triples\"]:\n",
    "#             if triple['prop'] =='故障问题' or triple['prop'] =='业务规则':\n",
    "#                 continue\n",
    "#             offset = compute_offset_in_turn(triple,turn,text_in_turn,triple[\"pos\"])\n",
    "#             result.append(offset)"
   ]
  },
  {
   "cell_type": "code",
   "execution_count": 74,
   "id": "0ccb484e-74aa-4daa-834c-7808c609ccb2",
   "metadata": {},
   "outputs": [],
   "source": [
    "#去除噪音\n",
    "noisy_tokens = [\" \", \"_\"]\n",
    "specific_ents = [\n",
    "    \"积分倍享合约\",\n",
    "    \"停开机\",\n",
    "    \"手机报\",\n",
    "    \"139邮箱\",\n",
    "    \"来电提醒\",\n",
    "    \"和对讲个人版\"\n",
    "]"
   ]
  },
  {
   "cell_type": "code",
   "execution_count": 75,
   "id": "2467ca46",
   "metadata": {},
   "outputs": [],
   "source": [
    "class CFG1:\n",
    "    num_workers=8\n",
    "    path=\"/data/user0731/yk/SereTOD/code_final/ee_nezha_add_dev/\"\n",
    "    model=\"/home/xmea2059/yk/SereTOD/pretrained/nezha-base-wwm\"\n",
    "    batch_size=32\n",
    "    max_len=256\n",
    "    folds=4\n",
    "    seed=42\n",
    "# class CFG2:\n",
    "#     num_workers=4\n",
    "#     path=\"/home/user0731/yankuo/SereTOD/output_model/globpointer/macbert/ent_model.pth\"\n",
    "#     model=\"/home/user0731/yankuo/SereTOD/output_model/pretrain/macbert_base_lm\"\n",
    "#     batch_size=32\n",
    "#     max_len=384\n",
    "#     seed=42\n",
    "# class CFG3:\n",
    "#     num_workers=4\n",
    "#     path=\"/home/user0731/yankuo/SereTOD/output_model/globpointer/nezha_wwm/ent_model.pth\"\n",
    "#     model=\"/home/user0731/yankuo/SereTOD/model/nazha_wwm\"\n",
    "#     batch_size=32\n",
    "#     max_len=256\n",
    "#     seed=42\n",
    "# class CFG4:\n",
    "#     num_workers=4\n",
    "#     path=\"/home/user0731/yankuo/SereTOD/output_model/globpointer/deberta_base_lm0812/ent_model.pth\"\n",
    "#     model=\"/home/user0731/yankuo/SereTOD/output_model/pretrain/deberta_base_lm\"\n",
    "#     batch_size=32\n",
    "#     max_len=256\n",
    "#     seed=42\n",
    "# class CFG5:\n",
    "#     num_workers=4\n",
    "#     path=\"/home/user0731/yankuo/SereTOD/output_model/globpointer/chinese_gau_lm/ent_model.pth\"\n",
    "#     model=\"/home/user0731/yankuo/SereTOD/output_model/pretrain/chinese_gau_lm\"\n",
    "#     batch_size=32\n",
    "#     max_len=256\n",
    "#     seed=42"
   ]
  },
  {
   "cell_type": "code",
   "execution_count": 76,
   "id": "3840b549",
   "metadata": {},
   "outputs": [],
   "source": [
    "CFG1.tokenizer = AutoTokenizer.from_pretrained(CFG1.model)\n",
    "# CFG2.tokenizer = AutoTokenizer.from_pretrained(CFG2.model)\n",
    "# CFG3.tokenizer = AutoTokenizer.from_pretrained(CFG3.model)\n",
    "# CFG4.tokenizer = AutoTokenizer.from_pretrained(CFG4.model)\n",
    "# CFG5.tokenizer = GAUAlphaTokenizerFast.from_pretrained(CFG5.model)"
   ]
  },
  {
   "cell_type": "code",
   "execution_count": 77,
   "id": "5fdb6558",
   "metadata": {},
   "outputs": [],
   "source": [
    "def load_data(data):\n",
    "    D = []\n",
    "#     data = json.load(open(data))\n",
    "    for item in tqdm(data, desc=\"Reading\"):\n",
    "        # i=0\n",
    "        first_line = []  # 缓存所有的对话文本\n",
    "        for turn in item[\"content\"]:\n",
    "            # text in turn\n",
    "            text_in_turn_list = []\n",
    "            for key in list(turn.keys())[:2]:\n",
    "                text_in_turn_list.append(turn[key])\n",
    "            text_in_turn = list(\"\".join(text_in_turn_list))\n",
    "            first_line += text_in_turn\n",
    "\n",
    "        # first_line = \"\".join(first_line)\n",
    "\n",
    "        for turn in item[\"content\"]:\n",
    "            text_in_turn_list = []\n",
    "            for key in list(turn.keys())[:2]:\n",
    "                text_in_turn_list.append(turn[key])\n",
    "            text_in_turn = list(\"\".join(text_in_turn_list))\n",
    "            D.append([text_in_turn])\n",
    "            D[-1].append(first_line)\n",
    "    return D\n",
    "\n",
    "class EntDataset(Dataset):\n",
    "    def __init__(self, data, tokenizer,max_len,istrain=True):\n",
    "        self.data = data\n",
    "        self.tokenizer = tokenizer\n",
    "        self.max_len = max_len\n",
    "        self.istrain = istrain\n",
    "\n",
    "    def __len__(self):\n",
    "        return len(self.data)\n",
    "\n",
    "    def encoder(self, item):\n",
    "        if self.istrain:\n",
    "            text = item[0]\n",
    "            text_context = item[1]\n",
    "            text_mapping = self.tokenizer(text,max_length=self.max_len, truncation=True,is_split_into_words=True)\n",
    "            word_ids = text_mapping.word_ids()\n",
    "            token_lengh = len(word_ids)-1\n",
    "            # start_mapping = {j[0]: i for i, j in enumerate(token2char_span_mapping) if j != (0, 0)}\n",
    "            # end_mapping = {j[-1]: i for i, j in enumerate(token2char_span_mapping) if j != (0, 0)}\n",
    "            #将raw_text的下标 与 token的start和end下标对应\n",
    "            text_all = text+text_context\n",
    "            encoder_txt = self.tokenizer(text_all, max_length=self.max_len, truncation=True,is_split_into_words=True)\n",
    "            input_ids = encoder_txt[\"input_ids\"]\n",
    "            token_type_ids = encoder_txt[\"token_type_ids\"]\n",
    "            attention_mask = encoder_txt[\"attention_mask\"]\n",
    "\n",
    "            return text, input_ids, token_type_ids, attention_mask,token_lengh,word_ids\n",
    "        else:\n",
    "            #TODO 测试\n",
    "            pass\n",
    "\n",
    "    def sequence_padding(self, inputs, length=None, value=0, seq_dims=1, mode='post'):\n",
    "        \"\"\"Numpy函数，将序列padding到同一长度\n",
    "        \"\"\"\n",
    "        if length is None:\n",
    "            length = np.max([np.shape(x)[:seq_dims] for x in inputs], axis=0)\n",
    "        elif not hasattr(length, '__getitem__'):\n",
    "            length = [length]\n",
    "\n",
    "        slices = [np.s_[:length[i]] for i in range(seq_dims)]\n",
    "        slices = tuple(slices) if len(slices) > 1 else slices[0]\n",
    "        pad_width = [(0, 0) for _ in np.shape(inputs[0])]\n",
    "\n",
    "        outputs = []\n",
    "        for x in inputs:\n",
    "            x = x[slices]\n",
    "            for i in range(seq_dims):\n",
    "                if mode == 'post':\n",
    "                    pad_width[i] = (0, length[i] - np.shape(x)[i])\n",
    "                elif mode == 'pre':\n",
    "                    pad_width[i] = (length[i] - np.shape(x)[i], 0)\n",
    "                else:\n",
    "                    raise ValueError('\"mode\" argument must be \"post\" or \"pre\".')\n",
    "            x = np.pad(x, pad_width, 'constant', constant_values=value)\n",
    "            outputs.append(x)\n",
    "\n",
    "        return np.array(outputs)\n",
    "\n",
    "    def collate(self, examples):\n",
    "        batch_input_ids, batch_attention_mask, batch_segment_ids,batch_token_lengh,batch_word_ids = [], [], [],[],[]\n",
    "        for item in examples:\n",
    "            raw_text, input_ids, token_type_ids, attention_mask,token_lengh,word_ids = self.encoder(item)\n",
    "            batch_input_ids.append(input_ids)\n",
    "            batch_segment_ids.append(token_type_ids)\n",
    "            batch_attention_mask.append(attention_mask)\n",
    "            batch_token_lengh.append([1]*token_lengh)\n",
    "            batch_word_ids.append(word_ids)\n",
    "        batch_inputids = torch.tensor(self.sequence_padding(batch_input_ids)).long()\n",
    "        batch_segmentids = torch.tensor(self.sequence_padding(batch_segment_ids)).long()\n",
    "        batch_attentionmask = torch.tensor(self.sequence_padding(batch_attention_mask)).float()\n",
    "\n",
    "        max_lengh = batch_inputids.shape[1]\n",
    "        batch_token_lengh = torch.tensor(self.sequence_padding(batch_token_lengh,length=max_lengh)).float()\n",
    "\n",
    "\n",
    "        return batch_inputids, batch_attentionmask, batch_segmentids,batch_token_lengh,batch_word_ids\n",
    "    def __getitem__(self, index):\n",
    "        item = self.data[index]\n",
    "        return item"
   ]
  },
  {
   "cell_type": "code",
   "execution_count": 78,
   "id": "5a890d0b",
   "metadata": {},
   "outputs": [],
   "source": [
    "class GlobalPointer(nn.Module):\n",
    "    def __init__(self, encoder, ent_type_size, inner_dim, RoPE=True):\n",
    "        #encodr: RoBerta-Large as encoder\n",
    "        #inner_dim: 64\n",
    "        #ent_type_size: ent_cls_num\n",
    "        super().__init__()\n",
    "        self.encoder = encoder\n",
    "        self.ent_type_size = ent_type_size\n",
    "        self.inner_dim = inner_dim\n",
    "        self.hidden_size = encoder.config.hidden_size\n",
    "        self.dense = nn.Linear(self.hidden_size, self.ent_type_size * self.inner_dim * 2)\n",
    "\n",
    "        self.RoPE = RoPE\n",
    "\n",
    "\n",
    "    def sinusoidal_position_embedding(self, batch_size, seq_len, output_dim):\n",
    "        position_ids = torch.arange(0, seq_len, dtype=torch.float).unsqueeze(-1)\n",
    "\n",
    "        indices = torch.arange(0, output_dim // 2, dtype=torch.float)\n",
    "        indices = torch.pow(10000, -2 * indices / output_dim)\n",
    "        embeddings = position_ids * indices\n",
    "        embeddings = torch.stack([torch.sin(embeddings), torch.cos(embeddings)], dim=-1)\n",
    "        embeddings = embeddings.repeat((batch_size, *([1]*len(embeddings.shape))))\n",
    "        embeddings = torch.reshape(embeddings, (batch_size, seq_len, output_dim))\n",
    "        embeddings = embeddings.to(self.device)\n",
    "        return embeddings\n",
    "        \n",
    "    def forward(self, input_ids, attention_mask, token_type_ids,token_lengh):\n",
    "        self.device = input_ids.device\n",
    "        \n",
    "        context_outputs = self.encoder(input_ids, attention_mask, token_type_ids)\n",
    "        # last_hidden_state:(batch_size, seq_len, hidden_size)\n",
    "        last_hidden_state = context_outputs[0]\n",
    "\n",
    "        batch_size = last_hidden_state.size()[0]\n",
    "        seq_len = last_hidden_state.size()[1]\n",
    "\n",
    "        # outputs:(batch_size, seq_len, ent_type_size*inner_dim*2)\n",
    "        outputs = self.dense(last_hidden_state)\n",
    "        outputs = torch.split(outputs, self.inner_dim * 2, dim=-1)\n",
    "        # outputs:(batch_size, seq_len, ent_type_size, inner_dim*2)\n",
    "        outputs = torch.stack(outputs, dim=-2)\n",
    "        # qw,kw:(batch_size, seq_len, ent_type_size, inner_dim)\n",
    "        qw, kw = outputs[...,:self.inner_dim], outputs[...,self.inner_dim:]\n",
    "        if self.RoPE:\n",
    "            # pos_emb:(batch_size, seq_len, inner_dim)\n",
    "            pos_emb = self.sinusoidal_position_embedding(batch_size, seq_len, self.inner_dim)\n",
    "            # cos_pos,sin_pos: (batch_size, seq_len, 1, inner_dim)\n",
    "            cos_pos = pos_emb[..., None, 1::2].repeat_interleave(2, dim=-1)\n",
    "            sin_pos = pos_emb[..., None,::2].repeat_interleave(2, dim=-1)\n",
    "            qw2 = torch.stack([-qw[..., 1::2], qw[...,::2]], -1)\n",
    "            qw2 = qw2.reshape(qw.shape)\n",
    "            qw = qw * cos_pos + qw2 * sin_pos\n",
    "            kw2 = torch.stack([-kw[..., 1::2], kw[...,::2]], -1)\n",
    "            kw2 = kw2.reshape(kw.shape)\n",
    "            kw = kw * cos_pos + kw2 * sin_pos\n",
    "        # logits:(batch_size, ent_type_size, seq_len, seq_len)\n",
    "        logits = torch.einsum('bmhd,bnhd->bhmn', qw, kw)\n",
    "\n",
    "        # padding mask\n",
    "        pad_mask = token_lengh.unsqueeze(1).unsqueeze(1).expand(batch_size, self.ent_type_size, seq_len, seq_len)\n",
    "        logits = logits*pad_mask - (1-pad_mask)*1e12\n",
    "\n",
    "        # 排除下三角\n",
    "        mask = torch.tril(torch.ones_like(logits), -1)\n",
    "        logits = logits - mask * 1e12\n",
    "\n",
    "        return logits/self.inner_dim**0.5"
   ]
  },
  {
   "cell_type": "code",
   "execution_count": 79,
   "id": "54df18b1",
   "metadata": {},
   "outputs": [],
   "source": [
    "class SinusoidalPositionEmbedding(nn.Module):\n",
    "    \"\"\"定义Sin-Cos位置Embedding\n",
    "    \"\"\"\n",
    "\n",
    "    def __init__(\n",
    "            self, output_dim, merge_mode='add', custom_position_ids=False):\n",
    "        super(SinusoidalPositionEmbedding, self).__init__()\n",
    "        self.output_dim = output_dim\n",
    "        self.merge_mode = merge_mode\n",
    "        self.custom_position_ids = custom_position_ids\n",
    "\n",
    "    def forward(self, inputs):\n",
    "        if self.custom_position_ids:\n",
    "            seq_len = inputs.shape[1]\n",
    "            inputs, position_ids = inputs\n",
    "            position_ids = position_ids.type(torch.float)\n",
    "        else:\n",
    "            input_shape = inputs.shape\n",
    "            batch_size, seq_len = input_shape[0], input_shape[1]\n",
    "            position_ids = torch.arange(seq_len).type(torch.float)[None]\n",
    "        indices = torch.arange(self.output_dim // 2).type(torch.float)\n",
    "        indices = torch.pow(10000.0, -2 * indices / self.output_dim)\n",
    "        embeddings = torch.einsum('bn,d->bnd', position_ids, indices)\n",
    "        embeddings = torch.stack([torch.sin(embeddings), torch.cos(embeddings)], dim=-1)\n",
    "        embeddings = torch.reshape(embeddings, (-1, seq_len, self.output_dim))\n",
    "        if self.merge_mode == 'add':\n",
    "            return inputs + embeddings.to(inputs.device)\n",
    "        elif self.merge_mode == 'mul':\n",
    "            return inputs * (embeddings + 1.0).to(inputs.device)\n",
    "        elif self.merge_mode == 'zero':\n",
    "            return embeddings.to(inputs.device)\n",
    "class EffiGlobalPointer(nn.Module):\n",
    "    def __init__(self, encoder, ent_type_size, inner_dim, RoPE=True,fp16=False):\n",
    "        # encodr: RoBerta-Large as encoder\n",
    "        # inner_dim: 64\n",
    "        # ent_type_size: ent_cls_num\n",
    "        super(EffiGlobalPointer, self).__init__()\n",
    "        self.encoder = encoder\n",
    "        self.ent_type_size = ent_type_size\n",
    "        self.inner_dim = inner_dim\n",
    "        self.hidden_size = encoder.config.hidden_size\n",
    "        self.RoPE = RoPE\n",
    "        self.fp16=fp16\n",
    "        if fp16:\n",
    "            self.epsilon=65504\n",
    "        else:\n",
    "            self.epsilon =1e12\n",
    "\n",
    "        self.dense_1 = nn.Linear(self.hidden_size, self.inner_dim * 2)\n",
    "        self.dense_2 = nn.Linear(self.hidden_size,\n",
    "                                 self.ent_type_size * 2)  # 原版的dense2是(inner_dim * 2, ent_type_size * 2)\n",
    "        self.drop = nn.Dropout(p=0.2)\n",
    "        self.dropout1 = nn.Dropout(0.5)\n",
    "        self.dropout2 = nn.Dropout(0.5)\n",
    "        self.dropout3 = nn.Dropout(0.5)\n",
    "        self.dropout4 = nn.Dropout(0.5)\n",
    "        self.dropout5 = nn.Dropout(0.5)\n",
    "\n",
    "    def sequence_masking(self, x, mask, value='-inf', axis=None):\n",
    "\n",
    "        if mask is None:\n",
    "            return x\n",
    "        else:\n",
    "            if value == '-inf':\n",
    "                value = -self.epsilon\n",
    "            elif value == 'inf':\n",
    "                value = self.epsilon\n",
    "            assert axis > 0, 'axis must be greater than 0'\n",
    "            for _ in range(axis - 1):\n",
    "                mask = torch.unsqueeze(mask, 1)\n",
    "            for _ in range(x.ndim - mask.ndim):\n",
    "                mask = torch.unsqueeze(mask, mask.ndim)\n",
    "            return x * mask + value * (1 - mask)\n",
    "\n",
    "    def add_mask_tril(self, logits, mask):\n",
    "        if mask.dtype != logits.dtype:\n",
    "            mask = mask.type(logits.dtype)\n",
    "        logits = self.sequence_masking(logits, mask, '-inf', logits.ndim - 2)\n",
    "        logits = self.sequence_masking(logits, mask, '-inf', logits.ndim - 1)\n",
    "        # 排除下三角\n",
    "        mask = torch.tril(torch.ones_like(logits), diagonal=-1)\n",
    "        logits = logits - mask * self.epsilon\n",
    "        return logits\n",
    "\n",
    "    def forward(self, input_ids, attention_mask, token_type_ids,token_lengh):\n",
    "        self.device = input_ids.device\n",
    "\n",
    "        context_outputs = self.encoder(input_ids, attention_mask, token_type_ids)\n",
    "        last_hidden_state = context_outputs.last_hidden_state\n",
    "        # batch_size = last_hidden_state.size()[0]\n",
    "        # seq_len = last_hidden_state.size()[1]\n",
    "        # outputs = self.dense_1(last_hidden_state)\n",
    "        out = self.drop(last_hidden_state)\n",
    "        logits1 = self.dense_1(self.dropout1(out))\n",
    "        logits2 = self.dense_1(self.dropout2(out))\n",
    "        logits3 = self.dense_1(self.dropout3(out))\n",
    "        logits4 = self.dense_1(self.dropout4(out))\n",
    "        logits5 = self.dense_1(self.dropout5(out))\n",
    "        outputs = (logits1 + logits2 + logits3 + logits4 + logits5) / 5\n",
    "\n",
    "        qw, kw = outputs[..., ::2], outputs[..., 1::2]  # 从0,1开始间隔为2\n",
    "        if self.RoPE:\n",
    "            pos = SinusoidalPositionEmbedding(self.inner_dim, 'zero')(outputs)\n",
    "            cos_pos = pos[..., 1::2].repeat_interleave(2, dim=-1)\n",
    "            sin_pos = pos[..., ::2].repeat_interleave(2, dim=-1)\n",
    "            qw2 = torch.stack([-qw[..., 1::2], qw[..., ::2]], 3)\n",
    "            qw2 = torch.reshape(qw2, qw.shape)\n",
    "            qw = qw * cos_pos + qw2 * sin_pos\n",
    "            kw2 = torch.stack([-kw[..., 1::2], kw[..., ::2]], 3)\n",
    "            kw2 = torch.reshape(kw2, kw.shape)\n",
    "            kw = kw * cos_pos + kw2 * sin_pos\n",
    "        logits = torch.einsum('bmd,bnd->bmn', qw, kw) / self.inner_dim ** 0.5\n",
    "        bias = torch.einsum('bnh->bhn', self.dense_2(last_hidden_state)) / 2\n",
    "        logits = logits[:, None] + bias[:, ::2, None] + bias[:, 1::2, :, None]  # logits[:, None] 增加一个维度\n",
    "        # print(token_lengh.size())\n",
    "        # pad_mask = token_lengh.unsqueeze(1).unsqueeze(1).expand(batch_size, self.ent_type_size, seq_len, seq_len)\n",
    "        # pad_mask = token_lengh.unsqueeze(1).unsqueeze(1).expand(batch_size, seq_len)\n",
    "        # print(pad_mask.size(),attention_mask.size())\n",
    "        # logits = self.add_mask_tril(logits, mask=attention_mask)\n",
    "        logits = self.add_mask_tril(logits, mask=token_lengh)\n",
    "        return logits"
   ]
  },
  {
   "cell_type": "code",
   "execution_count": 80,
   "id": "658cf0ac",
   "metadata": {},
   "outputs": [],
   "source": [
    "def get_pred(logits, batch_tag,batchsize,batch_word_ids,fold_prob):\n",
    "    # batch_size, ent_type_size, seq_len, seq_len\n",
    "    pred_prob = logits.sigmoid()\n",
    "    sample_num = pred_prob.shape[0]\n",
    "    max_len = min(pred_prob.shape[2],256)\n",
    "    start_index = batch_tag*batchsize\n",
    "    for i in range(max_len):\n",
    "        span = min(ner_maxlen,max_len-i)\n",
    "        fold_prob[start_index:start_index+sample_num,:,i,:span]+=pred_prob[:,:,i,i:i+span].cpu().detach().numpy()\n",
    "    return fold_prob"
   ]
  },
  {
   "cell_type": "code",
   "execution_count": 81,
   "id": "69d522bf",
   "metadata": {},
   "outputs": [],
   "source": [
    "#单模型\n",
    "def inference_fn(test_loader, model, device,fold_prob):\n",
    "#     no_mark_num = 0\n",
    "#     pred_all = []\n",
    "#     true_all = []\n",
    "    model.eval()\n",
    "    tk0 = tqdm(test_loader,total=len(test_loader))\n",
    "    for batch_index,batch in enumerate(tk0):\n",
    "        input_ids, attention_mask, segment_ids,token_lengh,batch_word_ids = batch\n",
    "        input_ids, attention_mask, segment_ids,token_lengh = input_ids.to(device), attention_mask.to(\n",
    "            device), segment_ids.to(device),token_lengh.to(device)\n",
    "        with torch.cuda.amp.autocast(enabled=True):\n",
    "            with torch.no_grad():\n",
    "                logits = model(input_ids, attention_mask, segment_ids,token_lengh)\n",
    "                fold_prob = get_pred(logits,batch_index,batchsize,batch_word_ids,fold_prob)\n",
    "    return fold_prob"
   ]
  },
  {
   "cell_type": "code",
   "execution_count": 82,
   "id": "ab1df567",
   "metadata": {},
   "outputs": [
    {
     "data": {
      "text/plain": [
       "'../input/data_label_kfold_v1.1.json'"
      ]
     },
     "execution_count": 82,
     "metadata": {},
     "output_type": "execute_result"
    }
   ],
   "source": [
    "eval_file"
   ]
  },
  {
   "cell_type": "code",
   "execution_count": 83,
   "id": "b4cbe746",
   "metadata": {
    "tags": []
   },
   "outputs": [],
   "source": [
    "data = json.load(open(eval_file))\n",
    "# sample_num = 0\n",
    "# for item in tqdm(data, desc=\"Reading\" ):\n",
    "#     sample_num += len(item[\"content\"])\n",
    "# print(sample_num)\n",
    "# prob_result = np.zeros((sample_num,ENT_CLS_NUM,256,ner_maxlen),dtype= np.float32)\n",
    "# final_prob= [np.zeros((sample_num,ENT_CLS_NUM,256,ner_maxlen),dtype= np.float16)]*(CFG1.folds)"
   ]
  },
  {
   "cell_type": "code",
   "execution_count": 84,
   "id": "c5cea19e",
   "metadata": {},
   "outputs": [],
   "source": [
    "cfg_all = [CFG1]"
   ]
  },
  {
   "cell_type": "code",
   "execution_count": 85,
   "id": "5547036d",
   "metadata": {},
   "outputs": [
    {
     "name": "stderr",
     "output_type": "stream",
     "text": [
      "Reading: 100%|██████████████████████████████████████████████████████████████████████████████████████████████████████████████████████████████████████████████████████████████| 2500/2500 [00:00<00:00, 324716.96it/s]\n"
     ]
    },
    {
     "name": "stdout",
     "output_type": "stream",
     "text": [
      "28059\n"
     ]
    },
    {
     "name": "stderr",
     "output_type": "stream",
     "text": [
      "Reading: 100%|████████████████████████████████████████████████████████████████████████████████████████████████████████████████████████████████████████████████████████████████| 2500/2500 [00:00<00:00, 9099.47it/s]\n",
      "Some weights of the model checkpoint at /home/xmea2059/yk/SereTOD/pretrained/nezha-base-wwm were not used when initializing NezhaModel: ['cls.predictions.transform.dense.weight', 'cls.predictions.transform.dense.bias', 'cls.predictions.decoder.weight', 'cls.predictions.decoder.bias', 'cls.predictions.transform.LayerNorm.bias', 'cls.predictions.transform.LayerNorm.weight', 'cls.predictions.bias']\n",
      "- This IS expected if you are initializing NezhaModel from the checkpoint of a model trained on another task or with another architecture (e.g. initializing a BertForSequenceClassification model from a BertForPreTraining model).\n",
      "- This IS NOT expected if you are initializing NezhaModel from the checkpoint of a model that you expect to be exactly identical (initializing a BertForSequenceClassification model from a BertForSequenceClassification model).\n",
      "Some weights of NezhaModel were not initialized from the model checkpoint at /home/xmea2059/yk/SereTOD/pretrained/nezha-base-wwm and are newly initialized: ['nezha.pooler.dense.bias', 'nezha.pooler.dense.weight']\n",
      "You should probably TRAIN this model on a down-stream task to be able to use it for predictions and inference.\n",
      "100%|█████████████████████████████████████████████████████████████████████████████████████████████████████████████████████████████████████████████████████████████████████████████| 877/877 [02:09<00:00,  6.76it/s]\n",
      "Reading: 100%|██████████████████████████████████████████████████████████████████████████████████████████████████████████████████████████████████████████████████████████████| 2500/2500 [00:00<00:00, 377865.23it/s]\n"
     ]
    },
    {
     "name": "stdout",
     "output_type": "stream",
     "text": [
      "27974\n"
     ]
    },
    {
     "name": "stderr",
     "output_type": "stream",
     "text": [
      "Reading: 100%|████████████████████████████████████████████████████████████████████████████████████████████████████████████████████████████████████████████████████████████████| 2500/2500 [00:00<00:00, 7961.43it/s]\n",
      "Some weights of the model checkpoint at /home/xmea2059/yk/SereTOD/pretrained/nezha-base-wwm were not used when initializing NezhaModel: ['cls.predictions.transform.dense.weight', 'cls.predictions.transform.dense.bias', 'cls.predictions.decoder.weight', 'cls.predictions.decoder.bias', 'cls.predictions.transform.LayerNorm.bias', 'cls.predictions.transform.LayerNorm.weight', 'cls.predictions.bias']\n",
      "- This IS expected if you are initializing NezhaModel from the checkpoint of a model trained on another task or with another architecture (e.g. initializing a BertForSequenceClassification model from a BertForPreTraining model).\n",
      "- This IS NOT expected if you are initializing NezhaModel from the checkpoint of a model that you expect to be exactly identical (initializing a BertForSequenceClassification model from a BertForSequenceClassification model).\n",
      "Some weights of NezhaModel were not initialized from the model checkpoint at /home/xmea2059/yk/SereTOD/pretrained/nezha-base-wwm and are newly initialized: ['nezha.pooler.dense.bias', 'nezha.pooler.dense.weight']\n",
      "You should probably TRAIN this model on a down-stream task to be able to use it for predictions and inference.\n",
      "100%|█████████████████████████████████████████████████████████████████████████████████████████████████████████████████████████████████████████████████████████████████████████████| 875/875 [02:09<00:00,  6.75it/s]\n",
      "Reading: 100%|██████████████████████████████████████████████████████████████████████████████████████████████████████████████████████████████████████████████████████████████| 2500/2500 [00:00<00:00, 374264.20it/s]\n"
     ]
    },
    {
     "name": "stdout",
     "output_type": "stream",
     "text": [
      "28035\n"
     ]
    },
    {
     "name": "stderr",
     "output_type": "stream",
     "text": [
      "Reading: 100%|████████████████████████████████████████████████████████████████████████████████████████████████████████████████████████████████████████████████████████████████| 2500/2500 [00:00<00:00, 8425.06it/s]\n",
      "Some weights of the model checkpoint at /home/xmea2059/yk/SereTOD/pretrained/nezha-base-wwm were not used when initializing NezhaModel: ['cls.predictions.transform.dense.weight', 'cls.predictions.transform.dense.bias', 'cls.predictions.decoder.weight', 'cls.predictions.decoder.bias', 'cls.predictions.transform.LayerNorm.bias', 'cls.predictions.transform.LayerNorm.weight', 'cls.predictions.bias']\n",
      "- This IS expected if you are initializing NezhaModel from the checkpoint of a model trained on another task or with another architecture (e.g. initializing a BertForSequenceClassification model from a BertForPreTraining model).\n",
      "- This IS NOT expected if you are initializing NezhaModel from the checkpoint of a model that you expect to be exactly identical (initializing a BertForSequenceClassification model from a BertForSequenceClassification model).\n",
      "Some weights of NezhaModel were not initialized from the model checkpoint at /home/xmea2059/yk/SereTOD/pretrained/nezha-base-wwm and are newly initialized: ['nezha.pooler.dense.bias', 'nezha.pooler.dense.weight']\n",
      "You should probably TRAIN this model on a down-stream task to be able to use it for predictions and inference.\n",
      "100%|█████████████████████████████████████████████████████████████████████████████████████████████████████████████████████████████████████████████████████████████████████████████| 877/877 [02:12<00:00,  6.64it/s]\n",
      "Reading: 100%|██████████████████████████████████████████████████████████████████████████████████████████████████████████████████████████████████████████████████████████████| 2500/2500 [00:00<00:00, 359421.40it/s]\n"
     ]
    },
    {
     "name": "stdout",
     "output_type": "stream",
     "text": [
      "27910\n"
     ]
    },
    {
     "name": "stderr",
     "output_type": "stream",
     "text": [
      "Reading: 100%|████████████████████████████████████████████████████████████████████████████████████████████████████████████████████████████████████████████████████████████████| 2500/2500 [00:00<00:00, 7930.99it/s]\n",
      "Some weights of the model checkpoint at /home/xmea2059/yk/SereTOD/pretrained/nezha-base-wwm were not used when initializing NezhaModel: ['cls.predictions.transform.dense.weight', 'cls.predictions.transform.dense.bias', 'cls.predictions.decoder.weight', 'cls.predictions.decoder.bias', 'cls.predictions.transform.LayerNorm.bias', 'cls.predictions.transform.LayerNorm.weight', 'cls.predictions.bias']\n",
      "- This IS expected if you are initializing NezhaModel from the checkpoint of a model trained on another task or with another architecture (e.g. initializing a BertForSequenceClassification model from a BertForPreTraining model).\n",
      "- This IS NOT expected if you are initializing NezhaModel from the checkpoint of a model that you expect to be exactly identical (initializing a BertForSequenceClassification model from a BertForSequenceClassification model).\n",
      "Some weights of NezhaModel were not initialized from the model checkpoint at /home/xmea2059/yk/SereTOD/pretrained/nezha-base-wwm and are newly initialized: ['nezha.pooler.dense.bias', 'nezha.pooler.dense.weight']\n",
      "You should probably TRAIN this model on a down-stream task to be able to use it for predictions and inference.\n",
      "100%|█████████████████████████████████████████████████████████████████████████████████████████████████████████████████████████████████████████████████████████████████████████████| 873/873 [02:09<00:00,  6.73it/s]\n"
     ]
    }
   ],
   "source": [
    "final_prob= []\n",
    "for i,cfg in enumerate(cfg_all):\n",
    "    for fold in range(CFG1.folds):\n",
    "\n",
    "        valid_folds = []\n",
    "        for value in data:\n",
    "            if value['fold'] == fold:\n",
    "                valid_folds.append(value)\n",
    "        sample_num = 0\n",
    "        for item in tqdm(valid_folds, desc=\"Reading\" ):\n",
    "            for turn in item[\"content\"]:\n",
    "                sample_num += 1\n",
    "        print(sample_num)\n",
    "        #概率矩阵初始化\n",
    "        fold_prob= np.zeros((sample_num,ENT_CLS_NUM,256,ner_maxlen),dtype= np.float16)\n",
    "        ner_evl = EntDataset(load_data(valid_folds), tokenizer=cfg.tokenizer,max_len=cfg.max_len)\n",
    "        ner_loader_evl = DataLoader(ner_evl, batch_size=cfg.batch_size, collate_fn=ner_evl.collate,shuffle=False,num_workers=cfg.num_workers)\n",
    "        if i == 4:\n",
    "            encoder = RoFormerModel.from_pretrained(cfg.model)\n",
    "        elif i == 3:\n",
    "            encoder = GAUAlphaModel.from_pretrained(cfg.model)\n",
    "        else:\n",
    "            encoder = AutoModel.from_pretrained(cfg.model)\n",
    "        if i==1:\n",
    "            model = EffiGlobalPointer(encoder, ENT_CLS_NUM, 64, fp16=True).to(device)\n",
    "        else:\n",
    "            model = GlobalPointer(encoder, ENT_CLS_NUM, 64).to(device)\n",
    "        # print(cfg.path+f\"ent_model{fold}.pth\")\n",
    "        state = torch.load(cfg.path+f\"ent_model{fold}.pth\",map_location=device)\n",
    "        model.load_state_dict(state)\n",
    "        fold_prob = inference_fn(ner_loader_evl,model,device,fold_prob)\n",
    "        final_prob.append(fold_prob)\n",
    "        del encoder,model,state,fold_prob;gc.collect()\n",
    "        torch.cuda.empty_cache()"
   ]
  },
  {
   "cell_type": "code",
   "execution_count": 86,
   "id": "eaca7233",
   "metadata": {},
   "outputs": [
    {
     "data": {
      "text/plain": [
       "'fusion/nezha'"
      ]
     },
     "execution_count": 86,
     "metadata": {},
     "output_type": "execute_result"
    }
   ],
   "source": [
    "np_save_path"
   ]
  },
  {
   "cell_type": "code",
   "execution_count": 87,
   "id": "9bdd76ec",
   "metadata": {},
   "outputs": [],
   "source": [
    "#保存\n",
    "np.savez_compressed(np_save_path, fold0=final_prob[0],fold1=final_prob[1],fold2=final_prob[2],fold3=final_prob[3])"
   ]
  },
  {
   "cell_type": "code",
   "execution_count": 20,
   "id": "04d3afd2-ffb1-4e70-80bb-b3015fd6f393",
   "metadata": {},
   "outputs": [],
   "source": [
    "pred_result = []\n",
    "for i,value in enumerate(final_prob[0]):\n",
    "    pred = []\n",
    "    for l,start,end in zip(*np.where(value> 0.5)):\n",
    "        prob = value[l][start][end]\n",
    "        pred.append((l,start, start+end,prob))\n",
    "    pred.sort(key=lambda x: (x[1], x[2]),reverse=False)\n",
    "    pred_result.append(pred)"
   ]
  },
  {
   "cell_type": "code",
   "execution_count": 21,
   "id": "52851b28-af78-4324-8992-8d54485773a6",
   "metadata": {},
   "outputs": [
    {
     "data": {
      "text/plain": [
       "(28059, 9, 256, 20)"
      ]
     },
     "execution_count": 21,
     "metadata": {},
     "output_type": "execute_result"
    }
   ],
   "source": [
    "final_prob[0].shape"
   ]
  },
  {
   "cell_type": "code",
   "execution_count": 22,
   "id": "03274006",
   "metadata": {},
   "outputs": [
    {
     "data": {
      "text/plain": [
       "28059"
      ]
     },
     "execution_count": 22,
     "metadata": {},
     "output_type": "execute_result"
    }
   ],
   "source": [
    "len(pred_result)"
   ]
  },
  {
   "cell_type": "code",
   "execution_count": 23,
   "id": "dfe998b5",
   "metadata": {},
   "outputs": [],
   "source": [
    "def compute_offset_in_turn(ent,turn,text_in_turn,original_pos):\n",
    "    speaker1 = list(turn.keys())[0]\n",
    "    # speaker2 = list(turn.keys())[1]\n",
    "    # start, end = None, None\n",
    "    if original_pos[0] == 1:\n",
    "        start, end = original_pos[1:]\n",
    "    else:\n",
    "        start = original_pos[1] + len(turn[speaker1])\n",
    "        end = original_pos[2] + len(turn[speaker1])\n",
    "    text1 = (\"\".join(text_in_turn[start:end])).replace(\"_\",\" \")\n",
    "    text2 = ent[\"name\"].replace(\"_\",\" \")\n",
    "    assert text1 == text2\n",
    "    if text_in_turn[start] ==' ' or text_in_turn[start] =='_':\n",
    "        start += 1\n",
    "    if text_in_turn[end-1] ==' ' or text_in_turn[end-1] =='_':\n",
    "        end -= 1\n",
    "    type_lable = type2id[ent['type']]\n",
    "    return (start,end-1,type_lable)"
   ]
  },
  {
   "cell_type": "code",
   "execution_count": 24,
   "id": "0badca8b-45c4-41ff-b520-57316832b8e1",
   "metadata": {},
   "outputs": [
    {
     "name": "stderr",
     "output_type": "stream",
     "text": [
      "100%|█████████████████████████████████████████████████████████████████████████████████████████████████████████████████████████████████████████████████████████████████████| 10000/10000 [00:00<00:00, 189873.43it/s]\n"
     ]
    },
    {
     "name": "stdout",
     "output_type": "stream",
     "text": [
      "0.548241469816273 total_common:7833,total_pred:15277,total_true:13298\n"
     ]
    }
   ],
   "source": [
    "pred_char = []\n",
    "true_char = []\n",
    "idx = 0\n",
    "valid_folds = []\n",
    "for value in tqdm(data):\n",
    "    if value['fold'] == 0:\n",
    "        valid_folds.append(value)\n",
    "for item in valid_folds:\n",
    "    for turn in item[\"content\"]:\n",
    "        text_in_turn_list = []\n",
    "        for key in list(turn.keys())[:2]:\n",
    "            text_in_turn_list.append(turn[key])\n",
    "        text_in_turn = list(\"\".join(text_in_turn_list))\n",
    "        text_mapping = CFG1.tokenizer(text_in_turn,is_split_into_words=True)\n",
    "        word_ids = text_mapping.word_ids()\n",
    "        temp_pred = []\n",
    "        for preds_sample in pred_result[idx]:\n",
    "            lable = preds_sample[0]\n",
    "            start_char = word_ids[preds_sample[1]]\n",
    "            end_char = word_ids[preds_sample[2]]\n",
    "            prob = preds_sample[3]\n",
    "            if start_char is not None and end_char is not None:\n",
    "#                 if len(temp_pred)!=0 and start_char <= temp_pred[-1][3]:\n",
    "#                     if prob > temp_prob:\n",
    "#                         temp_pred.pop()\n",
    "#                     else:\n",
    "#                         continue\n",
    "                temp_pred.append((idx,lable,start_char,end_char))\n",
    "                temp_prob = prob\n",
    "                \n",
    "        pred_char += temp_pred\n",
    "        for ent in turn[\"info\"][\"ents\"]:\n",
    "            if ent['type'] == '5G套餐':\n",
    "                continue\n",
    "            for position in ent[\"pos\"]:\n",
    "                offset = compute_offset_in_turn(ent,turn,text_in_turn,position)\n",
    "                true_char.append((idx,offset[2],offset[0],offset[1]))\n",
    "        idx += 1\n",
    "R = set(pred_char)\n",
    "T = set(true_char)\n",
    "total_common = len(R & T)\n",
    "total_pred = len(R)\n",
    "total_true = len(T)\n",
    "f1, precision, recall = 2 * total_common / (total_pred + total_true), total_common / total_pred, total_common / total_true\n",
    "print(f1,\"total_common:{},total_pred:{},total_true:{}\".format(total_common, total_pred,total_true))\n",
    "                "
   ]
  },
  {
   "cell_type": "code",
   "execution_count": 79,
   "id": "9937de03-8081-4978-81bc-c749b32940bc",
   "metadata": {},
   "outputs": [
    {
     "name": "stdout",
     "output_type": "stream",
     "text": [
      "0.5228129259882929 0.5470716563181742 0.5006142506142506\n"
     ]
    }
   ],
   "source": [
    "R = set(final_result)\n",
    "T = set(true_result)\n",
    "total_common = len(R & T)\n",
    "total_pred = len(R)\n",
    "total_true = len(T)\n",
    "f1, precision, recall = 2 * total_common / (total_pred + total_true), total_common / total_pred, total_common / total_true\n",
    "print(f1,precision,recall)"
   ]
  },
  {
   "cell_type": "code",
   "execution_count": 16,
   "id": "0cfc40c7",
   "metadata": {},
   "outputs": [],
   "source": [
    "#保存\n",
    "np.savez_compressed(np_save_path, fold0=final_prob[0],fold1=final_prob[1],fold2=final_prob[2],fold3=final_prob[3])"
   ]
  },
  {
   "cell_type": "code",
   "execution_count": 102,
   "id": "7040cb0e-8dd8-4117-9893-4bbdb18d70dc",
   "metadata": {},
   "outputs": [],
   "source": [
    "# pred_prob=np.load('roformer/roformer.npz')"
   ]
  },
  {
   "cell_type": "code",
   "execution_count": 105,
   "id": "75ff59ce-ddae-4e0f-b074-13f15c765c17",
   "metadata": {},
   "outputs": [],
   "source": [
    "# prob_result = (pred_prob['fold0']+pred_prob['fold1'])/2\n",
    "# prob_result = (final_prob[0]+final_prob[1])/2"
   ]
  },
  {
   "cell_type": "code",
   "execution_count": 24,
   "id": "85b7797c",
   "metadata": {},
   "outputs": [],
   "source": [
    "#多模型\n",
    "mean_final_prob = sum(final_prob)/len(final_prob)"
   ]
  },
  {
   "cell_type": "code",
   "execution_count": 17,
   "id": "983a250e-2579-4879-99e8-e05ed500f75f",
   "metadata": {},
   "outputs": [],
   "source": [
    "preds_sample_token= []\n",
    "for sample in final_prob[0]:\n",
    "    per_pred = []\n",
    "    if (sample>0.5).sum==0:\n",
    "        preds_sample_token.append(per_pred)\n",
    "    else:\n",
    "        for l, start, end in zip(*np.where(sample > 0.5)):\n",
    "            if start != 0:\n",
    "                per_pred.append((l,start,start+end))\n",
    "    preds_sample_token.append(per_pred)\n",
    "    "
   ]
  },
  {
   "cell_type": "code",
   "execution_count": null,
   "id": "39bbb87d-1de9-4095-a4cd-ea57c26a49c1",
   "metadata": {},
   "outputs": [],
   "source": []
  },
  {
   "cell_type": "code",
   "execution_count": 18,
   "id": "02421536-c7f0-473d-8d02-cd85dde77db0",
   "metadata": {},
   "outputs": [
    {
     "name": "stderr",
     "output_type": "stream",
     "text": [
      "100%|##########| 1025/1025 [00:08<00:00, 122.28it/s]\n"
     ]
    }
   ],
   "source": [
    "#获得预测entity\n",
    "data = json.load(open(eval_file))\n",
    "pred_result = []\n",
    "idx = 0\n",
    "for item in tqdm(data):\n",
    "    pred_sample_char = {'id':item['id'],'entities':[],'triples':[]}\n",
    "    for turn in item[\"content\"]:\n",
    "        text_in_turn_list = []\n",
    "        for key in list(turn.keys())[:2]:\n",
    "            text_in_turn_list.append(turn[key])\n",
    "        text_in_turn = list(\"\".join(text_in_turn_list))\n",
    "        text_mapping = CFG1.tokenizer(text_in_turn,is_split_into_words=True)\n",
    "        word_ids = text_mapping.word_ids()\n",
    "        \n",
    "        for preds_sample in preds_sample_token[idx]:\n",
    "            start_char = word_ids[preds_sample[1]]\n",
    "            end_char = word_ids[preds_sample[2]]\n",
    "            type_ner = id2type[preds_sample[0]]\n",
    "            ent_name = ''.join(text_in_turn[start_char:end_char+1])\n",
    "            pred_sample_char['entities'].append({'name':ent_name,'type':type_ner,'position':[start_char,end_char]})\n",
    "    \n",
    "        idx += 1\n",
    "    pred_result.append(pred_sample_char)"
   ]
  },
  {
   "cell_type": "code",
   "execution_count": 19,
   "id": "6c61138d-cd75-4bfa-8037-9f35ce436bfb",
   "metadata": {},
   "outputs": [
    {
     "data": {
      "text/plain": [
       "1025"
      ]
     },
     "execution_count": 19,
     "metadata": {},
     "output_type": "execute_result"
    }
   ],
   "source": [
    "len(pred_result)"
   ]
  },
  {
   "cell_type": "code",
   "execution_count": 20,
   "id": "07e2dd9a",
   "metadata": {},
   "outputs": [
    {
     "data": {
      "text/plain": [
       "(11839, 9, 256, 20)"
      ]
     },
     "execution_count": 20,
     "metadata": {},
     "output_type": "execute_result"
    }
   ],
   "source": [
    "final_prob[0].shape"
   ]
  },
  {
   "cell_type": "code",
   "execution_count": 74,
   "id": "b9ead96b-c451-41e1-94ac-28ae423fc553",
   "metadata": {},
   "outputs": [
    {
     "data": {
      "text/plain": [
       "'../input/dev_data.json'"
      ]
     },
     "execution_count": 74,
     "metadata": {},
     "output_type": "execute_result"
    }
   ],
   "source": [
    "eval_file"
   ]
  },
  {
   "cell_type": "code",
   "execution_count": 75,
   "id": "1530ebf9-fd29-4e67-b1e9-4fb9b4489e33",
   "metadata": {},
   "outputs": [],
   "source": [
    "def get_text_and_entities(item):\n",
    "    utterances = []\n",
    "    entities = []\n",
    "    triples = []\n",
    "    for turn in item[\"content\"]:\n",
    "        for key in list(turn.keys())[:2]:\n",
    "            utterances.append(turn[key])\n",
    "        for ent in turn[\"info\"][\"ents\"]:\n",
    "            for position in ent[\"pos\"]:\n",
    "                offset = position[1:]\n",
    "                if ent[\"type\"] != '5G套餐':\n",
    "                    entities.append({\n",
    "                        \"id\": ent[\"id\"],\n",
    "                        \"name\": ent[\"name\"],\n",
    "                        \"type\": ent[\"type\"],\n",
    "                        \"position\": offset\n",
    "                    })\n",
    "        for triple in turn[\"info\"][\"triples\"]:\n",
    "            triples.append({\n",
    "                \"ent-name\": triple[\"ent-name\"],\n",
    "                \"ent-id\": triple[\"ent-id\"],\n",
    "                \"value\": triple[\"value\"],\n",
    "                \"prop\": triple[\"prop\"],\n",
    "            })\n",
    "    return utterances, entities, triples"
   ]
  },
  {
   "cell_type": "code",
   "execution_count": 2,
   "id": "59fb3b91-de4e-4ed9-bd28-96f46b61fdc1",
   "metadata": {},
   "outputs": [],
   "source": [
    "def get_golden_labels(label_path):\n",
    "    data = json.load(open(label_path))\n",
    "    golden_labels = []\n",
    "    for item in data:\n",
    "        utterances, entities, triples = get_text_and_entities(item)\n",
    "        labels_per_doc = {\n",
    "            \"id\": item[\"id\"],\n",
    "            \"utterances\": utterances,\n",
    "            \"entities\": entities,\n",
    "            \"triples\": triples\n",
    "        }\n",
    "        golden_labels.append(labels_per_doc)\n",
    "    return golden_labels\n",
    "def filter_noisy_token_label(data):\n",
    "    for item in data:\n",
    "        for ent in item[\"entities\"]:\n",
    "            for noisy_token in noisy_tokens: ent[\"name\"] = ent[\"name\"].replace(noisy_token, \"\")\n",
    "            if ent[\"name\"] in specific_ents:\n",
    "                ent[\"type\"] = \"数据业务\"\n",
    "        for triple in item[\"triples\"]:\n",
    "            for noisy_token in noisy_tokens: triple[\"value\"] = triple[\"value\"].replace(noisy_token, \"\")\n",
    "    return data\n",
    "def compute_F1(preds, labels):\n",
    "    total_pred = 0\n",
    "    total_label = 0\n",
    "    total_true = 0\n",
    "    for triple in preds:\n",
    "        total_pred += 1\n",
    "        if triple in labels:\n",
    "            total_true += 1\n",
    "    for triple in labels:\n",
    "        total_label += 1\n",
    "    precision = total_true / (total_pred+1e-10)\n",
    "    recall = total_true / (total_label+1e-10)\n",
    "    f1 = 2*precision*recall / (precision+recall+1e-10)\n",
    "    return f1 \n",
    "\n",
    "def get_ent_id(ent, doc_id, type=False):\n",
    "    if type:\n",
    "        return \"-\".join([doc_id, ent[\"name\"], ent[\"type\"]])\n",
    "    else:\n",
    "        return \"-\".join([doc_id, ent[\"name\"]])\n",
    "\n",
    "def compute_result(all_preds, all_labels):\n",
    "    # evaluation\n",
    "    all_pred_ents = []\n",
    "    for item in all_preds:\n",
    "        for ent in item[\"entities\"]:\n",
    "            all_pred_ents.append(\n",
    "                get_ent_id(ent, item[\"id\"], True)\n",
    "            )\n",
    "    all_label_ents = []\n",
    "    for item in all_labels:\n",
    "        for ent in item[\"entities\"]:\n",
    "            all_label_ents.append(\n",
    "                get_ent_id(ent, item[\"id\"], True)\n",
    "            )\n",
    "    # all_label_ents = list(set(all_label_ents))\n",
    "    print(len(all_label_ents))\n",
    "    ent_f1 = compute_F1(all_pred_ents, all_label_ents)\n",
    "    return ent_f1"
   ]
  },
  {
   "cell_type": "code",
   "execution_count": 77,
   "id": "5f7d72cb-1dbc-42bf-830d-cf4d1a771806",
   "metadata": {},
   "outputs": [],
   "source": [
    "#获得真实entity\n",
    "true_result = get_golden_labels(eval_file)"
   ]
  },
  {
   "cell_type": "code",
   "execution_count": 1,
   "id": "457b70dd-9ffc-4e6e-b557-da860fa8a697",
   "metadata": {},
   "outputs": [
    {
     "ename": "<class 'NameError'>",
     "evalue": "name 'true_result' is not defined",
     "output_type": "error",
     "traceback": [
      "\u001b[0;31m---------------------------------------------------------------------------\u001b[0m",
      "\u001b[0;31mNameError\u001b[0m                                 Traceback (most recent call last)",
      "Input \u001b[0;32mIn [1]\u001b[0m, in \u001b[0;36m<cell line: 1>\u001b[0;34m()\u001b[0m\n\u001b[0;32m----> 1\u001b[0m \u001b[38;5;28mlen\u001b[39m(\u001b[43mtrue_result\u001b[49m)\n",
      "\u001b[0;31mNameError\u001b[0m: name 'true_result' is not defined"
     ]
    }
   ],
   "source": [
    "len(true_result)\n",
    "import pandas"
   ]
  },
  {
   "cell_type": "code",
   "execution_count": 79,
   "id": "96a11377-be12-4bf2-8ab2-c2523066da71",
   "metadata": {},
   "outputs": [
    {
     "name": "stdout",
     "output_type": "stream",
     "text": [
      "6528\n"
     ]
    },
    {
     "data": {
      "text/plain": [
       "0.500580270743034"
      ]
     },
     "execution_count": 79,
     "metadata": {},
     "output_type": "execute_result"
    }
   ],
   "source": [
    "#去除噪音\n",
    "all_preds = filter_noisy_token_label(pred_result)\n",
    "all_labels = filter_noisy_token_label(true_result)\n",
    "compute_result(all_preds, all_labels)"
   ]
  },
  {
   "cell_type": "code",
   "execution_count": 47,
   "id": "b192142f-4c5d-48e2-9ced-5af130fbe4e7",
   "metadata": {},
   "outputs": [],
   "source": [
    "def compute_offset_in_turn(ent,turn, original_pos):\n",
    "    speaker1 = list(turn.keys())[0]\n",
    "    speaker2 = list(turn.keys())[1]\n",
    "    start, end = None, None\n",
    "    if original_pos[0] == 1:\n",
    "        start, end = original_pos[1:]\n",
    "    else:\n",
    "        start = original_pos[1] + len(turn[speaker1])\n",
    "        end = original_pos[2] + len(turn[speaker1])\n",
    "    if ent['type'] != '5G套餐':\n",
    "        type_lable = type2id[ent['type']]\n",
    "        return (start,end,type_lable)\n",
    "    else:\n",
    "        return None"
   ]
  },
  {
   "cell_type": "code",
   "execution_count": 17,
   "id": "6902e749",
   "metadata": {},
   "outputs": [
    {
     "name": "stderr",
     "output_type": "stream",
     "text": [
      "100%|██████████████████████████████████████████████████████████████████████████████████████████████████████████████████████████████████████████████████████████████████████████| 1025/1025 [00:08<00:00, 121.41it/s]\n"
     ]
    }
   ],
   "source": [
    "true_result = []\n",
    "idx = 0\n",
    "for item in tqdm(data):\n",
    "    for turn in item[\"content\"]:\n",
    "        text_in_turn_list = []\n",
    "        for key in list(turn.keys())[:2]:\n",
    "            text_in_turn_list.append(turn[key])\n",
    "        text_in_turn = list(\"\".join(text_in_turn_list))\n",
    "        for ent in turn[\"info\"][\"ents\"]:\n",
    "            for position in ent[\"pos\"]:\n",
    "                offset = compute_offset_in_turn(ent,turn, position)\n",
    "                if offset==None:\n",
    "                    continue\n",
    "                start_index = offset[0]\n",
    "                end_index =offset[1]\n",
    "                if text_in_turn[start_index] == ' ' or text_in_turn[start_index] == '_':\n",
    "                    start_index += 1\n",
    "                if text_in_turn[end_index-1] == ' ' or text_in_turn[end_index-1] == '_':\n",
    "                    end_index -= 1\n",
    "                    \n",
    "                token_start_index = word_ids.index(start_index)\n",
    "                token_end_index = len(word_ids)-1-list(reversed(word_ids)).index(end_index-1)\n",
    "                true_result.append((idx,offset[2],token_start_index,token_end_index))\n",
    "        idx += 1\n",
    "                "
   ]
  },
  {
   "cell_type": "code",
   "execution_count": 20,
   "id": "3184522a-2018-4bdb-a7ea-8373af338262",
   "metadata": {},
   "outputs": [
    {
     "data": {
      "text/plain": [
       "6528"
      ]
     },
     "execution_count": 20,
     "metadata": {},
     "output_type": "execute_result"
    }
   ],
   "source": [
    "len(list(true_result))"
   ]
  },
  {
   "cell_type": "code",
   "execution_count": null,
   "id": "d5c9dd5e-cb0e-432e-ac86-be7f41be6980",
   "metadata": {},
   "outputs": [],
   "source": []
  },
  {
   "cell_type": "code",
   "execution_count": 18,
   "id": "639a6856",
   "metadata": {},
   "outputs": [
    {
     "data": {
      "text/plain": [
       "6512"
      ]
     },
     "execution_count": 18,
     "metadata": {},
     "output_type": "execute_result"
    }
   ],
   "source": [
    "len(list(set(true_result)))"
   ]
  },
  {
   "cell_type": "code",
   "execution_count": 22,
   "id": "815b5340",
   "metadata": {},
   "outputs": [
    {
     "name": "stdout",
     "output_type": "stream",
     "text": [
      "0.4497637307304981 0.4538064717836486 0.4457923832923833\n"
     ]
    }
   ],
   "source": [
    "R = set(pred_result)\n",
    "T = set(true_result)\n",
    "total_common = len(R & T)\n",
    "total_pred = len(R)\n",
    "total_true = len(T)\n",
    "f1, precision, recall = 2 * total_common / (total_pred + total_true), total_common / total_pred, total_common / total_true\n",
    "print(f1,precision,recall)"
   ]
  },
  {
   "cell_type": "code",
   "execution_count": 18,
   "id": "c83c9c61",
   "metadata": {},
   "outputs": [],
   "source": [
    "data = json.load(open(eval_file))\n",
    "valid_folds = []\n",
    "for value in data:\n",
    "    if value['fold'] == 0:\n",
    "        valid_folds.append(value)"
   ]
  },
  {
   "cell_type": "code",
   "execution_count": 19,
   "id": "9dac83ba",
   "metadata": {},
   "outputs": [
    {
     "data": {
      "text/plain": [
       "2500"
      ]
     },
     "execution_count": 19,
     "metadata": {},
     "output_type": "execute_result"
    }
   ],
   "source": [
    "len(valid_folds)"
   ]
  },
  {
   "cell_type": "code",
   "execution_count": 20,
   "id": "d9f17950",
   "metadata": {},
   "outputs": [
    {
     "name": "stderr",
     "output_type": "stream",
     "text": [
      "Reading:  39%|████████████████████████████████████████████████████████████▉                                                                                                 | 3860/10000 [00:00<00:00, 19383.18it/s]"
     ]
    },
    {
     "name": "stdout",
     "output_type": "stream",
     "text": [
      "[{'name': '资费', 'id': 'ent-1', 'type': '主套餐', 'pos': [[1, 49, 51]]}, {'name': '资费', 'id': 'ent-2', 'type': '主套餐', 'pos': [[1, 49, 51]]}]\n",
      "\n",
      "\n",
      "[{'name': '音乐包', 'id': 'ent-1', 'type': '附加套餐', 'pos': [[1, 11, 14]]}, {'name': '音乐包', 'id': 'ent-4', 'type': '附加套餐', 'pos': [[1, 11, 14]]}, {'name': '手机游戏', 'id': 'ent-3', 'type': '业务', 'pos': [[1, 26, 30]]}]\n",
      "\n",
      "\n",
      "[{'name': '套餐', 'id': 'ent-1', 'type': '流量包', 'pos': [[1, 10, 12]]}, {'name': '套餐', 'id': 'ent-2', 'type': '流量包', 'pos': [[1, 10, 12]]}]\n",
      "\n",
      "\n",
      "[{'name': '流量套餐', 'id': 'ent-1', 'type': '流量包', 'pos': [[1, 0, 4]]}, {'name': '流量套餐', 'id': 'ent-2', 'type': '流量包', 'pos': [[1, 0, 4]]}, {'name': '流量套餐', 'id': 'ent-3', 'type': '流量包', 'pos': [[1, 0, 4]]}, {'name': '流量套餐', 'id': 'ent-4', 'type': '流量包', 'pos': [[1, 0, 4]]}, {'name': '流量套餐', 'id': 'ent-5', 'type': '流量包', 'pos': [[1, 0, 4]]}, {'name': '流量套餐', 'id': 'ent-6', 'type': '流量包', 'pos': [[1, 0, 4]]}, {'name': '套餐', 'id': 'ent-7', 'type': '主套餐', 'pos': [[2, 10, 12]]}]\n",
      "\n",
      "\n",
      "[{'name': '十元一个G的流量', 'id': 'ent-1', 'type': '流量包', 'pos': [[1, 8, 16]]}, {'name': '流量', 'id': 'ent-1', 'type': '流量包', 'pos': [[2, 8, 10]]}, {'name': '十元一个G的这个流量', 'id': 'ent-1', 'type': '流量包', 'pos': [[2, 0, 10]]}]\n",
      "\n",
      "\n",
      "[{'name': '游戏玩家', 'id': 'ent-1', 'type': '业务', 'pos': [[1, 13, 17]]}, {'name': '精品阅读包', 'id': 'ent-2', 'type': '业务', 'pos': [[1, 20, 25]]}, {'name': '游戏玩家和一个精品阅读包', 'id': 'ent-3', 'type': '主套餐', 'pos': [[1, 13, 25]]}]\n",
      "\n",
      "\n",
      "[{'name': '流量', 'id': 'ent-1', 'type': '流量包', 'pos': [[2, 22, 24]]}, {'name': '流量', 'id': 'ent-2', 'type': '流量包', 'pos': [[2, 22, 24]]}, {'name': '流量', 'id': 'ent-3', 'type': '流量包', 'pos': [[2, 22, 24]]}]\n",
      "\n",
      "\n",
      "[{'name': '四g流量卡套餐', 'id': 'ent-1', 'type': '4G套餐', 'pos': [[1, 3, 10]]}, {'name': '飞享套餐', 'id': 'ent-2', 'type': '主套餐', 'pos': [[1, 18, 22]]}, {'name': '飞享套餐', 'id': 'ent-3', 'type': '套餐', 'pos': [[1, 18, 22]]}, {'name': '飞享套餐', 'id': 'ent-4', 'type': '套餐', 'pos': [[1, 18, 22]]}, {'name': '飞享套餐', 'id': 'ent-5', 'type': '套餐', 'pos': [[1, 18, 22]]}, {'name': '飞享套餐', 'id': 'ent-6', 'type': '套餐', 'pos': [[1, 18, 22]]}]\n",
      "\n",
      "\n",
      "[{'name': '套餐', 'id': 'ent-1', 'type': '主套餐', 'pos': [[1, 7, 9]]}, {'name': '流量包', 'id': 'ent-2', 'type': '流量包', 'pos': [[1, 32, 35], [2, 19, 22]]}, {'name': '流量包', 'id': 'ent-3', 'type': '流量包', 'pos': [[1, 32, 35], [2, 19, 22]]}]\n",
      "\n",
      "\n",
      "[{'name': '飞享流量王', 'id': 'ent-1', 'type': '4G套餐', 'pos': [[1, 1, 6]]}, {'name': '飞享流量王', 'id': 'ent-2', 'type': '4G套餐', 'pos': [[1, 1, 6]]}]\n",
      "\n",
      "\n",
      "[{'name': '流量包', 'id': 'ent-1', 'type': '流量包', 'pos': [[1, 0, 3]]}, {'name': '流量包', 'id': 'ent-2', 'type': '流量包', 'pos': [[1, 0, 3]]}, {'name': '流量包', 'id': 'ent-3', 'type': '流量包', 'pos': [[1, 0, 3]]}]\n",
      "\n",
      "\n",
      "[{'name': '套餐', 'id': 'ent-1', 'type': '业务', 'pos': [[2, 13, 15]]}, {'name': '套餐', 'id': 'ent-2', 'type': '业务', 'pos': [[2, 13, 15]]}, {'name': '套餐', 'id': 'ent-3', 'type': '业务', 'pos': [[2, 13, 15]]}, {'name': '套餐', 'id': 'ent-4', 'type': '业务', 'pos': [[2, 13, 15]]}]\n",
      "\n",
      "\n",
      "[{'name': '品牌套餐', 'id': 'ent-1', 'type': '套餐', 'pos': [[2, 44, 48]]}, {'name': '两块钱的银信通', 'id': 'ent-2', 'type': '业务', 'pos': [[2, 110, 117]]}, {'name': '套餐', 'id': 'ent-1', 'type': '套餐', 'pos': [[2, 46, 48]]}, {'name': '安心包', 'id': 'ent-3', 'type': '流量包', 'pos': [[2, 176, 179], [2, 180, 183]]}, {'name': '五十块的流量', 'id': 'ent-4', 'type': '流量包', 'pos': [[2, 79, 85]]}]\n",
      "\n",
      "\n",
      "[{'name': '宽带', 'id': 'ent-1', 'type': '业务', 'pos': [[2, 2, 4], [2, 54, 56], [2, 87, 89], [2, 113, 115], [2, 183, 185]]}, {'name': '宽带电视业务', 'id': 'ent-2', 'type': '业务', 'pos': [[2, 113, 119]]}, {'name': '五十八', 'id': 'ent-3', 'type': '4G套餐', 'pos': [[2, 27, 30]]}]\n",
      "\n",
      "\n",
      "[{'name': '流量包', 'id': 'ent-3', 'type': '流量包', 'pos': [[1, 37, 40]]}, {'name': '流量包', 'id': 'ent-4', 'type': '流量包', 'pos': [[1, 37, 40]]}]\n",
      "\n",
      "\n",
      "[{'name': '流量加油包', 'id': 'ent-1', 'type': '流量包', 'pos': [[1, 7, 12]]}, {'name': '流量加油包', 'id': 'ent-2', 'type': '流量包', 'pos': [[1, 7, 12]]}]\n",
      "\n",
      "\n",
      "[{'name': '来电提醒', 'id': 'ent-2', 'type': '业务', 'pos': [[1, 6, 10]]}, {'name': '流量至尊包', 'id': 'ent-4', 'type': '流量包', 'pos': [[1, 24, 29]]}, {'name': '闲时流量包', 'id': 'ent-3', 'type': '流量包', 'pos': [[1, 44, 49]]}, {'name': '流量安心包', 'id': 'ent-6', 'type': '流量包', 'pos': [[1, 89, 94]]}, {'name': '至尊包', 'id': 'ent-4', 'type': '流量包', 'pos': [[2, 17, 20]]}, {'name': '本地的朋友网', 'id': 'ent-5', 'type': '附加套餐', 'pos': [[1, 76, 82]]}, {'name': '增值业务', 'id': 'ent-3', 'type': '流量包', 'pos': [[1, 16, 20]]}, {'name': '流量至尊包', 'id': 'ent-3', 'type': '流量包', 'pos': [[1, 24, 29]]}, {'name': '至尊包', 'id': 'ent-4', 'type': '流量包', 'pos': [[2, 17, 20]]}]\n",
      "\n",
      "\n",
      "[{'name': '流量包', 'id': 'ent-2', 'type': '流量包', 'pos': [[1, 5, 8]]}, {'name': '流量包', 'id': 'ent-3', 'type': '流量包', 'pos': [[1, 5, 8]]}, {'name': '流量包', 'id': 'ent-4', 'type': '流量包', 'pos': [[1, 5, 8]]}]\n",
      "\n",
      "\n",
      "[{'name': '省外套餐', 'id': 'ent-5', 'type': '主套餐', 'pos': [[1, 2, 6]]}, {'name': '省外套餐', 'id': 'ent-6', 'type': '主套餐', 'pos': [[1, 2, 6]]}]\n",
      "\n",
      "\n",
      "[{'name': '五十八套餐', 'id': 'ent-1', 'type': '主套餐', 'pos': [[1, 32, 37], [1, 32, 37]]}, {'name': '年包', 'id': 'ent-2', 'type': '流量包', 'pos': [[1, 76, 78], [1, 79, 81]]}]\n",
      "\n",
      "\n",
      "[{'name': '套餐', 'id': 'ent-1', 'type': '套餐', 'pos': [[1, 23, 25]]}, {'name': '套餐', 'id': 'ent-2', 'type': '套餐', 'pos': [[1, 23, 25]]}, {'name': '套餐', 'id': 'ent-3', 'type': '套餐', 'pos': [[1, 23, 25]]}]\n",
      "\n",
      "\n",
      "[{'name': '套餐', 'id': 'ent-2', 'type': '套餐', 'pos': [[2, 9, 11]]}, {'name': '套餐', 'id': 'ent-3', 'type': '套餐', 'pos': [[2, 9, 11]]}, {'name': '套餐', 'id': 'ent-4', 'type': '套餐', 'pos': [[2, 9, 11]]}]\n",
      "\n",
      "\n",
      "[{'name': '套餐', 'id': 'ent-2', 'type': '套餐', 'pos': [[1, 6, 8], [1, 6, 8], [1, 18, 20]]}]\n",
      "\n",
      "\n",
      "[{'name': '套餐', 'id': 'ent-8', 'type': '4G套餐', 'pos': [[1, 12, 14]]}, {'name': '四g流量卡五十元的套餐', 'id': 'ent-8', 'type': '4G套餐', 'pos': [[1, 14, 25]]}, {'name': '套餐', 'id': 'ent-8', 'type': '4G套餐', 'pos': [[1, 12, 14]]}]\n",
      "\n",
      "\n",
      "[{'name': '四百分钟套餐', 'id': 'ent-1', 'type': '主套餐', 'pos': [[1, 4, 10]]}, {'name': '四百分钟', 'id': 'ent-1', 'type': '主套餐', 'pos': [[1, 4, 8]]}]\n",
      "\n",
      "\n",
      "[{'name': '十元的夜间流量包', 'id': 'ent-1', 'type': '流量包', 'pos': [[1, 32, 40]]}, {'name': '短号业务', 'id': 'ent-2', 'type': '业务', 'pos': [[1, 50, 54]]}, {'name': '手机阅读', 'id': 'ent-3', 'type': '业务', 'pos': [[1, 70, 74]]}, {'name': '来电提醒业务', 'id': 'ent-4', 'type': '数据业务', 'pos': [[1, 88, 94]]}, {'name': '来电提醒', 'id': 'ent-5', 'type': '业务', 'pos': [[1, 88, 92]]}]\n",
      "\n",
      "\n",
      "[{'name': '叠加包', 'id': 'ent-1', 'type': '流量包', 'pos': [[1, 33, 36]]}, {'name': '叠加包', 'id': 'ent-2', 'type': '流量包', 'pos': [[1, 33, 36]]}, {'name': '叠加包', 'id': 'ent-3', 'type': '流量包', 'pos': [[1, 33, 36]]}]\n",
      "\n",
      "\n",
      "[{'name': '国内流量', 'id': 'ent-4', 'type': '流量包', 'pos': [[1, 7, 11], [1, 13, 17]]}, {'name': '国内流量', 'id': 'ent-5', 'type': '流量包', 'pos': [[1, 7, 11], [1, 13, 17]]}, {'name': '国内流量', 'id': 'ent-6', 'type': '流量包', 'pos': [[1, 7, 11], [1, 13, 17]]}, {'name': '国内流量', 'id': 'ent-7', 'type': '流量包', 'pos': [[1, 7, 11], [1, 13, 17]]}]\n",
      "\n",
      "\n",
      "[{'name': '流量叠加包', 'id': 'ent-1', 'type': '流量包', 'pos': [[1, 10, 15]]}, {'name': '流量叠加包', 'id': 'ent-2', 'type': '流量包', 'pos': [[1, 10, 15]]}, {'name': '流量叠加包', 'id': 'ent-3', 'type': '流量包', 'pos': [[1, 10, 15]]}]\n",
      "\n",
      "\n",
      "[{'name': '加油包', 'id': 'ent-2', 'type': '流量包', 'pos': [[1, 44, 47]]}, {'name': '省内流量加油包', 'id': 'ent-3', 'type': '流量包', 'pos': [[1, 40, 47]]}, {'name': '二十块钱一个G', 'id': 'ent-3', 'type': '流量包', 'pos': [[2, 1, 8]]}]\n",
      "\n",
      "\n",
      "[{'name': '三十八元的套餐', 'id': 'ent-1', 'type': '套餐', 'pos': [[2, 16, 23]]}, {'name': '套餐', 'id': 'ent-1', 'type': '套餐', 'pos': [[2, 7, 9]]}, {'name': '三十八元的套餐', 'id': 'ent-1', 'type': '套餐', 'pos': [[2, 16, 23]]}]\n",
      "\n",
      "\n",
      "[{'name': '国内流量套餐', 'id': 'ent-2', 'type': '流量包', 'pos': [[1, 12, 18]]}, {'name': '国内流量包', 'id': 'ent-2', 'type': '流量包', 'pos': [[1, 19, 24]]}, {'name': '国内流量包', 'id': 'ent-3', 'type': '流量包', 'pos': [[1, 19, 24]]}, {'name': '国内流量包', 'id': 'ent-4', 'type': '流量包', 'pos': [[1, 19, 24]]}, {'name': '国内流量包', 'id': 'ent-5', 'type': '流量包', 'pos': [[1, 19, 24]]}]\n",
      "\n",
      "\n",
      "[{'name': '叠加包', 'id': 'ent-6', 'type': '流量包', 'pos': [[1, 15, 18], [1, 19, 22]]}, {'name': '叠加包', 'id': 'ent-7', 'type': '流量包', 'pos': [[1, 15, 18], [1, 19, 22]]}]\n",
      "\n",
      "\n",
      "[{'name': '流量', 'id': 'ent-1', 'type': '流量包', 'pos': [[1, 79, 81]]}, {'name': '流量', 'id': 'ent-2', 'type': '流量包', 'pos': [[1, 79, 81]]}, {'name': '流量', 'id': 'ent-3', 'type': '流量包', 'pos': [[1, 79, 81]]}]\n",
      "\n",
      "\n",
      "[{'name': '套餐', 'id': 'ent-2', 'type': '套餐', 'pos': [[1, 17, 19]]}, {'name': '套餐', 'id': 'ent-3', 'type': '套餐', 'pos': [[1, 17, 19]]}, {'name': '套餐', 'id': 'ent-4', 'type': '主套餐', 'pos': [[1, 17, 19]]}]\n",
      "\n",
      "\n",
      "[{'name': '套餐', 'id': 'ent-1', 'type': '套餐', 'pos': [[2, 13, 15]]}, {'name': '套餐', 'id': 'ent-2', 'type': '套餐', 'pos': [[2, 13, 15]]}]\n",
      "\n",
      "\n",
      "[{'name': '飞享套餐', 'id': 'ent-1', 'type': '套餐', 'pos': [[2, 2, 6]]}, {'name': '八块钱的_神州行套餐', 'id': 'ent-3', 'type': '套餐', 'pos': [[1, 2, 12]]}, {'name': '神州行套餐十八块钱的', 'id': 'ent-2', 'type': '套餐', 'pos': [[1, 7, 17]]}]\n",
      "\n",
      "\n",
      "[{'name': '活动', 'id': 'ent-2', 'type': '主套餐', 'pos': [[1, 32, 34]]}, {'name': '四g流量卡五十元套餐', 'id': 'ent-1', 'type': '4G套餐', 'pos': [[1, 6, 16]]}, {'name': '两元活动', 'id': 'ent-2', 'type': '主套餐', 'pos': [[1, 30, 34]]}]\n",
      "\n",
      "\n",
      "[{'name': '八块钱的', 'id': 'ent-2', 'type': '主套餐', 'pos': [[1, 2, 6]]}, {'name': '_八块钱套餐', 'id': 'ent-2', 'type': '主套餐', 'pos': [[1, 20, 26]]}, {'name': '活动', 'id': 'ent-3', 'type': '套餐', 'pos': [[1, 72, 74]]}, {'name': '十八的', 'id': 'ent-4', 'type': '主套餐', 'pos': [[1, 61, 64], [1, 66, 69]]}, {'name': '八块钱', 'id': 'ent-2', 'type': '主套餐', 'pos': [[1, 2, 5]]}]\n",
      "\n",
      "\n",
      "[{'name': '五十八元以上套餐', 'id': 'ent-2', 'type': '4G套餐', 'pos': [[1, 29, 37]]}, {'name': '套餐', 'id': 'ent-2', 'type': '4G套餐', 'pos': [[1, 35, 37]]}]\n",
      "\n",
      "\n",
      "[{'name': '五十八元以上的套餐', 'id': 'ent-2', 'type': '4G套餐', 'pos': [[1, 1, 10]]}, {'name': '套餐', 'id': 'ent-2', 'type': '4G套餐', 'pos': [[1, 8, 10]]}, {'name': '四g上网套餐', 'id': 'ent-2', 'type': '4G套餐', 'pos': [[1, 25, 31]]}]\n",
      "\n",
      "\n",
      "[{'name': '国内流量', 'id': 'ent-5', 'type': '流量包', 'pos': [[1, 0, 4]]}, {'name': '国内流量', 'id': 'ent-6', 'type': '主套餐', 'pos': [[1, 0, 4]]}, {'name': '国内流量', 'id': 'ent-7', 'type': '流量包', 'pos': [[1, 0, 4]]}, {'name': '国内流量', 'id': 'ent-8', 'type': '流量包', 'pos': [[1, 0, 4]]}]\n",
      "\n",
      "\n",
      "[{'name': '国内流量', 'id': 'ent-1', 'type': '流量包', 'pos': [[1, 18, 22], [1, 23, 27], [1, 41, 45]]}, {'name': '国内流量', 'id': 'ent-2', 'type': '流量包', 'pos': [[1, 18, 22], [1, 23, 27], [1, 41, 45]]}, {'name': '国内流量', 'id': 'ent-3', 'type': '流量包', 'pos': [[1, 18, 22], [1, 23, 27], [1, 41, 45]]}, {'name': '国内流量', 'id': 'ent-4', 'type': '流量包', 'pos': [[1, 18, 22], [1, 23, 27], [1, 41, 45]]}]\n",
      "\n",
      "\n",
      "[{'name': '叠加包', 'id': 'ent-3', 'type': '流量包', 'pos': [[1, 1, 4]]}, {'name': '叠加包', 'id': 'ent-4', 'type': '流量包', 'pos': [[1, 1, 4]]}]\n",
      "\n",
      "\n",
      "[{'name': '十元一g的省内流量包', 'id': 'ent-1', 'type': '流量包', 'pos': [[1, 10, 20]]}, {'name': '自选套餐', 'id': 'ent-2', 'type': '套餐', 'pos': [[1, 48, 52]]}, {'name': '叠加流量', 'id': 'ent-3', 'type': '流量包', 'pos': [[1, 129, 133], [2, 8, 12]]}, {'name': '流量', 'id': 'ent-4', 'type': '流量包', 'pos': [[1, 58, 60]]}, {'name': '流量', 'id': 'ent-5', 'type': '流量包', 'pos': [[1, 58, 60]]}]\n",
      "\n",
      "\n",
      "[{'name': '基本套餐', 'id': 'ent-1', 'type': '主套餐', 'pos': [[1, 1, 5]]}, {'name': '上网套餐', 'id': 'ent-4', 'type': '主套餐', 'pos': [[1, 46, 50]]}, {'name': '上网套餐', 'id': 'ent-5', 'type': '套餐', 'pos': [[1, 46, 50]]}, {'name': '上网套餐', 'id': 'ent-6', 'type': '套餐', 'pos': [[1, 46, 50]]}]\n",
      "\n",
      "\n",
      "[{'name': '八十八的', 'id': 'ent-3', 'type': '主套餐', 'pos': [[1, 3, 7]]}, {'name': '八十八', 'id': 'ent-3', 'type': '主套餐', 'pos': [[1, 3, 6]]}]\n",
      "\n",
      "\n",
      "[{'name': '流量套餐', 'id': 'ent-1', 'type': '流量包', 'pos': [[1, 2, 6]]}, {'name': '流量套餐', 'id': 'ent-2', 'type': '流量包', 'pos': [[1, 2, 6]]}, {'name': '流量套餐', 'id': 'ent-3', 'type': '流量包', 'pos': [[1, 2, 6]]}]\n",
      "\n",
      "\n",
      "[{'name': '来电提醒业务', 'id': 'ent-1', 'type': '业务', 'pos': [[2, 54, 60]]}, {'name': '业务', 'id': 'ent-1', 'type': '业务', 'pos': [[2, 12, 14]]}, {'name': '来电提醒业务', 'id': 'ent-1', 'type': '业务', 'pos': [[2, 54, 60]]}]\n",
      "\n",
      "\n",
      "[{'name': '套餐', 'id': 'ent-2', 'type': '套餐', 'pos': [[2, 32, 34]]}, {'name': '八块钱的套餐', 'id': 'ent-2', 'type': '套餐', 'pos': [[2, 28, 34]]}]\n",
      "\n",
      "\n",
      "[{'name': '叠加包', 'id': 'ent-3', 'type': '流量包', 'pos': [[1, 24, 27], [1, 28, 31]]}, {'name': '叠加包', 'id': 'ent-4', 'type': '流量包', 'pos': [[1, 24, 27], [1, 28, 31]]}]\n",
      "\n",
      "\n",
      "[{'name': '流量包', 'id': 'ent-1', 'type': '流量包', 'pos': [[1, 8, 11]]}, {'name': '流量包', 'id': 'ent-2', 'type': '流量包', 'pos': [[1, 8, 11]]}, {'name': '流量包', 'id': 'ent-3', 'type': '流量包', 'pos': [[1, 8, 11]]}, {'name': '流量包', 'id': 'ent-4', 'type': '流量包', 'pos': [[1, 8, 11]]}, {'name': '流量包', 'id': 'ent-5', 'type': '流量包', 'pos': [[1, 8, 11]]}, {'name': '流量包', 'id': 'ent-6', 'type': '流量包', 'pos': [[1, 8, 11]]}]\n",
      "\n",
      "\n",
      "[{'name': '夜间流量', 'id': 'ent-4', 'type': '流量包', 'pos': [[2, 11, 15]]}, {'name': '开一g送一g夜间流量', 'id': 'ent-3', 'type': '流量包', 'pos': [[2, 5, 15]]}]\n",
      "\n",
      "\n",
      "[{'name': '套餐', 'id': 'ent-1', 'type': '套餐', 'pos': [[1, 16, 18]]}, {'name': '套餐', 'id': 'ent-4', 'type': '主套餐', 'pos': [[1, 16, 18]]}]\n",
      "\n",
      "\n",
      "[{'name': '加油包', 'id': 'ent-2', 'type': '流量包', 'pos': [[1, 10, 13], [1, 14, 17]]}, {'name': '加油包', 'id': 'ent-3', 'type': '流量包', 'pos': [[1, 10, 13], [1, 14, 17]]}, {'name': '十块钱一百兆的流量安心包', 'id': 'ent-4', 'type': '流量包', 'pos': [[1, 59, 71]]}, {'name': '安心包', 'id': 'ent-4', 'type': '流量包', 'pos': [[1, 79, 82], [1, 98, 101]]}]\n",
      "\n",
      "\n",
      "[{'name': '加油包', 'id': 'ent-2', 'type': '流量包', 'pos': [[1, 12, 15]]}, {'name': '加油包', 'id': 'ent-3', 'type': '流量包', 'pos': [[1, 12, 15]]}]\n",
      "\n",
      "\n",
      "[{'name': '流量包', 'id': 'ent-3', 'type': '流量包', 'pos': [[1, 0, 3]]}, {'name': '流量包', 'id': 'ent-4', 'type': '流量包', 'pos': [[1, 0, 3]]}]\n",
      "\n",
      "\n",
      "[{'name': '五十元的一个流量卡套餐', 'id': 'ent-1', 'type': '4G套餐', 'pos': [[2, 6, 17]]}, {'name': '套餐', 'id': 'ent-1', 'type': '4G套餐', 'pos': [[1, 17, 19], [1, 22, 24]]}, {'name': '五十元的一个流量卡套餐', 'id': 'ent-1', 'type': '4G套餐', 'pos': [[2, 6, 17]]}]\n",
      "\n",
      "\n",
      "[{'name': '流量包', 'id': 'ent-3', 'type': '流量包', 'pos': [[1, 8, 11]]}, {'name': '流量包', 'id': 'ent-4', 'type': '流量包', 'pos': [[1, 8, 11]]}]\n",
      "\n",
      "\n",
      "[{'name': '八十八的全球通套餐', 'id': 'ent-2', 'type': '套餐', 'pos': [[1, 6, 15]]}, {'name': '五块钱_的语音包', 'id': 'ent-4', 'type': '附加套餐', 'pos': [[1, 48, 56]]}, {'name': '六七八的假日流量包', 'id': 'ent-5', 'type': '流量包', 'pos': [[1, 69, 78]]}, {'name': '一块钱的流量包天套餐', 'id': 'ent-6', 'type': '附加套餐', 'pos': [[1, 79, 89]]}, {'name': '一块钱的短信包', 'id': 'ent-7', 'type': '业务', 'pos': [[1, 91, 98]]}, {'name': '三块钱的来电提醒', 'id': 'ent-8', 'type': '数据业务', 'pos': [[1, 99, 107]]}, {'name': '车行无忧', 'id': 'ent-9', 'type': '业务', 'pos': [[1, 113, 117]]}, {'name': '手机阅读', 'id': 'ent-10', 'type': '业务', 'pos': [[1, 119, 123]]}, {'name': '安心包', 'id': 'ent-12', 'type': '流量包', 'pos': [[2, 4, 7]]}, {'name': '一百五十八的', 'id': 'ent-3', 'type': '套餐', 'pos': [[1, 21, 27]]}, {'name': '农村v网短号', 'id': 'ent-11', 'type': '业务', 'pos': [[1, 125, 131]]}, {'name': '基本套餐', 'id': 'ent-2', 'type': '套餐', 'pos': [[1, 34, 38]]}, {'name': '六块农村v网', 'id': 'ent-10', 'type': '业务', 'pos': [[1, 123, 129]]}]\n",
      "\n",
      "\n",
      "[{'name': '资费', 'id': 'ent-1', 'type': '主套餐', 'pos': [[1, 5, 7]]}, {'name': '资费', 'id': 'ent-3', 'type': '主套餐', 'pos': [[1, 5, 7]]}]\n",
      "\n",
      "\n",
      "[{'name': '活动', 'id': 'ent-2', 'type': '套餐', 'pos': [[1, 17, 19], [1, 17, 19], [1, 35, 37]]}]\n",
      "\n",
      "\n",
      "[{'name': '流量增值', 'id': 'ent-1', 'type': '流量包', 'pos': [[1, 0, 4]]}, {'name': '流量增值', 'id': 'ent-2', 'type': '流量包', 'pos': [[1, 0, 4]]}]\n",
      "\n",
      "\n",
      "[{'name': '流量包', 'id': 'ent-3', 'type': '流量包', 'pos': [[1, 30, 33]]}, {'name': '流量包', 'id': 'ent-4', 'type': '流量包', 'pos': [[1, 30, 33]]}]\n",
      "\n",
      "\n",
      "[{'name': '流量套餐', 'id': 'ent-2', 'type': '流量包', 'pos': [[2, 7, 11], [2, 11, 15]]}, {'name': '流量套餐', 'id': 'ent-3', 'type': '流量包', 'pos': [[2, 7, 11], [2, 11, 15]]}]\n",
      "\n",
      "\n"
     ]
    },
    {
     "name": "stderr",
     "output_type": "stream",
     "text": [
      "Reading:  79%|█████████████████████████████████████████████████████████████████████████████████████████████████████████████████████████████                                 | 7916/10000 [00:00<00:00, 20011.76it/s]"
     ]
    },
    {
     "name": "stdout",
     "output_type": "stream",
     "text": [
      "[{'name': '上网套餐', 'id': 'ent-4', 'type': '套餐', 'pos': [[2, 7, 11]]}, {'name': '上网套餐', 'id': 'ent-5', 'type': '套餐', 'pos': [[2, 7, 11]]}, {'name': '上网套餐', 'id': 'ent-2', 'type': '套餐', 'pos': [[2, 7, 11]]}]\n",
      "\n",
      "\n",
      "[{'name': '新的活动', 'id': 'ent-1', 'type': '主套餐', 'pos': [[1, 11, 15]]}, {'name': '活动', 'id': 'ent-5', 'type': '业务', 'pos': [[1, 8, 10]]}, {'name': '活动', 'id': 'ent-3', 'type': '业务', 'pos': [[1, 21, 23]]}, {'name': '那个活动', 'id': 'ent-1', 'type': '主套餐', 'pos': [[1, 6, 10]]}]\n",
      "\n",
      "\n",
      "[{'name': '八块的套餐', 'id': 'ent-1', 'type': '主套餐', 'pos': [[1, 24, 29]]}, {'name': '套餐', 'id': 'ent-1', 'type': '主套餐', 'pos': [[1, 12, 14]]}, {'name': '八块的套餐', 'id': 'ent-1', 'type': '主套餐', 'pos': [[1, 24, 29]]}, {'name': '流量业务', 'id': 'ent-4', 'type': '流量包', 'pos': [[1, 14, 18]]}, {'name': '业务', 'id': 'ent-3', 'type': '业务', 'pos': [[1, 35, 37]]}]\n",
      "\n",
      "\n",
      "[{'name': '十五块钱的这个惠享套餐', 'id': 'ent-1', 'type': '套餐', 'pos': [[1, 50, 61]]}, {'name': '惠享套餐', 'id': 'ent-1', 'type': '套餐', 'pos': [[1, 57, 61]]}]\n",
      "\n",
      "\n",
      "[{'name': '省外的流量', 'id': 'ent-1', 'type': '流量包', 'pos': [[1, 4, 9]]}, {'name': '省外的流量', 'id': 'ent-2', 'type': '流量包', 'pos': [[1, 4, 9]]}, {'name': '省外的流量', 'id': 'ent-3', 'type': '流量包', 'pos': [[1, 4, 9]]}]\n",
      "\n",
      "\n",
      "[{'name': '套餐', 'id': 'ent-1', 'type': '套餐', 'pos': [[1, 10, 12]]}, {'name': '神州行', 'id': 'ent-1', 'type': '套餐', 'pos': [[1, 5, 8]]}, {'name': '老套餐', 'id': 'ent-1', 'type': '套餐', 'pos': [[1, 9, 12]]}]\n",
      "\n",
      "\n",
      "[{'name': '一百元的至尊包', 'id': 'ent-2', 'type': '流量包', 'pos': [[1, 38, 45]]}, {'name': '至尊包', 'id': 'ent-2', 'type': '流量包', 'pos': [[1, 26, 29], [1, 82, 85], [1, 88, 91], [1, 105, 108], [1, 167, 170]]}, {'name': '流量活动', 'id': 'ent-1', 'type': '流量包', 'pos': [[1, 13, 17], [1, 32, 36]]}, {'name': '一百元的至尊包', 'id': 'ent-1', 'type': '流量包', 'pos': [[1, 38, 45], [1, 163, 170]]}]\n",
      "\n",
      "\n",
      "[{'name': '流量', 'id': 'ent-7', 'type': '流量包', 'pos': [[2, 16, 18], [2, 37, 39]]}, {'name': '流量', 'id': 'ent-8', 'type': '流量包', 'pos': [[2, 16, 18], [2, 37, 39]]}]\n",
      "\n",
      "\n",
      "[{'name': '流量包', 'id': 'ent-2', 'type': '流量包', 'pos': [[1, 6, 9]]}, {'name': '流量包', 'id': 'ent-3', 'type': '流量包', 'pos': [[1, 6, 9]]}, {'name': '流量包', 'id': 'ent-4', 'type': '流量包', 'pos': [[1, 6, 9]]}, {'name': '流量包', 'id': 'ent-5', 'type': '流量包', 'pos': [[1, 6, 9]]}]\n",
      "\n",
      "\n",
      "[{'name': '八块钱的基础套餐', 'id': 'ent-5', 'type': '套餐', 'pos': [[1, 28, 36]]}, {'name': '套餐', 'id': 'ent-3', 'type': '主套餐', 'pos': [[1, 25, 27]]}, {'name': '八块钱的基础套餐', 'id': 'ent-3', 'type': '主套餐', 'pos': [[1, 28, 36]]}]\n",
      "\n",
      "\n",
      "[{'name': '加油包', 'id': 'ent-1', 'type': '流量包', 'pos': [[1, 7, 10], [2, 5, 8]]}, {'name': '叠加包', 'id': 'ent-2', 'type': '流量包', 'pos': [[1, 66, 69]]}, {'name': '叠加包', 'id': 'ent-3', 'type': '流量包', 'pos': [[1, 66, 69]]}]\n",
      "\n",
      "\n",
      "[{'name': '自选套餐', 'id': 'ent-2', 'type': '套餐', 'pos': [[1, 24, 28]]}, {'name': '基础套餐', 'id': 'ent-2', 'type': '套餐', 'pos': [[1, 28, 32]]}, {'name': '省内流量', 'id': 'ent-3', 'type': '流量包', 'pos': [[1, 67, 71]]}, {'name': '省内流量', 'id': 'ent-4', 'type': '流量包', 'pos': [[1, 67, 71]]}, {'name': '省内流量', 'id': 'ent-5', 'type': '流量包', 'pos': [[1, 67, 71]]}]\n",
      "\n",
      "\n",
      "[{'name': '资费', 'id': 'ent-1', 'type': '套餐', 'pos': [[1, 43, 45]]}, {'name': '资费', 'id': 'ent-2', 'type': '主套餐', 'pos': [[1, 43, 45]]}, {'name': '资费', 'id': 'ent-3', 'type': '主套餐', 'pos': [[1, 43, 45]]}]\n",
      "\n",
      "\n",
      "[{'name': '四g上网套餐', 'id': 'ent-1', 'type': '4G套餐', 'pos': [[1, 0, 6]]}, {'name': '四g上网套餐', 'id': 'ent-4', 'type': '4G套餐', 'pos': [[1, 0, 6]]}, {'name': '四g上网套餐', 'id': 'ent-5', 'type': '4G套餐', 'pos': [[1, 0, 6]]}, {'name': '四g上网套餐', 'id': 'ent-6', 'type': '4G套餐', 'pos': [[1, 0, 6]]}, {'name': '四g上网套餐', 'id': 'ent-7', 'type': '4G套餐', 'pos': [[1, 0, 6]]}, {'name': '四g上网套餐', 'id': 'ent-8', 'type': '套餐', 'pos': [[1, 0, 6]]}, {'name': '四g上网套餐', 'id': 'ent-9', 'type': '套餐', 'pos': [[1, 0, 6]]}]\n",
      "\n",
      "\n",
      "[{'name': '十八元套餐', 'id': 'ent-2', 'type': '套餐', 'pos': [[1, 11, 16]]}, {'name': '十八元的这个套餐', 'id': 'ent-2', 'type': '套餐', 'pos': [[1, 41, 49]]}, {'name': '流量安心包', 'id': 'ent-3', 'type': '流量包', 'pos': [[1, 20, 25]]}, {'name': '套餐', 'id': 'ent-4', 'type': '主套餐', 'pos': [[1, 47, 49]]}]\n",
      "\n",
      "\n",
      "[{'name': '国内流量', 'id': 'ent-2', 'type': '流量包', 'pos': [[1, 16, 20]]}, {'name': '国内流量', 'id': 'ent-3', 'type': '流量包', 'pos': [[1, 16, 20]]}]\n",
      "\n",
      "\n",
      "[{'name': '叠加', 'id': 'ent-2', 'type': '流量包', 'pos': [[1, 3, 5], [1, 15, 17]]}, {'name': '叠加', 'id': 'ent-3', 'type': '流量包', 'pos': [[1, 3, 5], [1, 15, 17]]}]\n",
      "\n",
      "\n",
      "[{'name': '流量', 'id': 'ent-1', 'type': '流量包', 'pos': [[1, 0, 2]]}, {'name': '流量', 'id': 'ent-2', 'type': '流量包', 'pos': [[1, 0, 2]]}, {'name': '流量', 'id': 'ent-3', 'type': '流量包', 'pos': [[1, 0, 2]]}]\n",
      "\n",
      "\n",
      "[{'name': '加油包', 'id': 'ent-1', 'type': '流量包', 'pos': [[1, 6, 9], [1, 9, 12]]}, {'name': '加油包', 'id': 'ent-2', 'type': '流量包', 'pos': [[1, 6, 9], [1, 9, 12]]}, {'name': '加油包', 'id': 'ent-3', 'type': '流量包', 'pos': [[1, 6, 9], [1, 9, 12]]}]\n",
      "\n",
      "\n",
      "[{'name': '套餐流量', 'id': 'ent-4', 'type': '流量包', 'pos': [[1, 21, 25]]}, {'name': '套餐流量包', 'id': 'ent-4', 'type': '流量包', 'pos': [[1, 34, 39]]}, {'name': '加油包', 'id': 'ent-1', 'type': '流量包', 'pos': [[1, 47, 50]]}, {'name': '加油包', 'id': 'ent-2', 'type': '流量包', 'pos': [[1, 47, 50]]}, {'name': '加油包', 'id': 'ent-3', 'type': '流量包', 'pos': [[1, 47, 50]]}, {'name': '加油包业务', 'id': 'ent-1', 'type': '流量包', 'pos': [[1, 51, 56]]}]\n",
      "\n",
      "\n",
      "[{'name': '三块钱的来电提醒', 'id': 'ent-1', 'type': '数据业务', 'pos': [[1, 21, 29]]}, {'name': '十块钱的移动数据流量套餐', 'id': 'ent-2', 'type': '流量包', 'pos': [[1, 32, 44]]}, {'name': '无线音乐', 'id': 'ent-3', 'type': '附加套餐', 'pos': [[1, 46, 50]]}, {'name': '无线音乐', 'id': 'ent-4', 'type': '附加套餐', 'pos': [[1, 46, 50]]}, {'name': '和游戏的畅玩礼包', 'id': 'ent-5', 'type': '附加套餐', 'pos': [[1, 90, 98]]}, {'name': '乐奥双钻vip', 'id': 'ent-6', 'type': '附加套餐', 'pos': [[1, 112, 119]]}, {'name': '冒泡射击', 'id': 'ent-7', 'type': '附加套餐', 'pos': [[1, 134, 138]]}, {'name': '国学堂', 'id': 'ent-8', 'type': '附加套餐', 'pos': [[1, 147, 150]]}, {'name': '品牌套餐', 'id': 'ent-9', 'type': '套餐', 'pos': [[1, 163, 167]]}]\n",
      "\n",
      "\n",
      "[{'name': '八块钱的飞享套餐', 'id': 'ent-2', 'type': '套餐', 'pos': [[1, 18, 26]]}, {'name': '套餐', 'id': 'ent-2', 'type': '套餐', 'pos': [[1, 9, 11]]}, {'name': '八块钱的飞享套餐', 'id': 'ent-2', 'type': '套餐', 'pos': [[1, 18, 26]]}]\n",
      "\n",
      "\n",
      "[{'name': '基础的消费套餐', 'id': 'ent-1', 'type': '主套餐', 'pos': [[1, 18, 25]]}, {'name': '基础的消费套餐', 'id': 'ent-2', 'type': '套餐', 'pos': [[1, 18, 25]]}]\n",
      "\n",
      "\n",
      "[{'name': '套餐', 'id': 'ent-1', 'type': '主套餐', 'pos': [[2, 30, 32]]}, {'name': '套餐', 'id': 'ent-2', 'type': '主套餐', 'pos': [[2, 30, 32]]}]\n",
      "\n",
      "\n",
      "[{'name': '安心包', 'id': 'ent-2', 'type': '流量包', 'pos': [[1, 9, 12], [1, 13, 16]]}, {'name': '自动加油包', 'id': 'ent-3', 'type': '流量包', 'pos': [[1, 18, 23]]}, {'name': '加油包', 'id': 'ent-3', 'type': '流量包', 'pos': [[1, 48, 51]]}, {'name': '自动加油包', 'id': 'ent-1', 'type': '流量包', 'pos': [[1, 18, 23]]}, {'name': '套餐', 'id': 'ent-2', 'type': '流量包', 'pos': [[1, 26, 28]]}, {'name': '加油包', 'id': 'ent-1', 'type': '流量包', 'pos': [[1, 48, 51]]}]\n",
      "\n",
      "\n",
      "[{'name': '流量包月', 'id': 'ent-2', 'type': '流量包', 'pos': [[1, 85, 89]]}, {'name': '日包', 'id': 'ent-3', 'type': '流量包', 'pos': [[1, 127, 129]]}, {'name': '国内的日包', 'id': 'ent-3', 'type': '流量包', 'pos': [[1, 124, 129]]}, {'name': '流量包', 'id': 'ent-4', 'type': '流量包', 'pos': [[1, 62, 65]]}]\n",
      "\n",
      "\n",
      "[{'name': '一g的流量', 'id': 'ent-1', 'type': '流量包', 'pos': [[1, 24, 29]]}, {'name': '至尊包', 'id': 'ent-2', 'type': '流量包', 'pos': [[1, 40, 43]]}, {'name': '假日流量套餐', 'id': 'ent-3', 'type': '主套餐', 'pos': [[1, 56, 62]]}, {'name': '套餐', 'id': 'ent-3', 'type': '主套餐', 'pos': [[1, 4, 6], [1, 10, 12]]}, {'name': '流量', 'id': 'ent-4', 'type': '流量包', 'pos': [[1, 27, 29]]}, {'name': '假日流量套餐', 'id': 'ent-6', 'type': '附加套餐', 'pos': [[1, 56, 62]]}]\n",
      "\n",
      "\n",
      "[{'name': '套餐', 'id': 'ent-2', 'type': '套餐', 'pos': [[1, 9, 11]]}, {'name': '省内流量', 'id': 'ent-3', 'type': '流量包', 'pos': [[1, 28, 32]]}, {'name': '省内流量', 'id': 'ent-4', 'type': '流量包', 'pos': [[1, 28, 32]]}, {'name': '省内流量', 'id': 'ent-5', 'type': '流量包', 'pos': [[1, 28, 32]]}, {'name': '省内流量', 'id': 'ent-6', 'type': '流量包', 'pos': [[1, 28, 32]]}]\n",
      "\n",
      "\n",
      "[{'name': '升五十八送话费的活动', 'id': 'ent-4', 'type': '业务', 'pos': [[1, 22, 32]]}, {'name': '五十八', 'id': 'ent-2', 'type': '套餐', 'pos': [[1, 23, 26]]}]\n",
      "\n",
      "\n",
      "[{'name': '办四g套餐免费送宽带的活动', 'id': 'ent-1', 'type': '业务', 'pos': [[1, 47, 60]]}, {'name': '四g套餐', 'id': 'ent-2', 'type': '4G套餐', 'pos': [[1, 48, 52], [2, 2, 6]]}]\n",
      "\n",
      "\n",
      "[{'name': '全球通套餐', 'id': 'ent-1', 'type': '套餐', 'pos': [[1, 4, 9]]}, {'name': '全球通套餐', 'id': 'ent-2', 'type': '套餐', 'pos': [[1, 4, 9]]}]\n",
      "\n",
      "\n",
      "[{'name': '五十八套餐_', 'id': 'ent-1', 'type': '套餐', 'pos': [[1, 5, 11]]}, {'name': '魔百和', 'id': 'ent-3', 'type': '业务', 'pos': [[1, 29, 32]]}, {'name': '自动加油包', 'id': 'ent-4', 'type': '业务', 'pos': [[1, 0, 5]]}, {'name': '五十八', 'id': 'ent-1', 'type': '套餐', 'pos': [[1, 5, 8]]}]\n",
      "\n",
      "\n",
      "[{'name': '通话时长', 'id': 'ent-2', 'type': '附加套餐', 'pos': [[1, 1, 5]]}, {'name': '通话时长', 'id': 'ent-3', 'type': '附加套餐', 'pos': [[1, 1, 5]]}, {'name': '通话时长', 'id': 'ent-4', 'type': '附加套餐', 'pos': [[1, 1, 5]]}]\n",
      "\n",
      "\n",
      "[{'name': '流量', 'id': 'ent-6', 'type': '流量包', 'pos': [[1, 15, 17]]}, {'name': '流量', 'id': 'ent-7', 'type': '流量包', 'pos': [[1, 15, 17]]}]\n",
      "\n",
      "\n",
      "[{'name': '流量包', 'id': 'ent-1', 'type': '流量包', 'pos': [[1, 12, 15]]}, {'name': '流量包', 'id': 'ent-2', 'type': '流量包', 'pos': [[1, 12, 15]]}, {'name': '流量包', 'id': 'ent-3', 'type': '流量包', 'pos': [[1, 12, 15]]}, {'name': '流量包', 'id': 'ent-4', 'type': '流量包', 'pos': [[1, 12, 15]]}]\n",
      "\n",
      "\n",
      "[{'name': '流量套餐', 'id': 'ent-1', 'type': '流量包', 'pos': [[1, 0, 4]]}, {'name': '流量套餐', 'id': 'ent-2', 'type': '流量包', 'pos': [[1, 0, 4]]}, {'name': '流量套餐', 'id': 'ent-3', 'type': '流量包', 'pos': [[1, 0, 4]]}]\n",
      "\n",
      "\n",
      "[{'name': '飞享系列套餐', 'id': 'ent-2', 'type': '套餐', 'pos': [[1, 4, 10]]}, {'name': '十块钱一g省内流量', 'id': 'ent-1', 'type': '流量包', 'pos': [[1, 12, 21]]}, {'name': '短期流量', 'id': 'ent-3', 'type': '流量包', 'pos': [[1, 38, 42]]}, {'name': '短期流量', 'id': 'ent-4', 'type': '流量包', 'pos': [[1, 38, 42]]}]\n",
      "\n",
      "\n",
      "[{'name': '流量包', 'id': 'ent-3', 'type': '流量包', 'pos': [[2, 13, 16]]}, {'name': '那个流量包', 'id': 'ent-4', 'type': '流量包', 'pos': [[2, 11, 16]]}]\n",
      "\n",
      "\n",
      "[{'name': '套餐', 'id': 'ent-1', 'type': '主套餐', 'pos': [[1, 9, 11]]}, {'name': '_八块钱套餐', 'id': 'ent-2', 'type': '主套餐', 'pos': [[1, 20, 26]]}, {'name': '八块钱', 'id': 'ent-2', 'type': '主套餐', 'pos': [[1, 21, 24]]}, {'name': '来电显示', 'id': 'ent-2', 'type': '主套餐', 'pos': [[1, 32, 36]]}]\n",
      "\n",
      "\n",
      "[{'name': '飞享套餐', 'id': 'ent-2', 'type': '主套餐', 'pos': [[1, 0, 4], [1, 37, 41], [1, 58, 62]]}, {'name': '飞享套餐', 'id': 'ent-3', 'type': '主套餐', 'pos': [[1, 0, 4], [1, 37, 41], [1, 58, 62]]}, {'name': '飞享套餐', 'id': 'ent-4', 'type': '主套餐', 'pos': [[1, 0, 4], [1, 37, 41], [1, 58, 62]]}, {'name': '飞享套餐', 'id': 'ent-5', 'type': '主套餐', 'pos': [[1, 0, 4], [1, 37, 41], [1, 58, 62]]}, {'name': '飞享套餐', 'id': 'ent-6', 'type': '流量包', 'pos': [[1, 0, 4], [1, 37, 41], [1, 58, 62]]}]\n",
      "\n",
      "\n",
      "[{'name': '家园卡', 'id': 'ent-2', 'type': '套餐', 'pos': [[1, 0, 3]]}, {'name': '家园卡', 'id': 'ent-3', 'type': '套餐', 'pos': [[1, 0, 3]]}, {'name': '家园卡', 'id': 'ent-4', 'type': '套餐', 'pos': [[1, 0, 3]]}, {'name': '家园卡', 'id': 'ent-5', 'type': '主套餐', 'pos': [[1, 0, 3]]}]\n",
      "\n",
      "\n",
      "[{'name': '流量包', 'id': 'ent-2', 'type': '主套餐', 'pos': [[1, 0, 3]]}, {'name': '流量包', 'id': 'ent-3', 'type': '主套餐', 'pos': [[1, 0, 3]]}, {'name': '流量包', 'id': 'ent-4', 'type': '主套餐', 'pos': [[1, 0, 3]]}, {'name': '流量包', 'id': 'ent-5', 'type': '主套餐', 'pos': [[1, 0, 3]]}]\n",
      "\n",
      "\n",
      "[{'name': '流量包', 'id': 'ent-3', 'type': '流量包', 'pos': [[1, 5, 8]]}, {'name': '流量包', 'id': 'ent-4', 'type': '流量包', 'pos': [[1, 5, 8]]}, {'name': '流量包', 'id': 'ent-5', 'type': '流量包', 'pos': [[1, 5, 8]]}, {'name': '通话包', 'id': 'ent-2', 'type': '附加套餐', 'pos': [[1, 39, 42]]}, {'name': '通话包', 'id': 'ent-6', 'type': '附加套餐', 'pos': [[1, 39, 42]]}, {'name': '通话包', 'id': 'ent-7', 'type': '附加套餐', 'pos': [[1, 39, 42]]}]\n",
      "\n",
      "\n",
      "[{'name': '流量套餐', 'id': 'ent-2', 'type': '流量包', 'pos': [[1, 0, 4]]}, {'name': '流量套餐', 'id': 'ent-3', 'type': '流量包', 'pos': [[1, 0, 4]]}, {'name': '流量套餐', 'id': 'ent-4', 'type': '流量包', 'pos': [[1, 0, 4]]}]\n",
      "\n",
      "\n",
      "[{'name': '套餐', 'id': 'ent-4', 'type': '套餐', 'pos': [[1, 11, 13], [1, 11, 13]]}]\n",
      "\n",
      "\n",
      "[{'name': '流量包', 'id': 'ent-2', 'type': '流量包', 'pos': [[1, 47, 50]]}, {'name': '流量包', 'id': 'ent-3', 'type': '流量包', 'pos': [[1, 47, 50]]}, {'name': '资费', 'id': 'ent-4', 'type': '主套餐', 'pos': [[1, 88, 90]]}]\n",
      "\n",
      "\n",
      "[{'name': '套餐', 'id': 'ent-9', 'type': '套餐', 'pos': [[1, 0, 2]]}, {'name': '套餐', 'id': 'ent-10', 'type': '主套餐', 'pos': [[1, 0, 2]]}, {'name': '套餐', 'id': 'ent-11', 'type': '主套餐', 'pos': [[1, 0, 2]]}]\n",
      "\n",
      "\n",
      "[{'name': '套餐', 'id': 'ent-1', 'type': '套餐', 'pos': [[1, 22, 24]]}, {'name': '十块钱的短信包', 'id': 'ent-2', 'type': '业务', 'pos': [[1, 93, 100]]}, {'name': '营销活动', 'id': 'ent-3', 'type': '业务', 'pos': [[1, 107, 111]]}, {'name': '短信包', 'id': 'ent-2', 'type': '业务', 'pos': [[1, 122, 125]]}, {'name': '家庭短号', 'id': 'ent-4', 'type': '业务', 'pos': [[1, 160, 164]]}, {'name': 'v网', 'id': 'ent-5', 'type': '业务', 'pos': [[1, 220, 222]]}, {'name': '动漫漫尚包', 'id': 'ent-6', 'type': '业务', 'pos': [[1, 248, 253]]}, {'name': '集团v网', 'id': 'ent-5', 'type': '业务', 'pos': [[1, 218, 222]]}, {'name': '动漫漫尚包', 'id': 'ent-5', 'type': '业务', 'pos': [[2, 0, 5], [2, 5, 10]]}, {'name': '那个', 'id': 'ent-5', 'type': '业务', 'pos': [[2, 12, 14]]}]\n",
      "\n",
      "\n",
      "[{'name': '流量', 'id': 'ent-1', 'type': '流量包', 'pos': [[1, 0, 2]]}, {'name': '流量', 'id': 'ent-2', 'type': '流量包', 'pos': [[1, 0, 2]]}, {'name': '流量', 'id': 'ent-3', 'type': '流量包', 'pos': [[1, 0, 2]]}, {'name': '流量', 'id': 'ent-4', 'type': '流量包', 'pos': [[1, 0, 2]]}]\n",
      "\n",
      "\n",
      "[{'name': '活动套餐', 'id': 'ent-2', 'type': '主套餐', 'pos': [[1, 20, 24]]}, {'name': '活动套餐', 'id': 'ent-3', 'type': '主套餐', 'pos': [[1, 20, 24]]}]\n",
      "\n",
      "\n",
      "[{'name': '飞享套餐', 'id': 'ent-2', 'type': '套餐', 'pos': [[1, 55, 59]]}, {'name': '五十八的惠上网套餐', 'id': 'ent-3', 'type': '主套餐', 'pos': [[1, 74, 83]]}, {'name': '三十八元以上的飞享套餐', 'id': 'ent-2', 'type': '套餐', 'pos': [[1, 48, 59]]}, {'name': '它', 'id': 'ent-1', 'type': '流量包', 'pos': [[1, 0, 1]]}, {'name': '三十八元', 'id': 'ent-2', 'type': '套餐', 'pos': [[2, 1, 5]]}]\n",
      "\n",
      "\n",
      "[{'name': '二十块钱流量包', 'id': 'ent-2', 'type': '流量包', 'pos': [[1, 9, 16]]}, {'name': '加油包', 'id': 'ent-2', 'type': '流量包', 'pos': [[1, 2, 5]]}, {'name': '加油包', 'id': 'ent-3', 'type': '流量包', 'pos': [[1, 2, 5]]}]\n",
      "\n",
      "\n",
      "[{'name': '资费', 'id': 'ent-4', 'type': '主套餐', 'pos': [[1, 88, 90]]}, {'name': '资费', 'id': 'ent-5', 'type': '主套餐', 'pos': [[1, 88, 90]]}]\n",
      "\n",
      "\n",
      "[{'name': '流量叠加包', 'id': 'ent-1', 'type': '流量包', 'pos': [[1, 0, 5]]}, {'name': '流量叠加包', 'id': 'ent-2', 'type': '流量包', 'pos': [[1, 0, 5]]}, {'name': '流量叠加包', 'id': 'ent-3', 'type': '流量包', 'pos': [[1, 0, 5]]}]\n",
      "\n",
      "\n",
      "[{'name': '十块钱一百兆', 'id': 'ent-2', 'type': '流量包', 'pos': [[2, 0, 6]]}, {'name': '一百兆', 'id': 'ent-2', 'type': '流量包', 'pos': [[2, 3, 6]]}]\n",
      "\n",
      "\n",
      "[{'name': '八十八元飞享套餐', 'id': 'ent-1', 'type': '套餐', 'pos': [[2, 15, 23]]}, {'name': '套餐', 'id': 'ent-1', 'type': '套餐', 'pos': [[1, 2, 4]]}, {'name': '八十八元飞享套餐', 'id': 'ent-1', 'type': '套餐', 'pos': [[2, 15, 23]]}]\n",
      "\n",
      "\n",
      "[{'name': '四G津卡的特惠版服务', 'id': 'ent-2', 'type': '4G套餐', 'pos': [[1, 31, 41]]}, {'name': '四G津卡的特惠版服务', 'id': 'ent-3', 'type': '4G套餐', 'pos': [[1, 31, 41]]}]\n",
      "\n",
      "\n",
      "[{'name': '流量套餐', 'id': 'ent-1', 'type': '流量包', 'pos': [[1, 6, 10]]}, {'name': '流量套餐', 'id': 'ent-2', 'type': '流量包', 'pos': [[1, 6, 10]]}, {'name': '流量套餐', 'id': 'ent-3', 'type': '流量包', 'pos': [[1, 6, 10]]}, {'name': '流量套餐', 'id': 'ent-4', 'type': '流量包', 'pos': [[1, 6, 10]]}]\n",
      "\n",
      "\n",
      "[{'name': '彩铃', 'id': 'ent-2', 'type': '附加套餐', 'pos': [[2, 14, 16]]}, {'name': '彩铃', 'id': 'ent-3', 'type': '附加套餐', 'pos': [[2, 14, 16]]}]\n",
      "\n",
      "\n",
      "[{'name': '彩铃', 'id': 'ent-2', 'type': '附加套餐', 'pos': [[1, 20, 22], [2, 3, 5]]}, {'name': '彩铃', 'id': 'ent-3', 'type': '附加套餐', 'pos': [[1, 20, 22], [2, 3, 5]]}]\n",
      "\n",
      "\n",
      "[{'name': '彩铃业务', 'id': 'ent-2', 'type': '附加套餐', 'pos': [[1, 20, 24]]}, {'name': '彩铃业务', 'id': 'ent-3', 'type': '附加套餐', 'pos': [[1, 20, 24]]}]\n",
      "\n",
      "\n",
      "[{'name': '套餐', 'id': 'ent-2', 'type': '套餐', 'pos': [[1, 15, 17]]}, {'name': '套餐', 'id': 'ent-3', 'type': '套餐', 'pos': [[1, 15, 17]]}]\n",
      "\n",
      "\n",
      "[{'name': '四g上网套餐', 'id': 'ent-3', 'type': '4G套餐', 'pos': [[1, 16, 22]]}, {'name': '四g上网套餐', 'id': 'ent-4', 'type': '4G套餐', 'pos': [[1, 16, 22]]}]\n",
      "\n",
      "\n",
      "[{'name': '流量', 'id': 'ent-5', 'type': '流量包', 'pos': [[1, 3, 5]]}, {'name': '流量', 'id': 'ent-6', 'type': '流量包', 'pos': [[1, 3, 5]]}, {'name': '流量', 'id': 'ent-7', 'type': '流量包', 'pos': [[1, 3, 5]]}, {'name': '流量', 'id': 'ent-8', 'type': '流量包', 'pos': [[1, 3, 5]]}, {'name': '流量', 'id': 'ent-9', 'type': '流量包', 'pos': [[1, 3, 5]]}]\n",
      "\n",
      "\n",
      "[{'name': '套餐', 'id': 'ent-1', 'type': '主套餐', 'pos': [[2, 63, 65]]}, {'name': '套餐', 'id': 'ent-2', 'type': '主套餐', 'pos': [[2, 63, 65]]}]\n",
      "\n",
      "\n",
      "[{'name': '流量安心包', 'id': 'ent-2', 'type': '流量包', 'pos': [[1, 52, 57]]}, {'name': '流量套餐', 'id': 'ent-4', 'type': '流量包', 'pos': [[1, 94, 98], [1, 162, 166]]}, {'name': '天下文摘手机报', 'id': 'ent-6', 'type': '数据业务', 'pos': [[1, 113, 120]]}, {'name': '五十元的一个流量卡', 'id': 'ent-1', 'type': '套餐', 'pos': [[1, 25, 34]]}, {'name': '五十元的流量卡', 'id': 'ent-1', 'type': '套餐', 'pos': [[1, 38, 45]]}, {'name': '六七八这个活动', 'id': 'ent-3', 'type': '流量包', 'pos': [[1, 65, 72]]}, {'name': '十元的流量套餐', 'id': 'ent-4', 'type': '流量包', 'pos': [[1, 91, 98], [1, 168, 175], [2, 1, 8]]}, {'name': '咪咕游戏白银玩家', 'id': 'ent-5', 'type': '业务', 'pos': [[1, 100, 108]]}]\n",
      "\n",
      "\n",
      "[{'name': '套餐', 'id': 'ent-1', 'type': '套餐', 'pos': [[2, 20, 22]]}, {'name': '套餐', 'id': 'ent-2', 'type': '套餐', 'pos': [[2, 20, 22]]}, {'name': '套餐', 'id': 'ent-3', 'type': '套餐', 'pos': [[2, 20, 22]]}]\n",
      "\n",
      "\n",
      "[{'name': '流量卡套餐', 'id': 'ent-1', 'type': '主套餐', 'pos': [[1, 31, 36]]}, {'name': '四g的上网套餐', 'id': 'ent-5', 'type': '4G套餐', 'pos': [[1, 39, 46]]}, {'name': '四g的上网套餐', 'id': 'ent-6', 'type': '4G套餐', 'pos': [[1, 39, 46]]}, {'name': '四g的上网套餐', 'id': 'ent-7', 'type': '4G套餐', 'pos': [[1, 39, 46]]}]\n",
      "\n",
      "\n",
      "[{'name': '国内流量', 'id': 'ent-1', 'type': '流量包', 'pos': [[1, 9, 13], [1, 13, 17]]}, {'name': '国内流量', 'id': 'ent-2', 'type': '流量包', 'pos': [[1, 9, 13], [1, 13, 17]]}, {'name': '国内流量', 'id': 'ent-3', 'type': '流量包', 'pos': [[1, 9, 13], [1, 13, 17]]}, {'name': '国内流量', 'id': 'ent-4', 'type': '流量包', 'pos': [[1, 9, 13], [1, 13, 17]]}]\n",
      "\n",
      "\n",
      "[{'name': '流量套餐', 'id': 'ent-1', 'type': '流量包', 'pos': [[1, 11, 15]]}, {'name': '流量套餐', 'id': 'ent-2', 'type': '流量包', 'pos': [[1, 11, 15]]}, {'name': '流量套餐', 'id': 'ent-3', 'type': '流量包', 'pos': [[1, 11, 15]]}, {'name': '流量套餐', 'id': 'ent-4', 'type': '流量包', 'pos': [[1, 11, 15]]}, {'name': '流量套餐', 'id': 'ent-5', 'type': '流量包', 'pos': [[1, 11, 15]]}]\n",
      "\n",
      "\n",
      "[{'name': '十八元飞享', 'id': 'ent-2', 'type': '主套餐', 'pos': [[1, 15, 20]]}, {'name': '十八', 'id': 'ent-2', 'type': '主套餐', 'pos': [[1, 15, 17]]}]\n",
      "\n",
      "\n",
      "[{'name': '流量包', 'id': 'ent-2', 'type': '流量包', 'pos': [[2, 10, 13]]}, {'name': '流量包', 'id': 'ent-3', 'type': '流量包', 'pos': [[2, 10, 13]]}, {'name': '流量包', 'id': 'ent-4', 'type': '流量包', 'pos': [[2, 10, 13]]}, {'name': '流量包', 'id': 'ent-5', 'type': '流量包', 'pos': [[2, 10, 13]]}, {'name': '流量包', 'id': 'ent-6', 'type': '流量包', 'pos': [[2, 10, 13]]}]\n",
      "\n",
      "\n",
      "[{'name': '三十八元套餐', 'id': 'ent-1', 'type': '主套餐', 'pos': [[1, 8, 14]]}, {'name': '三十八元套餐', 'id': 'ent-2', 'type': '主套餐', 'pos': [[1, 8, 14]]}]\n",
      "\n",
      "\n",
      "[{'name': '特惠流量包', 'id': 'ent-2', 'type': '流量包', 'pos': [[1, 27, 32]]}, {'name': '特惠流量包', 'id': 'ent-3', 'type': '流量包', 'pos': [[1, 27, 32]]}]\n",
      "\n",
      "\n",
      "[{'name': '飞享自选套餐', 'id': 'ent-3', 'type': '套餐', 'pos': [[1, 12, 18]]}, {'name': '基础套餐', 'id': 'ent-3', 'type': '套餐', 'pos': [[1, 32, 36]]}, {'name': '省内流量', 'id': 'ent-4', 'type': '流量包', 'pos': [[1, 45, 49], [1, 50, 54]]}, {'name': '省内流量', 'id': 'ent-5', 'type': '流量包', 'pos': [[1, 45, 49], [1, 50, 54]]}]\n",
      "\n",
      "\n",
      "[{'name': '来电显示', 'id': 'ent-1', 'type': '业务', 'pos': [[1, 47, 51]]}, {'name': '改套餐五十八套餐的活动', 'id': 'ent-2', 'type': '主套餐', 'pos': [[1, 15, 26]]}, {'name': '五十八套餐', 'id': 'ent-2', 'type': '主套餐', 'pos': [[1, 18, 23], [1, 28, 33]]}]\n",
      "\n",
      "\n",
      "[{'name': '宽带套餐', 'id': 'ent-2', 'type': '业务', 'pos': [[1, 45, 49]]}, {'name': '套餐', 'id': 'ent-1', 'type': '主套餐', 'pos': [[1, 1, 3]]}, {'name': '电视', 'id': 'ent-2', 'type': '业务', 'pos': [[1, 38, 40]]}, {'name': '宽带套餐', 'id': 'ent-2', 'type': '业务', 'pos': [[1, 45, 49]]}]\n",
      "\n",
      "\n",
      "[{'name': '包天流量五块钱三个g_', 'id': 'ent-1', 'type': '流量包', 'pos': [[1, 26, 37]]}, {'name': '十块钱五个g', 'id': 'ent-2', 'type': '流量包', 'pos': [[1, 59, 65]]}, {'name': '十五块钱七个g', 'id': 'ent-3', 'type': '流量包', 'pos': [[1, 65, 72]]}, {'name': '十块', 'id': 'ent-2', 'type': '流量包', 'pos': [[1, 72, 74]]}, {'name': '十五', 'id': 'ent-3', 'type': '流量包', 'pos': [[1, 78, 80]]}, {'name': '十块钱五个g', 'id': 'ent-2', 'type': '流量包', 'pos': [[1, 59, 65]]}, {'name': '十五块钱七个g', 'id': 'ent-3', 'type': '流量包', 'pos': [[1, 65, 72]]}, {'name': '流量活动', 'id': 'ent-4', 'type': '流量包', 'pos': [[1, 99, 103]]}, {'name': '这个', 'id': 'ent-4', 'type': '流量包', 'pos': [[1, 97, 99]]}, {'name': '那个', 'id': 'ent-1', 'type': '流量包', 'pos': [[1, 24, 26]]}]\n",
      "\n",
      "\n",
      "[{'name': '一块钱一g的那个流量包', 'id': 'ent-4', 'type': '流量包', 'pos': [[1, 2, 13]]}, {'name': '套餐五十八块钱', 'id': 'ent-5', 'type': '套餐', 'pos': [[2, 5, 12]]}, {'name': '加一块', 'id': 'ent-6', 'type': '主套餐', 'pos': [[2, 12, 15]]}, {'name': '那个', 'id': 'ent-4', 'type': '流量包', 'pos': [[1, 8, 10], [1, 16, 18]]}]\n",
      "\n",
      "\n",
      "[{'name': '流量套餐', 'id': 'ent-5', 'type': '流量包', 'pos': [[1, 8, 12]]}, {'name': '流量套餐', 'id': 'ent-6', 'type': '流量包', 'pos': [[1, 8, 12]]}, {'name': '流量套餐', 'id': 'ent-7', 'type': '流量包', 'pos': [[1, 8, 12]]}, {'name': '流量套餐', 'id': 'ent-8', 'type': '流量包', 'pos': [[1, 8, 12]]}]\n",
      "\n",
      "\n",
      "[{'name': '流量套餐', 'id': 'ent-1', 'type': '流量包', 'pos': [[1, 0, 4]]}, {'name': '流量套餐', 'id': 'ent-2', 'type': '流量包', 'pos': [[1, 0, 4]]}]\n",
      "\n",
      "\n"
     ]
    },
    {
     "name": "stderr",
     "output_type": "stream",
     "text": [
      "Reading: 100%|█████████████████████████████████████████████████████████████████████████████████████████████████████████████████████████████████████████████████████████████| 10000/10000 [00:00<00:00, 19413.71it/s]"
     ]
    },
    {
     "name": "stdout",
     "output_type": "stream",
     "text": [
      "[{'name': '十元一G省内流量', 'id': 'ent-1', 'type': '流量包', 'pos': [[1, 20, 28]]}, {'name': '七十九块钱二十个G的省内流量', 'id': 'ent-2', 'type': '流量包', 'pos': [[1, 88, 102]]}, {'name': '省内流量', 'id': 'ent-3', 'type': '流量包', 'pos': [[1, 98, 102]]}]\n",
      "\n",
      "\n",
      "[{'name': '飞享套餐', 'id': 'ent-1', 'type': '套餐', 'pos': [[1, 0, 4]]}, {'name': '飞享套餐', 'id': 'ent-2', 'type': '套餐', 'pos': [[1, 0, 4]]}, {'name': '飞享套餐', 'id': 'ent-3', 'type': '套餐', 'pos': [[1, 0, 4]]}, {'name': '集团套餐', 'id': 'ent-4', 'type': '套餐', 'pos': [[1, 28, 32], [1, 36, 40]]}, {'name': '集团的套餐', 'id': 'ent-4', 'type': '套餐', 'pos': [[2, 2, 7]]}]\n",
      "\n",
      "\n",
      "[{'name': '流量包', 'id': 'ent-2', 'type': '流量包', 'pos': [[1, 0, 3]]}, {'name': '流量包', 'id': 'ent-3', 'type': '流量包', 'pos': [[1, 0, 3]]}, {'name': '流量包', 'id': 'ent-4', 'type': '流量包', 'pos': [[1, 0, 3]]}]\n",
      "\n",
      "\n",
      "[{'name': '特惠包', 'id': 'ent-1', 'type': '流量包', 'pos': [[1, 15, 18]]}, {'name': '特惠包', 'id': 'ent-2', 'type': '流量包', 'pos': [[1, 15, 18]]}]\n",
      "\n",
      "\n",
      "[{'name': '套餐', 'id': 'ent-1', 'type': '主套餐', 'pos': [[1, 0, 2], [1, 6, 8], [2, 20, 22]]}, {'name': '亲友网短号', 'id': 'ent-3', 'type': '附加套餐', 'pos': [[1, 13, 18]]}, {'name': '三块钱的农村v网短号', 'id': 'ent-4', 'type': '附加套餐', 'pos': [[1, 25, 35]]}, {'name': '八块钱的套餐', 'id': 'ent-2', 'type': '套餐', 'pos': [[2, 16, 22]]}]\n",
      "\n",
      "\n",
      "[{'name': '业务', 'id': 'ent-2', 'type': '主套餐', 'pos': [[1, 29, 31]]}, {'name': '业务', 'id': 'ent-3', 'type': '主套餐', 'pos': [[1, 29, 31]]}]\n",
      "\n",
      "\n",
      "[{'name': '套餐', 'id': 'ent-1', 'type': '套餐', 'pos': [[1, 1, 3], [1, 42, 44]]}, {'name': '套餐', 'id': 'ent-2', 'type': '主套餐', 'pos': [[1, 1, 3], [1, 42, 44]]}, {'name': '套餐', 'id': 'ent-3', 'type': '主套餐', 'pos': [[1, 1, 3], [1, 42, 44]]}]\n",
      "\n",
      "\n",
      "[{'name': '流量包', 'id': 'ent-1', 'type': '流量包', 'pos': [[2, 39, 42]]}, {'name': '放心流量包', 'id': 'ent-2', 'type': '流量包', 'pos': [[2, 37, 42]]}]\n",
      "\n",
      "\n",
      "[{'name': '四g飞享三十八元的套餐_', 'id': 'ent-1', 'type': '4G套餐', 'pos': [[1, 4, 16]]}, {'name': '三十八_套餐', 'id': 'ent-1', 'type': '4G套餐', 'pos': [[1, 35, 41]]}, {'name': '套餐', 'id': 'ent-2', 'type': '套餐', 'pos': [[1, 18, 20]]}, {'name': '三十八_套餐', 'id': 'ent-2', 'type': '套餐', 'pos': [[1, 35, 41]]}, {'name': '六百兆', 'id': 'ent-3', 'type': '主套餐', 'pos': [[2, 10, 13]]}]\n",
      "\n",
      "\n",
      "[{'name': '流量套餐', 'id': 'ent-1', 'type': '流量包', 'pos': [[1, 0, 4]]}, {'name': '流量套餐', 'id': 'ent-2', 'type': '流量包', 'pos': [[1, 0, 4]]}, {'name': '流量套餐', 'id': 'ent-3', 'type': '流量包', 'pos': [[1, 0, 4]]}, {'name': '套餐', 'id': 'ent-4', 'type': '套餐', 'pos': [[2, 6, 8]]}, {'name': '飞享套餐', 'id': 'ent-5', 'type': '套餐', 'pos': [[2, 22, 26]]}]\n",
      "\n",
      "\n",
      "[{'name': '流量包', 'id': 'ent-2', 'type': '流量包', 'pos': [[1, 0, 3]]}, {'name': '流量包', 'id': 'ent-3', 'type': '流量包', 'pos': [[1, 0, 3]]}, {'name': '流量包', 'id': 'ent-4', 'type': '流量包', 'pos': [[1, 0, 3]]}, {'name': '流量包', 'id': 'ent-5', 'type': '流量包', 'pos': [[1, 0, 3]]}]\n",
      "\n",
      "\n",
      "[{'name': '自助套餐', 'id': 'ent-1', 'type': '套餐', 'pos': [[1, 17, 21], [1, 22, 26]]}, {'name': '流量', 'id': 'ent-2', 'type': '流量包', 'pos': [[1, 34, 36], [1, 63, 65]]}, {'name': '流量', 'id': 'ent-3', 'type': '流量包', 'pos': [[1, 34, 36], [1, 63, 65]]}]\n",
      "\n",
      "\n",
      "[{'name': '境外漫游', 'id': 'ent-2', 'type': '主套餐', 'pos': [[1, 8, 12]]}, {'name': '境外漫游', 'id': 'ent-3', 'type': '国际漫游业务', 'pos': [[1, 8, 12]]}]\n",
      "\n",
      "\n",
      "[{'name': '五十块钱的那个宽带', 'id': 'ent-1', 'type': '业务', 'pos': [[2, 65, 74]]}, {'name': '五十块钱的那个宽带', 'id': 'ent-1', 'type': '业务', 'pos': [[2, 65, 74]]}, {'name': '活动', 'id': 'ent-1', 'type': '业务', 'pos': [[2, 86, 88]]}]\n",
      "\n",
      "\n",
      "[{'name': '流量加油包', 'id': 'ent-1', 'type': '流量包', 'pos': [[1, 0, 5]]}, {'name': '流量加油包', 'id': 'ent-2', 'type': '流量包', 'pos': [[1, 0, 5]]}]\n",
      "\n",
      "\n",
      "161\n"
     ]
    },
    {
     "name": "stderr",
     "output_type": "stream",
     "text": [
      "\n"
     ]
    }
   ],
   "source": [
    "#多模型结果\n",
    "def compute_offset_in_turn(ent,turn,text_in_turn, original_pos):\n",
    "    speaker1 = list(turn.keys())[0]\n",
    "    speaker2 = list(turn.keys())[1]\n",
    "    start, end = None, None\n",
    "    if original_pos[0] == 1:\n",
    "        start, end = original_pos[1:]\n",
    "    else:\n",
    "        start = original_pos[1] + len(turn[speaker1])\n",
    "        end = original_pos[2] + len(turn[speaker1])\n",
    "        \n",
    "    if text_in_turn[start] ==' ' or text_in_turn[start] =='_':\n",
    "        start += 1\n",
    "    if text_in_turn[end-1] ==' ' or text_in_turn[end-1] =='_':\n",
    "        end -= 1\n",
    "        \n",
    "    if ent['type'] == '5G套餐':\n",
    "        return None\n",
    "#     type_lable = type2id[ent['type']]\n",
    "#     name = ent['name']\n",
    "    return (start,end)\n",
    "\n",
    "count =0\n",
    "for item in tqdm(data, desc=\"Reading\" ):\n",
    "\n",
    "    for turn in item[\"content\"]:\n",
    "        result = []\n",
    "        text_in_turn_list = []\n",
    "        for key in list(turn.keys())[:2]:\n",
    "            text_in_turn_list.append(turn[key])\n",
    "        text_in_turn = list(\"\".join(text_in_turn_list))\n",
    "             \n",
    "        for ent in turn[\"info\"][\"ents\"]:\n",
    "            for position in ent[\"pos\"]:\n",
    "                offset = compute_offset_in_turn(ent,turn,text_in_turn, position)\n",
    "                if offset is not None:\n",
    "                    for i in range(offset[0],offset[1]):\n",
    "                        result.append(i)\n",
    "        if len(result) != len(list(set(result))):\n",
    "            count += 1\n",
    "            print(turn[\"info\"][\"ents\"])\n",
    "            print('\\n')\n",
    "print(count)"
   ]
  },
  {
   "cell_type": "code",
   "execution_count": 96,
   "id": "97caeba0",
   "metadata": {},
   "outputs": [
    {
     "name": "stderr",
     "output_type": "stream",
     "text": [
      "Reading: 100%|█████████████████████████████████████████████████████████████████████████████████████████████████████████████████████████████████████████████████████████████████| 1025/1025 [00:08<00:00, 120.08it/s]\n"
     ]
    }
   ],
   "source": [
    "#验证\n",
    "# final_pred_char = []\n",
    "# data = json.load(open(eval_file))\n",
    "# idx = 0\n",
    "# for item in tqdm(data, desc=\"Reading\"):\n",
    "#     for turn in item[\"content\"]:\n",
    "#         text_in_turn_list = []\n",
    "#         for key in list(turn.keys())[:2]:\n",
    "#             text_in_turn_list.append(turn[key].replace(' ',\"_\"))\n",
    "#         text_in_turn = list(\"\".join(text_in_turn_list))\n",
    "#         text_mapping = CFG1.tokenizer(text_in_turn,is_split_into_words=True)\n",
    "#         word_ids = text_mapping.word_ids()\n",
    "#         for predtoken in final_pred_token[idx]:\n",
    "#             lable = predtoken[0]\n",
    "#             start_token = predtoken[1]\n",
    "#             end_token = predtoken[2]\n",
    "#             start_char = word_ids[start_token]\n",
    "#             end_char = word_ids[end_token]\n",
    "#             if start_char != None and end_char != None:\n",
    "#                 final_pred_char.append((idx,lable,start_char,end_char+1))\n",
    "#         idx += 1"
   ]
  },
  {
   "cell_type": "code",
   "execution_count": 122,
   "id": "0f5696ea",
   "metadata": {},
   "outputs": [],
   "source": [
    "# len(final_pred_char)"
   ]
  },
  {
   "cell_type": "code",
   "execution_count": 98,
   "id": "ff828aa2",
   "metadata": {},
   "outputs": [
    {
     "name": "stderr",
     "output_type": "stream",
     "text": [
      "Reading: 100%|████████████████████████████████████████████████████████████████████████████████████████████████████████████████████████████████████████████████████████████████| 1025/1025 [00:00<00:00, 8966.86it/s]\n"
     ]
    }
   ],
   "source": [
    "#验证\n",
    "# true_result = []\n",
    "# def compute_offset_in_turn(ent,turn, original_pos):\n",
    "#     speaker1 = list(turn.keys())[0]\n",
    "#     speaker2 = list(turn.keys())[1]\n",
    "#     start, end = None, None\n",
    "#     if original_pos[0] == 1:\n",
    "#         start, end = original_pos[1:]\n",
    "#     else:\n",
    "#         start = original_pos[1] + len(turn[speaker1])\n",
    "#         end = original_pos[2] + len(turn[speaker1])\n",
    "#     if ent['type'] != '5G套餐':\n",
    "#         type_lable = type2id[ent['type']]\n",
    "#         return (start,end,type_lable)\n",
    "#     else:\n",
    "#         return None\n",
    "\n",
    "# data = json.load(open(eval_file))\n",
    "# idx = 0\n",
    "# for item in tqdm(data, desc=\"Reading\"):\n",
    "#     for turn in item[\"content\"]:\n",
    "#         text_in_turn_list = []\n",
    "#         for key in list(turn.keys())[:2]:\n",
    "#             text_in_turn_list.append(turn[key])\n",
    "#         text_in_turn = list(\"\".join(text_in_turn_list))\n",
    "#         for ent in turn[\"info\"][\"ents\"]:\n",
    "#             for position in ent[\"pos\"]:\n",
    "#                 offset = compute_offset_in_turn(ent,turn, position)\n",
    "#                 if offset==None:\n",
    "#                     continue\n",
    "#                 start_index = offset[0]\n",
    "#                 end_index =offset[1]\n",
    "#                 if text_in_turn[start_index] == ' ':\n",
    "#                     start_index += 1\n",
    "#                 if text_in_turn[end_index-1] == ' ':\n",
    "#                     end_index -= 1 \n",
    "#                 true_result.append((idx,offset[2],start_index,end_index))\n",
    "#         idx += 1"
   ]
  },
  {
   "cell_type": "code",
   "execution_count": 75,
   "id": "1b119c8a",
   "metadata": {},
   "outputs": [
    {
     "name": "stderr",
     "output_type": "stream",
     "text": [
      "Reading: 100%|████████████████████████████████████████████████████████████████████████████████████████████████████████████████████████████████████████████████████████████████| 1025/1025 [00:00<00:00, 7289.56it/s]"
     ]
    },
    {
     "name": "stdout",
     "output_type": "stream",
     "text": [
      "31\n"
     ]
    },
    {
     "name": "stderr",
     "output_type": "stream",
     "text": [
      "\n"
     ]
    }
   ],
   "source": [
    "#验证\n",
    "0.4462861126171482\n",
    "true_result = []\n",
    "def compute_offset_in_turn(ent,turn, original_pos):\n",
    "    speaker1 = list(turn.keys())[0]\n",
    "    speaker2 = list(turn.keys())[1]\n",
    "    start, end = None, None\n",
    "    if original_pos[0] == 1:\n",
    "        start, end = original_pos[1:]\n",
    "    else:\n",
    "        start = original_pos[1] + len(turn[speaker1])\n",
    "        end = original_pos[2] + len(turn[speaker1])\n",
    "    if ent['type'] != '5G套餐':\n",
    "        type_lable = type2id[ent['type']]\n",
    "        return (start,end,type_lable)\n",
    "    else:\n",
    "        return None\n",
    "\n",
    "list_result = []\n",
    "data = json.load(open(eval_file))\n",
    "idx = 0\n",
    "count = 0\n",
    "for item in tqdm(data, desc=\"Reading\"):\n",
    "    for turn in item[\"content\"]:\n",
    "        text_in_turn_list = []\n",
    "        for key in list(turn.keys())[:2]:\n",
    "            text_in_turn_list.append(turn[key])\n",
    "        text_in_turn = list(\"\".join(text_in_turn_list))\n",
    "#         text_mapping = CFG1.tokenizer(text_in_turn,is_split_into_words=True)\n",
    "#         word_ids = text_mapping.word_ids()\n",
    "        for ent in turn[\"info\"][\"ents\"]:\n",
    "            for position in ent[\"pos\"]:\n",
    "                offset = compute_offset_in_turn(ent,turn, position)\n",
    "                if offset==None:\n",
    "                    continue\n",
    "                if offset[1] !=len(text_in_turn):\n",
    "                    if text_in_turn[offset[1]-1] == ' ':\n",
    "                        list_result.append(''.join(text_in_turn[offset[0]:offset[1]]))\n",
    "                        count += 1\n",
    "                if text_in_turn[offset[0]] == ' ':\n",
    "                    list_result.append(''.join(text_in_turn[offset[0]:offset[1]]))\n",
    "#                         print(turn)\n",
    "#                         print('之前有空格')\n",
    "#                         print(''.join(text_in_turn[:offset[1]]))\n",
    "                    count += 1\n",
    "print(count)\n",
    "#                 if offset[0] not in word_ids:\n",
    "#                     print(word_ids,offset[0],text_in_turn)\n",
    "#                     print(turn)\n",
    "#                 start_index = word_ids.index(offset[0])\n",
    "#                 end_index = len(word_ids)-1-list(reversed(word_ids)).index(offset[1]-1)\n",
    "#                 true_result.append((idx,offset[2],start_index,end_index))\n",
    "#         idx += 1"
   ]
  },
  {
   "cell_type": "code",
   "execution_count": 76,
   "id": "d49bf057",
   "metadata": {},
   "outputs": [
    {
     "data": {
      "text/plain": [
       "[' 咪咕',\n",
       " ' 自动加油包',\n",
       " '网卡 ',\n",
       " '两元活动家庭短号 ',\n",
       " '八块的月租 ',\n",
       " ' 三十五的',\n",
       " '免费的三百兆省内流量 ',\n",
       " '十八块钱的自助套餐 ',\n",
       " '十八块钱的 ',\n",
       " '三十八块钱的畅享套餐 ',\n",
       " ' 三十块钱',\n",
       " '飞享套餐八元的 ',\n",
       " '十元一百兆 ',\n",
       " ' 三十元五百兆',\n",
       " ' 四g咪咕通讯服务包',\n",
       " '五十八套餐 ',\n",
       " '梦网 ',\n",
       " '十元那个 阅览流量 ',\n",
       " '十块钱一个g ',\n",
       " ' v网',\n",
       " '一百三十八 ',\n",
       " '三十块钱五百兆 ',\n",
       " ' 四十块钱七百兆',\n",
       " '惠享三十五元套餐 ',\n",
       " '飞享八块钱套餐 ',\n",
       " '五十八块的套餐 ',\n",
       " ' 游戏',\n",
       " ' 流量年包',\n",
       " ' 彩铃',\n",
       " ' 三十八块钱的套餐',\n",
       " ' 三十八的套餐']"
      ]
     },
     "execution_count": 76,
     "metadata": {},
     "output_type": "execute_result"
    }
   ],
   "source": [
    "list_result"
   ]
  },
  {
   "cell_type": "code",
   "execution_count": 28,
   "id": "c0f4ff66",
   "metadata": {},
   "outputs": [
    {
     "name": "stderr",
     "output_type": "stream",
     "text": [
      "Reading:   0%|          | 0/1025 [00:00<?, ?it/s]"
     ]
    },
    {
     "name": "stdout",
     "output_type": "stream",
     "text": [
      "{'[SPEAKER 1]': '我们有这个活动，它是五十块钱一个G，额外再送上两个G的省内流量_总共就三个G,活动期的话有效期六个月，先生', '[SPEAKER 2]': '它这个怎么办理着呢，呃自自动，升，升级的吗，还是', '客服意图': '通知', '用户意图': '求助-查询（ent-1-办理渠道）', 'info': {'ents': [{'name': '活动', 'id': 'ent-1', 'type': '流量包', 'pos': [[1, 5, 7]]}, {'name': '五十块钱一个G', 'id': 'ent-1', 'type': '流量包', 'pos': [[1, 10, 17]]}], 'triples': [{'ent-id': 'ent-1', 'ent-name': '五十块钱一个G', 'prop': '业务费用', 'value': '五十块钱'}, {'ent-id': 'ent-1', 'ent-name': '五十块钱一个G', 'prop': '流量总量', 'value': '一个G'}, {'ent-id': 'ent-1', 'ent-name': '五十块钱一个G', 'prop': '业务规则', 'value': '额外再送上两个G的省内流量_总共就三个G,活动期的话有效期六个月'}]}}\n",
      "{'[SPEAKER 2]': '介绍什么', '[SPEAKER 1]': '呃,宽带的_就咱们这次的话有一个优惠_您继续保持用咱们五十八或以上的四G套餐一年_就可以免费送您一条二十兆的宽带_它这个优惠,就是通过每个月会先赠送六十元_再扣取六十元,实现宽带的月租免费的_那另外,现在来办理,还会送多一年的宽带电视业务_给您一起去免费体验的_它也是通过每个月送二十扣二十来实现的_此次的优惠,也是名额有限,先到先得_那您看用不用给您登记地址,来装宽带呢', '用户意图': '询问', '客服意图': '通知', 'info': {'ents': [{'name': '宽带', 'id': 'ent-1', 'type': '业务', 'pos': [[2, 2, 4], [2, 54, 56], [2, 87, 89], [2, 113, 115], [2, 183, 185]]}, {'name': '宽带电视业务', 'id': 'ent-2', 'type': '业务', 'pos': [[2, 113, 119]]}, {'name': '五十八', 'id': 'ent-3', 'type': '4G套餐', 'pos': [[2, 27, 30]]}], 'triples': [{'ent-id': 'ent-3', 'ent-name': '五十八', 'prop': '业务费用', 'value': '五十八'}, {'ent-id': 'NA', 'ent-name': 'NA', 'prop': '持有套餐', 'value': '五十八'}, {'ent-id': 'ent-1', 'ent-name': '宽带', 'prop': '业务规则', 'value': '您继续保持用咱们五十八或以上的四G套餐一年_就可以免费送您一条二十兆的宽带_它这个优惠,就是通过每个月会先赠送六十元_再扣取六十元,实现宽带的月租免费的_那另外,现在来办理,还会送多一年的宽带电视业务_给您一起去免费体验的_它也是通过每个月送二十扣二十来实现的_此次的优惠'}]}}\n"
     ]
    },
    {
     "name": "stderr",
     "output_type": "stream",
     "text": [
      "Reading: 100%|##########| 1025/1025 [00:00<00:00, 11066.02it/s]\n"
     ]
    }
   ],
   "source": [
    "#验证\n",
    "true_result = []\n",
    "def compute_offset_in_turn(ent,turn, original_pos):\n",
    "    speaker1 = list(turn.keys())[0]\n",
    "    speaker2 = list(turn.keys())[1]\n",
    "    start, end = None, None\n",
    "    if original_pos[0] == 1:\n",
    "        start, end = original_pos[1:]\n",
    "    else:\n",
    "        start = original_pos[1] + len(turn[speaker1])\n",
    "        end = original_pos[2] + len(turn[speaker1])\n",
    "    if ent['type'] != '5G套餐':\n",
    "        type_lable = type2id[ent['type']]\n",
    "        return (start,end,type_lable)\n",
    "    else:\n",
    "        return None\n",
    "\n",
    "data = json.load(open(eval_file))\n",
    "idx = 0\n",
    "count = 0\n",
    "for item in tqdm(data, desc=\"Reading\"):\n",
    "    for turn in item[\"content\"]:\n",
    "        text_in_turn_list = []\n",
    "        for key in list(turn.keys())[:2]:\n",
    "            text_in_turn_list.append(turn[key])\n",
    "        text_in_turn = list(\"\".join(text_in_turn_list))\n",
    "#         text_mapping = CFG1.tokenizer(text_in_turn,is_split_into_words=True)\n",
    "#         word_ids = text_mapping.word_ids()\n",
    "        for ent in turn[\"info\"][\"triples\"]:\n",
    "            if ',' in ent['value']:\n",
    "                print(turn)"
   ]
  },
  {
   "cell_type": "code",
   "execution_count": null,
   "id": "8fdcaefe",
   "metadata": {},
   "outputs": [],
   "source": []
  },
  {
   "cell_type": "code",
   "execution_count": null,
   "id": "3cce461b",
   "metadata": {},
   "outputs": [],
   "source": []
  }
 ],
 "metadata": {
  "kernelspec": {
   "display_name": "Python 3 (ipykernel)",
   "language": "python",
   "name": "python3"
  },
  "language_info": {
   "codemirror_mode": {
    "name": "ipython",
    "version": 3
   },
   "file_extension": ".py",
   "mimetype": "text/x-python",
   "name": "python",
   "nbconvert_exporter": "python",
   "pygments_lexer": "ipython3",
   "version": "3.8.12"
  },
  "widgets": {
   "application/vnd.jupyter.widget-state+json": {
    "state": {},
    "version_major": 2,
    "version_minor": 0
   }
  }
 },
 "nbformat": 4,
 "nbformat_minor": 5
}
